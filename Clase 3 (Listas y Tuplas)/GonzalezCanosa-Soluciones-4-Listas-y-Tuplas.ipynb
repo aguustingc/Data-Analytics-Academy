{
 "cells": [
  {
   "cell_type": "markdown",
   "metadata": {},
   "source": [
    "## Ejercicio 1"
   ]
  },
  {
   "cell_type": "markdown",
   "metadata": {},
   "source": [
    "# Soluciones Ejercicios de Listas y Tuplas"
   ]
  },
  {
   "cell_type": "markdown",
   "metadata": {},
   "source": [
    "Escribir un programa que almacene las asignaturas de un curso (por ejemplo Matemáticas, Física, Química, Historia y Lengua) en una lista y la muestre por pantalla."
   ]
  },
  {
   "cell_type": "code",
   "execution_count": null,
   "metadata": {},
   "outputs": [],
   "source": [
    "# Solución\n",
    "subjects = [\"Matemáticas\", \"Física\", \"Química\", \"Historia\", \"Lengua\"]\n",
    "print(subjects)"
   ]
  },
  {
   "cell_type": "code",
   "execution_count": null,
   "metadata": {},
   "outputs": [],
   "source": [
    "materias = []\n",
    "cantMaterias = int(input(\"Ingrese la cantidad de materias a almacenar: \"))\n",
    "\n",
    "for i in range(cantMaterias):\n",
    "    materia = input(\"Materia que desea agregar: \")\n",
    "    materias.append(materia)\n",
    "\n",
    "print(materias)"
   ]
  },
  {
   "cell_type": "markdown",
   "metadata": {},
   "source": [
    "## Ejercicio 2"
   ]
  },
  {
   "cell_type": "markdown",
   "metadata": {},
   "source": [
    "Escribir un programa que almacene las asignaturas de un curso (por ejemplo Matemáticas, Física, Química, Historia y Lengua) en una lista y la muestre por pantalla el mensaje <font color=#B40431>Yo estudio &#60;asignatura&#62;</font>, donde <font color=#B40431>&#60;asignatura&#62;</font> es cada una de las asignaturas de la lista."
   ]
  },
  {
   "cell_type": "code",
   "execution_count": null,
   "metadata": {},
   "outputs": [],
   "source": [
    "# Solución\n",
    "subjects = [\"Matemáticas\", \"Física\", \"Química\", \"Historia\", \"Lengua\"]\n",
    "for subject in subjects:\n",
    "    print(\"Yo estudio \" + subject)"
   ]
  },
  {
   "cell_type": "code",
   "execution_count": null,
   "metadata": {},
   "outputs": [],
   "source": [
    "materias = []\n",
    "cantMaterias = int(input(\"Ingrese la cantidad de materias a almacenar: \"))\n",
    "\n",
    "for i in range(cantMaterias):\n",
    "    materia = input(\"Materia que desea agregar: \")\n",
    "    materias.append(materia)\n",
    "\n",
    "for i in materias:\n",
    "    print(\"Yo estudio \" + i)"
   ]
  },
  {
   "cell_type": "markdown",
   "metadata": {},
   "source": [
    "## Ejercicio 3"
   ]
  },
  {
   "cell_type": "markdown",
   "metadata": {},
   "source": [
    "Escribir un programa que almacene las asignaturas de un curso (por ejemplo Matemáticas, Física, Química, Historia y Lengua) en una lista, pregunte al usuario la nota que ha sacado en cada asignatura, y después las muestre por pantalla con el mensaje <font color=#B40431>En &#60;asignatura&#62; has sacado &#60;nota&#62;</font> donde <font color=#B40431>&#60;asignatura&#62;</font> es cada una de las asignaturas de la lista y <font color=#B40431>&#60;nota&#62;</font> cada una de las correspondientes notas introducidas por el usuario."
   ]
  },
  {
   "cell_type": "code",
   "execution_count": null,
   "metadata": {},
   "outputs": [],
   "source": [
    "# Solución\n",
    "subjects = [\"Matemáticas\", \"Física\", \"Química\", \"Historia\", \"Lengua\"]\n",
    "scores = []\n",
    "for subject in subjects:\n",
    "    score = input(\"¿Qué nota has sacado en \" + subject + \"?\")\n",
    "    scores.append(score)\n",
    "for i in range(len(subjects)):\n",
    "    print(\"En \" + subjects[i] + \" has sacado \" + scores[i])"
   ]
  },
  {
   "cell_type": "code",
   "execution_count": null,
   "metadata": {},
   "outputs": [],
   "source": [
    "materias = []\n",
    "notas = []\n",
    "cantMaterias = int(input(\"Ingrese la cantidad de materias a almacenar: \"))\n",
    "\n",
    "for i in range(cantMaterias):\n",
    "    materia = input(\"Materia que desea agregar: \")\n",
    "    materias.append(materia)\n",
    "    nota = input(\"Nota que se saco: \")\n",
    "    notas.append(nota)\n",
    "\n",
    "for i in range(len(materias)):\n",
    "    print(\"En \" + materias[i] + \" has sacado \", notas[i])"
   ]
  },
  {
   "cell_type": "markdown",
   "metadata": {},
   "source": [
    "## Ejercicio 4"
   ]
  },
  {
   "cell_type": "markdown",
   "metadata": {},
   "source": [
    "Escribir un programa que pregunte al usuario los números ganadores de la lotería primitiva, los almacene en una lista y los muestre por pantalla ordenados de menor a mayor."
   ]
  },
  {
   "cell_type": "code",
   "execution_count": null,
   "metadata": {},
   "outputs": [],
   "source": [
    "# Solución\n",
    "awarded = []\n",
    "for i in range(6):\n",
    "    awarded.append(int(input(\"Introduce un número ganador: \")))\n",
    "awarded.sort()\n",
    "print(\"Los números ganadores son \" + str(awarded))"
   ]
  },
  {
   "cell_type": "code",
   "execution_count": null,
   "metadata": {},
   "outputs": [],
   "source": [
    "numGanadores = []\n",
    "\n",
    "for i in range(6):\n",
    "    num = int(input(\"Ingrese el numero ganador: \"))\n",
    "    numGanadores.append(num)\n",
    "\n",
    "numGanadores.sort()\n",
    "print(numGanadores)"
   ]
  },
  {
   "cell_type": "markdown",
   "metadata": {},
   "source": [
    "## Ejercicio 5"
   ]
  },
  {
   "cell_type": "markdown",
   "metadata": {},
   "source": [
    "Escribir un programa que almacene en una lista los números del 1 al 10 y los muestre por pantalla en orden inverso separados por comas."
   ]
  },
  {
   "cell_type": "code",
   "execution_count": null,
   "metadata": {},
   "outputs": [],
   "source": [
    "# Solución\n",
    "numbers = [1, 2, 3, 4, 5, 6, 7, 8, 9, 10]\n",
    "for i in range(1, 11):\n",
    "    print(numbers[-i], end=\", \")"
   ]
  },
  {
   "cell_type": "code",
   "execution_count": null,
   "metadata": {},
   "outputs": [],
   "source": [
    "numeros = []\n",
    "\n",
    "for i in range(10):\n",
    "    numeros.append(i+1)\n",
    "\n",
    "numeros.reverse()\n",
    "\n",
    "for i in range(10):\n",
    "    print(numeros[i], end=\", \")"
   ]
  },
  {
   "cell_type": "markdown",
   "metadata": {},
   "source": [
    "## Ejercicio 6"
   ]
  },
  {
   "cell_type": "markdown",
   "metadata": {},
   "source": [
    "Escribir un programa que almacene las asignaturas de un curso (por ejemplo Matemáticas, Física, Química, Historia y Lengua) en una lista, pregunte al usuario la nota que ha sacado en cada asignatura y elimine de la lista las asignaturas aprobadas. Al final el programa debe mostrar por pantalla las asignaturas que el usuario tiene que repetir."
   ]
  },
  {
   "cell_type": "code",
   "execution_count": null,
   "metadata": {},
   "outputs": [],
   "source": [
    "# Solución\n",
    "subjects = [\"Matemáticas\", \"Física\", \"Química\", \"Historia\", \"Lengua\"]\n",
    "passed = []\n",
    "for subject in subjects:\n",
    "    score = float(input(\"¿Qué nota has sacado en \" + subject + \"?\"))\n",
    "    if score >= 5:\n",
    "        passed.append(subject)\n",
    "for subject in passed:\n",
    "    subjects.remove(subject)\n",
    "print(\"Tienes que repetir \" + str(subjects))"
   ]
  },
  {
   "cell_type": "code",
   "execution_count": null,
   "metadata": {},
   "outputs": [],
   "source": [
    "materiasDesaprobadas = []\n",
    "notas = []\n",
    "cantMaterias = int(input(\"Ingrese la cantidad de materias a almacenar: \"))\n",
    "\n",
    "for i in range(cantMaterias):\n",
    "    materia = input(\"Materia que desea agregar: \")\n",
    "    nota = int(input(\"Nota que se saco: \"))\n",
    "    if nota < 6:\n",
    "        materiasDesaprobadas.append(materia)\n",
    "\n",
    "print(\"Materias que debe repetir: \")\n",
    "for desaprobada in materiasDesaprobadas:\n",
    "    print(desaprobada)"
   ]
  },
  {
   "cell_type": "markdown",
   "metadata": {},
   "source": [
    "## Ejercicio 7"
   ]
  },
  {
   "cell_type": "markdown",
   "metadata": {},
   "source": [
    "Escribir un programa que almacene el abecedario en una lista, elimine de la lista las letras que ocupen posiciones múltiplos de 3, y muestre por pantalla la lista resultante."
   ]
  },
  {
   "cell_type": "code",
   "execution_count": 1,
   "metadata": {},
   "outputs": [
    {
     "name": "stdout",
     "output_type": "stream",
     "text": [
      "['a', 'b', 'd', 'e', 'g', 'h', 'j', 'k', 'm', 'n', 'o', 'p', 'r', 's', 'u', 'v', 'x', 'y']\n"
     ]
    }
   ],
   "source": [
    "# Solución\n",
    "alphabet = ['a', 'b', 'c', 'd', 'e', 'f', 'g', 'h', 'i', 'j', 'k', 'l', 'm', 'n', 'ñ', 'o', 'p', 'q', 'r', 's', 't', 'u', 'v', 'w', 'x', 'y', 'z']\n",
    "for i in range(len(alphabet), 1, -1):\n",
    "    if i % 3 == 0:\n",
    "        alphabet.pop(i-1)\n",
    "print(alphabet)"
   ]
  },
  {
   "cell_type": "code",
   "execution_count": null,
   "metadata": {},
   "outputs": [],
   "source": [
    "abecedario = ['a','b','c','d','e','f','g','h','i','j','k','l','m','n','ñ','o','p','q','r','s','t','u','v','w','x','y','z']\n",
    "aux = list(abecedario)\n",
    "\n",
    "for i in range(0, len(abecedario), 3):\n",
    "    dato = abecedario[i]\n",
    "    aux.remove(dato)\n",
    "\n",
    "abecedario = list(aux)\n",
    "\n",
    "print(abecedario)"
   ]
  },
  {
   "cell_type": "markdown",
   "metadata": {},
   "source": [
    "## Ejercicio 8"
   ]
  },
  {
   "cell_type": "markdown",
   "metadata": {},
   "source": [
    "Escribir un programa que pida al usuario una palabra y muestre por pantalla si es un palíndromo."
   ]
  },
  {
   "cell_type": "code",
   "execution_count": null,
   "metadata": {},
   "outputs": [],
   "source": [
    "# Solución\n",
    "word = input(\"Introduce una palabra: \")\n",
    "reversed_word = word\n",
    "word = list(word)\n",
    "reversed_word = list(reversed_word)\n",
    "reversed_word.reverse()\n",
    "if word == reversed_word:\n",
    "    print(\"Es un palíndromo\")\n",
    "else:\n",
    "    print(\"No es un palíndromo\")"
   ]
  },
  {
   "cell_type": "code",
   "execution_count": null,
   "metadata": {},
   "outputs": [],
   "source": [
    "palabra = input(\"Ingrese una palabra: \")\n",
    "palindromo = True\n",
    "extremo = len(palabra)\n",
    "\n",
    "for i in range(len(palabra)//2):\n",
    "    if palabra[i] != palabra[extremo-1]:\n",
    "        palindromo = False\n",
    "    extremo -=1\n",
    "    \n",
    "if palindromo:\n",
    "    print(\"Su palabra es palindromo!\")\n",
    "else:\n",
    "    print(\"Su palabra no es palindromo\")"
   ]
  },
  {
   "cell_type": "markdown",
   "metadata": {},
   "source": [
    "## Ejercicio 9"
   ]
  },
  {
   "cell_type": "markdown",
   "metadata": {},
   "source": [
    "Escribir un programa que pida al usuario una palabra y muestre por pantalla el número de veces que contiene cada vocal."
   ]
  },
  {
   "cell_type": "code",
   "execution_count": null,
   "metadata": {},
   "outputs": [],
   "source": [
    "# Solución\n",
    "word = input(\"Introduce una palabra: \")\n",
    "vocals = ['a', 'e', 'i', 'o', 'u']\n",
    "for vocal in vocals: \n",
    "    times = 0\n",
    "    for letter in word: \n",
    "        if letter == vocal:\n",
    "            times += 1\n",
    "    print(\"La vocal \" + vocal + \" aparece \" + str(times) + \" veces\")"
   ]
  },
  {
   "cell_type": "code",
   "execution_count": null,
   "metadata": {},
   "outputs": [],
   "source": [
    "palabra = input(\"Ingrese una palabra: \")\n",
    "contadorA = 0\n",
    "contadorE = 0\n",
    "contadorI = 0\n",
    "contadorO = 0\n",
    "contadorU = 0\n",
    "\n",
    "for i in range(len(palabra)):\n",
    "    if palabra[i] == 'a':\n",
    "        contadorA += 1\n",
    "    if palabra[i] == 'e':\n",
    "        contadorE += 1\n",
    "    if palabra[i] == 'i':\n",
    "        contadorI += 1\n",
    "    if palabra[i] == 'o':\n",
    "        contadorO += 1\n",
    "    if palabra[i] == 'u':\n",
    "        contadorU += 1\n",
    "\n",
    "print(\"Su palabra tiene \")\n",
    "print(\"Cantidad de vocales A:\", contadorA)\n",
    "print(\"Cantidad de vocales E:\", contadorE)\n",
    "print(\"Cantidad de vocales I:\", contadorI)\n",
    "print(\"Cantidad de vocales O:\", contadorO)\n",
    "print(\"Cantidad de vocales U:\", contadorU)"
   ]
  },
  {
   "cell_type": "markdown",
   "metadata": {},
   "source": [
    "## Ejercicio 10"
   ]
  },
  {
   "cell_type": "markdown",
   "metadata": {},
   "source": [
    "Escribir un programa que almacene en una lista los siguientes precios, 50, 75, 46, 22, 80, 65, 8, y muestre por pantalla el menor y el mayor de los precios."
   ]
  },
  {
   "cell_type": "code",
   "execution_count": 2,
   "metadata": {},
   "outputs": [
    {
     "name": "stdout",
     "output_type": "stream",
     "text": [
      "El mínimo es 8\n",
      "El máximo es 80\n"
     ]
    }
   ],
   "source": [
    "# Solución\n",
    "prices = [50, 75, 46, 22, 80, 65, 8]\n",
    "min = max = prices[0]\n",
    "for price in prices:\n",
    "    if price < min:\n",
    "        min = price\n",
    "    elif price > max:\n",
    "        max = price \n",
    "print(\"El mínimo es \" + str(min)) \n",
    "print(\"El máximo es \" + str(max))"
   ]
  },
  {
   "cell_type": "code",
   "execution_count": null,
   "metadata": {},
   "outputs": [],
   "source": [
    "precios = [50,75,46,22,80,65,8]\n",
    "\n",
    "print(\"Mayor de los precios: \", max(precios))\n",
    "print(\"Menor de los precios: \", min(precios))"
   ]
  },
  {
   "cell_type": "markdown",
   "metadata": {},
   "source": [
    "## Ejercicio 11"
   ]
  },
  {
   "cell_type": "markdown",
   "metadata": {},
   "source": [
    "Escribir un programa que almacene los vectores (1,2,3) y (-1,0,2) en dos listas y muestre por pantalla su producto escalar."
   ]
  },
  {
   "cell_type": "code",
   "execution_count": null,
   "metadata": {},
   "outputs": [],
   "source": [
    "# Solución\n",
    "a = (1, 2, 3)\n",
    "b = (-1, 0, 2)\n",
    "product = 0\n",
    "for i in range(len(a)):\n",
    "    product += a[i]*b[i]\n",
    "print(\"El producto de los vectores\" + str(a) + \" y \" + str(b) + \" es \" + str(product)) "
   ]
  },
  {
   "cell_type": "code",
   "execution_count": null,
   "metadata": {},
   "outputs": [],
   "source": [
    "vector1 = [1,2,3]\n",
    "vector2 = [-1,0,2]\n",
    "\n",
    "resultado = 0\n",
    "\n",
    "for i in range(len(vector1)):\n",
    "    resultado += vector1[i]*vector2[i]\n",
    "\n",
    "print(resultado)"
   ]
  },
  {
   "cell_type": "markdown",
   "metadata": {},
   "source": [
    "## Ejercicio 12"
   ]
  },
  {
   "cell_type": "markdown",
   "metadata": {},
   "source": [
    "Escribir un programa que almacene las matrices\n",
    "\n",
    "$A = \\left(\n",
    "\\begin{array}{rrr}\n",
    "1 & 2 & 3\\ \\\\\n",
    "4 & 5 & 6\n",
    "\\end{array}\n",
    "\\right)\n",
    "\\quad  y\n",
    "\\quad\n",
    "B = \\left(\n",
    "\\begin{array}{rr}\n",
    "-1 & 0\\ \\\\\n",
    "0 & 1\\ \\\\\n",
    "1 & 1\n",
    "\\end{array}\n",
    "\\right)\n",
    "$\n",
    "\n",
    "en una lista y muestre por pantalla su producto.\n",
    "Nota: Para representar matrices mediante listas usar listas anidadas, representando cada vector fila en una lista."
   ]
  },
  {
   "cell_type": "code",
   "execution_count": 3,
   "metadata": {},
   "outputs": [
    {
     "name": "stdout",
     "output_type": "stream",
     "text": [
      "(2, 5)\n",
      "(2, 11)\n"
     ]
    }
   ],
   "source": [
    "# Solución\n",
    "a = ((1, 2, 3),\n",
    "     (4, 5, 6))\n",
    "b = ((-1, 0),\n",
    "     (0, 1),\n",
    "     (1,1))\n",
    "result = [[0,0],\n",
    "          [0,0]]\n",
    "for i in range(len(a)):\n",
    "    for j in range(len(b[0])):\n",
    "        for k in range(len(b)):\n",
    "            result[i][j] += a[i][k] * b[k][j]\n",
    "for i in range(len(result)):\n",
    "    result[i] = tuple(result[i])\n",
    "result = tuple(result)\n",
    "for i in range(len(result)):\n",
    "    print(result[i])"
   ]
  },
  {
   "cell_type": "code",
   "execution_count": 6,
   "metadata": {},
   "outputs": [
    {
     "name": "stdout",
     "output_type": "stream",
     "text": [
      "[2, 5]\n",
      "[2, 11]\n"
     ]
    }
   ],
   "source": [
    "matrizA = [[1,2,3],[4,5,6]]\n",
    "matrizB = [[-1,0],[0,1],[1,1]]\n",
    "matrizResultado = [[0,0],[0,0]]\n",
    "\n",
    "for i in range(len(matrizA)): \n",
    "     for j in range(len(matrizB[0])): \n",
    "        for k in range(len(matrizB)): \n",
    "            matrizResultado[i][j]+= matrizA[i][k]*matrizB[k][j]\n",
    "\n",
    "for i in range(len(matrizResultado)):\n",
    "    print(matrizResultado[i])"
   ]
  },
  {
   "cell_type": "markdown",
   "metadata": {},
   "source": [
    "## Ejercicio 13"
   ]
  },
  {
   "cell_type": "markdown",
   "metadata": {},
   "source": [
    "Escribir un programa que pregunte por una muestra de números, separados por comas, los guarde en una lista y muestre por pantalla su media y desviación típica."
   ]
  },
  {
   "cell_type": "code",
   "execution_count": 9,
   "metadata": {},
   "outputs": [
    {
     "name": "stdout",
     "output_type": "stream",
     "text": [
      "Introduce una muestra de números separados por comas: 0,0,14,14\n",
      "La media es 7.0 , y la desviación típica es 7.0\n"
     ]
    }
   ],
   "source": [
    "# Solución\n",
    "sample = input(\"Introduce una muestra de números separados por comas: \")\n",
    "sample = sample.split(',')\n",
    "n = len(sample)\n",
    "for i in range(n):\n",
    "    sample[i] = int(sample[i])\n",
    "sample = tuple(sample)\n",
    "sum = 0\n",
    "sumsq = 0\n",
    "for i in sample:\n",
    "    sum += i\n",
    "    sumsq += i**2\n",
    "mean = sum/n\n",
    "stdev = (sumsq/n-mean**2)**(1/2)\n",
    "print('La media es', mean, ', y la desviación típica es', stdev)"
   ]
  },
  {
   "cell_type": "code",
   "execution_count": null,
   "metadata": {},
   "outputs": [],
   "source": [
    "listaMuestra = input(\"Ingrese numeros separados por comas: \")\n",
    "listaMuestra = listaMuestra.split(',')\n",
    "\n",
    "for i in range(len(listaMuestra)):\n",
    "    listaMuestra[i] = int(listaMuestra[i])\n",
    "\n",
    "totalDatos = len(listaMuestra)\n",
    "sumaDatos = sum(listaMuestra)\n",
    "\n",
    "media = sumaDatos/totalDatos\n",
    "diferenciaCuadrado = 0\n",
    "\n",
    "for i in listaMuestra:\n",
    "    diferenciaCuadrado += (i-media)**2\n",
    "\n",
    "desvio = ((diferenciaCuadrado)/totalDatos)**(1/2)\n",
    "\n",
    "print(\"La media total de los datos es: \", media)\n",
    "print(\"El desvio de la muestra es: \", desvio)"
   ]
  },
  {
   "cell_type": "code",
   "execution_count": null,
   "metadata": {},
   "outputs": [],
   "source": []
  }
 ],
 "metadata": {
  "kernelspec": {
   "display_name": "Python 3",
   "language": "python",
   "name": "python3"
  },
  "language_info": {
   "codemirror_mode": {
    "name": "ipython",
    "version": 3
   },
   "file_extension": ".py",
   "mimetype": "text/x-python",
   "name": "python",
   "nbconvert_exporter": "python",
   "pygments_lexer": "ipython3",
   "version": "3.8.3"
  }
 },
 "nbformat": 4,
 "nbformat_minor": 2
}
