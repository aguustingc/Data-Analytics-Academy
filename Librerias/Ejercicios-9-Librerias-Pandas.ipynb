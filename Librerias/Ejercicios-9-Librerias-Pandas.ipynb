{
 "cells": [
  {
   "cell_type": "markdown",
   "metadata": {},
   "source": [
    "# Ejercicios de la Librería Pandas"
   ]
  },
  {
   "cell_type": "markdown",
   "metadata": {},
   "source": [
    "## Ejercicio 1"
   ]
  },
  {
   "cell_type": "markdown",
   "metadata": {},
   "source": [
    "Escribir un programa que pregunte al usuario por las ventas de un rango de años y muestre por pantalla una serie con los datos de las ventas indexada por los años, antes y después de aplicarles un descuento del 10%."
   ]
  },
  {
   "cell_type": "code",
   "execution_count": 1,
   "metadata": {},
   "outputs": [],
   "source": [
    "import pandas as pd"
   ]
  },
  {
   "cell_type": "code",
   "execution_count": 2,
   "metadata": {},
   "outputs": [
    {
     "name": "stdout",
     "output_type": "stream",
     "text": [
      "Ingrese todas las ventas separadas por comas: 1,1,1,1,1\n",
      "Ventas                  0    1.0\n",
      "1    1.0\n",
      "2    1.0\n",
      "3    1.0\n",
      "4    1.0\n",
      "d...\n",
      "Ventas con descuento    0    0.9\n",
      "1    0.9\n",
      "2    0.9\n",
      "3    0.9\n",
      "4    0.9\n",
      "d...\n",
      "dtype: object\n"
     ]
    }
   ],
   "source": [
    "ventas = input(\"Ingrese todas las ventas separadas por comas: \").split(\",\")\n",
    "ventas = map(float, ventas)\n",
    "\n",
    "ventas = pd.Series(ventas)\n",
    "ventasIndexadas = pd.Series([ventas, ventas*0.9], index=[\"Ventas\",\"Ventas con descuento\"])\n",
    "print(ventasIndexadas)"
   ]
  },
  {
   "cell_type": "markdown",
   "metadata": {},
   "source": [
    "## Ejercicio 2"
   ]
  },
  {
   "cell_type": "markdown",
   "metadata": {},
   "source": [
    "Escribir una función que reciba una diccionario con las notas de los alumnos en curso en un examen y devuelva una serie con la nota mínima, la máxima, media y la desviación típica."
   ]
  },
  {
   "cell_type": "code",
   "execution_count": 3,
   "metadata": {},
   "outputs": [
    {
     "data": {
      "text/plain": [
       "Minimo     3.000000\n",
       "Maximo    10.000000\n",
       "Media      6.666667\n",
       "STD        3.011091\n",
       "dtype: float64"
      ]
     },
     "execution_count": 3,
     "metadata": {},
     "output_type": "execute_result"
    }
   ],
   "source": [
    "def datosAlumnos(diccionario):\n",
    "    datos = pd.Series(diccionario)\n",
    "    serie = pd.Series({\"Minimo\": datos.min(), \"Maximo\":datos.max(), \"Media\":datos.mean(), \"STD\":datos.std()})\n",
    "    return serie\n",
    "\n",
    "notas = {\"Agustin\":10, \"Jose\":9, \"Gonzalo\":3, \"Joaquin\":4, \"Mariano\":5, \"Miguel\":9}\n",
    "\n",
    "s = datosAlumnos(notas)\n",
    "s"
   ]
  },
  {
   "cell_type": "markdown",
   "metadata": {},
   "source": [
    "## Ejercicio 3"
   ]
  },
  {
   "cell_type": "markdown",
   "metadata": {},
   "source": [
    "Escribir una función que reciba una diccionario con las notas de los alumnos en curso en un examen y devuelva una serie con las notas de los alumnos aprobados ordenadas de mayor a menor."
   ]
  },
  {
   "cell_type": "code",
   "execution_count": 4,
   "metadata": {},
   "outputs": [
    {
     "data": {
      "text/plain": [
       "Agustin    10\n",
       "Miguel      9\n",
       "Jose        9\n",
       "Mariano     5\n",
       "Joaquin     4\n",
       "Gonzalo     3\n",
       "dtype: int64"
      ]
     },
     "execution_count": 4,
     "metadata": {},
     "output_type": "execute_result"
    }
   ],
   "source": [
    "def datosAlumnos(diccionario):\n",
    "    datos = pd.Series(diccionario)\n",
    "    return datos.sort_values(ascending = False)\n",
    "\n",
    "notas = {\"Agustin\":10, \"Jose\":9, \"Gonzalo\":3, \"Joaquin\":4, \"Mariano\":5, \"Miguel\":9}\n",
    "\n",
    "s = datosAlumnos(notas)\n",
    "s"
   ]
  },
  {
   "cell_type": "markdown",
   "metadata": {},
   "source": [
    "## Ejercicio 4"
   ]
  },
  {
   "cell_type": "markdown",
   "metadata": {},
   "source": [
    "Escribir programa que genere y muestre por pantalla un DataFrame con los datos de la tabla siguiente:\n",
    "<table>\n",
    "<thead>\n",
    "<tr>\n",
    "<th>Mes</th>\n",
    "<th style=\"text-align:right\">Ventas</th>\n",
    "<th style=\"text-align:right\">Gastos</th>\n",
    "</tr>\n",
    "</thead>\n",
    "<tbody>\n",
    "<tr>\n",
    "<td>Enero</td>\n",
    "<td style=\"text-align:right\">30500</td>\n",
    "<td style=\"text-align:right\">22000</td>\n",
    "</tr>\n",
    "<tr>\n",
    "<td>Febrero</td>\n",
    "<td style=\"text-align:right\">35600</td>\n",
    "<td style=\"text-align:right\">23400</td>\n",
    "</tr>\n",
    "<tr>\n",
    "<td>Marzo</td>\n",
    "<td style=\"text-align:right\">28300</td>\n",
    "<td style=\"text-align:right\">18100</td>\n",
    "</tr>\n",
    "<tr>\n",
    "<td>Abril</td>\n",
    "<td style=\"text-align:right\">33900</td>\n",
    "<td style=\"text-align:right\">20700</td>\n",
    "</tr>\n",
    "</tbody>\n",
    "</table>"
   ]
  },
  {
   "cell_type": "code",
   "execution_count": 5,
   "metadata": {},
   "outputs": [
    {
     "data": {
      "text/html": [
       "<div>\n",
       "<style scoped>\n",
       "    .dataframe tbody tr th:only-of-type {\n",
       "        vertical-align: middle;\n",
       "    }\n",
       "\n",
       "    .dataframe tbody tr th {\n",
       "        vertical-align: top;\n",
       "    }\n",
       "\n",
       "    .dataframe thead th {\n",
       "        text-align: right;\n",
       "    }\n",
       "</style>\n",
       "<table border=\"1\" class=\"dataframe\">\n",
       "  <thead>\n",
       "    <tr style=\"text-align: right;\">\n",
       "      <th></th>\n",
       "      <th>Mes</th>\n",
       "      <th>Ventas</th>\n",
       "      <th>Gastos</th>\n",
       "    </tr>\n",
       "  </thead>\n",
       "  <tbody>\n",
       "    <tr>\n",
       "      <th>0</th>\n",
       "      <td>Enero</td>\n",
       "      <td>30500</td>\n",
       "      <td>22000</td>\n",
       "    </tr>\n",
       "    <tr>\n",
       "      <th>1</th>\n",
       "      <td>Febrero</td>\n",
       "      <td>35600</td>\n",
       "      <td>23400</td>\n",
       "    </tr>\n",
       "    <tr>\n",
       "      <th>2</th>\n",
       "      <td>Marzo</td>\n",
       "      <td>28300</td>\n",
       "      <td>18100</td>\n",
       "    </tr>\n",
       "    <tr>\n",
       "      <th>3</th>\n",
       "      <td>Abril</td>\n",
       "      <td>33900</td>\n",
       "      <td>20700</td>\n",
       "    </tr>\n",
       "  </tbody>\n",
       "</table>\n",
       "</div>"
      ],
      "text/plain": [
       "       Mes  Ventas  Gastos\n",
       "0    Enero   30500   22000\n",
       "1  Febrero   35600   23400\n",
       "2    Marzo   28300   18100\n",
       "3    Abril   33900   20700"
      ]
     },
     "execution_count": 5,
     "metadata": {},
     "output_type": "execute_result"
    }
   ],
   "source": [
    "datos = {\"Mes\":[\"Enero\",\"Febrero\",\"Marzo\",\"Abril\"],\n",
    "         \"Ventas\":[30500,35600,28300,33900],\n",
    "         \"Gastos\":[22000,23400,18100,20700]}\n",
    "\n",
    "df = pd.DataFrame(datos)\n",
    "df"
   ]
  },
  {
   "cell_type": "markdown",
   "metadata": {},
   "source": [
    "## Ejercicio 5"
   ]
  },
  {
   "cell_type": "markdown",
   "metadata": {},
   "source": [
    "Escribir una función que reciba un DataFrame con el formato del ejercicio anterior, una lista de meses, y devuelva el balance (ventas - gastos) total en los meses indicados."
   ]
  },
  {
   "cell_type": "code",
   "execution_count": 6,
   "metadata": {},
   "outputs": [
    {
     "name": "stderr",
     "output_type": "stream",
     "text": [
      "<ipython-input-6-ec546e5f34fe>:3: SettingWithCopyWarning: \n",
      "A value is trying to be set on a copy of a slice from a DataFrame.\n",
      "Try using .loc[row_indexer,col_indexer] = value instead\n",
      "\n",
      "See the caveats in the documentation: https://pandas.pydata.org/pandas-docs/stable/user_guide/indexing.html#returning-a-view-versus-a-copy\n",
      "  newDf[\"Balance\"] = newDf[\"Ventas\"]-newDf[\"Gastos\"]\n"
     ]
    },
    {
     "data": {
      "text/html": [
       "<div>\n",
       "<style scoped>\n",
       "    .dataframe tbody tr th:only-of-type {\n",
       "        vertical-align: middle;\n",
       "    }\n",
       "\n",
       "    .dataframe tbody tr th {\n",
       "        vertical-align: top;\n",
       "    }\n",
       "\n",
       "    .dataframe thead th {\n",
       "        text-align: right;\n",
       "    }\n",
       "</style>\n",
       "<table border=\"1\" class=\"dataframe\">\n",
       "  <thead>\n",
       "    <tr style=\"text-align: right;\">\n",
       "      <th></th>\n",
       "      <th>Mes</th>\n",
       "      <th>Ventas</th>\n",
       "      <th>Gastos</th>\n",
       "      <th>Balance</th>\n",
       "    </tr>\n",
       "  </thead>\n",
       "  <tbody>\n",
       "    <tr>\n",
       "      <th>1</th>\n",
       "      <td>Febrero</td>\n",
       "      <td>35600</td>\n",
       "      <td>23400</td>\n",
       "      <td>12200</td>\n",
       "    </tr>\n",
       "    <tr>\n",
       "      <th>2</th>\n",
       "      <td>Marzo</td>\n",
       "      <td>28300</td>\n",
       "      <td>18100</td>\n",
       "      <td>10200</td>\n",
       "    </tr>\n",
       "    <tr>\n",
       "      <th>3</th>\n",
       "      <td>Abril</td>\n",
       "      <td>33900</td>\n",
       "      <td>20700</td>\n",
       "      <td>13200</td>\n",
       "    </tr>\n",
       "  </tbody>\n",
       "</table>\n",
       "</div>"
      ],
      "text/plain": [
       "       Mes  Ventas  Gastos  Balance\n",
       "1  Febrero   35600   23400    12200\n",
       "2    Marzo   28300   18100    10200\n",
       "3    Abril   33900   20700    13200"
      ]
     },
     "execution_count": 6,
     "metadata": {},
     "output_type": "execute_result"
    }
   ],
   "source": [
    "def balance(df, meses):\n",
    "    newDf = df[df[\"Mes\"].isin(meses)]\n",
    "    newDf[\"Balance\"] = newDf[\"Ventas\"]-newDf[\"Gastos\"]\n",
    "    return newDf\n",
    "\n",
    "meses = [\"Febrero\", \"Marzo\", \"Abril\"]\n",
    "\n",
    "pp = balance(df, meses)\n",
    "pp"
   ]
  },
  {
   "cell_type": "markdown",
   "metadata": {},
   "source": [
    "## Ejercicio 6"
   ]
  },
  {
   "cell_type": "markdown",
   "metadata": {},
   "source": [
    "El archivo <a href=\"https://drive.google.com/file/d/1V06-QPe36PIIMq0z6Nm8_02mHB1KX_Cu/view?usp=sharing\"> cotizacion.csv</a> contiene las cotizaciones de las empresas del IBEX35 con las siguientes columnas: <font color=#B40431>Nombre</font> (nombre de la empresa), <font color=#B40431>Final</font> (precio de la acción al cierre de bolsa), <font color=#B40431>Máximo</font> (precio máximo de la acción durante la jornada), <font color=#B40431>Mínimo</font> (precio mínimo de la acción durante la jornada), <font color=#B40431>Volumen</font> (Volumen al cierre de bolsa), <font color=#B40431>Efectivo</font> (capitalización al cierre en miles de euros). Construir una función que construya un DataFrame a partir del un archivo con el formato anterior y devuelva otro DataFrame con el mínimo, el máximo y la media de dada columna."
   ]
  },
  {
   "cell_type": "code",
   "execution_count": 7,
   "metadata": {},
   "outputs": [
    {
     "data": {
      "text/html": [
       "<div>\n",
       "<style scoped>\n",
       "    .dataframe tbody tr th:only-of-type {\n",
       "        vertical-align: middle;\n",
       "    }\n",
       "\n",
       "    .dataframe tbody tr th {\n",
       "        vertical-align: top;\n",
       "    }\n",
       "\n",
       "    .dataframe thead th {\n",
       "        text-align: right;\n",
       "    }\n",
       "</style>\n",
       "<table border=\"1\" class=\"dataframe\">\n",
       "  <thead>\n",
       "    <tr style=\"text-align: right;\">\n",
       "      <th></th>\n",
       "      <th>Minimo</th>\n",
       "      <th>Maximo</th>\n",
       "      <th>Media</th>\n",
       "    </tr>\n",
       "  </thead>\n",
       "  <tbody>\n",
       "    <tr>\n",
       "      <th>Efectivo</th>\n",
       "      <td>2343.09</td>\n",
       "      <td>145765</td>\n",
       "      <td>31767.778000</td>\n",
       "    </tr>\n",
       "    <tr>\n",
       "      <th>Final</th>\n",
       "      <td>1.0165</td>\n",
       "      <td>19705</td>\n",
       "      <td>2796.768757</td>\n",
       "    </tr>\n",
       "    <tr>\n",
       "      <th>Máximo</th>\n",
       "      <td>4.0675</td>\n",
       "      <td>19875</td>\n",
       "      <td>3170.113357</td>\n",
       "    </tr>\n",
       "    <tr>\n",
       "      <th>Mínimo</th>\n",
       "      <td>1.0165</td>\n",
       "      <td>19675</td>\n",
       "      <td>3136.510471</td>\n",
       "    </tr>\n",
       "    <tr>\n",
       "      <th>Nombre</th>\n",
       "      <td>ACCIONA</td>\n",
       "      <td>VISCOFAN</td>\n",
       "      <td>0.000000</td>\n",
       "    </tr>\n",
       "    <tr>\n",
       "      <th>Volumen</th>\n",
       "      <td>1.054.847</td>\n",
       "      <td>99.506</td>\n",
       "      <td>0.000000</td>\n",
       "    </tr>\n",
       "  </tbody>\n",
       "</table>\n",
       "</div>"
      ],
      "text/plain": [
       "             Minimo    Maximo         Media\n",
       "Efectivo    2343.09    145765  31767.778000\n",
       "Final        1.0165     19705   2796.768757\n",
       "Máximo       4.0675     19875   3170.113357\n",
       "Mínimo       1.0165     19675   3136.510471\n",
       "Nombre      ACCIONA  VISCOFAN      0.000000\n",
       "Volumen   1.054.847    99.506      0.000000"
      ]
     },
     "execution_count": 7,
     "metadata": {},
     "output_type": "execute_result"
    }
   ],
   "source": [
    "import pandas as pd\n",
    "\n",
    "cotizacion = pd.read_csv('Desktop\\df\\cotizacion.csv', sep=';', decimal=',')\n",
    "cotizacion = pd.DataFrame(cotizacion)\n",
    "\n",
    "\n",
    "def newDataFrame(df):\n",
    "    modeloDF = {'Minimo':df.min(),\n",
    "                'Maximo':df.max(),\n",
    "                'Media':df.mean()}\n",
    "    \n",
    "    newDataFrame = pd.DataFrame(modeloDF)\n",
    "    newDataFrame.fillna(0, inplace=True)\n",
    "    return newDataFrame\n",
    "\n",
    "a = newDataFrame(cotizacion)\n",
    "a"
   ]
  },
  {
   "cell_type": "markdown",
   "metadata": {},
   "source": [
    "## Ejercicio 7"
   ]
  },
  {
   "cell_type": "markdown",
   "metadata": {},
   "source": [
    "El fichero <a href=\"https://drive.google.com/file/d/17KGu5s3mCHLdrg3vuA6sqtLOKZEQYO7c/view?usp=sharing\">titanic.csv</a> contiene información sobre los pasajeros del Titanic. Escribir un programa con los siguientes requisitos:\n",
    "<ol>\n",
    "<li>Generar un DataFrame con los datos del archivo.</li>\n",
    "<li>Mostrar por pantalla las dimensiones del DataFrame, el número de datos que contiene, los nombres de sus columnas y filas, los tipos de datos de las columnas, las 10 primeras filas y las 10 últimas filas</li>\n",
    "<li>Mostrar por pantalla los datos del pasajero con identificador 148.</li>\n",
    "<li>Mostrar por pantalla las filas pares del DataFrame.</li>\n",
    "<li>Mostrar por pantalla los nombres de las personas que iban en primera clase ordenadas alfabéticamente.</li>\n",
    "<li>Mostrar por pantalla el porcentaje de personas que sobrevivieron y murieron.</li>\n",
    "<li>Mostrar por pantalla el porcentaje de personas que sobrevivieron en cada clase.</li>\n",
    "<li>Eliminar del DataFrame los pasajeros con edad desconocida.</li>\n",
    "<li>Mostrar por pantalla la edad media de las mujeres que viajaban en cada clase.</li>\n",
    "<li>Añadir una nueva columna booleana para ver si el pasajero era menor de edad o no.</li>\n",
    "<li>Mostrar por pantalla el porcentaje de menores y mayores de edad que sobrevivieron en cada clase.</li>\n",
    "</ol>"
   ]
  },
  {
   "cell_type": "code",
   "execution_count": 142,
   "metadata": {},
   "outputs": [
    {
     "name": "stdout",
     "output_type": "stream",
     "text": [
      "Porcentaje de sobrevivientes menores de edad de la clase 1:  0.07526881720430108\n",
      "Porcentaje de sobrevivientes menores de edad de la clase 2:  0.1329479768786127\n",
      "Porcentaje de sobrevivientes menores de edad de la clase 3:  0.09295774647887324\n",
      "\n",
      "Porcentaje de sobrevivientes mayores de edad de la clase 1:  0.5806451612903226\n",
      "Porcentaje de sobrevivientes mayores de edad de la clase 2:  0.3468208092485549\n",
      "Porcentaje de sobrevivientes mayores de edad de la clase 3:  0.14647887323943662\n"
     ]
    }
   ],
   "source": [
    "#Punto 1\n",
    "titanic = pd.read_csv(r'Desktop\\df\\titanic.csv')\n",
    "\n",
    "'''\n",
    "#Punto 2\n",
    "print(\"Dimension:\", titanic.shape)\n",
    "print(\"Tamaño:\", titanic.size)\n",
    "print(\"Columnas:\", titanic.columns)\n",
    "print(\"Filas:\", titanic.index)\n",
    "print(\"Tipos de datos de las columnas:\", titanic.columns.dtype)\n",
    "print(\"Tipos de datos de las filas:\", titanic.index.dtype)\n",
    "print(\"10 primeras filas:\")\n",
    "display(titanic.loc[0:10][:])\n",
    "print(\"10 ultimas columnas:\")\n",
    "display(titanic.loc[:][-10:])\n",
    "\n",
    "#Punto 3\n",
    "titanic3 = titanic[(titanic['PassengerId']==148)]\n",
    "print(\"Punto 3:\")\n",
    "display(titanic3)\n",
    "\n",
    "#Punto 4\n",
    "titanic4 = titanic.iloc[::2, :]\n",
    "print(\"Punto 4: \")\n",
    "display(titanic4)\n",
    "\n",
    "#Punto 5\n",
    "#Entendemos que la clase alta es minoria, por lo cual vamos a ver cuales de los 3 valores (1,2,3) de Pclass es el menor,\n",
    "#y ese sera el valor de la clase alta\n",
    "print(titanic[(titanic['Pclass'] == 1)].Pclass.count())\n",
    "print(titanic[(titanic['Pclass'] == 2)].Pclass.count())\n",
    "print(titanic[(titanic['Pclass'] == 3)].Pclass.count())\n",
    "#Concluimos que la clase 2 es la clase alta.\n",
    "\n",
    "titanix = titanic[(titanic['Pclass'] == 2)].sort_values(['Name'])\n",
    "titanix.reset_index(drop=True, inplace=True)\n",
    "titanix = titanix.loc[:, ['Name', 'Survived', 'Age']]\n",
    "display(titanix)\n",
    "\n",
    "#Punto 6\n",
    "survived = titanic[(titanic['Survived']==1)]\n",
    "not_survived = titanic[(titanic['Survived']==0)]\n",
    "\n",
    "total_survived = survived.Survived.count()\n",
    "total_death = not_survived.Survived.count()\n",
    "total_passengers = total_survived + total_death\n",
    "\n",
    "\n",
    "print(\"Porcentaje de sobrevivientes: \", total_survived/total_passengers)\n",
    "print(\"Porcentaje de muertes: \", total_death/total_passengers)\n",
    "\n",
    "\n",
    "#Punto 7\n",
    "\n",
    "\n",
    "#Punto 8\n",
    "titanic8 = titanic[titanic.Age.notnull()]\n",
    "titanic8.reset_index(drop=True, inplace=True)\n",
    "print(\"Punto 8: \")\n",
    "display(titanic8)\n",
    "\n",
    "\n",
    "#Punto 10\n",
    "titanic10 = pd.DataFrame.copy(titanic8)\n",
    "c = [x<=18 for x in titanic8['Age']]\n",
    "\n",
    "titanic10['Menor_Edad'] = c\n",
    "print(\"Punto 10: \")\n",
    "display(titanic10)\n",
    "'''\n",
    "\n",
    "#Punto 11\n",
    "\n",
    "data_menor = [[titanic10[((titanic10['Survived']==1) & (titanic10['Menor_Edad']==True)) & (titanic10['Pclass']==1)],\n",
    "               titanic10[((titanic10['Survived']==0) & (titanic10['Menor_Edad']==True)) & (titanic10['Pclass']==1)]],\n",
    "              [titanic10[((titanic10['Survived']==1) & (titanic10['Menor_Edad']==True)) & (titanic10['Pclass']==2)],\n",
    "               titanic10[((titanic10['Survived']==0) & (titanic10['Menor_Edad']==True)) & (titanic10['Pclass']==2)]],\n",
    "              [titanic10[((titanic10['Survived']==1) & (titanic10['Menor_Edad']==True)) & (titanic10['Pclass']==3)],\n",
    "               titanic10[((titanic10['Survived']==0) & (titanic10['Menor_Edad']==True)) & (titanic10['Pclass']==3)]]]\n",
    "\n",
    "data_mayor = [[titanic10[((titanic10['Survived']==1) & (titanic10['Menor_Edad']==False) & (titanic10['Pclass']==1))],\n",
    "               titanic10[((titanic10['Survived']==0) & (titanic10['Menor_Edad']==False) & (titanic10['Pclass']==1))]],\n",
    "              [titanic10[((titanic10['Survived']==1) & (titanic10['Menor_Edad']==False) & (titanic10['Pclass']==2))],\n",
    "               titanic10[((titanic10['Survived']==0) & (titanic10['Menor_Edad']==False) & (titanic10['Pclass']==2))]],\n",
    "              [titanic10[((titanic10['Survived']==1) & (titanic10['Menor_Edad']==False) & (titanic10['Pclass']==3))],\n",
    "               titanic10[((titanic10['Survived']==0) & (titanic10['Menor_Edad']==False) & (titanic10['Pclass']==3))]]]\n",
    "\n",
    "total_menor = [[data_menor[0][0].Survived.count(),\n",
    "                data_menor[0][1].Survived.count()],\n",
    "               [data_menor[1][0].Survived.count(),\n",
    "                data_menor[1][1].Survived.count()],\n",
    "               [data_menor[2][0].Survived.count(),\n",
    "                data_menor[2][1].Survived.count()]]\n",
    "\n",
    "total_mayor = [[data_mayor[0][0].Survived.count(),\n",
    "                data_mayor[0][1].Survived.count()],\n",
    "               [data_mayor[1][0].Survived.count(),\n",
    "                data_mayor[1][1].Survived.count()],\n",
    "               [data_mayor[2][0].Survived.count(),\n",
    "                data_mayor[2][1].Survived.count()]]\n",
    "\n",
    "total_passengers_c1 = total_survived_menor_c1+total_survived_mayor_c1+total_death_menor_c1+total_death_mayor_c1\n",
    "total_passengers_c2 = total_survived_menor_c2+total_survived_mayor_c2+total_death_menor_c2+total_death_mayor_c2\n",
    "total_passengers_c3 = total_survived_menor_c3+total_survived_mayor_c3+total_death_menor_c3+total_death_mayor_c3\n",
    "\n",
    "print(\"Porcentaje de sobrevivientes menores de edad de la clase 1: \", total_menor[0][0]/total_passengers_c1)\n",
    "print(\"Porcentaje de sobrevivientes menores de edad de la clase 2: \", total_menor[1][0]/total_passengers_c2)\n",
    "print(\"Porcentaje de sobrevivientes menores de edad de la clase 3: \", total_menor[2][0]/total_passengers_c3)\n",
    "\n",
    "print(\"\\nPorcentaje de sobrevivientes mayores de edad de la clase 1: \", total_mayor[0][0]/total_passengers_c1)\n",
    "print(\"Porcentaje de sobrevivientes mayores de edad de la clase 2: \", total_mayor[1][0]/total_passengers_c2)\n",
    "print(\"Porcentaje de sobrevivientes mayores de edad de la clase 3: \", total_mayor[2][0]/total_passengers_c3)"
   ]
  },
  {
   "cell_type": "markdown",
   "metadata": {},
   "source": [
    "## Ejercicio 8"
   ]
  },
  {
   "cell_type": "markdown",
   "metadata": {},
   "source": [
    "Los archivos <a href=\"https://drive.google.com/file/d/1Ms2r2k6DscmL7ymRZp6bXk3Z-RWsqtjz/view?usp=sharing\">emisiones-2016.csv</a>, <a href=\"https://drive.google.com/file/d/1R5JLin8d2BhHFKSQhX2hP2bGPRCvR8Xj/view?usp=sharing\">emisiones-2017.csv</a>, <a href=\"https://drive.google.com/file/d/1qoB3OcPDUkerswT02uAvLshTT7J0qTWQ/view?usp=sharing\">emisiones-2018.csv</a> y <a href=\"https://drive.google.com/file/d/1pAbH8EwHm9KkUzyiy56auH0DvLT_DkAO/view?usp=sharing\">emisiones-2019.csv</a>, contienen datos sobre las emisiones contaminates en la Ciudad Autónoma de Buenos Aires en los años 2016, 2017, 2018 y 2019 respectivamente. Escribir un programa con los siguientes requisitos:\n",
    "<ol>\n",
    "<li>Generar un DataFrame con los datos de los cuatro archivos.</li>\n",
    "<li>Filtrar las columnas del DataFrame para quedarse con las columnas ESTACION, MAGNITUD, AÑO, MES y las correspondientes a los días D01, D02, etc.</li>\n",
    "<li>Reestructurar el DataFrame para que los valores de los contaminantes de las columnas de los días aparezcan en una única columna.</li>\n",
    "<li>Añadir una columna con la fecha a partir de la concatenación del año, el mes y el día (usar el módulo <font color=#B40431>datetime</font>).</li>\n",
    "<li>Eliminar las filas con fechas no válidas (utilizar la función <font color=#B40431>isnat</font> del módulo <font color=#B40431>numpy</font>) y ordenar el DataFrame por estaciones, contaminantes y fecha.</li>\n",
    "<li>Mostrar por pantalla las estaciones y los contaminantes disponibles en el DataFrame.</li>\n",
    "<li>Crear una función que reciba una estación, un contaminante y un rango de fechas y devuelva una serie con las emisiones del contaminante dado en la estación y rango de fechas dado.</li>\n",
    "<li>Mostrar un resumen descriptivo (mímino, máximo, media, etc) para cada contaminante.</li>\n",
    "<li>Mostrar un resumen descriptivo para cada contaminante por distritos.</li>\n",
    "<li>Crear una función que reciba una estación y un contaminante y devuelva un resumen descriptivo de las emisiones del contaminante indicado en la estadión indicada.</li>\n",
    "<li>Crear una función que devuelva las emisiones medias mensuales de un contaminante y un año dados para todos las estaciones.</li>\n",
    "<li>Crear un función que reciba una estación de medición y devuelva un DataFrame con las medias mensuales de los distintos tipos de contaminantes.</li>\n",
    "</ol>"
   ]
  },
  {
   "cell_type": "code",
   "execution_count": null,
   "metadata": {},
   "outputs": [],
   "source": []
  }
 ],
 "metadata": {
  "kernelspec": {
   "display_name": "Python 3",
   "language": "python",
   "name": "python3"
  },
  "language_info": {
   "codemirror_mode": {
    "name": "ipython",
    "version": 3
   },
   "file_extension": ".py",
   "mimetype": "text/x-python",
   "name": "python",
   "nbconvert_exporter": "python",
   "pygments_lexer": "ipython3",
   "version": "3.8.3"
  }
 },
 "nbformat": 4,
 "nbformat_minor": 2
}
