{
  "nbformat": 4,
  "nbformat_minor": 0,
  "metadata": {
    "kernelspec": {
      "display_name": "Python 3",
      "language": "python",
      "name": "python3"
    },
    "language_info": {
      "codemirror_mode": {
        "name": "ipython",
        "version": 3
      },
      "file_extension": ".py",
      "mimetype": "text/x-python",
      "name": "python",
      "nbconvert_exporter": "python",
      "pygments_lexer": "ipython3",
      "version": "3.6.9"
    },
    "colab": {
      "name": "Ejercicios-21-Bash.ipynb",
      "provenance": []
    }
  },
  "cells": [
    {
      "cell_type": "markdown",
      "metadata": {
        "id": "yDJ5h0hujuH1"
      },
      "source": [
        "## Ejercicios de Bash y Comandos en Linux"
      ]
    },
    {
      "cell_type": "markdown",
      "metadata": {
        "id": "QS-UthLojuH1"
      },
      "source": [
        "### Factorial\n",
        "\n",
        "Escribir una función `factorial(n)` que para cualquier número natural $n$ devuelve $n!$.\n"
      ]
    },
    {
      "cell_type": "code",
      "metadata": {
        "colab": {
          "base_uri": "https://localhost:8080/"
        },
        "id": "yE_dlJ6mjuH1",
        "outputId": "47c4a67e-92dc-48b9-a07e-8b2f79ca3af3"
      },
      "source": [
        "%%bash\n",
        "f() {\n",
        "  x=\"$1\"\n",
        "  var='y'\n",
        "  y=1\n",
        "  for ((i=1; i<x; i++)); do\n",
        "    y=$((y+y*i))\n",
        "  done\n",
        "  echo \"$y\"\n",
        "}\n",
        "\n",
        "echo \"$(f 5)\""
      ],
      "execution_count": null,
      "outputs": [
        {
          "output_type": "stream",
          "text": [
            "120\n"
          ],
          "name": "stdout"
        }
      ]
    },
    {
      "cell_type": "markdown",
      "metadata": {
        "id": "tBlRrr0EjuH2"
      },
      "source": [
        "### Parseo de cadenas\n",
        "\n",
        "Obtener todos los caracteres en posición par de la cadena H1e2l3l4o5w6o7r8l9d."
      ]
    },
    {
      "cell_type": "code",
      "metadata": {
        "colab": {
          "base_uri": "https://localhost:8080/"
        },
        "id": "ynhk6M55juH2",
        "outputId": "5dfe1f33-e6c2-4f35-fb5f-e9954f3dc2c1"
      },
      "source": [
        "%%bash\n",
        "var='cadena'\n",
        "cadena=\"H1e2l3l4o5w6o7r8l9d\"\n",
        "\n",
        "echo \"$cadena\" | sed s/[0-9]//g\n",
        "echo \"$cadena\" | sed s/[a-zA-Z]//g\n",
        "echo \"$cadena\" | awk -vFS= '{for (i = 0; i <= NF; i+=2) {printf $(i+1)\"\"}}'"
      ],
      "execution_count": 2,
      "outputs": [
        {
          "output_type": "stream",
          "text": [
            "Helloworld\n",
            "123456789\n",
            "Helloworld"
          ],
          "name": "stdout"
        }
      ]
    },
    {
      "cell_type": "markdown",
      "metadata": {
        "id": "8qSD6x17juH2"
      },
      "source": [
        "### Fechas con while loops\n",
        "\n",
        "Imprima, en un while loop, todas las fechas entre el 18 y 25 de mayo de este año. Ademas guarde en una lista (array) todas las fechas cuyo día del mes sea divisible por 3."
      ]
    },
    {
      "cell_type": "code",
      "metadata": {
        "colab": {
          "base_uri": "https://localhost:8080/"
        },
        "id": "xh3yHJ4gjuH2",
        "outputId": "fd92c632-a197-4358-ff34-fb6975ac9862"
      },
      "source": [
        "%%bash\n",
        "inicio=18\n",
        "final=25\n",
        "declare -a diasDivisiblesPor3=()\n",
        "\n",
        "while [ $final -ge $inicio ]  \n",
        "do\n",
        "  echo \"$inicio de mayo de 2020\"\n",
        "  if [[ $((inicio%3)) == 0 ]];\n",
        "  then\n",
        "    diasDivisiblesPor3=(${diasDivisiblesPor3[@]} $inicio)\n",
        "  fi\n",
        "  let inicio=$inicio+1\n",
        "done\n",
        "\n",
        "echo \"Dias divisibles por 3: ${diasDivisiblesPor3[*]}\""
      ],
      "execution_count": 4,
      "outputs": [
        {
          "output_type": "stream",
          "text": [
            "18 de mayo de 2020\n",
            "19 de mayo de 2020\n",
            "20 de mayo de 2020\n",
            "21 de mayo de 2020\n",
            "22 de mayo de 2020\n",
            "23 de mayo de 2020\n",
            "24 de mayo de 2020\n",
            "25 de mayo de 2020\n",
            "Dias divisibles por 3: 18 21 24\n"
          ],
          "name": "stdout"
        }
      ]
    },
    {
      "cell_type": "markdown",
      "metadata": {
        "id": "I8giAhzQjuH2"
      },
      "source": [
        "### Prompt con git branch\n",
        "\n",
        "PS1 es la variable de entorno que define el prompt. Modifique esta variable de entorno de forma tal que el prompt revele la siguiente información respetando el orden: user@host|working_dir|git branch>.\n",
        "\n",
        "Hint: hacer estos cambios en el archivo .bashrc.\n"
      ]
    },
    {
      "cell_type": "code",
      "metadata": {
        "id": "Ewq4oEvSjuH2"
      },
      "source": [
        "%%bash\n",
        "echo \"echo user@host|working_dir|git branch\" >> ~/.bashrc\n",
        "source ~/.bashrc"
      ],
      "execution_count": null,
      "outputs": []
    },
    {
      "cell_type": "markdown",
      "metadata": {
        "id": "e3Z4XA1VjuH2"
      },
      "source": [
        "### find y grep\n",
        "\n",
        "- Contar la cantidad de archivos python `*.py` que hay en tu home (o cualquier otro directorio que elijas).\n",
        "- Para todos estos archivos contar las cantidad de ocurrencias del keyword `for`."
      ]
    },
    {
      "cell_type": "code",
      "metadata": {
        "colab": {
          "base_uri": "https://localhost:8080/"
        },
        "id": "Te2OjM_cjuH2",
        "outputId": "5d7cf289-30d6-4743-d1e9-08d3f2dec625"
      },
      "source": [
        "%%bash\n",
        "cd Desktop\n",
        "find . -name '*.py'\n",
        "grep -o -i 'for' *.ipynb | wc -l"
      ],
      "execution_count": null,
      "outputs": [
        {
          "output_type": "stream",
          "text": [
            "0\n"
          ],
          "name": "stdout"
        },
        {
          "output_type": "stream",
          "text": [
            "bash: line 1: cd: Desktop: No such file or directory\n",
            "grep: *.ipynb: No such file or directory\n"
          ],
          "name": "stderr"
        }
      ]
    },
    {
      "cell_type": "markdown",
      "metadata": {
        "id": "j1A2wCgoqDtI"
      },
      "source": [
        "##CALCULADORA\n"
      ]
    },
    {
      "cell_type": "code",
      "metadata": {
        "colab": {
          "base_uri": "https://localhost:8080/"
        },
        "id": "SsduLK_tqLjJ",
        "outputId": "8243f112-5a55-4c77-8efc-f023d1583116"
      },
      "source": [
        "%%bash\n",
        "\n",
        "calculadora() {\n",
        "  echo \"Bienvenido a la calculadora\"\n",
        "  echo \" \"\n",
        "  echo \"Los parametros validos de operacion son los siguientes:\"\n",
        "  echo \"Suma (S) / Resto (R) / Multiplicacion (M) / Division (D)\"\n",
        "  echo \" \"\n",
        "  echo \"Su resultado es:\"\n",
        "  n1=\"$1\"\n",
        "  n2=\"$2\"\n",
        "  decision=\"$3\"\n",
        "\n",
        "  if [[ $decision == 'S' ]];\n",
        "  then\n",
        "    echo \"$((n1+n2))\"\n",
        "  elif [[ $decision == 'R' ]];\n",
        "  then\n",
        "    echo \"$((n1-n2))\"\n",
        "  elif [[ $decision == 'M' ]];\n",
        "  then\n",
        "    echo \"$((n1*n2))\"\n",
        "  elif [[ $decision == 'D' ]];\n",
        "  then\n",
        "    if [[ $n2 == 0 ]];\n",
        "    then\n",
        "      echo \"No se puede dividir por cero\"\n",
        "    else\n",
        "      echo \"$((n1/n2))\"\n",
        "    fi\n",
        "  else\n",
        "    echo \"El parametro de operacion no es valido, ingrese S, R, M o D\"\n",
        "  fi\n",
        "}\n",
        "\n",
        "echo \"$(calculadora 4 9 'M')\""
      ],
      "execution_count": 22,
      "outputs": [
        {
          "output_type": "stream",
          "text": [
            "Bienvenido a la calculadora\n",
            " \n",
            "Los parametros validos de operacion son los siguientes:\n",
            "Suma (S) / Resto (R) / Multiplicacion (M) / Division (D)\n",
            " \n",
            "Su resultado es:\n",
            "36\n"
          ],
          "name": "stdout"
        }
      ]
    }
  ]
}