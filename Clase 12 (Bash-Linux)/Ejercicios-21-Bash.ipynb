{
 "cells": [
  {
   "cell_type": "markdown",
   "metadata": {},
   "source": [
    "## Ejercicios de Bash y Comandos en Linux"
   ]
  },
  {
   "cell_type": "markdown",
   "metadata": {},
   "source": [
    "### Factorial\n",
    "\n",
    "Escribir una función `factorial(n)` que para cualquier número natural $n$ devuelve $n!$."
   ]
  },
  {
   "cell_type": "code",
   "execution_count": null,
   "metadata": {},
   "outputs": [],
   "source": []
  },
  {
   "cell_type": "markdown",
   "metadata": {},
   "source": [
    "### Parseo de cadenas\n",
    "\n",
    "Obtener todos los caracteres en posición par de la cadena H1e2l3l4o5w6o7r8l9d."
   ]
  },
  {
   "cell_type": "code",
   "execution_count": null,
   "metadata": {},
   "outputs": [],
   "source": []
  },
  {
   "cell_type": "markdown",
   "metadata": {},
   "source": [
    "### Fechas con while loops\n",
    "\n",
    "Imprima, en un while loop, todas las fechas entre el 18 y 25 de mayo de este año. Ademas guarde en una lista (array) todas las fechas cuyo día del mes sea divisible por 3."
   ]
  },
  {
   "cell_type": "code",
   "execution_count": null,
   "metadata": {},
   "outputs": [],
   "source": []
  },
  {
   "cell_type": "markdown",
   "metadata": {},
   "source": [
    "### Prompt con git branch\n",
    "\n",
    "PS1 es la variable de entorno que define el prompt. Modifique esta variable de entorno de forma tal que el prompt revele la siguiente información respetando el orden: user@host|working_dir|git branch>.\n",
    "\n",
    "Hint: hacer estos cambios en el archivo .bashrc.\n"
   ]
  },
  {
   "cell_type": "code",
   "execution_count": null,
   "metadata": {},
   "outputs": [],
   "source": []
  },
  {
   "cell_type": "markdown",
   "metadata": {},
   "source": [
    "### find y grep\n",
    "\n",
    "- Contar la cantidad de archivos python `*.py` que hay en tu home (o cualquier otro directorio que elijas).\n",
    "- Para todos estos archivos contar las cantidad de ocurrencias del keyword `for`."
   ]
  },
  {
   "cell_type": "code",
   "execution_count": null,
   "metadata": {},
   "outputs": [],
   "source": []
  }
 ],
 "metadata": {
  "kernelspec": {
   "display_name": "Python 3",
   "language": "python",
   "name": "python3"
  },
  "language_info": {
   "codemirror_mode": {
    "name": "ipython",
    "version": 3
   },
   "file_extension": ".py",
   "mimetype": "text/x-python",
   "name": "python",
   "nbconvert_exporter": "python",
   "pygments_lexer": "ipython3",
   "version": "3.6.9"
  }
 },
 "nbformat": 4,
 "nbformat_minor": 2
}
