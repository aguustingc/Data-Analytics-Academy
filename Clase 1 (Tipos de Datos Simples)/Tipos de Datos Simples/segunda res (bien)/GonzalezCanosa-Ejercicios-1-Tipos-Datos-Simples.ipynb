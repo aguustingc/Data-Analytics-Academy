{
 "cells": [
  {
   "cell_type": "markdown",
   "metadata": {
    "id": "Md4gVEpkSEcH"
   },
   "source": [
    "# Ejercicios de Tipos de Datos Simples"
   ]
  },
  {
   "cell_type": "markdown",
   "metadata": {
    "id": "LpoIzMtZSEct"
   },
   "source": [
    "## Ejercicio 1"
   ]
  },
  {
   "cell_type": "markdown",
   "metadata": {
    "id": "4__wPyv8SEc2"
   },
   "source": [
    "Escribir un programa que muestre por pantalla la cadena <font color=#B40431>¡Hola Mundo!</font>"
   ]
  },
  {
   "cell_type": "code",
   "execution_count": null,
   "metadata": {
    "id": "kedolqYESEc8"
   },
   "outputs": [],
   "source": [
    "print('¡Hola Mundo!')"
   ]
  },
  {
   "cell_type": "markdown",
   "metadata": {
    "id": "sAnEx4InSEdw"
   },
   "source": [
    "## Ejercicio 2"
   ]
  },
  {
   "cell_type": "markdown",
   "metadata": {
    "id": "mKxXMBngSEd5"
   },
   "source": [
    "Escribir un programa que almacene la cadena <font color=#B40431>¡Hola Mundo!</font> en una variable y luego muestre por pantalla el contenido de la variable."
   ]
  },
  {
   "cell_type": "code",
   "execution_count": null,
   "metadata": {
    "id": "xr4zsDw5SEd9"
   },
   "outputs": [],
   "source": [
    "cadena = 'Hola Mundo'\n",
    "print(cadena)"
   ]
  },
  {
   "cell_type": "markdown",
   "metadata": {
    "id": "J196nwyzSEfE"
   },
   "source": [
    "## Ejercicio 3"
   ]
  },
  {
   "cell_type": "markdown",
   "metadata": {
    "id": "K9NHrNgqSEfh"
   },
   "source": [
    "Escribir un programa que pregunte el nombre del usuario en la consola y después de que el usuario lo introduzca muestre por pantalla la cadena <font color=#B40431>¡Hola &#60;nombre&#62;!</font>, donde <font color=#B40431>&#60;nombre&#62;</font> es el nombre que el usuario haya introducido."
   ]
  },
  {
   "cell_type": "code",
   "execution_count": 1,
   "metadata": {
    "colab": {
     "base_uri": "https://localhost:8080/"
    },
    "id": "5dFwRv6HSEfr",
    "outputId": "a271593c-8af1-49df-9354-5d67c6fce606"
   },
   "outputs": [
    {
     "name": "stdout",
     "output_type": "stream",
     "text": [
      "Ingrese nombre de usuario: aguustingc\n",
      "¡Hola  aguustingc !\n"
     ]
    }
   ],
   "source": [
    "nombreUsuario = input(\"Ingrese nombre de usuario: \")\n",
    "print(\"¡Hola \", nombreUsuario, \"!\")"
   ]
  },
  {
   "cell_type": "markdown",
   "metadata": {
    "id": "_5myoHjiSEgE"
   },
   "source": [
    "## Ejercicio 4"
   ]
  },
  {
   "cell_type": "markdown",
   "metadata": {
    "id": "7TFot3CjSEgM"
   },
   "source": [
    "Escribir un programa que pregunte el nombre del usuario en la consola y un número entero e imprima por pantalla en líneas distintas el nombre del usuario tantas veces como el número introducido."
   ]
  },
  {
   "cell_type": "code",
   "execution_count": 2,
   "metadata": {
    "colab": {
     "base_uri": "https://localhost:8080/"
    },
    "id": "aIXE7p1OSEgR",
    "outputId": "71382110-b6a2-44e0-ad09-0470f7ec7778"
   },
   "outputs": [
    {
     "name": "stdout",
     "output_type": "stream",
     "text": [
      "Ingrese nombre de usuario:aguustingc\n",
      "Ingrese cantidad de veces que quiere que se imprima su usuario3\n",
      "aguustingc\n",
      "aguustingc\n",
      "aguustingc\n",
      "\n"
     ]
    }
   ],
   "source": [
    "nombreUsuario = input(\"Ingrese nombre de usuario:\")\n",
    "n = int(input(\"Ingrese cantidad de veces que quiere que se imprima su usuario\"))\n",
    "\n",
    "print((nombreUsuario + \"\\n\") * n)"
   ]
  },
  {
   "cell_type": "markdown",
   "metadata": {
    "id": "14o_TZ9_SEgt"
   },
   "source": [
    "## Ejercicio 5"
   ]
  },
  {
   "cell_type": "markdown",
   "metadata": {
    "id": "Yid69b-JSEg_"
   },
   "source": [
    "Escribir un programa que pregunte el nombre del usuario en la consola y después de que el usuario lo introduzca muestre por pantalla <font color=#B40431>&#60;NOMBRE&#62; tiene &#60;n&#62; letras</font>, donde <font color=#B40431>&#60;NOMBRE&#62;</font> es el nombre de usuario en mayúsculas y <font color=#B40431>&#60;n&#62;</font> es el número de letras que tienen el nombre."
   ]
  },
  {
   "cell_type": "code",
   "execution_count": 3,
   "metadata": {
    "colab": {
     "base_uri": "https://localhost:8080/"
    },
    "id": "cTwxML7bSEhI",
    "outputId": "51b4ca12-e425-457c-f9c5-554531a77ef1"
   },
   "outputs": [
    {
     "name": "stdout",
     "output_type": "stream",
     "text": [
      "Ingrese nombre de usuario:Hola\n",
      "Hola  tiene  4  letras\n"
     ]
    }
   ],
   "source": [
    "nombreUsuario = input(\"Ingrese nombre de usuario:\")\n",
    "\n",
    "print(nombreUsuario, \" tiene \", len(nombreUsuario), \" letras\")"
   ]
  },
  {
   "cell_type": "markdown",
   "metadata": {
    "id": "4wCwWXGYSEiT"
   },
   "source": [
    "## Ejercicio 6"
   ]
  },
  {
   "cell_type": "markdown",
   "metadata": {
    "id": "oU2dP7L_SEia"
   },
   "source": [
    "Escribir un programa que realice la siguiente operación aritmética $\\left(\\frac{3+2}{2\\cdot 5}\\right)^2$"
   ]
  },
  {
   "cell_type": "code",
   "execution_count": 11,
   "metadata": {
    "colab": {
     "base_uri": "https://localhost:8080/"
    },
    "id": "CDPiZrMoSEil",
    "outputId": "c72a2e49-8704-4062-cd25-2c73a4500c17"
   },
   "outputs": [
    {
     "name": "stdout",
     "output_type": "stream",
     "text": [
      "2.777777777777778\n"
     ]
    }
   ],
   "source": [
    "resultado = ((3+2)/(2*5))**2\n",
    "print(resultado)"
   ]
  },
  {
   "cell_type": "markdown",
   "metadata": {
    "id": "b4QP4aYxSEjb"
   },
   "source": [
    "## Ejercicio 7"
   ]
  },
  {
   "cell_type": "markdown",
   "metadata": {
    "id": "jXfFwOyHSEju"
   },
   "source": [
    "Escribir un programa que pregunte al usuario por el número de horas trabajadas y el costo por hora. Después debe mostrar por pantalla el sueldo que le corresponde."
   ]
  },
  {
   "cell_type": "code",
   "execution_count": 13,
   "metadata": {
    "colab": {
     "base_uri": "https://localhost:8080/"
    },
    "id": "CCvy5gOJSEj0",
    "outputId": "d4a80edb-4ad2-47d6-dc17-552eaac97fbc"
   },
   "outputs": [
    {
     "name": "stdout",
     "output_type": "stream",
     "text": [
      "Ingrese numero de horas trabajadas: 2\n",
      "Ingrese el costo por hora: 8\n",
      "Su sueldo correspondiente es 16\n"
     ]
    }
   ],
   "source": [
    "hsTrabajadas = int(input(\"Ingrese numero de horas trabajadas: \"))\n",
    "costoHora = int(input(\"Ingrese el costo por hora: \"))\n",
    "\n",
    "print(\"Su sueldo correspondiente es\", hsTrabajadas*costoHora)"
   ]
  },
  {
   "cell_type": "markdown",
   "metadata": {
    "id": "cFw4dO3SSEk-"
   },
   "source": [
    "## Ejercicio 8"
   ]
  },
  {
   "cell_type": "markdown",
   "metadata": {
    "id": "OKZHrKRtSElS"
   },
   "source": [
    "Escribir un programa que lea un entero positivo, $n$, introducido por el usuario y después muestre en pantalla la suma de todos los enteros desde 1 hasta $n$. La suma de los $n$ primeros enteros positivos puede ser calculada de la siguiente forma: $ \\mbox{suma} = \\frac{n(n+1)}{2} $"
   ]
  },
  {
   "cell_type": "code",
   "execution_count": 15,
   "metadata": {
    "colab": {
     "base_uri": "https://localhost:8080/"
    },
    "id": "lNNfcUgBSElg",
    "outputId": "17e34f4b-3f33-4eb0-845e-42f1a156f988"
   },
   "outputs": [
    {
     "name": "stdout",
     "output_type": "stream",
     "text": [
      "Ingrese un valor: 3\n",
      "Los n primeros enteros positivos son:  6.0\n"
     ]
    }
   ],
   "source": [
    "n = int(input(\"Ingrese un valor: \"))\n",
    "nEnterosPositivos = lambda x: (x*(x+1))/2\n",
    "\n",
    "print(\"Los n primeros enteros positivos son: \", nEnterosPositivos(n))"
   ]
  },
  {
   "cell_type": "markdown",
   "metadata": {
    "id": "lto_HAPDSEmp"
   },
   "source": [
    "## Ejercicio 9"
   ]
  },
  {
   "cell_type": "markdown",
   "metadata": {
    "id": "0nTe4ugjSEmv"
   },
   "source": [
    "Escribir un programa que pida al usuario su peso (en kg) y estatura (en metros), calcule el índice de masa corporal y lo almacene en una variable, y muestre por pantalla la frase <font color=#B40431>\"Tu índice de masa corporal es\"&#60;imc&#62;</font> donde <font color=#B40431>&#60;imc&#62;</font> es el índice de masa corporal calculado redondeado con dos decimales."
   ]
  },
  {
   "cell_type": "code",
   "execution_count": 19,
   "metadata": {
    "colab": {
     "base_uri": "https://localhost:8080/"
    },
    "id": "EiTkGTZFSEmz",
    "outputId": "88adb8f7-23f6-450a-fef4-09de1a84e1f2",
    "scrolled": true
   },
   "outputs": [
    {
     "name": "stdout",
     "output_type": "stream",
     "text": [
      "Ingrese su peso: 72\n",
      "Ingrese su estatura: 1.72\n",
      "Tu indice de masa corporal es:  24.34\n"
     ]
    }
   ],
   "source": [
    "peso = float(input(\"Ingrese su peso: \"))\n",
    "estatura = float(input(\"Ingrese su estatura: \"))\n",
    "\n",
    "indiceMC = peso/(estatura**2)\n",
    "\n",
    "print(\"Tu indice de masa corporal es: \", round(indiceMC, 2))"
   ]
  },
  {
   "cell_type": "markdown",
   "metadata": {
    "id": "raXX0YN-SEny"
   },
   "source": [
    "## Ejercicio 10"
   ]
  },
  {
   "cell_type": "markdown",
   "metadata": {
    "id": "cJmRBVmUSEn6"
   },
   "source": [
    "Escribir un programa que pida al usuario dos números enteros y muestre por pantalla la <font color=#B40431>&#60;n&#62;</font> entre <font color=#B40431>&#60;m&#62;</font> da un cociente <font color=#B40431>&#60;c&#62;</font> y un resto <font color=#B40431>&#60;r&#62;</font> donde <font color=#B40431>&#60;n&#62;</font> y <font color=#B40431>&#60;m&#62;</font> son los números introducidos por el usuario, y <font color=#B40431>&#60;c&#62;</font> y <font color=#B40431>&#60;r&#62;</font> son el cociente y el resto de la división entera respectivamente."
   ]
  },
  {
   "cell_type": "code",
   "execution_count": 22,
   "metadata": {
    "colab": {
     "base_uri": "https://localhost:8080/"
    },
    "id": "L085eUv8SEoA",
    "outputId": "b19fbcce-3e9e-4035-830d-7525195e8741"
   },
   "outputs": [
    {
     "name": "stdout",
     "output_type": "stream",
     "text": [
      "Ingrese un numero entero: 5.18\n",
      "Ingrese un numero entero: 1.14\n",
      "Cociente:  4.543859649122807 \n",
      "Resto:  0.6200000000000001\n"
     ]
    }
   ],
   "source": [
    "x = float(input(\"Ingrese un numero entero: \"))\n",
    "y = float(input(\"Ingrese un numero entero: \"))\n",
    "\n",
    "cociente = x/y\n",
    "resto = x%y\n",
    "\n",
    "print(\"Cociente: \", cociente, \"\\nResto: \", resto)"
   ]
  },
  {
   "cell_type": "markdown",
   "metadata": {
    "id": "34KhA5ZrSEom"
   },
   "source": [
    "## Ejercicio 11"
   ]
  },
  {
   "cell_type": "markdown",
   "metadata": {
    "id": "L6q241LmSEov"
   },
   "source": [
    "Escribir un programa que pregunte al usuario una cantidad a invertir, el interés anual y el número de años, y muestre por pantalla el capital obtenido en la inversión."
   ]
  },
  {
   "cell_type": "code",
   "execution_count": 35,
   "metadata": {
    "colab": {
     "base_uri": "https://localhost:8080/"
    },
    "id": "xWtKRxmmSEo5",
    "outputId": "f586041e-ab9c-4da9-9e37-27de2a5107cc"
   },
   "outputs": [
    {
     "name": "stdout",
     "output_type": "stream",
     "text": [
      "Ingrese cantidad a invertir: 100\n",
      "Ingrese interes anual: 0.2\n",
      "Ingrese numero de años: 2\n",
      "La inversion total en los  2  años es de:  144.0\n"
     ]
    }
   ],
   "source": [
    "inversion = float(input(\"Ingrese cantidad a invertir: \"))\n",
    "intAnual = float(input(\"Ingrese interes anual: \"))\n",
    "anios= int(input(\"Ingrese numero de años: \"))\n",
    "\n",
    "inversionTotal = inversion\n",
    "\n",
    "for i in range(anios):\n",
    "  inversionTotal = inversionTotal*(1+intAnual)\n",
    "\n",
    "print(\"La inversion total en los \", anios, \" años es de: \", inversionTotal)"
   ]
  },
  {
   "cell_type": "markdown",
   "metadata": {
    "id": "tuyh8eTuSEpX"
   },
   "source": [
    "## Ejercicio 12"
   ]
  },
  {
   "cell_type": "markdown",
   "metadata": {
    "id": "-LDWFFZjSEpe"
   },
   "source": [
    "Una juguetería tiene mucho éxito en dos de sus productos: payasos y muñecas. Suele hacer venta por correo y la empresa de logística les cobra por peso de cada paquete así que deben calcular el peso de los payasos y muñecas que saldrán en cada paquete a demanda. Cada payaso pesa 112 g y cada muñeca 75 g. Escribir un programa que lea el número de payasos y muñecas vendidos en el último pedido y calcule el peso total del paquete que será enviado."
   ]
  },
  {
   "cell_type": "code",
   "execution_count": 23,
   "metadata": {
    "colab": {
     "base_uri": "https://localhost:8080/"
    },
    "id": "eIzY1om4SEpk",
    "outputId": "4ffc4e28-d529-4aa4-e528-7c6a299e431b"
   },
   "outputs": [
    {
     "name": "stdout",
     "output_type": "stream",
     "text": [
      "Ingrese cantidad de payasos: 1\n",
      "Ingrese cantidad de muñecas: 1\n",
      "El peso total del envio es:  187\n"
     ]
    }
   ],
   "source": [
    "cantPayasos = int(input(\"Ingrese cantidad de payasos: \"))\n",
    "cantMuniecas = int(input(\"Ingrese cantidad de muñecas: \"))\n",
    "\n",
    "pesoPayaso = 112\n",
    "pesoMunieca = 75\n",
    "\n",
    "pesoTotal = cantPayasos*pesoPayaso + cantMuniecas*pesoMunieca\n",
    "\n",
    "print(\"El peso total del envio es: \", pesoTotal)"
   ]
  },
  {
   "cell_type": "markdown",
   "metadata": {
    "id": "X47s-G_DSEqS"
   },
   "source": [
    "## Ejercicio 13"
   ]
  },
  {
   "cell_type": "markdown",
   "metadata": {
    "id": "XAEJWID2SEqb"
   },
   "source": [
    "Imagina que acabas de abrir una nueva cuenta de ahorros que te ofrece el 20 &#37; de interés al año. Estos ahorros debido a intereses, que no se cobran hasta finales de año, se te añaden al balance final de tu cuenta de ahorros. Escribir un programa que comience leyendo la cantidad de dinero depositada en la cuenta de ahorros, introducida por el usuario. Después el programa debe calcular y mostrar por pantalla la cantidad de ahorros tras el primer, segundo y tercer años. Redondear cada cantidad a dos decimales."
   ]
  },
  {
   "cell_type": "code",
   "execution_count": 25,
   "metadata": {
    "colab": {
     "base_uri": "https://localhost:8080/"
    },
    "id": "x4UIqdh1SEqn",
    "outputId": "db901a71-a88f-4ac6-8eb5-78872e712599"
   },
   "outputs": [
    {
     "name": "stdout",
     "output_type": "stream",
     "text": [
      "Ingrese cantidad inicial de dinero: 100\n",
      "El primer año, gracias a los intereses, tendra un total de:  120.0\n",
      "El segundo año, gracias a los intereses, tendra un total de:  264.0\n",
      "El primer año, gracias a los intereses, tendra un total de:  580.8\n"
     ]
    }
   ],
   "source": [
    "cantInicial = float(input(\"Ingrese cantidad inicial de dinero: \"))\n",
    "\n",
    "interesAnual = 1.2\n",
    "\n",
    "primerAnio = cantInicial*interesAnual\n",
    "segundoAnio = primerAnio*interesAnual\n",
    "tercerAnio = segundoAnio*interesAnual\n",
    "\n",
    "print(\"El primer año, gracias a los intereses, tendra un total de: \", round(primerAnio,2))\n",
    "print(\"El segundo año, gracias a los intereses, tendra un total de: \", round(segundoAnio,2))\n",
    "print(\"El primer año, gracias a los intereses, tendra un total de: \", round(tercerAnio,2))"
   ]
  },
  {
   "cell_type": "markdown",
   "metadata": {
    "id": "72qlc1ZUSErC"
   },
   "source": [
    "## Ejercicio 14"
   ]
  },
  {
   "cell_type": "markdown",
   "metadata": {
    "id": "EthQPavUSErK"
   },
   "source": [
    "Una panadería vende tiras de pan a 50 \\$ cada una. El pan que no es el día tiene un descuento del 40 &#37; Escribir un programa que comience leyendo el número de tiras vendidas que no son del día. Después el programa debe mostrar el precio habitual de una tira de pan, el descuento que se le hace por no ser fresca y el costo final total."
   ]
  },
  {
   "cell_type": "code",
   "execution_count": 36,
   "metadata": {
    "colab": {
     "base_uri": "https://localhost:8080/"
    },
    "id": "0ZGqyXNYSErc",
    "outputId": "b26ed7ed-7585-43cf-fd3e-a9953e1b3273"
   },
   "outputs": [
    {
     "name": "stdout",
     "output_type": "stream",
     "text": [
      "Ingrese cantidad de tiras de pan que no son del dia vendidas: 2\n",
      "El precio de la tira de pan es:  50 \n",
      "Usted recibira un descuento de un 40% ya que el pan no es de hoy\n",
      "Su costo total es:  60.0\n"
     ]
    }
   ],
   "source": [
    "precioTiraPan = 50\n",
    "descuento = 0.4\n",
    "\n",
    "tiraPanNoDia = int(input(\"Ingrese cantidad de tiras de pan que no son del dia vendidas: \"))\n",
    "\n",
    "print(\"El precio de la tira de pan es: \", precioTiraPan, \"\\nUsted recibira un descuento de un 40% ya que el pan no es de hoy\")\n",
    "print(\"Su costo total es: \", tiraPanNoDia*precioTiraPan*(1-descuento))\n",
    "\n"
   ]
  }
 ],
 "metadata": {
  "celltoolbar": "Raw Cell Format",
  "colab": {
   "collapsed_sections": [],
   "name": "Ejercicios-1-TiposDatosSimples.ipynb",
   "provenance": []
  },
  "kernelspec": {
   "display_name": "Python 3",
   "language": "python",
   "name": "python3"
  },
  "language_info": {
   "codemirror_mode": {
    "name": "ipython",
    "version": 3
   },
   "file_extension": ".py",
   "mimetype": "text/x-python",
   "name": "python",
   "nbconvert_exporter": "python",
   "pygments_lexer": "ipython3",
   "version": "3.8.3"
  }
 },
 "nbformat": 4,
 "nbformat_minor": 1
}
