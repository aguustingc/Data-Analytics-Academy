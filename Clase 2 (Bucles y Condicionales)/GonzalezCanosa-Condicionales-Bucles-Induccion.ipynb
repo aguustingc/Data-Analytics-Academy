{
 "cells": [
  {
   "cell_type": "markdown",
   "metadata": {},
   "source": [
    "CONDICIONALES"
   ]
  },
  {
   "cell_type": "code",
   "execution_count": 1,
   "metadata": {},
   "outputs": [
    {
     "name": "stdout",
     "output_type": "stream",
     "text": [
      "Menor\n"
     ]
    }
   ],
   "source": [
    "edad=14\n",
    "if edad <= 18:\n",
    "    print(\"Menor\")\n",
    "elif edad > 65:\n",
    "    print(\"Jubilado\")\n",
    "else:\n",
    "    print(\"Activo\")"
   ]
  },
  {
   "cell_type": "code",
   "execution_count": 2,
   "metadata": {},
   "outputs": [
    {
     "name": "stdout",
     "output_type": "stream",
     "text": [
      "Activo\n"
     ]
    }
   ],
   "source": [
    "edad=20\n",
    "if edad <= 18:\n",
    "    print(\"Menor\")\n",
    "elif edad > 65:\n",
    "    print(\"Jubilado\")\n",
    "else:\n",
    "    print(\"Activo\")"
   ]
  },
  {
   "cell_type": "markdown",
   "metadata": {},
   "source": [
    "BUCLES"
   ]
  },
  {
   "cell_type": "code",
   "execution_count": 3,
   "metadata": {},
   "outputs": [
    {
     "name": "stdout",
     "output_type": "stream",
     "text": [
      "Introduce un numero: 2\n",
      "Introduce un numero: 1\n",
      "Introduce un numero: 0\n"
     ]
    }
   ],
   "source": [
    "num=None\n",
    "\n",
    "while num!=0:\n",
    "    num=int(input(\"Introduce un numero: \"))"
   ]
  },
  {
   "cell_type": "code",
   "execution_count": 4,
   "metadata": {},
   "outputs": [
    {
     "name": "stdout",
     "output_type": "stream",
     "text": [
      "Introduce un numero: 2\n",
      "Introduce un numero: 1\n",
      "Introduce un numero: 0\n"
     ]
    }
   ],
   "source": [
    "while True:\n",
    "    num=int(input(\"Introduce un numero: \"))\n",
    "    if num == 0:\n",
    "        break"
   ]
  },
  {
   "cell_type": "code",
   "execution_count": 8,
   "metadata": {
    "scrolled": true
   },
   "outputs": [
    {
     "name": "stdout",
     "output_type": "stream",
     "text": [
      "P\n",
      "y\n",
      "t\n",
      "h\n",
      "o\n",
      "n\n"
     ]
    }
   ],
   "source": [
    "palabra = \"Python\"\n",
    "for letra in palabra:\n",
    "    print(letra)"
   ]
  },
  {
   "cell_type": "code",
   "execution_count": null,
   "metadata": {},
   "outputs": [],
   "source": []
  }
 ],
 "metadata": {
  "kernelspec": {
   "display_name": "Python 3",
   "language": "python",
   "name": "python3"
  },
  "language_info": {
   "codemirror_mode": {
    "name": "ipython",
    "version": 3
   },
   "file_extension": ".py",
   "mimetype": "text/x-python",
   "name": "python",
   "nbconvert_exporter": "python",
   "pygments_lexer": "ipython3",
   "version": "3.8.3"
  }
 },
 "nbformat": 4,
 "nbformat_minor": 4
}
