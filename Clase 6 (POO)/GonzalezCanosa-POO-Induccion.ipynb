{
 "cells": [
  {
   "cell_type": "code",
   "execution_count": 1,
   "metadata": {},
   "outputs": [
    {
     "name": "stdout",
     "output_type": "stream",
     "text": [
      "<class 'str'>\n"
     ]
    }
   ],
   "source": [
    "leng = \"Python\"\n",
    "print(type(leng))"
   ]
  },
  {
   "cell_type": "code",
   "execution_count": 2,
   "metadata": {},
   "outputs": [
    {
     "name": "stdout",
     "output_type": "stream",
     "text": [
      "<class 'list'>\n"
     ]
    }
   ],
   "source": [
    "lista = [1,2,3,4]\n",
    "print(type(lista))"
   ]
  },
  {
   "cell_type": "code",
   "execution_count": 3,
   "metadata": {},
   "outputs": [],
   "source": [
    "class NombreClase:\n",
    "    varclase1 = \"Variable de clase 1\"\n",
    "    \n",
    "    def nombreMetodo1(self, var1):\n",
    "        self.varclase1 = var1\n",
    "\n",
    "    def nombreMetodo2(self):\n",
    "        self.var1 += 1"
   ]
  },
  {
   "cell_type": "code",
   "execution_count": 4,
   "metadata": {},
   "outputs": [
    {
     "name": "stdout",
     "output_type": "stream",
     "text": [
      "False\n"
     ]
    }
   ],
   "source": [
    "objeto1 = NombreClase()\n",
    "objeto2 = NombreClase()\n",
    "\n",
    "print(objeto1 == objeto2)"
   ]
  },
  {
   "cell_type": "code",
   "execution_count": 5,
   "metadata": {},
   "outputs": [],
   "source": [
    "class Alumno :\n",
    "    'Clase para alumnos'\n",
    "    numalumnos = 0\n",
    "    sumanotas = 0\n",
    "    def __init__(self, nombre , nota ):\n",
    "        self.nombre = nombre\n",
    "        self.nota = nota\n",
    "        Alumno.numalumnos += 1\n",
    "        Alumno.sumanotas += nota\n",
    "    def mostrarNombreNota(self):\n",
    "        return(self.nombre, self.nota )\n",
    "    def mostrarNumAlumnos(self) :\n",
    "        return(Alumno.numalumnos )\n",
    "    def mostrarSumaNotas(self) :\n",
    "        return(Alumno.sumanotas )\n",
    "    def mostrarNotaMedia(self) :\n",
    "        if Alumno.numalumnos>0:\n",
    "            return(Alumno.sumanotas/Alumno.numalumnos)\n",
    "        else:\n",
    "            return( \" Sin alumnos \" )"
   ]
  },
  {
   "cell_type": "code",
   "execution_count": 8,
   "metadata": {},
   "outputs": [],
   "source": [
    "alumno1 = Alumno(\"Maria\", 8)\n",
    "alumno2 = Alumno(\"Carlos\", 6)"
   ]
  },
  {
   "cell_type": "code",
   "execution_count": 10,
   "metadata": {},
   "outputs": [
    {
     "data": {
      "text/plain": [
       "('Maria', 8)"
      ]
     },
     "execution_count": 10,
     "metadata": {},
     "output_type": "execute_result"
    }
   ],
   "source": [
    "alumno1.nombre, alumno1.nota"
   ]
  },
  {
   "cell_type": "code",
   "execution_count": 13,
   "metadata": {},
   "outputs": [
    {
     "data": {
      "text/plain": [
       "'Agustin'"
      ]
     },
     "execution_count": 13,
     "metadata": {},
     "output_type": "execute_result"
    }
   ],
   "source": [
    "alumno1.nombre = \"Agustin\"\n",
    "alumno1.nombre"
   ]
  },
  {
   "cell_type": "code",
   "execution_count": 15,
   "metadata": {},
   "outputs": [
    {
     "name": "stdout",
     "output_type": "stream",
     "text": [
      "6\n",
      "42\n"
     ]
    }
   ],
   "source": [
    "print(Alumno.numalumnos)\n",
    "print(Alumno.sumanotas)"
   ]
  },
  {
   "cell_type": "code",
   "execution_count": 17,
   "metadata": {},
   "outputs": [
    {
     "name": "stdout",
     "output_type": "stream",
     "text": [
      "('Agustin', 8)\n"
     ]
    }
   ],
   "source": [
    "print(alumno1.mostrarNombreNota())"
   ]
  },
  {
   "cell_type": "code",
   "execution_count": 20,
   "metadata": {},
   "outputs": [
    {
     "ename": "AttributeError",
     "evalue": "nombre",
     "output_type": "error",
     "traceback": [
      "\u001b[1;31m---------------------------------------------------------------------------\u001b[0m",
      "\u001b[1;31mAttributeError\u001b[0m                            Traceback (most recent call last)",
      "\u001b[1;32m<ipython-input-20-b3aacf0a9300>\u001b[0m in \u001b[0;36m<module>\u001b[1;34m\u001b[0m\n\u001b[1;32m----> 1\u001b[1;33m \u001b[1;32mdel\u001b[0m \u001b[0malumno1\u001b[0m\u001b[1;33m.\u001b[0m\u001b[0mnombre\u001b[0m\u001b[1;33m\u001b[0m\u001b[1;33m\u001b[0m\u001b[0m\n\u001b[0m\u001b[0;32m      2\u001b[0m \u001b[1;31m#print(alumno1.mostrarNombreNota())\u001b[0m\u001b[1;33m\u001b[0m\u001b[1;33m\u001b[0m\u001b[1;33m\u001b[0m\u001b[0m\n\u001b[0;32m      3\u001b[0m \u001b[0mprint\u001b[0m\u001b[1;33m(\u001b[0m\u001b[0malumno1\u001b[0m\u001b[1;33m.\u001b[0m\u001b[0mnombre\u001b[0m\u001b[1;33m)\u001b[0m\u001b[1;33m\u001b[0m\u001b[1;33m\u001b[0m\u001b[0m\n",
      "\u001b[1;31mAttributeError\u001b[0m: nombre"
     ]
    }
   ],
   "source": [
    "del alumno1.nombre\n",
    "print(alumno1.mostrarNombreNota())"
   ]
  },
  {
   "cell_type": "code",
   "execution_count": 24,
   "metadata": {},
   "outputs": [
    {
     "name": "stdout",
     "output_type": "stream",
     "text": [
      "6\n",
      "6\n"
     ]
    }
   ],
   "source": [
    "notaAlumno2 = getattr(alumno2, 'nota', 0)\n",
    "print(notaAlumno2)\n",
    "print(alumno2.nota)"
   ]
  },
  {
   "cell_type": "code",
   "execution_count": 26,
   "metadata": {},
   "outputs": [
    {
     "name": "stdout",
     "output_type": "stream",
     "text": [
      "El atributo edad no existe\n"
     ]
    }
   ],
   "source": [
    "if not hasattr(alumno2, 'edad'):\n",
    "    print(\"El atributo edad no existe\")"
   ]
  },
  {
   "cell_type": "code",
   "execution_count": 28,
   "metadata": {},
   "outputs": [
    {
     "name": "stdout",
     "output_type": "stream",
     "text": [
      "18 10\n"
     ]
    }
   ],
   "source": [
    "setattr(alumno2, 'edad', 18)\n",
    "setattr(alumno2, 'nota', 10)\n",
    "print(alumno2.edad, alumno2.nota)"
   ]
  },
  {
   "cell_type": "code",
   "execution_count": 31,
   "metadata": {},
   "outputs": [
    {
     "ename": "AttributeError",
     "evalue": "edad",
     "output_type": "error",
     "traceback": [
      "\u001b[1;31m---------------------------------------------------------------------------\u001b[0m",
      "\u001b[1;31mAttributeError\u001b[0m                            Traceback (most recent call last)",
      "\u001b[1;32m<ipython-input-31-a6df43657af8>\u001b[0m in \u001b[0;36m<module>\u001b[1;34m\u001b[0m\n\u001b[1;32m----> 1\u001b[1;33m \u001b[0mdelattr\u001b[0m\u001b[1;33m(\u001b[0m\u001b[0malumno2\u001b[0m\u001b[1;33m,\u001b[0m \u001b[1;34m'edad'\u001b[0m\u001b[1;33m)\u001b[0m\u001b[1;33m\u001b[0m\u001b[1;33m\u001b[0m\u001b[0m\n\u001b[0m\u001b[0;32m      2\u001b[0m \u001b[1;33m\u001b[0m\u001b[0m\n\u001b[0;32m      3\u001b[0m \u001b[0mprint\u001b[0m\u001b[1;33m(\u001b[0m\u001b[0mgetattr\u001b[0m\u001b[1;33m(\u001b[0m\u001b[0malumno2\u001b[0m\u001b[1;33m,\u001b[0m \u001b[1;34m'edad'\u001b[0m\u001b[1;33m)\u001b[0m\u001b[1;33m)\u001b[0m\u001b[1;33m\u001b[0m\u001b[1;33m\u001b[0m\u001b[0m\n",
      "\u001b[1;31mAttributeError\u001b[0m: edad"
     ]
    }
   ],
   "source": [
    "delattr(alumno2, 'edad')\n",
    "\n",
    "print(getattr(alumno2, 'edad'))"
   ]
  },
  {
   "cell_type": "code",
   "execution_count": 33,
   "metadata": {},
   "outputs": [
    {
     "name": "stdout",
     "output_type": "stream",
     "text": [
      "{'__module__': '__main__', '__doc__': 'Clase para alumnos', 'numalumnos': 6, 'sumanotas': 42, '__init__': <function Alumno.__init__ at 0x000001A596A2F1F0>, 'mostrarNombreNota': <function Alumno.mostrarNombreNota at 0x000001A595BCF940>, 'mostrarNumAlumnos': <function Alumno.mostrarNumAlumnos at 0x000001A595BCF820>, 'mostrarSumaNotas': <function Alumno.mostrarSumaNotas at 0x000001A595BCF1F0>, 'mostrarNotaMedia': <function Alumno.mostrarNotaMedia at 0x000001A595BCF700>, '__dict__': <attribute '__dict__' of 'Alumno' objects>, '__weakref__': <attribute '__weakref__' of 'Alumno' objects>}\n"
     ]
    }
   ],
   "source": [
    "print(Alumno.__dict__)"
   ]
  },
  {
   "cell_type": "code",
   "execution_count": 36,
   "metadata": {},
   "outputs": [
    {
     "name": "stdout",
     "output_type": "stream",
     "text": [
      "{'nombre': 'Carlos', 'nota': 10}\n"
     ]
    }
   ],
   "source": [
    "print(alumno2.__dict__)"
   ]
  },
  {
   "cell_type": "code",
   "execution_count": 39,
   "metadata": {},
   "outputs": [
    {
     "name": "stdout",
     "output_type": "stream",
     "text": [
      "Alumno\n"
     ]
    }
   ],
   "source": [
    "print(Alumno.__name__)"
   ]
  },
  {
   "cell_type": "code",
   "execution_count": 41,
   "metadata": {},
   "outputs": [
    {
     "name": "stdout",
     "output_type": "stream",
     "text": [
      "(<class 'object'>,)\n"
     ]
    }
   ],
   "source": [
    "print(Alumno.__bases__)"
   ]
  },
  {
   "cell_type": "code",
   "execution_count": 43,
   "metadata": {},
   "outputs": [
    {
     "name": "stdout",
     "output_type": "stream",
     "text": [
      "(<class '__main__.Alumno'>,)\n"
     ]
    }
   ],
   "source": [
    "class Becario(Alumno):\n",
    "    pass\n",
    "\n",
    "print(Becario.__bases__)"
   ]
  },
  {
   "cell_type": "code",
   "execution_count": 47,
   "metadata": {},
   "outputs": [
    {
     "name": "stdout",
     "output_type": "stream",
     "text": [
      "Se han terminado mis baterias, me voy a dormir.\n",
      "{}\n"
     ]
    }
   ],
   "source": [
    "class Robot:\n",
    "    def __del__(self):\n",
    "        print(\"Se han terminado mis baterias, me voy a dormir.\")\n",
    "\n",
    "robot1 = Robot()\n",
    "print(robot1.__dict__)"
   ]
  },
  {
   "cell_type": "code",
   "execution_count": 51,
   "metadata": {},
   "outputs": [
    {
     "ename": "NameError",
     "evalue": "name 'robot1' is not defined",
     "output_type": "error",
     "traceback": [
      "\u001b[1;31m---------------------------------------------------------------------------\u001b[0m",
      "\u001b[1;31mNameError\u001b[0m                                 Traceback (most recent call last)",
      "\u001b[1;32m<ipython-input-51-5b52a2158071>\u001b[0m in \u001b[0;36m<module>\u001b[1;34m\u001b[0m\n\u001b[1;32m----> 1\u001b[1;33m \u001b[1;32mdel\u001b[0m \u001b[0mrobot1\u001b[0m\u001b[1;33m\u001b[0m\u001b[1;33m\u001b[0m\u001b[0m\n\u001b[0m\u001b[0;32m      2\u001b[0m \u001b[0mrobot1\u001b[0m\u001b[1;33m.\u001b[0m\u001b[0m__dict__\u001b[0m\u001b[1;33m\u001b[0m\u001b[1;33m\u001b[0m\u001b[0m\n",
      "\u001b[1;31mNameError\u001b[0m: name 'robot1' is not defined"
     ]
    }
   ],
   "source": [
    "del robot1\n",
    "robot1.__dict__"
   ]
  },
  {
   "cell_type": "code",
   "execution_count": null,
   "metadata": {},
   "outputs": [],
   "source": []
  }
 ],
 "metadata": {
  "kernelspec": {
   "display_name": "Python 3",
   "language": "python",
   "name": "python3"
  },
  "language_info": {
   "codemirror_mode": {
    "name": "ipython",
    "version": 3
   },
   "file_extension": ".py",
   "mimetype": "text/x-python",
   "name": "python",
   "nbconvert_exporter": "python",
   "pygments_lexer": "ipython3",
   "version": "3.8.3"
  }
 },
 "nbformat": 4,
 "nbformat_minor": 4
}
