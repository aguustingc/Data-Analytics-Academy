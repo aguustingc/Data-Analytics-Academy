{
 "cells": [
  {
   "cell_type": "markdown",
   "metadata": {},
   "source": [
    "# Ejercicios de Programación Orientada a Objetos"
   ]
  },
  {
   "cell_type": "markdown",
   "metadata": {},
   "source": [
    "**Nota:** Los ejercicios son graduales, es decir, en cada ejercicio se van implementando mejoras a una (o varias) clase(s)."
   ]
  },
  {
   "cell_type": "markdown",
   "metadata": {},
   "source": [
    "## Ejercicio 1"
   ]
  },
  {
   "cell_type": "markdown",
   "metadata": {},
   "source": [
    "Crear una nueva clase llamada **NumeroComplejo**. Esta clase tiene un atributo **x** para la coordenada en x e **y** para la coordenada en y. Representar un número complejo de la forma (x, y)."
   ]
  },
  {
   "cell_type": "code",
   "execution_count": 2,
   "metadata": {},
   "outputs": [
    {
     "data": {
      "text/plain": [
       "(3, -5)"
      ]
     },
     "execution_count": 2,
     "metadata": {},
     "output_type": "execute_result"
    }
   ],
   "source": [
    "class NumeroComplejo:\n",
    "    def __init__(self, x, y):\n",
    "        self.x = x\n",
    "        self.y = y\n",
    "    \n",
    "    def representarComplejo(self):\n",
    "        return (self.x, self.y)\n",
    "\n",
    "complejo1 = NumeroComplejo(3, -5)\n",
    "complejo1.representarComplejo()"
   ]
  },
  {
   "cell_type": "markdown",
   "metadata": {},
   "source": [
    "## Ejercicio 2"
   ]
  },
  {
   "cell_type": "markdown",
   "metadata": {},
   "source": [
    "Definir para la clase **NumeroComplejo** un método que permita imprimir una instancia de la clase. Recordemos que al intentar imprimir un tipo definido por nosotros, se imprime la dirección de memoria"
   ]
  },
  {
   "cell_type": "code",
   "execution_count": 2,
   "metadata": {},
   "outputs": [
    {
     "name": "stdout",
     "output_type": "stream",
     "text": [
      "{'x': 3, 'y': 4}\n"
     ]
    }
   ],
   "source": [
    "class NumeroComplejo:\n",
    "    def __init__(self, x, y):\n",
    "        self.x = x\n",
    "        self.y = y\n",
    "    \n",
    "    def representarComplejo(self):\n",
    "        return (self.x, self.y)\n",
    "    \n",
    "    def imprimirInstancia(self):\n",
    "        return self.__dict__\n",
    "\n",
    "complejo2 = NumeroComplejo(3,4)\n",
    "print(complejo2.imprimirInstancia())"
   ]
  },
  {
   "cell_type": "markdown",
   "metadata": {},
   "source": [
    "## Ejercicio 3"
   ]
  },
  {
   "cell_type": "markdown",
   "metadata": {},
   "source": [
    "Definir la función **__str__** para la clase **NumeroComplejo** para poder imprimir usando la función print."
   ]
  },
  {
   "cell_type": "code",
   "execution_count": 4,
   "metadata": {},
   "outputs": [
    {
     "name": "stdout",
     "output_type": "stream",
     "text": [
      "{'x': 2, 'y': -8}\n",
      "{'x': 2, 'y': -8}\n"
     ]
    },
    {
     "data": {
      "text/plain": [
       "\"{'x': 2, 'y': -8}\""
      ]
     },
     "execution_count": 4,
     "metadata": {},
     "output_type": "execute_result"
    }
   ],
   "source": [
    "class NumeroComplejo:\n",
    "    def __init__(self, x, y):\n",
    "        self.x = x\n",
    "        self.y = y\n",
    "    \n",
    "    def representarComplejo(self):\n",
    "        return (self.x, self.y)\n",
    "    \n",
    "    def imprimirInstancia(self):\n",
    "        print(self.__dict__)\n",
    "    \n",
    "    def __str__(self):\n",
    "        return str(self.__dict__)\n",
    "\n",
    "complejo3 = NumeroComplejo(2,-8)\n",
    "print(complejo3)\n",
    "complejo3.imprimirInstancia()\n",
    "str(complejo3)"
   ]
  },
  {
   "cell_type": "markdown",
   "metadata": {},
   "source": [
    "## Ejercicio 4"
   ]
  },
  {
   "cell_type": "markdown",
   "metadata": {},
   "source": [
    "Definir una función que compara dos números complejos, ya que si dos objetos distintos tienen sus atributos iguales, no se consideran iguales.\n"
   ]
  },
  {
   "cell_type": "code",
   "execution_count": 6,
   "metadata": {},
   "outputs": [
    {
     "name": "stdout",
     "output_type": "stream",
     "text": [
      "a=b ?  True \n",
      "a=c ?  False\n"
     ]
    }
   ],
   "source": [
    "def igualdad(objeto1, objeto2):\n",
    "    return str(objeto1) == str(objeto2)\n",
    "\n",
    "a = NumeroComplejo(3,4)\n",
    "b = NumeroComplejo(3,4)\n",
    "c = NumeroComplejo(1,2)\n",
    "\n",
    "print(\"a=b ? \", igualdad(a,b), \"\\na=c ? \", igualdad(a,c))"
   ]
  },
  {
   "cell_type": "markdown",
   "metadata": {},
   "source": [
    "## Ejercicio 5"
   ]
  },
  {
   "cell_type": "markdown",
   "metadata": {},
   "source": [
    "Implementar un método que sume dos numeros complejos sin modificiar los objetos originales, ya que se retorna un nuevo numero NumeroComplejo."
   ]
  },
  {
   "cell_type": "code",
   "execution_count": 38,
   "metadata": {},
   "outputs": [
    {
     "name": "stdout",
     "output_type": "stream",
     "text": [
      "(5, 9)\n"
     ]
    }
   ],
   "source": [
    "class NumeroComplejo:\n",
    "    def __init__(self, x, y):\n",
    "        self.x = x\n",
    "        self.y = y\n",
    "    \n",
    "    def representarComplejo(self):\n",
    "        return (self.x, self.y)\n",
    "    \n",
    "    def imprimirInstancia(self):\n",
    "        print(self.__dict__)\n",
    "    \n",
    "    def __str__(self):\n",
    "        return str(self.__dict__)\n",
    "    \n",
    "    def __add__(self, other):\n",
    "        x = self.x + other.x\n",
    "        y = self.y + other.y\n",
    "        return x, y\n",
    "\n",
    "complejo1 = NumeroComplejo(3,4)\n",
    "complejo2 = NumeroComplejo(2,5)\n",
    "print(complejo1 + complejo2)"
   ]
  },
  {
   "cell_type": "markdown",
   "metadata": {},
   "source": [
    "Ahora, vamos a implementar un objeto **Bus**, que lleva a un grupo de pasajeros y además tiene un chofer. Los pasajeros y el chofer son todos personas, por lo que primero crearemos una clase **Persona** para representarlos."
   ]
  },
  {
   "cell_type": "markdown",
   "metadata": {},
   "source": [
    "## Ejercicio 6"
   ]
  },
  {
   "cell_type": "markdown",
   "metadata": {},
   "source": [
    "Crea una clase **Persona**. Sus atributos deben ser su nombre y su edad. Además crea un método cumpleaños, que aumente en 1 la edad de la persona."
   ]
  },
  {
   "cell_type": "code",
   "execution_count": null,
   "metadata": {},
   "outputs": [],
   "source": [
    "class Persona:\n",
    "    \n",
    "    def __init__(self, nombre, edad):\n",
    "        self.nombre = nombre\n",
    "        self.edad = edad\n",
    "    \n",
    "    def cumpleaños(self):\n",
    "        self.edad += 1"
   ]
  },
  {
   "cell_type": "markdown",
   "metadata": {},
   "source": [
    "## Ejercicio 7"
   ]
  },
  {
   "cell_type": "markdown",
   "metadata": {},
   "source": [
    "Para la clase anterior definir el método __str__. Debe retornar al menos el nombre de la persona."
   ]
  },
  {
   "cell_type": "code",
   "execution_count": 39,
   "metadata": {},
   "outputs": [
    {
     "name": "stdout",
     "output_type": "stream",
     "text": [
      "Agustin\n"
     ]
    }
   ],
   "source": [
    "class Persona:\n",
    "    \n",
    "    def __init__(self, nombre, edad):\n",
    "        self.nombre = nombre\n",
    "        self.edad = edad\n",
    "    \n",
    "    def cumpleaños(self):\n",
    "        self.edad += 1\n",
    "        \n",
    "    def __str__(self):\n",
    "        return self.nombre\n",
    "\n",
    "persona = Persona(\"Agustin\", 21)\n",
    "print(persona)"
   ]
  },
  {
   "cell_type": "markdown",
   "metadata": {},
   "source": [
    "## Ejercicio 8"
   ]
  },
  {
   "cell_type": "markdown",
   "metadata": {},
   "source": [
    "Extender la aplicación anterior con una clase **Bus**. Como atributo tiene un arreglo de pasajeros (inicialmente vacío), una capacidad (se ingresa en el constructor) y un chofer. Debes implementar el método ingresar_chofer(self, persona), que recibe una persona y queda como chofer del Bus si es mayor de 18 años. Cabe destacar que el chofer no se ingresa en el constructor."
   ]
  },
  {
   "cell_type": "code",
   "execution_count": 17,
   "metadata": {},
   "outputs": [],
   "source": [
    "class Persona:\n",
    "    \n",
    "    def __init__(self, nombre, edad):\n",
    "        self.nombre = nombre\n",
    "        self.edad = edad\n",
    "    \n",
    "    def cumpleaños(self):\n",
    "        self.edad += 1\n",
    "        \n",
    "    def __str__(self):\n",
    "        return self.nombre\n",
    "    \n",
    "\n",
    "class Pasajero(Persona):\n",
    "    \n",
    "    def __init__(self, nombre, edad):\n",
    "        super().__init__(nombre, edad)\n",
    "        \n",
    "\n",
    "class Chofer(Persona):\n",
    "    \n",
    "    def __init__(self, nombre, edad):\n",
    "        super().__init__(nombre, edad)\n",
    "    \n",
    "    def soyMayorDeEdad(self):\n",
    "        return self.edad >=18\n",
    "    \n",
    "\n",
    "class Bus:\n",
    "    \n",
    "    def __init__(self, capacidad):\n",
    "        self.capacidad = capacidad\n",
    "        pasajeros = []\n",
    "        chofer = None\n",
    "    \n",
    "    def ingresarChofer(self, persona):\n",
    "        if persona.soyMayorDeEdad():\n",
    "            self.chofer = persona\n",
    "        else:\n",
    "            print(\"El chofer es menor de edad, no puede manejar!\")"
   ]
  },
  {
   "cell_type": "markdown",
   "metadata": {},
   "source": [
    "## Ejercicio 9"
   ]
  },
  {
   "cell_type": "markdown",
   "metadata": {},
   "source": [
    "Extender la clase **Bus** con el método **subir_pasajero(self, persona)**. Este método sube a la persona al bus (i.e. La agrega al arreglo de asientos) siempre que el número de pasajeros en el Bus sea menor que la capcidad total."
   ]
  },
  {
   "cell_type": "code",
   "execution_count": 16,
   "metadata": {},
   "outputs": [],
   "source": [
    "class Persona:\n",
    "    def __init__(self, nombre, edad):\n",
    "        self.nombre = nombre\n",
    "        self.edad = edad\n",
    "    \n",
    "    def cumpleaños(self):\n",
    "        self.edad += 1\n",
    "        \n",
    "    def __str__(self):\n",
    "        return self.nombre\n",
    "    \n",
    "\n",
    "class Pasajero(Persona):\n",
    "    def __init__(self, nombre, edad):\n",
    "        super().__init__(nombre, edad)\n",
    "        \n",
    "\n",
    "class Chofer(Persona):\n",
    "    def __init__(self, nombre, edad):\n",
    "        super().__init__(nombre, edad)\n",
    "    \n",
    "    def soyMayorDeEdad(self):\n",
    "        return self.edad >=18\n",
    "\n",
    "class Bus:\n",
    "\n",
    "    def __init__(self, capacidad):\n",
    "        self.capacidad = capacidad\n",
    "        pasajeros = []\n",
    "        chofer = None\n",
    "    \n",
    "    def ingresarChofer(self, persona):\n",
    "        if persona.soyMayorDeEdad():\n",
    "            self.chofer = persona\n",
    "            print(\"Chofer {} asignado correctamente\".format(str(persona)))\n",
    "        else:\n",
    "            print(\"El chofer {} es menor de edad, no puede manejar!\".format(str(persona)))\n",
    "    \n",
    "    def puedeSubirse(self):\n",
    "        return len(self.pasajeros) < self.capacidad\n",
    "    \n",
    "    def subirPasajero(self, persona):\n",
    "        if self.puedeSubirse():\n",
    "            self.pasajeros.append(persona)\n",
    "            print(\"{} abordó correctamente\".format(str(persona)))\n",
    "        else:\n",
    "            print(\"CAPACIDAD MAXIMA! {} No puede subirse\".format(str(persona)))\n",
    "    \n",
    "    def __str__(self):\n",
    "        return str(self.__dict__)"
   ]
  },
  {
   "cell_type": "code",
   "execution_count": 15,
   "metadata": {},
   "outputs": [
    {
     "name": "stdout",
     "output_type": "stream",
     "text": [
      "El chofer Joaquin es menor de edad, no puede manejar!\n",
      "Chofer Emilio asignado correctamente\n",
      "Agustin abordó correctamente\n",
      "Judith abordó correctamente\n",
      "CAPACIDAD MAXIMA! Morena No puede subirse\n"
     ]
    }
   ],
   "source": [
    "agustin = Pasajero(\"Agustin\", 21)\n",
    "emilio = Chofer(\"Emilio\", 65)\n",
    "joaquin = Chofer(\"Joaquin\", 13)\n",
    "morena = Pasajero(\"Morena\", 26)\n",
    "judith = Pasajero(\"Judith\", 19)\n",
    "\n",
    "bondi = Bus(2)\n",
    "\n",
    "bondi.ingresarChofer(joaquin)\n",
    "bondi.ingresarChofer(emilio)\n",
    "bondi.subirPasajero(agustin)\n",
    "bondi.subirPasajero(judith)\n",
    "bondi.subirPasajero(morena)"
   ]
  }
 ],
 "metadata": {
  "kernelspec": {
   "display_name": "Python 3",
   "language": "python",
   "name": "python3"
  },
  "language_info": {
   "codemirror_mode": {
    "name": "ipython",
    "version": 3
   },
   "file_extension": ".py",
   "mimetype": "text/x-python",
   "name": "python",
   "nbconvert_exporter": "python",
   "pygments_lexer": "ipython3",
   "version": "3.8.3"
  }
 },
 "nbformat": 4,
 "nbformat_minor": 2
}
