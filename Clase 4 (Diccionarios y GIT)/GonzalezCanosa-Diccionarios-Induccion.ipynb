{
 "cells": [
  {
   "cell_type": "code",
   "execution_count": 3,
   "metadata": {},
   "outputs": [
    {
     "name": "stdout",
     "output_type": "stream",
     "text": [
      "Gabriela\n",
      "agc@gmail.com\n",
      "MindHub\n"
     ]
    }
   ],
   "source": [
    "a = {\"nombre\" : \"Gabriela\", \"despacho\" : 213, \"email\" : \"agc@gmail.com\"}\n",
    "print(a[\"nombre\"])\n",
    "print(a.get(\"email\"))\n",
    "print(a.get(\"Consultora\", \"MindHub\"))\n"
   ]
  },
  {
   "cell_type": "code",
   "execution_count": 5,
   "metadata": {},
   "outputs": [
    {
     "name": "stdout",
     "output_type": "stream",
     "text": [
      "3\n",
      "despacho\n",
      "True\n",
      "dict_keys(['nombre', 'despacho', 'email'])\n",
      "dict_values(['Gabriela', 213, 'agc@gmail.com'])\n",
      "dict_items([('nombre', 'Gabriela'), ('despacho', 213), ('email', 'agc@gmail.com')])\n"
     ]
    }
   ],
   "source": [
    "a = {\"nombre\" : \"Gabriela\", \"despacho\" : 213, \"email\" : \"agc@gmail.com\"}\n",
    "\n",
    "print(len(a))\n",
    "print(min(a))\n",
    "print(\"email\" in a)\n",
    "print(a.keys())\n",
    "print(a.values())\n",
    "print(a.items())"
   ]
  },
  {
   "cell_type": "code",
   "execution_count": 8,
   "metadata": {},
   "outputs": [
    {
     "name": "stdout",
     "output_type": "stream",
     "text": [
      "{'nombre': 'Gabriela', 'despacho': 213, 'email': 'agc@gmail.com', 'consultora': 'MindHub'}\n",
      "213\n",
      "{'nombre': 'Gabriela', 'email': 'agc@gmail.com', 'consultora': 'MindHub'}\n",
      "('consultora', 'MindHub')\n",
      "{'nombre': 'Gabriela'}\n",
      "{}\n"
     ]
    }
   ],
   "source": [
    "a = {\"nombre\" : \"Gabriela\", \"despacho\" : 213, \"email\" : \"agc@gmail.com\"}\n",
    "\n",
    "a[\"consultora\"] = \"MindHub\"\n",
    "\n",
    "print(a)\n",
    "\n",
    "print(a.pop(\"despacho\"))\n",
    "print(a)\n",
    "\n",
    "print(a.popitem())\n",
    "\n",
    "del a[\"email\"]\n",
    "print(a)\n",
    "\n",
    "a.clear()\n",
    "print(a)"
   ]
  }
 ],
 "metadata": {
  "kernelspec": {
   "display_name": "Python 3",
   "language": "python",
   "name": "python3"
  },
  "language_info": {
   "codemirror_mode": {
    "name": "ipython",
    "version": 3
   },
   "file_extension": ".py",
   "mimetype": "text/x-python",
   "name": "python",
   "nbconvert_exporter": "python",
   "pygments_lexer": "ipython3",
   "version": "3.8.3"
  }
 },
 "nbformat": 4,
 "nbformat_minor": 4
}
