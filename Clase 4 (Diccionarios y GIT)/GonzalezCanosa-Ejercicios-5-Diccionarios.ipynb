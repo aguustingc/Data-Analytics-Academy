{
 "cells": [
  {
   "cell_type": "markdown",
   "metadata": {},
   "source": [
    "# Ejercicios de Diccionarios"
   ]
  },
  {
   "cell_type": "markdown",
   "metadata": {},
   "source": [
    "## Ejercicio 1"
   ]
  },
  {
   "cell_type": "markdown",
   "metadata": {},
   "source": [
    "Escribir un programa que guarde en una variable el diccionario <font color=#B40431>{'Euro':'€', 'Dollar':'$', 'Yen':'¥'}</font>, pregunte al usuario por una divisa y muestre su símbolo o un mensaje de aviso si la divisa no está en el diccionario."
   ]
  },
  {
   "cell_type": "code",
   "execution_count": 4,
   "metadata": {},
   "outputs": [
    {
     "name": "stdout",
     "output_type": "stream",
     "text": [
      "Inregrese una divisa: Yen\n",
      "Simbolo de Yen: ¥\n"
     ]
    }
   ],
   "source": [
    "dic = {\"Euro\":\"€\", \"Dollar\":\"$\", \"Yen\":\"¥\"}\n",
    "\n",
    "divisa = input(\"Inregrese una divisa: \")\n",
    "print(\"Simbolo de \" + divisa + \": \" + dic[divisa])"
   ]
  },
  {
   "cell_type": "markdown",
   "metadata": {},
   "source": [
    "## Ejercicio 2"
   ]
  },
  {
   "cell_type": "markdown",
   "metadata": {},
   "source": [
    "Escribir un programa que pregunte al usuario su nombre, edad, dirección y teléfono y lo guarde en un diccionario. Después debe mostrar por pantalla el mensaje <<font color=#B40431>&#60;nombre&#62; tiene &#60;edad&#62; años, vive en &#60;dirección&#62; y su número de teléfono es &#60;teléfono&#62;.</font>"
   ]
  },
  {
   "cell_type": "code",
   "execution_count": 5,
   "metadata": {},
   "outputs": [
    {
     "name": "stdout",
     "output_type": "stream",
     "text": [
      "Ingrese su nombre: Agustin\n",
      "Ingrese su edad: 21\n",
      "Ingrese su direccion: Juncal\n",
      "Ingrese su telefono: 1132760982\n",
      "Agustin  tiene  21  años, vive en  Juncal  y su numero de telefono es  1132760982\n"
     ]
    }
   ],
   "source": [
    "dic = {}\n",
    "\n",
    "dic[\"nombre\"] = input(\"Ingrese su nombre: \")\n",
    "dic[\"edad\"] = input(\"Ingrese su edad: \")\n",
    "dic[\"direccion\"] = input(\"Ingrese su direccion: \")\n",
    "dic[\"telefono\"] = input(\"Ingrese su telefono: \")\n",
    "\n",
    "print(dic[\"nombre\"], \" tiene \", dic[\"edad\"], \" años, vive en \", dic[\"direccion\"], \" y su numero de telefono es \", dic[\"telefono\"])"
   ]
  },
  {
   "cell_type": "markdown",
   "metadata": {},
   "source": [
    "## Ejercicio 3"
   ]
  },
  {
   "cell_type": "markdown",
   "metadata": {},
   "source": [
    "Escribir un programa que guarde en un diccionario los precios de las frutas de la tabla, pregunte al usuario por una fruta, un número de kilos y muestre por pantalla el precio de ese número de kilos de fruta. Si la fruta no está en el diccionario debe mostrar un mensaje informando de ello.\n",
    "<table>\n",
    "<thead>\n",
    "<tr>\n",
    "<th style=\"text-align:left\">Fruta</th>\n",
    "<th style=\"text-align:center\">Precio</th>\n",
    "</tr>\n",
    "</thead>\n",
    "<tbody>\n",
    "<tr>\n",
    "<td style=\"text-align:left\">Banana</td>\n",
    "<td style=\"text-align:center\">120</td>\n",
    "</tr>\n",
    "<tr>\n",
    "<td style=\"text-align:left\">Manzana</td>\n",
    "<td style=\"text-align:center\">130</td>\n",
    "</tr>\n",
    "<tr>\n",
    "<td style=\"text-align:left\">Pera</td>\n",
    "<td style=\"text-align:center\">90</td>\n",
    "</tr>\n",
    "<tr>\n",
    "<td style=\"text-align:left\">Naranja</td>\n",
    "<td style=\"text-align:center\">85</td>\n",
    "</tr>\n",
    "</tbody>\n",
    "</table>"
   ]
  },
  {
   "cell_type": "code",
   "execution_count": 7,
   "metadata": {},
   "outputs": [
    {
     "name": "stdout",
     "output_type": "stream",
     "text": [
      "Ingrese la fruta que desea comprar: Banana\n",
      "Ingrese la cantidad de kilos: 4\n",
      "Sus  4 KG de  Banana  cuestan:  480\n"
     ]
    }
   ],
   "source": [
    "dic = {\"Banana\":120, \"Manzana\":130, \"Pera\":90, \"Naranja\":85}\n",
    "\n",
    "fruta = input(\"Ingrese la fruta que desea comprar: \")\n",
    "kilos = int(input(\"Ingrese la cantidad de kilos: \"))\n",
    "\n",
    "if fruta in dic:\n",
    "    print(\"Sus \", kilos, \"KG de \", fruta, \" cuestan: \", dic[fruta]*kilos)\n",
    "else:\n",
    "    print(\"Su fruta no se encuentra en la lista\")"
   ]
  },
  {
   "cell_type": "markdown",
   "metadata": {},
   "source": [
    "## Ejercicio 4"
   ]
  },
  {
   "cell_type": "markdown",
   "metadata": {},
   "source": [
    "Escribir un programa que pregunte una fecha en formato <font color=#B40431>dd/mm/aaaa</font> y muestre por pantalla la misma fecha en formato <font color=#B40431>dd de &#60;mes&#62; de aaaa</font> donde <font color=#B40431>&#60;mes&#62;</font> es el nombre del mes."
   ]
  },
  {
   "cell_type": "code",
   "execution_count": 9,
   "metadata": {},
   "outputs": [
    {
     "name": "stdout",
     "output_type": "stream",
     "text": [
      "Ingrese el dia: 1\n",
      "Ingrese el mes: Noviembre\n",
      "Ingrese el año: 1999\n",
      "1  de  Noviembre  de  1999\n"
     ]
    }
   ],
   "source": [
    "fecha = {}\n",
    "\n",
    "fecha[\"dia\"] = input(\"Ingrese el dia: \")\n",
    "fecha[\"mes\"] = input(\"Ingrese el mes: \")\n",
    "fecha[\"año\"] = input(\"Ingrese el año: \")\n",
    "\n",
    "print(fecha[\"dia\"], \" de \", fecha[\"mes\"], \" de \", fecha[\"año\"])"
   ]
  },
  {
   "cell_type": "markdown",
   "metadata": {},
   "source": [
    "## Ejercicio 5"
   ]
  },
  {
   "cell_type": "markdown",
   "metadata": {},
   "source": [
    "Escribir un programa que almacene el diccionario con los créditos de las asignaturas de un curso <font color=#B40431>{'Matemáticas': 6, 'Física': 4, 'Química': 5}</font>y después muestre por pantalla los créditos de cada asignatura en el formato <font color=#B40431>&#60;asignatura&#62;</font> tiene <font color=#B40431>&#60;créditos&#62;</font> créditos, donde <font color=#B40431>&#60;asignatura&#62;</font> es cada una de las asignaturas del curso, y <font color=#B40431>&#60;créditos&#62;</font> son sus créditos. Al final debe mostrar también el número total de créditos del curso."
   ]
  },
  {
   "cell_type": "code",
   "execution_count": 13,
   "metadata": {},
   "outputs": [
    {
     "name": "stdout",
     "output_type": "stream",
     "text": [
      "La  Matemáticas  tiene  6  creditos.\n",
      "La  Física  tiene  4  creditos.\n",
      "La  Química  tiene  5  creditos.\n",
      "Total de creditos:  15\n"
     ]
    }
   ],
   "source": [
    "curso = {'Matemáticas': 6, 'Física': 4, 'Química': 5}\n",
    "contador = 0\n",
    "\n",
    "for i in curso:\n",
    "    print(\"La \", i, \" tiene \", curso[i], \" creditos.\")\n",
    "    contador += curso[i]\n",
    "\n",
    "print(\"Total de creditos: \", contador)"
   ]
  },
  {
   "cell_type": "markdown",
   "metadata": {},
   "source": [
    "## Ejercicio 6"
   ]
  },
  {
   "cell_type": "markdown",
   "metadata": {},
   "source": [
    "Escribir un programa que cree un diccionario vacío y lo vaya llenado con información sobre una persona (por ejemplo nombre, edad, sexo, teléfono, correo electrónico, etc.) que se le pida al usuario. Cada vez que se añada un nuevo dato debe imprimirse el contenido del diccionario."
   ]
  },
  {
   "cell_type": "code",
   "execution_count": 15,
   "metadata": {},
   "outputs": [
    {
     "name": "stdout",
     "output_type": "stream",
     "text": [
      "Ingrese un dato de la persona: Nombre\n",
      "Ingrese el contenido del dato: Agustin\n",
      "{'Nombre': 'Agustin'}\n",
      "Ingrese un dato de la persona: Edad\n",
      "Ingrese el contenido del dato: 21\n",
      "{'Nombre': 'Agustin', 'Edad': '21'}\n",
      "Ingrese un dato de la persona: Sexo\n",
      "Ingrese el contenido del dato: Hombre\n",
      "{'Nombre': 'Agustin', 'Edad': '21', 'Sexo': 'Hombre'}\n",
      "Ingrese un dato de la persona: Telefono\n",
      "Ingrese el contenido del dato: 1132760821\n",
      "{'Nombre': 'Agustin', 'Edad': '21', 'Sexo': 'Hombre', 'Telefono': '1132760821'}\n",
      "Ingrese un dato de la persona: Email\n",
      "Ingrese el contenido del dato: agc@gmail.com\n",
      "{'Nombre': 'Agustin', 'Edad': '21', 'Sexo': 'Hombre', 'Telefono': '1132760821', 'Email': 'agc@gmail.com'}\n",
      "Ingrese un dato de la persona: salir\n"
     ]
    }
   ],
   "source": [
    "dic = {}\n",
    "dato = \"\"\n",
    "\n",
    "while True:\n",
    "    dato = input(\"Ingrese un dato de la persona: \")\n",
    "    if dato == \"salir\":\n",
    "        break\n",
    "    dic[dato] = input(\"Ingrese el contenido del dato: \")\n",
    "    print(dic)"
   ]
  },
  {
   "cell_type": "markdown",
   "metadata": {},
   "source": [
    "## Ejercicio 7"
   ]
  },
  {
   "cell_type": "markdown",
   "metadata": {},
   "source": [
    "Escribir un programa que cree un diccionario simulando una cesta de la compra. El programa debe preguntar el artículo y su precio y añadir el par al diccionario, hasta que el usuario decida terminar. Después se debe mostrar por pantalla la lista de la compra y el coste total, con el siguiente formato\n",
    "<table>\n",
    "<thead>\n",
    "<tr>\n",
    "<th style=\"text-align:left\">Lista de la compra</th>\n",
    "<th style=\"text-align:right\"></th>\n",
    "</tr>\n",
    "</thead>\n",
    "<tbody>\n",
    "<tr>\n",
    "<td style=\"text-align:left\">Artículo 1</td>\n",
    "<td style=\"text-align:right\">Precio</td>\n",
    "</tr>\n",
    "<tr>\n",
    "<td style=\"text-align:left\">Artículo 2</td>\n",
    "<td style=\"text-align:right\">Precio</td>\n",
    "</tr>\n",
    "<tr>\n",
    "<td style=\"text-align:left\">Artículo 3</td>\n",
    "<td style=\"text-align:right\">Precio</td>\n",
    "</tr>\n",
    "<tr>\n",
    "<td style=\"text-align:left\">&hellip;</td>\n",
    "<td style=\"text-align:right\">&hellip;</td>\n",
    "</tr>\n",
    "<tr>\n",
    "<td style=\"text-align:left\">Total</td>\n",
    "<td style=\"text-align:right\">Coste</td>\n",
    "</tr>\n",
    "</tbody>\n",
    "</table>"
   ]
  },
  {
   "cell_type": "code",
   "execution_count": 18,
   "metadata": {},
   "outputs": [
    {
     "name": "stdout",
     "output_type": "stream",
     "text": [
      "Ingrese articulo: Papa\n",
      "Ingrese precio del articulo: 20\n",
      "Ingrese articulo: Lechuga\n",
      "Ingrese precio del articulo: 13\n",
      "Ingrese articulo: Bife\n",
      "Ingrese precio del articulo: 120\n",
      "Ingrese articulo: Mayonesa\n",
      "Ingrese precio del articulo: 25\n",
      "Ingrese articulo: salir\n",
      "El articulo  Papa  cuesta:  20  pesos.\n",
      "El articulo  Lechuga  cuesta:  13  pesos.\n",
      "El articulo  Bife  cuesta:  120  pesos.\n",
      "El articulo  Mayonesa  cuesta:  25  pesos.\n",
      "El costo total es:  178\n"
     ]
    }
   ],
   "source": [
    "dic = {}\n",
    "articulo = \"\"\n",
    "contador = 0\n",
    "\n",
    "while True:\n",
    "    articulo = input(\"Ingrese articulo: \")\n",
    "    if articulo == \"salir\":\n",
    "        break\n",
    "    dic[articulo] = input(\"Ingrese precio del articulo: \")\n",
    "\n",
    "for i in dic:\n",
    "    print(\"El articulo \", i, \" cuesta: \", dic[i], \" pesos.\")\n",
    "    contador += int(dic[i])\n",
    "    \n",
    "print(\"El costo total es: \", contador)"
   ]
  },
  {
   "cell_type": "markdown",
   "metadata": {},
   "source": [
    "## Ejercicio 8"
   ]
  },
  {
   "cell_type": "markdown",
   "metadata": {},
   "source": [
    "Escribir un programa que cree un diccionario de traducción español-inglés. El usuario introducirá las palabras en español e inglés separadas por dos puntos, y cada par <font color=#B40431>&#60;palabra&#62;:&#60;traducción&#62;</font> separados por comas. El programa debe crear un diccionario con las palabras y sus traducciones. Después pedirá una frase en español y utilizará el diccionario para traducirla palabra a palabra. Si una palabra no está en el diccionario debe dejarla sin traducir."
   ]
  },
  {
   "cell_type": "code",
   "execution_count": 10,
   "metadata": {},
   "outputs": [
    {
     "name": "stdout",
     "output_type": "stream",
     "text": [
      "Ingrese palabra en español y su traduccion al ingles separados por comas: Hola,Hi\n",
      "Ingrese palabra en español y su traduccion al ingles separados por comas: como,how\n",
      "Ingrese palabra en español y su traduccion al ingles separados por comas: estas,areYou\n",
      "Ingrese palabra en español y su traduccion al ingles separados por comas: salir\n",
      "Ingrese una frase en español que desea traducir: Hola como estas\n",
      "Hi how areYou "
     ]
    }
   ],
   "source": [
    "dic = {}\n",
    "texto = \"\"\n",
    "\n",
    "while True:\n",
    "    texto = input(\"Ingrese palabra en español y su traduccion al ingles separados por comas: \")\n",
    "    if texto == \"salir\":\n",
    "        break\n",
    "    texto = texto.split(\",\")\n",
    "    dic[texto[0]] = texto[1]\n",
    "    \n",
    "frase = input(\"Ingrese una frase en español que desea traducir: \").split(\" \")\n",
    "\n",
    "for palabra in frase:\n",
    "    if palabra in dic.keys():\n",
    "        print(dic[palabra], end=\" \")\n",
    "    else:\n",
    "        print(palabra, end=\" \")"
   ]
  },
  {
   "cell_type": "markdown",
   "metadata": {},
   "source": [
    "## Ejercicio 9"
   ]
  },
  {
   "cell_type": "markdown",
   "metadata": {},
   "source": [
    "Escribir un programa que gestione las facturas pendientes de cobro de una empresa. Las facturas se almacenarán en un diccionario donde la clave de cada factura será el número de factura y el valor del total de la factura. El programa debe preguntar al usuario si quiere añadir una nueva factura, pagar una existente o terminar. Si desea añadir una nueva factura se preguntará por el número de factura y su coste y se añadirá al diccionario. Si se desea pagar una factura se preguntará por el número de factura y se eliminará del diccionario. Después de cada operación el programa debe mostrar por pantalla la cantidad cobrada hasta el momento y la cantidad pendiente de cobro."
   ]
  },
  {
   "cell_type": "code",
   "execution_count": null,
   "metadata": {
    "scrolled": false
   },
   "outputs": [],
   "source": [
    "dic = {}\n",
    "decision = 0\n",
    "contadorPendiente = 0\n",
    "contadorPagada = 0\n",
    "\n",
    "while True:\n",
    "    decision = int(input(\"\\n\\tDesea agregar una factura(1), pagar una existente(2) o salir del programa(3): \"))\n",
    "    if decision == 1:\n",
    "        clave = input(\"\\nIngrese clave de la factura: \")\n",
    "        dic[clave] = input(\"Ingrese coste de la factura: \")\n",
    "        contadorPendiente += int(dic[clave])\n",
    "        print(\"\\nCantidad de plata pendiente hasta el momento: \", contadorPendiente)\n",
    "        print(\"Cantidad de plata pagada hasta el momento: \", contadorPagada)\n",
    "    elif decision == 2:\n",
    "        clave = input(\"\\nIngrese clave de la factura a pagar: \")\n",
    "        if clave in dic:\n",
    "            contadorPagada += int(dic[clave])\n",
    "            del dic[clave]\n",
    "            print(\"Su factura fue pagada con exito!\")\n",
    "            print(\"\\nCantidad de plata pendiente hasta el momento: \", contadorPendiente)\n",
    "            print(\"Cantidad de plata pagada hasta el momento: \", contadorPagada)\n",
    "        else:\n",
    "            print(\"\\nLa factura no es valida\")\n",
    "    else:\n",
    "        print(\"\\n\\tSalida con exito!\")\n",
    "        break     "
   ]
  },
  {
   "cell_type": "code",
   "execution_count": 21,
   "metadata": {},
   "outputs": [
    {
     "name": "stdout",
     "output_type": "stream",
     "text": [
      "\t\tDesea agregar una factura(1), pagar una existente(2) o salir del programa(3): 1\n",
      "Ingrese factura y precio: 10 12000\n",
      "Total de factura  pagadas :  0\n",
      "Total de factura  pendientes :  12000\n",
      "\t\tDesea agregar una factura(1), pagar una existente(2) o salir del programa(3): 1\n",
      "Ingrese factura y precio: 11 13000\n",
      "Total de factura  pagadas :  0\n",
      "Total de factura  pendientes :  25000\n",
      "\t\tDesea agregar una factura(1), pagar una existente(2) o salir del programa(3): 2\n",
      "Ingrese numero de factura a pagar: 10\n",
      "Total de factura  pagadas :  12000\n",
      "Total de factura  pendientes :  13000\n",
      "\t\tDesea agregar una factura(1), pagar una existente(2) o salir del programa(3): 2\n",
      "Ingrese numero de factura a pagar: 11\n",
      "Total de factura  pagadas :  25000\n",
      "Total de factura  pendientes :  0\n",
      "\t\tDesea agregar una factura(1), pagar una existente(2) o salir del programa(3): 3\n",
      "\t\tSalida con exito!\n"
     ]
    }
   ],
   "source": [
    "#MEJOR SOLUCION\n",
    "\n",
    "facturas = {\"pagadas\":{}, \"pendientes\":{}}\n",
    "\n",
    "while True:\n",
    "    decision = int(input(\"\\t\\tDesea agregar una factura(1), pagar una existente(2) o salir del programa(3): \"))\n",
    "    if decision == 1:\n",
    "        factura, precio = map(int, input(\"Ingrese factura y precio: \").split())\n",
    "        facturas[\"pendientes\"][factura] = precio\n",
    "    elif decision == 2:\n",
    "        factura = int(input(\"Ingrese numero de factura a pagar: \"))\n",
    "        if factura in facturas[\"pendientes\"].keys():\n",
    "            facturas[\"pagadas\"][factura] = facturas[\"pendientes\"][factura]\n",
    "            del facturas[\"pendientes\"][factura]\n",
    "        else:\n",
    "            print(\"La factura no es valida\")\n",
    "    else:\n",
    "        print(\"\\t\\tSalida con exito!\")\n",
    "        break\n",
    "    for tipo in facturas:\n",
    "        total = 0\n",
    "        for factura in facturas[tipo]:\n",
    "            total += facturas[tipo][factura]\n",
    "        print(\"Total de factura \", tipo, \": \", total)"
   ]
  },
  {
   "cell_type": "markdown",
   "metadata": {},
   "source": [
    "## Ejercicio 10"
   ]
  },
  {
   "cell_type": "markdown",
   "metadata": {},
   "source": [
    "Escribir un programa que permita gestionar la base de datos de clientes de una empresa. Los clientes se guardarán en un diccionario en el que la clave de cada cliente será su DNI, y el valor será otro diccionario con los datos del cliente (nombre, dirección, teléfono, correo, preferente), donde preferente tendrá el valor True si se trata de un cliente preferente. El programa debe preguntar al usuario por una opción del siguiente menú: (1) Añadir cliente, (2) Eliminar cliente, (3) Mostrar cliente, (4) Listar todos los clientes, (5) Listar clientes preferentes, (6) Terminar. En función de la opción elegida el programa tendrá que hacer lo siguiente:\n",
    "<ol>\n",
    "<li>Preguntar los datos del cliente, crear un diccionario con los datos y añadirlo a la base de datos.</li>\n",
    "<li>Preguntar por el DNI del cliente y eliminar sus datos de la base de datos.</li>\n",
    "<li>Preguntar por el DNI del cliente y mostrar sus datos.</li>\n",
    "<li>Mostrar lista de todos los clientes de la base datos con su DNI y nombre.</li>\n",
    "<li>Mostrar la lista de clientes preferentes de la base de datos con su DNI y nombre.</li>\n",
    "<li>Terminar el programa.</li>\n",
    "</ol>"
   ]
  },
  {
   "cell_type": "code",
   "execution_count": 43,
   "metadata": {},
   "outputs": [
    {
     "name": "stdout",
     "output_type": "stream",
     "text": [
      "1.Añadir cliente 2.Eliminar cliente 3.Mostrar cliente 4.Listar todos los clientes 5.Listar clientes preferentes 6.Terminar: 1\n",
      "Ingrese DNI del cliente a agregar: 10\n",
      "\tIngrese su nombre:sdas\n",
      "\tIngrese su direccion:dsadasd\n",
      "\tIngrese su telefono:dsadadas\n",
      "\tIngrese su correo:dasda\n",
      "\tIngrese su preferente:True\n",
      "1.Añadir cliente 2.Eliminar cliente 3.Mostrar cliente 4.Listar todos los clientes 5.Listar clientes preferentes 6.Terminar: 1\n",
      "Ingrese DNI del cliente a agregar: 11\n",
      "\tIngrese su nombre:dasfga\n",
      "\tIngrese su direccion:gaga\n",
      "\tIngrese su telefono:gagaga\n",
      "\tIngrese su correo:gagaga\n",
      "\tIngrese su preferente:True\n",
      "1.Añadir cliente 2.Eliminar cliente 3.Mostrar cliente 4.Listar todos los clientes 5.Listar clientes preferentes 6.Terminar: 4\n",
      "\n",
      "DNI del cliente: \n",
      "Datos:\n",
      "\tnombre: \n",
      "\tdireccion: \n",
      "\ttelefono: \n",
      "\tcorreo: \n",
      "\tpreferente: \n",
      "\n",
      "DNI del cliente: 10\n",
      "Datos:\n",
      "\tnombre: sdas\n",
      "\tdireccion: dsadasd\n",
      "\ttelefono: dsadadas\n",
      "\tcorreo: dasda\n",
      "\tpreferente: True\n",
      "\n",
      "DNI del cliente: 11\n",
      "Datos:\n",
      "\tnombre: dasfga\n",
      "\tdireccion: gaga\n",
      "\ttelefono: gagaga\n",
      "\tcorreo: gagaga\n",
      "\tpreferente: True\n",
      "1.Añadir cliente 2.Eliminar cliente 3.Mostrar cliente 4.Listar todos los clientes 5.Listar clientes preferentes 6.Terminar: 5\n",
      "\n",
      "DNI del cliente: \n",
      "Datos de clientes preferentes:\n",
      "\n",
      "DNI del cliente: 10\n",
      "Datos de clientes preferentes:\n",
      "\tpreferente: True\n",
      "\n",
      "DNI del cliente: 11\n",
      "Datos de clientes preferentes:\n",
      "\tpreferente: True\n",
      "1.Añadir cliente 2.Eliminar cliente 3.Mostrar cliente 4.Listar todos los clientes 5.Listar clientes preferentes 6.Terminar: 2\n",
      "Ingrese el DNI del cliente a eliminar: 10\n",
      "1.Añadir cliente 2.Eliminar cliente 3.Mostrar cliente 4.Listar todos los clientes 5.Listar clientes preferentes 6.Terminar: 4\n",
      "\n",
      "DNI del cliente: \n",
      "Datos:\n",
      "\tnombre: \n",
      "\tdireccion: \n",
      "\ttelefono: \n",
      "\tcorreo: \n",
      "\tpreferente: \n",
      "\n",
      "DNI del cliente: 11\n",
      "Datos:\n",
      "\tnombre: dasfga\n",
      "\tdireccion: gaga\n",
      "\ttelefono: gagaga\n",
      "\tcorreo: gagaga\n",
      "\tpreferente: True\n",
      "1.Añadir cliente 2.Eliminar cliente 3.Mostrar cliente 4.Listar todos los clientes 5.Listar clientes preferentes 6.Terminar: 6\n",
      "\n",
      "SALIDA CON EXITO!\n"
     ]
    }
   ],
   "source": [
    "clientes = {\"\":{\"nombre\":\"\",\n",
    "                \"direccion\":\"\",\n",
    "                \"telefono\":\"\",\n",
    "                \"correo\": \"\",\n",
    "                \"preferente\": \"\"}}\n",
    "\n",
    "while True:\n",
    "    decision = int(input(\"\\n1.Añadir cliente 2.Eliminar cliente 3.Mostrar cliente 4.Listar todos los clientes 5.Listar clientes preferentes 6.Terminar: \"))\n",
    "    if decision == 1:\n",
    "        dni = input(\"\\nIngrese DNI del cliente a agregar: \")\n",
    "        clientes[dni] = dict(clientes[\"\"])\n",
    "        for key in clientes[dni].keys():\n",
    "            clientes[dni][key] = input(\"\\tIngrese su {}:\".format(key))\n",
    "    \n",
    "    elif decision == 2:\n",
    "        dni = input(\"\\nIngrese el DNI del cliente a eliminar: \")\n",
    "        if dni in clientes.keys():\n",
    "            clientes.pop(dni)\n",
    "        else:\n",
    "            print(\"'tDNI no valido\")\n",
    "    \n",
    "    elif decision == 3:\n",
    "        dni = input(\"\\nIngrese el DNI del cliente a mostrar: \")\n",
    "        for key in clientes[dni].keys():\n",
    "            print(\"\\t{}: {}\".format(key, clientes[dni][key]))\n",
    "    \n",
    "    elif decision == 4:\n",
    "        for dni in clientes:\n",
    "            print(\"\\nDNI del cliente:\", dni)\n",
    "            print(\"Datos:\")\n",
    "            for key in clientes[dni].keys():\n",
    "                print(\"\\t{}: {}\".format(key, clientes[dni][key]))\n",
    "    \n",
    "    elif decision == 5:\n",
    "        for dni in clientes:\n",
    "            print(\"\\nDNI del cliente:\", dni)\n",
    "            print(\"Datos de clientes preferentes:\")\n",
    "            for key in clientes[dni].keys():\n",
    "                if clientes[dni][key] == \"True\":\n",
    "                    print(\"\\t{}: {}\".format(key, clientes[dni][key]))\n",
    "    else:\n",
    "        print(\"\\nSALIDA CON EXITO!\")\n",
    "        break\n",
    "            \n",
    "            "
   ]
  }
 ],
 "metadata": {
  "kernelspec": {
   "display_name": "Python 3",
   "language": "python",
   "name": "python3"
  },
  "language_info": {
   "codemirror_mode": {
    "name": "ipython",
    "version": 3
   },
   "file_extension": ".py",
   "mimetype": "text/x-python",
   "name": "python",
   "nbconvert_exporter": "python",
   "pygments_lexer": "ipython3",
   "version": "3.8.3"
  }
 },
 "nbformat": 4,
 "nbformat_minor": 2
}
