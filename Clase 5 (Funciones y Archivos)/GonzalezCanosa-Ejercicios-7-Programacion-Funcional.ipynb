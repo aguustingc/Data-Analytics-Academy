{
 "cells": [
  {
   "cell_type": "markdown",
   "metadata": {},
   "source": [
    "# Ejercicios de Programación Funcional"
   ]
  },
  {
   "cell_type": "markdown",
   "metadata": {},
   "source": [
    "# Ejercicio 1"
   ]
  },
  {
   "cell_type": "markdown",
   "metadata": {},
   "source": [
    "Escribir una función que aplique un descuento a un precio y otra que aplique el IVA a un precio. Escribir una tercera función que reciba un diccionario con los precios y porcentajes de una cesta de la compra, y una de las funciones anteriores, y utilice la función pasada para aplicar los descuentos o el IVA a los productos de la canasta y devolver el precio final de la canasta."
   ]
  },
  {
   "cell_type": "code",
   "execution_count": 2,
   "metadata": {},
   "outputs": [
    {
     "data": {
      "text/plain": [
       "1810.0"
      ]
     },
     "execution_count": 2,
     "metadata": {},
     "output_type": "execute_result"
    }
   ],
   "source": [
    "def aplicarDescuento(precio, descuento):\n",
    "    return precio*(1-descuento/100)\n",
    "\n",
    "def aplicarIVA(precio, iva):\n",
    "    return precio*(1+iva/100)\n",
    "\n",
    "def precioFinalCanasta(diccionario, funcion):\n",
    "    total = 0\n",
    "    for precio, descuento in diccionario.items():\n",
    "        total += funcion(precio, descuento)\n",
    "    return total\n",
    "    \n",
    "canasta = {100:20, 500:15, 700:10, 900:25}\n",
    "precioFinalCanasta(canasta, aplicarDescuento)"
   ]
  },
  {
   "cell_type": "markdown",
   "metadata": {},
   "source": [
    "# Ejercicio 2"
   ]
  },
  {
   "cell_type": "markdown",
   "metadata": {},
   "source": [
    "Escribir una función que simule una calculadora científica que permita calcular el seno, coseno, tangente, exponencial y logaritmo neperiano. La función preguntará al usuario el valor y la función a aplicar, y mostrará por pantalla una tabla con los enteros de 1 al valor introducido y el resultado de aplicar la función a esos enteros."
   ]
  },
  {
   "cell_type": "code",
   "execution_count": 8,
   "metadata": {},
   "outputs": [
    {
     "name": "stdout",
     "output_type": "stream",
     "text": [
      "y(1) 2.718281828459045\n",
      "y(2) 7.38905609893065\n",
      "y(3) 20.085536923187668\n",
      "y(4) 54.598150033144236\n",
      "y(5) 148.4131591025766\n",
      "y(6) 403.4287934927351\n"
     ]
    }
   ],
   "source": [
    "import numpy as np\n",
    "\n",
    "def calculadoraCientifica(valor, funcion):\n",
    "    for i in range(valor+1):\n",
    "        print(\"y({})\".format(i+1),funcion(i+1))\n",
    "\n",
    "cos = lambda x: np.cos(x)\n",
    "sen = lambda x: np.sen(x)\n",
    "tan = lambda x: np.tan(x)\n",
    "exp = lambda x: np.exp(x)\n",
    "ln = lambda x: np.log(x)\n",
    "\n",
    "calculadoraCientifica(5, exp)"
   ]
  },
  {
   "cell_type": "markdown",
   "metadata": {},
   "source": [
    "# Ejercicio 3"
   ]
  },
  {
   "cell_type": "markdown",
   "metadata": {},
   "source": [
    "Escribir una función que reciba otra función y una lista, y devuelva otra lista con el resultado de aplicar la función dada a cada uno de los elementos de la lista."
   ]
  },
  {
   "cell_type": "code",
   "execution_count": 14,
   "metadata": {},
   "outputs": [
    {
     "data": {
      "text/plain": [
       "[1.0,\n",
       " 0.5403023058681398,\n",
       " -0.4161468365471424,\n",
       " -0.9899924966004454,\n",
       " -0.6536436208636119,\n",
       " 0.28366218546322625]"
      ]
     },
     "execution_count": 14,
     "metadata": {},
     "output_type": "execute_result"
    }
   ],
   "source": [
    "def function(funcion, lista):\n",
    "    return(list(map(funcion, lista)))\n",
    "\n",
    "lis = [0,1,2,3,4,5]\n",
    "function(cos, lis)"
   ]
  },
  {
   "cell_type": "markdown",
   "metadata": {},
   "source": [
    "# Ejercicio 4"
   ]
  },
  {
   "cell_type": "markdown",
   "metadata": {},
   "source": [
    "Escribir una función que reciba otra función booleana y una lista, y devuelva otra lista con los elementos de la lista que devuelvan True al aplicarles la función booleana."
   ]
  },
  {
   "cell_type": "code",
   "execution_count": 23,
   "metadata": {},
   "outputs": [
    {
     "data": {
      "text/plain": [
       "[3, 4, 5]"
      ]
     },
     "execution_count": 23,
     "metadata": {},
     "output_type": "execute_result"
    }
   ],
   "source": [
    "def unknown(funcion, lista):\n",
    "    return list(filter(funcion, lis))\n",
    "\n",
    "def mayorQue3(n):\n",
    "    return n>=3\n",
    "\n",
    "unknown(mayorQue3, lis)"
   ]
  },
  {
   "cell_type": "markdown",
   "metadata": {},
   "source": [
    "# Ejercicio 5"
   ]
  },
  {
   "cell_type": "markdown",
   "metadata": {},
   "source": [
    "Escribir una función que reciba una frase y devuelva un diccionario con las palabras que contiene y su longitud."
   ]
  },
  {
   "cell_type": "code",
   "execution_count": 27,
   "metadata": {},
   "outputs": [
    {
     "data": {
      "text/plain": [
       "{'Solo': 4, 'se': 2, 'que': 3, 'no': 2, 'nada': 4}"
      ]
     },
     "execution_count": 27,
     "metadata": {},
     "output_type": "execute_result"
    }
   ],
   "source": [
    "def newDict(frase):\n",
    "    return {palabra:len(palabra) for palabra in frase.split(\" \")}\n",
    "\n",
    "nuevoDic = newDict(\"Solo se que no se nada\")\n",
    "nuevoDic"
   ]
  },
  {
   "cell_type": "markdown",
   "metadata": {},
   "source": [
    "# Ejercicio 6"
   ]
  },
  {
   "cell_type": "markdown",
   "metadata": {},
   "source": [
    "Escribir una función reciba una lista de notas y devuelva la lista de calificaciones correspondientes a esas notas."
   ]
  },
  {
   "cell_type": "code",
   "execution_count": 3,
   "metadata": {},
   "outputs": [
    {
     "data": {
      "text/plain": [
       "[{6: 'Aprobada'},\n",
       " {2: 'Desaprobada'},\n",
       " {4: 'Desaprobada'},\n",
       " {8: 'Aprobada'},\n",
       " {9: 'Aprobada'},\n",
       " {2: 'Desaprobada'},\n",
       " {10: 'Aprobada'},\n",
       " {5: 'Desaprobada'}]"
      ]
     },
     "execution_count": 3,
     "metadata": {},
     "output_type": "execute_result"
    }
   ],
   "source": [
    "def calificaciones(lista):\n",
    "    cal=[]\n",
    "    for i in lista:\n",
    "        if i>=6:\n",
    "            cal.append({i:'Aprobada'})\n",
    "        else:\n",
    "            cal.append({i:'Desaprobada'})\n",
    "    return cal\n",
    "\n",
    "calificaciones([6,2,4,8,9,2,10,5])"
   ]
  },
  {
   "cell_type": "markdown",
   "metadata": {},
   "source": [
    "# Ejercicio 7"
   ]
  },
  {
   "cell_type": "markdown",
   "metadata": {},
   "source": [
    "Escribir una función reciba un diccionario con las asignaturas y las notas de un alumno y devuelva otro diccionario con las asignaturas en mayúsculas y las calificaciones correspondientes a las notas."
   ]
  },
  {
   "cell_type": "code",
   "execution_count": 16,
   "metadata": {},
   "outputs": [
    {
     "data": {
      "text/plain": [
       "{'MATEMATICA': 'Desaprobado',\n",
       " 'HISTORIA': 'Desaprobado',\n",
       " 'FISICA': 'Aprobado',\n",
       " 'PROGRAMACION': 'Aprobado',\n",
       " 'ESTADISTICA': 'Aprobado'}"
      ]
     },
     "execution_count": 16,
     "metadata": {},
     "output_type": "execute_result"
    }
   ],
   "source": [
    "def calificacion(nota):\n",
    "    return \"Aprobado\" if nota>=6 else \"Desaprobado\"\n",
    "\n",
    "def anotherFunction(diccionario):\n",
    "    return {asignatura.upper():calificacion(nota) for asignatura, nota in diccionario.items()}\n",
    "\n",
    "subjects = {\"matematica\":3, \"historia\":5, \"fisica\":8, \"programacion\":9, \"estadistica\":10}\n",
    "\n",
    "newSubjects = anotherFunction(subjects)\n",
    "newSubjects"
   ]
  },
  {
   "cell_type": "markdown",
   "metadata": {},
   "source": [
    "# Ejercicio 8"
   ]
  },
  {
   "cell_type": "markdown",
   "metadata": {},
   "source": [
    "Escribir una función reciba un diccionario con las asignaturas y las notas de un alumno y devuelva otro diccionario con las asignaturas en mayúsculas y las calificaciones correspondientes a las notas aprobadas."
   ]
  },
  {
   "cell_type": "code",
   "execution_count": 20,
   "metadata": {},
   "outputs": [
    {
     "data": {
      "text/plain": [
       "{'FISICA': 'Aprobado', 'PROGRAMACION': 'Aprobado', 'ESTADISTICA': 'Aprobado'}"
      ]
     },
     "execution_count": 20,
     "metadata": {},
     "output_type": "execute_result"
    }
   ],
   "source": [
    "calificacion = lambda nota: \"Aprobado\" if nota>=6 else \"Desaprobado\"\n",
    "\n",
    "def aprobadas(diccionario):\n",
    "    return dict(filter(lambda val: val[1]>=6, diccionario.items()))\n",
    "\n",
    "def dictWithUpper(diccionario):\n",
    "    return {asignatura.upper():calificacion(nota) for asignatura, nota in aprobadas(diccionario).items()}\n",
    "\n",
    "subjects = {\"matematica\":3, \"historia\":5, \"fisica\":8, \"programacion\":9, \"estadistica\":10}\n",
    "newDict = dictWithUpper(subjects)\n",
    "newDict"
   ]
  },
  {
   "cell_type": "markdown",
   "metadata": {},
   "source": [
    "# Ejercicio 9"
   ]
  },
  {
   "cell_type": "markdown",
   "metadata": {},
   "source": [
    "Escribir una función que calcule el módulo de un vector."
   ]
  },
  {
   "cell_type": "code",
   "execution_count": 15,
   "metadata": {},
   "outputs": [
    {
     "name": "stdout",
     "output_type": "stream",
     "text": [
      "5.0\n",
      "5.477225575051661\n",
      "5.0\n"
     ]
    }
   ],
   "source": [
    "def mod(vec):\n",
    "    sum = 0\n",
    "    for i in vec:\n",
    "        sum+=i**2\n",
    "    return sum**(1/2)\n",
    "\n",
    "print(mod([3,4]))\n",
    "print(mod([1,2,3,4]))\n",
    "print(mod((3,4)))\n",
    "\n",
    "#Calcula vectores dados en formato de lista o tuplas."
   ]
  },
  {
   "cell_type": "markdown",
   "metadata": {},
   "source": [
    "# Ejercicio 10"
   ]
  },
  {
   "cell_type": "markdown",
   "metadata": {},
   "source": [
    "Una inmobiliaria de una ciudad maneja una lista de inmuebles como la siguiente:\n",
    "\n",
    "<pre><code class=\"language-python\">[{'año': 2000, 'metros': 100, 'habitaciones': 3, 'garaje': True, 'zona': 'A'},\n",
    "{'año': 2012, 'metros': 60, 'habitaciones': 2, 'garaje': True, 'zona': 'B'},\n",
    "{'año': 1980, 'metros': 120, 'habitaciones': 4, 'garaje': False, 'zona': 'A'},\n",
    "{'año': 2005, 'metros': 75, 'habitaciones': 3, 'garaje': True, 'zona': 'B'},\n",
    "{'año': 2015, 'metros': 90, 'habitaciones': 2, 'garaje': False, 'zona': 'A'}]\n",
    "</code></pre>\n",
    "\n",
    "Construir una función que permita hacer búsqueda de inmuebles en función de un presupuesto dado. La función recibirá como entrada la lista de inmuebles y un precio, y devolverá otra lista con los inmuebles cuyo precio sea menor o igual que el dado. Los inmuebles de la lista que se devuelva deben incorporar un nuevo par a cada diccionario con el precio del inmueble, donde el precio de un inmueble se calcula con las siguiente fórmula en función de la zona:\n",
    "\n",
    "<ul>\n",
    "<li>Zona A: precio = (metros * 1000 + habitaciones * 5000 + garaje * 15000) * (1-antiguedad/100)</li>\n",
    "<li>Zona B: precio = (metros * 1000 + habitaciones * 5000 + garaje * 15000) * (1-antiguedad/100) * 1.5</li>\n",
    "</ul>"
   ]
  },
  {
   "cell_type": "code",
   "execution_count": 14,
   "metadata": {},
   "outputs": [
    {
     "data": {
      "text/plain": [
       "[{'año': 1980,\n",
       "  'metros': 120,\n",
       "  'habitaciones': 4,\n",
       "  'garaje': False,\n",
       "  'zona': 'A',\n",
       "  'precio': 84000.0}]"
      ]
     },
     "execution_count": 14,
     "metadata": {},
     "output_type": "execute_result"
    }
   ],
   "source": [
    "#La variable precio esta representada como un par de valores, donde precio[0] es el precio de la zona A, y precio[1] zona B\n",
    "precio = [lambda m,h,g,a: (m*1000 + h*5000 + g*15000)*(1-(2020-a)/100),\n",
    "          lambda m,h,g,a: (m*1000 + h*5000 + g*15000)*(1-(2020-a)/100)*1.5]\n",
    "\n",
    "inmuebles = [{'año': 2000, 'metros': 100, 'habitaciones': 3, 'garaje': True, 'zona': 'A'},\n",
    "            {'año': 2012, 'metros': 60, 'habitaciones': 2, 'garaje': True, 'zona': 'B'},\n",
    "            {'año': 1980, 'metros': 120, 'habitaciones': 4, 'garaje': False, 'zona': 'A'},\n",
    "            {'año': 2005, 'metros': 75, 'habitaciones': 3, 'garaje': True, 'zona': 'B'},\n",
    "            {'año': 2015, 'metros': 90, 'habitaciones': 2, 'garaje': False, 'zona': 'A'}]\n",
    "    \n",
    "def busquedaInmuebles(listado, presupuesto):\n",
    "    for i in listado:\n",
    "        if i['zona'] == 'A':\n",
    "            i['precio'] = precio[0](i['metros'], i['habitaciones'], i['garaje'], i['año'])\n",
    "            #Agrego el par 'precio':precio al diccionario\n",
    "        else:\n",
    "            i['precio'] = precio[1](i['metros'], i['habitaciones'], i['garaje'], i['año'])\n",
    "            #Agrego el par 'precio':precio al diccionario\n",
    "            \n",
    "    return list(filter(lambda val: val['precio']<=presupuesto, listado))\n",
    "\n",
    "xd = busquedaInmuebles(inmuebles, 85000)\n",
    "xd"
   ]
  },
  {
   "cell_type": "code",
   "execution_count": 12,
   "metadata": {},
   "outputs": [
    {
     "data": {
      "text/plain": [
       "False"
      ]
     },
     "execution_count": 12,
     "metadata": {},
     "output_type": "execute_result"
    }
   ],
   "source": [
    "a,b,c,d,e,f = inmuebles[0].items()\n",
    "presupuesto = 100000\n",
    "\n",
    "boolean = lambda a,m,h,g,z,precio: precio[1]<=presupuesto\n",
    "boolean(a,b,c,d,e,f)"
   ]
  },
  {
   "cell_type": "code",
   "execution_count": 15,
   "metadata": {},
   "outputs": [
    {
     "data": {
      "text/plain": [
       "[{'año': 1980,\n",
       "  'metros': 120,\n",
       "  'habitaciones': 4,\n",
       "  'garaje': False,\n",
       "  'zona': 'A',\n",
       "  'precio': 84000.0}]"
      ]
     },
     "execution_count": 15,
     "metadata": {},
     "output_type": "execute_result"
    }
   ],
   "source": [
    "#La variable precio esta representada como un par de valores, donde precio[0] es el precio de la zona A, y precio[1] zona B\n",
    "precio = [lambda m,h,g,a: (m*1000 + h*5000 + g*15000)*(1-(2020-a)/100),\n",
    "          lambda m,h,g,a: (m*1000 + h*5000 + g*15000)*(1-(2020-a)/100)*1.5]\n",
    "\n",
    "inmuebles = [{'año': 2000, 'metros': 100, 'habitaciones': 3, 'garaje': True, 'zona': 'A'},\n",
    "            {'año': 2012, 'metros': 60, 'habitaciones': 2, 'garaje': True, 'zona': 'B'},\n",
    "            {'año': 1980, 'metros': 120, 'habitaciones': 4, 'garaje': False, 'zona': 'A'},\n",
    "            {'año': 2005, 'metros': 75, 'habitaciones': 3, 'garaje': True, 'zona': 'B'},\n",
    "            {'año': 2015, 'metros': 90, 'habitaciones': 2, 'garaje': False, 'zona': 'A'}]\n",
    "    \n",
    "def busquedaInmuebles(listado, presupuesto):\n",
    "    aux = []\n",
    "    for i in listado:\n",
    "        if i['zona'] == 'A':\n",
    "            i['precio'] = precio[0](i['metros'], i['habitaciones'], i['garaje'], i['año'])\n",
    "            if i['precio']<=presupuesto:\n",
    "                aux.append(i)\n",
    "        else:\n",
    "            i['precio'] = precio[1](i['metros'], i['habitaciones'], i['garaje'], i['año'])\n",
    "            if i['precio']<=presupuesto:\n",
    "                aux.append(i)\n",
    "    return aux\n",
    "\n",
    "xd = busquedaInmuebles(inmuebles, 85000)\n",
    "xd"
   ]
  },
  {
   "cell_type": "markdown",
   "metadata": {},
   "source": [
    "# Ejercicio 11"
   ]
  },
  {
   "cell_type": "markdown",
   "metadata": {},
   "source": [
    "Escribir una función que reciba una muestra de números y devuelva los valores atípicos, es decir, los valores cuya puntuación típica sea mayor que 3 o menor que -3. \n",
    "\n",
    "**Nota**: La puntuación típica de un valor se obtiene restando la media y dividiendo por la desviación típica de la muestra."
   ]
  },
  {
   "cell_type": "code",
   "execution_count": 21,
   "metadata": {},
   "outputs": [
    {
     "data": {
      "text/plain": [
       "[3.014975127097941]"
      ]
     },
     "execution_count": 21,
     "metadata": {},
     "output_type": "execute_result"
    }
   ],
   "source": [
    "from statistics import mean, stdev\n",
    "\n",
    "def valoresAtipicos(muestra):\n",
    "    med = mean(muestra)\n",
    "    desv = stdev(muestra)\n",
    "    \n",
    "    valores = list(map(lambda x: (x-med)/desv, muestra))\n",
    "    return list(filter(lambda x: x>3 or x<-3, valores))\n",
    "\n",
    "atipical = valoresAtipicos([1, 2, 3, 4, 5, 6, 7, 8, 9, 10, 1000])\n",
    "atipical"
   ]
  },
  {
   "cell_type": "code",
   "execution_count": null,
   "metadata": {},
   "outputs": [],
   "source": []
  }
 ],
 "metadata": {
  "kernelspec": {
   "display_name": "Python 3",
   "language": "python",
   "name": "python3"
  },
  "language_info": {
   "codemirror_mode": {
    "name": "ipython",
    "version": 3
   },
   "file_extension": ".py",
   "mimetype": "text/x-python",
   "name": "python",
   "nbconvert_exporter": "python",
   "pygments_lexer": "ipython3",
   "version": "3.8.3"
  }
 },
 "nbformat": 4,
 "nbformat_minor": 2
}
