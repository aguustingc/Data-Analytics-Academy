{
  "nbformat": 4,
  "nbformat_minor": 0,
  "metadata": {
    "colab": {
      "name": "PySpark.ipynb",
      "provenance": [],
      "collapsed_sections": []
    },
    "kernelspec": {
      "name": "python3",
      "display_name": "Python 3"
    }
  },
  "cells": [
    {
      "cell_type": "markdown",
      "metadata": {
        "id": "n5uPMzpfspuU"
      },
      "source": [
        "Getting to know PySpark"
      ]
    },
    {
      "cell_type": "code",
      "metadata": {
        "colab": {
          "base_uri": "https://localhost:8080/"
        },
        "id": "wPhpNqlcp3nr",
        "outputId": "54f14b54-74d6-4c3a-ff47-bbb206b3c866"
      },
      "source": [
        "!pip install pyspark\r\n",
        "!apt-get install openjdk-8-jdk-headless -qq > /dev/null\r\n",
        "!wget -q http://www-eu.apache.org/dist/spark/spark-3.0.1/spark-3.0.1-bin-hadoop2.7.tgz\r\n",
        "!tar xf spark-3.0.1-bin-hadoop2.7.tgz\r\n",
        "!pip install -q findspark"
      ],
      "execution_count": 2,
      "outputs": [
        {
          "output_type": "stream",
          "text": [
            "Collecting pyspark\n",
            "\u001b[?25l  Downloading https://files.pythonhosted.org/packages/f0/26/198fc8c0b98580f617cb03cb298c6056587b8f0447e20fa40c5b634ced77/pyspark-3.0.1.tar.gz (204.2MB)\n",
            "\u001b[K     |████████████████████████████████| 204.2MB 68kB/s \n",
            "\u001b[?25hCollecting py4j==0.10.9\n",
            "\u001b[?25l  Downloading https://files.pythonhosted.org/packages/9e/b6/6a4fb90cd235dc8e265a6a2067f2a2c99f0d91787f06aca4bcf7c23f3f80/py4j-0.10.9-py2.py3-none-any.whl (198kB)\n",
            "\u001b[K     |████████████████████████████████| 204kB 26.2MB/s \n",
            "\u001b[?25hBuilding wheels for collected packages: pyspark\n",
            "  Building wheel for pyspark (setup.py) ... \u001b[?25l\u001b[?25hdone\n",
            "  Created wheel for pyspark: filename=pyspark-3.0.1-py2.py3-none-any.whl size=204612243 sha256=2ebbc3fa430fd29f7e266233657892a43a17ea2730051932e4170f23149bc78e\n",
            "  Stored in directory: /root/.cache/pip/wheels/5e/bd/07/031766ca628adec8435bb40f0bd83bb676ce65ff4007f8e73f\n",
            "Successfully built pyspark\n",
            "Installing collected packages: py4j, pyspark\n",
            "Successfully installed py4j-0.10.9 pyspark-3.0.1\n"
          ],
          "name": "stdout"
        }
      ]
    },
    {
      "cell_type": "code",
      "metadata": {
        "id": "jsHiiZdUrC2I"
      },
      "source": [
        "import pyspark as sp"
      ],
      "execution_count": 3,
      "outputs": []
    },
    {
      "cell_type": "code",
      "metadata": {
        "id": "xue4XCOMrGH3"
      },
      "source": [
        "import os\r\n",
        "os.environ[\"JAVA_HOME\"] = \"/usr/lib/jvm/java-8-openjdk-amd64\"\r\n",
        "os.environ[\"SPARK_HOME\"] = \"/content/spark-3.0.1-bin-hadoop2.7\""
      ],
      "execution_count": 5,
      "outputs": []
    },
    {
      "cell_type": "code",
      "metadata": {
        "colab": {
          "base_uri": "https://localhost:8080/"
        },
        "id": "RCjALpBSrZbm",
        "outputId": "75d75556-f3af-4bac-8a50-3feb2c511cc9"
      },
      "source": [
        "!echo $SPARK_HOME"
      ],
      "execution_count": 6,
      "outputs": [
        {
          "output_type": "stream",
          "text": [
            "/content/spark-3.0.1-bin-hadoop2.7\n"
          ],
          "name": "stdout"
        }
      ]
    },
    {
      "cell_type": "code",
      "metadata": {
        "id": "_LTRU9VXrd7H"
      },
      "source": [
        "import findspark\r\n",
        "findspark.init()\r\n",
        "from pyspark.sql import SparkSession\r\n",
        "spark = SparkSession.builder.master(\"local[*]\").getOrCreate()\r\n",
        "#sc = spark.SparkContext.getOrCreate()"
      ],
      "execution_count": 7,
      "outputs": []
    },
    {
      "cell_type": "code",
      "metadata": {
        "colab": {
          "base_uri": "https://localhost:8080/"
        },
        "id": "hI3XRtRSr2te",
        "outputId": "148ae420-beb4-4061-9125-f01ad3353cb3"
      },
      "source": [
        "#Verify SparkContext\r\n",
        "print(spark)\r\n",
        "\r\n",
        "#Print Spark version\r\n",
        "print(spark.version)"
      ],
      "execution_count": 8,
      "outputs": [
        {
          "output_type": "stream",
          "text": [
            "<pyspark.sql.session.SparkSession object at 0x7f3c4627a4a8>\n",
            "3.0.1\n"
          ],
          "name": "stdout"
        }
      ]
    },
    {
      "cell_type": "markdown",
      "metadata": {
        "id": "JCNbsHxGsc49"
      },
      "source": [
        "Creating a SparkSession"
      ]
    },
    {
      "cell_type": "code",
      "metadata": {
        "colab": {
          "base_uri": "https://localhost:8080/"
        },
        "id": "eT1DrFBgsCdl",
        "outputId": "82e5013b-5b65-4d68-b024-d8bbda9bcb42"
      },
      "source": [
        "from pyspark.sql import SparkSession\r\n",
        "\r\n",
        "#Create my_spark\r\n",
        "spark = SparkSession.builder.getOrCreate()\r\n",
        "\r\n",
        "print(spark)"
      ],
      "execution_count": 9,
      "outputs": [
        {
          "output_type": "stream",
          "text": [
            "<pyspark.sql.session.SparkSession object at 0x7f3c4627a4a8>\n"
          ],
          "name": "stdout"
        }
      ]
    },
    {
      "cell_type": "markdown",
      "metadata": {
        "id": "x3kHPr3csxc-"
      },
      "source": [
        "Viewing tables"
      ]
    },
    {
      "cell_type": "code",
      "metadata": {
        "colab": {
          "resources": {
            "http://localhost:8080/nbextensions/google.colab/files.js": {
              "data": "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",
              "ok": true,
              "headers": [
                [
                  "content-type",
                  "application/javascript"
                ]
              ],
              "status": 200,
              "status_text": ""
            }
          },
          "base_uri": "https://localhost:8080/",
          "height": 472
        },
        "id": "IxeUzONQszID",
        "outputId": "1f663ba8-ed48-46ed-ca0d-c7b03ad87eb2"
      },
      "source": [
        "from google.colab import files\r\n",
        "files.upload()\r\n",
        "\r\n",
        "!ls\r\n",
        "\r\n",
        "flights = spark.read.csv('flights_small.csv', inferSchema=True, header=True)\r\n",
        "flights.printSchema()\r\n",
        "\r\n",
        "spark.catalog.listTables()"
      ],
      "execution_count": 16,
      "outputs": [
        {
          "output_type": "display_data",
          "data": {
            "text/html": [
              "\n",
              "     <input type=\"file\" id=\"files-dcd807e7-8544-413b-b0f4-8dd0da6982f2\" name=\"files[]\" multiple disabled\n",
              "        style=\"border:none\" />\n",
              "     <output id=\"result-dcd807e7-8544-413b-b0f4-8dd0da6982f2\">\n",
              "      Upload widget is only available when the cell has been executed in the\n",
              "      current browser session. Please rerun this cell to enable.\n",
              "      </output>\n",
              "      <script src=\"/nbextensions/google.colab/files.js\"></script> "
            ],
            "text/plain": [
              "<IPython.core.display.HTML object>"
            ]
          },
          "metadata": {
            "tags": []
          }
        },
        {
          "output_type": "stream",
          "text": [
            "Saving flights_small.csv to flights_small.csv\n",
            " 13fb36dd18bb2a98b6e233f63c5608ad.jpg   sample_data\n",
            " BD.zip\t\t\t\t        spark-3.0.1-bin-hadoop2.7\n",
            "'flights_small[1].csv'\t\t        spark-3.0.1-bin-hadoop2.7.tgz\n",
            " flights_small.csv\n",
            "root\n",
            " |-- year: integer (nullable = true)\n",
            " |-- month: integer (nullable = true)\n",
            " |-- day: integer (nullable = true)\n",
            " |-- dep_time: string (nullable = true)\n",
            " |-- dep_delay: string (nullable = true)\n",
            " |-- arr_time: string (nullable = true)\n",
            " |-- arr_delay: string (nullable = true)\n",
            " |-- carrier: string (nullable = true)\n",
            " |-- tailnum: string (nullable = true)\n",
            " |-- flight: integer (nullable = true)\n",
            " |-- origin: string (nullable = true)\n",
            " |-- dest: string (nullable = true)\n",
            " |-- air_time: string (nullable = true)\n",
            " |-- distance: integer (nullable = true)\n",
            " |-- hour: string (nullable = true)\n",
            " |-- minute: string (nullable = true)\n",
            "\n"
          ],
          "name": "stdout"
        },
        {
          "output_type": "execute_result",
          "data": {
            "text/plain": [
              "[]"
            ]
          },
          "metadata": {
            "tags": []
          },
          "execution_count": 16
        }
      ]
    },
    {
      "cell_type": "markdown",
      "metadata": {
        "id": "Ln13GVMByQ5J"
      },
      "source": [
        "Are you query-ious?"
      ]
    },
    {
      "cell_type": "code",
      "metadata": {
        "colab": {
          "base_uri": "https://localhost:8080/"
        },
        "id": "lBm6-o4tvC8c",
        "outputId": "60d1980e-f15c-4e8c-85d2-db1daef24b43"
      },
      "source": [
        "flights.createOrReplaceTempView(\"flights\")\r\n",
        "\r\n",
        "query = \"FROM flights SELECT * LIMIT 10\"\r\n",
        "\r\n",
        "flights10 = spark.sql(query)\r\n",
        "\r\n",
        "flights10.show()"
      ],
      "execution_count": 17,
      "outputs": [
        {
          "output_type": "stream",
          "text": [
            "+----+-----+---+--------+---------+--------+---------+-------+-------+------+------+----+--------+--------+----+------+\n",
            "|year|month|day|dep_time|dep_delay|arr_time|arr_delay|carrier|tailnum|flight|origin|dest|air_time|distance|hour|minute|\n",
            "+----+-----+---+--------+---------+--------+---------+-------+-------+------+------+----+--------+--------+----+------+\n",
            "|2014|   12|  8|     658|       -7|     935|       -5|     VX| N846VA|  1780|   SEA| LAX|     132|     954|   6|    58|\n",
            "|2014|    1| 22|    1040|        5|    1505|        5|     AS| N559AS|   851|   SEA| HNL|     360|    2677|  10|    40|\n",
            "|2014|    3|  9|    1443|       -2|    1652|        2|     VX| N847VA|   755|   SEA| SFO|     111|     679|  14|    43|\n",
            "|2014|    4|  9|    1705|       45|    1839|       34|     WN| N360SW|   344|   PDX| SJC|      83|     569|  17|     5|\n",
            "|2014|    3|  9|     754|       -1|    1015|        1|     AS| N612AS|   522|   SEA| BUR|     127|     937|   7|    54|\n",
            "|2014|    1| 15|    1037|        7|    1352|        2|     WN| N646SW|    48|   PDX| DEN|     121|     991|  10|    37|\n",
            "|2014|    7|  2|     847|       42|    1041|       51|     WN| N422WN|  1520|   PDX| OAK|      90|     543|   8|    47|\n",
            "|2014|    5| 12|    1655|       -5|    1842|      -18|     VX| N361VA|   755|   SEA| SFO|      98|     679|  16|    55|\n",
            "|2014|    4| 19|    1236|       -4|    1508|       -7|     AS| N309AS|   490|   SEA| SAN|     135|    1050|  12|    36|\n",
            "|2014|   11| 19|    1812|       -3|    2352|       -4|     AS| N564AS|    26|   SEA| ORD|     198|    1721|  18|    12|\n",
            "+----+-----+---+--------+---------+--------+---------+-------+-------+------+------+----+--------+--------+----+------+\n",
            "\n"
          ],
          "name": "stdout"
        }
      ]
    },
    {
      "cell_type": "markdown",
      "metadata": {
        "id": "9cESMLKtyM7R"
      },
      "source": [
        "Pandafy a Spark DataFrame"
      ]
    },
    {
      "cell_type": "code",
      "metadata": {
        "colab": {
          "base_uri": "https://localhost:8080/"
        },
        "id": "OPTrTtzxxgtM",
        "outputId": "fb18b30f-af5f-4468-ed49-cd2c377dc1e1"
      },
      "source": [
        "query = \"SELECT origin, dest, COUNT(*) as N FROM flights GROUP BY origin, dest\"\r\n",
        "\r\n",
        "flight_counts = spark.sql(query)\r\n",
        "\r\n",
        "pd_counts = flight_counts.toPandas()\r\n",
        "\r\n",
        "print(pd_counts.head())"
      ],
      "execution_count": 19,
      "outputs": [
        {
          "output_type": "stream",
          "text": [
            "  origin dest    N\n",
            "0    SEA  RNO    8\n",
            "1    SEA  DTW   98\n",
            "2    SEA  CLE    2\n",
            "3    SEA  LAX  450\n",
            "4    PDX  SEA  144\n"
          ],
          "name": "stdout"
        }
      ]
    },
    {
      "cell_type": "markdown",
      "metadata": {
        "id": "U-BGoiHzyVii"
      },
      "source": [
        "Put some Spark in your data"
      ]
    },
    {
      "cell_type": "code",
      "metadata": {
        "id": "WDRMI4qZyKVc"
      },
      "source": [
        "import numpy as np\r\n",
        "import pandas as pd"
      ],
      "execution_count": 20,
      "outputs": []
    },
    {
      "cell_type": "code",
      "metadata": {
        "colab": {
          "resources": {
            "http://localhost:8080/nbextensions/google.colab/files.js": {
              "data": "Ly8gQ29weXJpZ2h0IDIwMTcgR29vZ2xlIExMQwovLwovLyBMaWNlbnNlZCB1bmRlciB0aGUgQXBhY2hlIExpY2Vuc2UsIFZlcnNpb24gMi4wICh0aGUgIkxpY2Vuc2UiKTsKLy8geW91IG1heSBub3QgdXNlIHRoaXMgZmlsZSBleGNlcHQgaW4gY29tcGxpYW5jZSB3aXRoIHRoZSBMaWNlbnNlLgovLyBZb3UgbWF5IG9idGFpbiBhIGNvcHkgb2YgdGhlIExpY2Vuc2UgYXQKLy8KLy8gICAgICBodHRwOi8vd3d3LmFwYWNoZS5vcmcvbGljZW5zZXMvTElDRU5TRS0yLjAKLy8KLy8gVW5sZXNzIHJlcXVpcmVkIGJ5IGFwcGxpY2FibGUgbGF3IG9yIGFncmVlZCB0byBpbiB3cml0aW5nLCBzb2Z0d2FyZQovLyBkaXN0cmlidXRlZCB1bmRlciB0aGUgTGljZW5zZSBpcyBkaXN0cmlidXRlZCBvbiBhbiAiQVMgSVMiIEJBU0lTLAovLyBXSVRIT1VUIFdBUlJBTlRJRVMgT1IgQ09ORElUSU9OUyBPRiBBTlkgS0lORCwgZWl0aGVyIGV4cHJlc3Mgb3IgaW1wbGllZC4KLy8gU2VlIHRoZSBMaWNlbnNlIGZvciB0aGUgc3BlY2lmaWMgbGFuZ3VhZ2UgZ292ZXJuaW5nIHBlcm1pc3Npb25zIGFuZAovLyBsaW1pdGF0aW9ucyB1bmRlciB0aGUgTGljZW5zZS4KCi8qKgogKiBAZmlsZW92ZXJ2aWV3IEhlbHBlcnMgZm9yIGdvb2dsZS5jb2xhYiBQeXRob24gbW9kdWxlLgogKi8KKGZ1bmN0aW9uKHNjb3BlKSB7CmZ1bmN0aW9uIHNwYW4odGV4dCwgc3R5bGVBdHRyaWJ1dGVzID0ge30pIHsKICBjb25zdCBlbGVtZW50ID0gZG9jdW1lbnQuY3JlYXRlRWxlbWVudCgnc3BhbicpOwogIGVsZW1lbnQudGV4dENvbnRlbnQgPSB0ZXh0OwogIGZvciAoY29uc3Qga2V5IG9mIE9iamVjdC5rZXlzKHN0eWxlQXR0cmlidXRlcykpIHsKICAgIGVsZW1lbnQuc3R5bGVba2V5XSA9IHN0eWxlQXR0cmlidXRlc1trZXldOwogIH0KICByZXR1cm4gZWxlbWVudDsKfQoKLy8gTWF4IG51bWJlciBvZiBieXRlcyB3aGljaCB3aWxsIGJlIHVwbG9hZGVkIGF0IGEgdGltZS4KY29uc3QgTUFYX1BBWUxPQURfU0laRSA9IDEwMCAqIDEwMjQ7CgpmdW5jdGlvbiBfdXBsb2FkRmlsZXMoaW5wdXRJZCwgb3V0cHV0SWQpIHsKICBjb25zdCBzdGVwcyA9IHVwbG9hZEZpbGVzU3RlcChpbnB1dElkLCBvdXRwdXRJZCk7CiAgY29uc3Qgb3V0cHV0RWxlbWVudCA9IGRvY3VtZW50LmdldEVsZW1lbnRCeUlkKG91dHB1dElkKTsKICAvLyBDYWNoZSBzdGVwcyBvbiB0aGUgb3V0cHV0RWxlbWVudCB0byBtYWtlIGl0IGF2YWlsYWJsZSBmb3IgdGhlIG5leHQgY2FsbAogIC8vIHRvIHVwbG9hZEZpbGVzQ29udGludWUgZnJvbSBQeXRob24uCiAgb3V0cHV0RWxlbWVudC5zdGVwcyA9IHN0ZXBzOwoKICByZXR1cm4gX3VwbG9hZEZpbGVzQ29udGludWUob3V0cHV0SWQpOwp9CgovLyBUaGlzIGlzIHJvdWdobHkgYW4gYXN5bmMgZ2VuZXJhdG9yIChub3Qgc3VwcG9ydGVkIGluIHRoZSBicm93c2VyIHlldCksCi8vIHdoZXJlIHRoZXJlIGFyZSBtdWx0aXBsZSBhc3luY2hyb25vdXMgc3RlcHMgYW5kIHRoZSBQeXRob24gc2lkZSBpcyBnb2luZwovLyB0byBwb2xsIGZvciBjb21wbGV0aW9uIG9mIGVhY2ggc3RlcC4KLy8gVGhpcyB1c2VzIGEgUHJvbWlzZSB0byBibG9jayB0aGUgcHl0aG9uIHNpZGUgb24gY29tcGxldGlvbiBvZiBlYWNoIHN0ZXAsCi8vIHRoZW4gcGFzc2VzIHRoZSByZXN1bHQgb2YgdGhlIHByZXZpb3VzIHN0ZXAgYXMgdGhlIGlucHV0IHRvIHRoZSBuZXh0IHN0ZXAuCmZ1bmN0aW9uIF91cGxvYWRGaWxlc0NvbnRpbnVlKG91dHB1dElkKSB7CiAgY29uc3Qgb3V0cHV0RWxlbWVudCA9IGRvY3VtZW50LmdldEVsZW1lbnRCeUlkKG91dHB1dElkKTsKICBjb25zdCBzdGVwcyA9IG91dHB1dEVsZW1lbnQuc3RlcHM7CgogIGNvbnN0IG5leHQgPSBzdGVwcy5uZXh0KG91dHB1dEVsZW1lbnQubGFzdFByb21pc2VWYWx1ZSk7CiAgcmV0dXJuIFByb21pc2UucmVzb2x2ZShuZXh0LnZhbHVlLnByb21pc2UpLnRoZW4oKHZhbHVlKSA9PiB7CiAgICAvLyBDYWNoZSB0aGUgbGFzdCBwcm9taXNlIHZhbHVlIHRvIG1ha2UgaXQgYXZhaWxhYmxlIHRvIHRoZSBuZXh0CiAgICAvLyBzdGVwIG9mIHRoZSBnZW5lcmF0b3IuCiAgICBvdXRwdXRFbGVtZW50Lmxhc3RQcm9taXNlVmFsdWUgPSB2YWx1ZTsKICAgIHJldHVybiBuZXh0LnZhbHVlLnJlc3BvbnNlOwogIH0pOwp9CgovKioKICogR2VuZXJhdG9yIGZ1bmN0aW9uIHdoaWNoIGlzIGNhbGxlZCBiZXR3ZWVuIGVhY2ggYXN5bmMgc3RlcCBvZiB0aGUgdXBsb2FkCiAqIHByb2Nlc3MuCiAqIEBwYXJhbSB7c3RyaW5nfSBpbnB1dElkIEVsZW1lbnQgSUQgb2YgdGhlIGlucHV0IGZpbGUgcGlja2VyIGVsZW1lbnQuCiAqIEBwYXJhbSB7c3RyaW5nfSBvdXRwdXRJZCBFbGVtZW50IElEIG9mIHRoZSBvdXRwdXQgZGlzcGxheS4KICogQHJldHVybiB7IUl0ZXJhYmxlPCFPYmplY3Q+fSBJdGVyYWJsZSBvZiBuZXh0IHN0ZXBzLgogKi8KZnVuY3Rpb24qIHVwbG9hZEZpbGVzU3RlcChpbnB1dElkLCBvdXRwdXRJZCkgewogIGNvbnN0IGlucHV0RWxlbWVudCA9IGRvY3VtZW50LmdldEVsZW1lbnRCeUlkKGlucHV0SWQpOwogIGlucHV0RWxlbWVudC5kaXNhYmxlZCA9IGZhbHNlOwoKICBjb25zdCBvdXRwdXRFbGVtZW50ID0gZG9jdW1lbnQuZ2V0RWxlbWVudEJ5SWQob3V0cHV0SWQpOwogIG91dHB1dEVsZW1lbnQuaW5uZXJIVE1MID0gJyc7CgogIGNvbnN0IHBpY2tlZFByb21pc2UgPSBuZXcgUHJvbWlzZSgocmVzb2x2ZSkgPT4gewogICAgaW5wdXRFbGVtZW50LmFkZEV2ZW50TGlzdGVuZXIoJ2NoYW5nZScsIChlKSA9PiB7CiAgICAgIHJlc29sdmUoZS50YXJnZXQuZmlsZXMpOwogICAgfSk7CiAgfSk7CgogIGNvbnN0IGNhbmNlbCA9IGRvY3VtZW50LmNyZWF0ZUVsZW1lbnQoJ2J1dHRvbicpOwogIGlucHV0RWxlbWVudC5wYXJlbnRFbGVtZW50LmFwcGVuZENoaWxkKGNhbmNlbCk7CiAgY2FuY2VsLnRleHRDb250ZW50ID0gJ0NhbmNlbCB1cGxvYWQnOwogIGNvbnN0IGNhbmNlbFByb21pc2UgPSBuZXcgUHJvbWlzZSgocmVzb2x2ZSkgPT4gewogICAgY2FuY2VsLm9uY2xpY2sgPSAoKSA9PiB7CiAgICAgIHJlc29sdmUobnVsbCk7CiAgICB9OwogIH0pOwoKICAvLyBXYWl0IGZvciB0aGUgdXNlciB0byBwaWNrIHRoZSBmaWxlcy4KICBjb25zdCBmaWxlcyA9IHlpZWxkIHsKICAgIHByb21pc2U6IFByb21pc2UucmFjZShbcGlja2VkUHJvbWlzZSwgY2FuY2VsUHJvbWlzZV0pLAogICAgcmVzcG9uc2U6IHsKICAgICAgYWN0aW9uOiAnc3RhcnRpbmcnLAogICAgfQogIH07CgogIGNhbmNlbC5yZW1vdmUoKTsKCiAgLy8gRGlzYWJsZSB0aGUgaW5wdXQgZWxlbWVudCBzaW5jZSBmdXJ0aGVyIHBpY2tzIGFyZSBub3QgYWxsb3dlZC4KICBpbnB1dEVsZW1lbnQuZGlzYWJsZWQgPSB0cnVlOwoKICBpZiAoIWZpbGVzKSB7CiAgICByZXR1cm4gewogICAgICByZXNwb25zZTogewogICAgICAgIGFjdGlvbjogJ2NvbXBsZXRlJywKICAgICAgfQogICAgfTsKICB9CgogIGZvciAoY29uc3QgZmlsZSBvZiBmaWxlcykgewogICAgY29uc3QgbGkgPSBkb2N1bWVudC5jcmVhdGVFbGVtZW50KCdsaScpOwogICAgbGkuYXBwZW5kKHNwYW4oZmlsZS5uYW1lLCB7Zm9udFdlaWdodDogJ2JvbGQnfSkpOwogICAgbGkuYXBwZW5kKHNwYW4oCiAgICAgICAgYCgke2ZpbGUudHlwZSB8fCAnbi9hJ30pIC0gJHtmaWxlLnNpemV9IGJ5dGVzLCBgICsKICAgICAgICBgbGFzdCBtb2RpZmllZDogJHsKICAgICAgICAgICAgZmlsZS5sYXN0TW9kaWZpZWREYXRlID8gZmlsZS5sYXN0TW9kaWZpZWREYXRlLnRvTG9jYWxlRGF0ZVN0cmluZygpIDoKICAgICAgICAgICAgICAgICAgICAgICAgICAgICAgICAgICAgJ24vYSd9IC0gYCkpOwogICAgY29uc3QgcGVyY2VudCA9IHNwYW4oJzAlIGRvbmUnKTsKICAgIGxpLmFwcGVuZENoaWxkKHBlcmNlbnQpOwoKICAgIG91dHB1dEVsZW1lbnQuYXBwZW5kQ2hpbGQobGkpOwoKICAgIGNvbnN0IGZpbGVEYXRhUHJvbWlzZSA9IG5ldyBQcm9taXNlKChyZXNvbHZlKSA9PiB7CiAgICAgIGNvbnN0IHJlYWRlciA9IG5ldyBGaWxlUmVhZGVyKCk7CiAgICAgIHJlYWRlci5vbmxvYWQgPSAoZSkgPT4gewogICAgICAgIHJlc29sdmUoZS50YXJnZXQucmVzdWx0KTsKICAgICAgfTsKICAgICAgcmVhZGVyLnJlYWRBc0FycmF5QnVmZmVyKGZpbGUpOwogICAgfSk7CiAgICAvLyBXYWl0IGZvciB0aGUgZGF0YSB0byBiZSByZWFkeS4KICAgIGxldCBmaWxlRGF0YSA9IHlpZWxkIHsKICAgICAgcHJvbWlzZTogZmlsZURhdGFQcm9taXNlLAogICAgICByZXNwb25zZTogewogICAgICAgIGFjdGlvbjogJ2NvbnRpbnVlJywKICAgICAgfQogICAgfTsKCiAgICAvLyBVc2UgYSBjaHVua2VkIHNlbmRpbmcgdG8gYXZvaWQgbWVzc2FnZSBzaXplIGxpbWl0cy4gU2VlIGIvNjIxMTU2NjAuCiAgICBsZXQgcG9zaXRpb24gPSAwOwogICAgd2hpbGUgKHBvc2l0aW9uIDwgZmlsZURhdGEuYnl0ZUxlbmd0aCkgewogICAgICBjb25zdCBsZW5ndGggPSBNYXRoLm1pbihmaWxlRGF0YS5ieXRlTGVuZ3RoIC0gcG9zaXRpb24sIE1BWF9QQVlMT0FEX1NJWkUpOwogICAgICBjb25zdCBjaHVuayA9IG5ldyBVaW50OEFycmF5KGZpbGVEYXRhLCBwb3NpdGlvbiwgbGVuZ3RoKTsKICAgICAgcG9zaXRpb24gKz0gbGVuZ3RoOwoKICAgICAgY29uc3QgYmFzZTY0ID0gYnRvYShTdHJpbmcuZnJvbUNoYXJDb2RlLmFwcGx5KG51bGwsIGNodW5rKSk7CiAgICAgIHlpZWxkIHsKICAgICAgICByZXNwb25zZTogewogICAgICAgICAgYWN0aW9uOiAnYXBwZW5kJywKICAgICAgICAgIGZpbGU6IGZpbGUubmFtZSwKICAgICAgICAgIGRhdGE6IGJhc2U2NCwKICAgICAgICB9LAogICAgICB9OwogICAgICBwZXJjZW50LnRleHRDb250ZW50ID0KICAgICAgICAgIGAke01hdGgucm91bmQoKHBvc2l0aW9uIC8gZmlsZURhdGEuYnl0ZUxlbmd0aCkgKiAxMDApfSUgZG9uZWA7CiAgICB9CiAgfQoKICAvLyBBbGwgZG9uZS4KICB5aWVsZCB7CiAgICByZXNwb25zZTogewogICAgICBhY3Rpb246ICdjb21wbGV0ZScsCiAgICB9CiAgfTsKfQoKc2NvcGUuZ29vZ2xlID0gc2NvcGUuZ29vZ2xlIHx8IHt9OwpzY29wZS5nb29nbGUuY29sYWIgPSBzY29wZS5nb29nbGUuY29sYWIgfHwge307CnNjb3BlLmdvb2dsZS5jb2xhYi5fZmlsZXMgPSB7CiAgX3VwbG9hZEZpbGVzLAogIF91cGxvYWRGaWxlc0NvbnRpbnVlLAp9Owp9KShzZWxmKTsK",
              "ok": true,
              "headers": [
                [
                  "content-type",
                  "application/javascript"
                ]
              ],
              "status": 200,
              "status_text": ""
            }
          },
          "base_uri": "https://localhost:8080/",
          "height": 145
        },
        "id": "gBdt1wj3ynL5",
        "outputId": "442d109f-dddc-41ae-dd8c-747e86f094c3"
      },
      "source": [
        "pd_temp = pd.DataFrame(np.random.random(10))\r\n",
        "\r\n",
        "spark_temp = spark.createDataFrame(pd_temp)\r\n",
        "\r\n",
        "print(spark.catalog.listTables())\r\n",
        "\r\n",
        "spark_temp.name = spark_temp.createOrReplaceTempView('temp')\r\n",
        "\r\n",
        "print(spark.catalog.listTables())\r\n",
        "\r\n",
        "files.upload()"
      ],
      "execution_count": 24,
      "outputs": [
        {
          "output_type": "stream",
          "text": [
            "[Table(name='flights', database=None, description=None, tableType='TEMPORARY', isTemporary=True), Table(name='temp', database=None, description=None, tableType='TEMPORARY', isTemporary=True)]\n",
            "[Table(name='flights', database=None, description=None, tableType='TEMPORARY', isTemporary=True), Table(name='temp', database=None, description=None, tableType='TEMPORARY', isTemporary=True)]\n"
          ],
          "name": "stdout"
        },
        {
          "output_type": "display_data",
          "data": {
            "text/html": [
              "\n",
              "     <input type=\"file\" id=\"files-e63c2bd6-96a4-42de-9cb5-28d5f37c7fbf\" name=\"files[]\" multiple disabled\n",
              "        style=\"border:none\" />\n",
              "     <output id=\"result-e63c2bd6-96a4-42de-9cb5-28d5f37c7fbf\">\n",
              "      Upload widget is only available when the cell has been executed in the\n",
              "      current browser session. Please rerun this cell to enable.\n",
              "      </output>\n",
              "      <script src=\"/nbextensions/google.colab/files.js\"></script> "
            ],
            "text/plain": [
              "<IPython.core.display.HTML object>"
            ]
          },
          "metadata": {
            "tags": []
          }
        },
        {
          "output_type": "stream",
          "text": [
            "Saving airports.csv to airports.csv\n"
          ],
          "name": "stdout"
        },
        {
          "output_type": "execute_result",
          "data": {
            "text/plain": [
              "{'airports.csv': b'\"faa\",\"name\",\"lat\",\"lon\",\"alt\",\"tz\",\"dst\"\\r\\n\"04G\",\"Lansdowne Airport\",41.1304722,-80.6195833,1044,-5,\"A\"\\r\\n\"06A\",\"Moton Field Municipal Airport\",32.4605722,-85.6800278,264,-5,\"A\"\\r\\n\"06C\",\"Schaumburg Regional\",41.9893408,-88.1012428,801,-6,\"A\"\\r\\n\"06N\",\"Randall Airport\",41.431912,-74.3915611,523,-5,\"A\"\\r\\n\"09J\",\"Jekyll Island Airport\",31.0744722,-81.4277778,11,-4,\"A\"\\r\\n\"0A9\",\"Elizabethton Municipal Airport\",36.3712222,-82.1734167,1593,-4,\"A\"\\r\\n\"0G6\",\"Williams County Airport\",41.4673056,-84.5067778,730,-5,\"A\"\\r\\n\"0G7\",\"Finger Lakes Regional Airport\",42.8835647,-76.7812318,492,-5,\"A\"\\r\\n\"0P2\",\"Shoestring Aviation Airfield\",39.7948244,-76.6471914,1000,-5,\"U\"\\r\\n\"0S9\",\"Jefferson County Intl\",48.0538086,-122.8106436,108,-8,\"A\"\\r\\n\"0W3\",\"Harford County Airport\",39.5668378,-76.2024028,409,-5,\"A\"\\r\\n\"10C\",\"Galt Field Airport\",42.4028889,-88.3751111,875,-6,\"U\"\\r\\n\"17G\",\"Port Bucyrus-Crawford County Airport\",40.7815556,-82.9748056,1003,-5,\"A\"\\r\\n\"19A\",\"Jackson County Airport\",34.1758638,-83.5615972,951,-4,\"U\"\\r\\n\"1A3\",\"Martin Campbell Field Airport\",35.0158056,-84.3468333,1789,-4,\"A\"\\r\\n\"1B9\",\"Mansfield Municipal\",42.0001331,-71.1967714,122,-5,\"A\"\\r\\n\"1C9\",\"Frazier Lake Airpark\",54.0133333333333,-124.768333333333,152,-8,\"A\"\\r\\n\"1CS\",\"Clow International Airport\",41.6959744,-88.1292306,670,-6,\"U\"\\r\\n\"1G3\",\"Kent State Airport\",41.1513889,-81.4151111,1134,-4,\"A\"\\r\\n\"1OH\",\"Fortman Airport\",40.5553253,-84.3866186,885,-5,\"U\"\\r\\n\"1RL\",\"Point Roberts Airpark\",48.9797222,-123.0788889,10,-7,\"A\"\\r\\n\"24C\",\"Lowell City Airport\",42.95392,-85.3439058,681,-5,\"A\"\\r\\n\"24J\",\"Suwannee County Airport\",30.300125,-83.0246944,104,-5,\"A\"\\r\\n\"25D\",\"Forest Lake Airport\",45.2477456,-92.9943853,925,-5,\"A\"\\r\\n\"29D\",\"Grove City Airport\",41.1460278,-80.16775,1371,-5,\"A\"\\r\\n\"2A0\",\"Mark Anton Airport\",35.48625,-84.9310833,718,-4,\"A\"\\r\\n\"2G2\",\"Jefferson County Airpark\",40.3602179,-80.7008742,1196,-4,\"A\"\\r\\n\"2G9\",\"Somerset County Airport\",40.0388708,-79.0149951,2275,-5,\"A\"\\r\\n\"2J9\",\"Quincy Municipal Airport\",30.5978708,-84.557425,225,-5,\"A\"\\r\\n\"369\",\"Atmautluak Airport\",60.866667,-162.273056,18,-10,\"A\"\\r\\n\"36U\",\"Heber City Municipal Airport\",40.4818056,-111.4288056,5637,-6,\"A\"\\r\\n\"38W\",\"Lynden Airport\",48.9558961,-122.4581183,106,-8,\"A\"\\r\\n\"3D2\",\"Ephraim-Gibraltar Airport\",45.1354167,-87.1879444,773,-5,\"A\"\\r\\n\"3G3\",\"Wadsworth Municipal\",41.0031572,-81.7564401,974,-5,\"A\"\\r\\n\"3G4\",\"Ashland County Airport\",40.9029722,-82.2556389,1206,-5,\"A\"\\r\\n\"3J1\",\"Ridgeland Airport\",32.4934167,-80.99175,79,-5,\"A\"\\r\\n\"3W2\",\"Put-in-Bay Airport\",41.3521,-82.497,595,-6,\"A\"\\r\\n\"40J\",\"Perry-Foley Airport\",30.0692778,-83.5805833,44,-5,\"A\"\\r\\n\"41N\",\"Braceville Airport\",41.2111675,-80.9692572,900,-5,\"A\"\\r\\n\"47A\",\"Cherokee County Airport\",34.3122175,-84.4221556,1219,-4,\"A\"\\r\\n\"49A\",\"Gilmer County Airport\",34.6282222,-84.5265833,1486,-4,\"A\"\\r\\n\"49X\",\"Chemehuevi Valley\",34.528889,-114.431971,638,-8,\"A\"\\r\\n\"4A4\",\"Polk County Airport - Cornelius Moore Field\",34.0186944,-85.1464722,974,-4,\"A\"\\r\\n\"4A7\",\"Clayton County Tara Field\",33.389099,-84.332397,874,-5,\"A\"\\r\\n\"4A9\",\"Isbell Field Airport\",34.4736944,-85.7213889,877,-5,\"A\"\\r\\n\"4B8\",\"Robertson Field\",41.6893333,-72.8646944,202,-5,\"A\"\\r\\n\"4G0\",\"Pittsburgh-Monroeville Airport\",40.4526389,-79.7749167,1187,-5,\"A\"\\r\\n\"4G2\",\"Hamburg Inc Airport\",42.7008925,-78.9147569,751,-5,\"A\"\\r\\n\"4G4\",\"Youngstown Elser Metro Airport\",40.9617953,-80.6773264,1070,-5,\"A\"\\r\\n\"4I7\",\"Putnam County Airport\",39.6335556,-86.8138056,842,-5,\"U\"\\r\\n\"4U9\",\"Dell Flight Strip\",44.7357483,-112.7200133,6007,-7,\"A\"\\r\\n\"52A\",\"Madison GA Municipal Airport\",33.612125,-83.4604444,694,-5,\"A\"\\r\\n\"54J\",\"DeFuniak Springs Airport\",30.7311111,-86.1537778,289,-5,\"A\"\\r\\n\"55J\",\"Fernandina Beach Municipal Airport\",30.6118333,-81.4611944,16,-4,\"A\"\\r\\n\"57C\",\"East Troy Municipal Airport\",42.7971667,-88.3726111,860,-6,\"A\"\\r\\n\"60J\",\"Ocean Isle Beach Airport\",33.9085056,-78.4366722,32,-5,\"U\"\\r\\n\"6A2\",\"Griffin-Spalding County Airport\",33.2269722,-84.2749444,958,-5,\"A\"\\r\\n\"6K8\",\"Tok Junction Airport\",63.329444,-142.953611,1639,-9,\"A\"\\r\\n\"6S0\",\"Big Timber Airport\",45.8063889,-109.9811111,4492,-7,\"A\"\\r\\n\"6S2\",\"Florence\",43.9828168,-124.1113687,51,-7,\"A\"\\r\\n\"6Y8\",\"Welke Airport\",45.721111,-85.520278,664,-5,\"A\"\\r\\n\"70J\",\"Cairo-Grady County Airport\",30.8879767,-84.1547353,265,-5,\"A\"\\r\\n\"70N\",\"Spring Hill Airport\",41.3473569,-75.4158972,1729,-5,\"A\"\\r\\n\"7A4\",\"Foster Field\",42.4664444,-90.1693889,990,-6,\"A\"\\r\\n\"7D9\",\"Germack Airport\",41.7778322,-80.9039797,820,-5,\"A\"\\r\\n\"7N7\",\"Spitfire Aerodrome\",39.7355633,-75.3977211,40,-5,\"A\"\\r\\n\"8M8\",\"Garland Airport\",44.8065278,-84.2761944,1218,-5,\"A\"\\r\\n\"93C\",\"Richland Airport\",43.2833575,-90.2982819,742,-6,\"A\"\\r\\n\"99N\",\"Bamberg County Airport\",33.3045278,-81.1084167,231,-5,\"A\"\\r\\n\"9A1\",\"Covington Municipal Airport\",33.6323083,-83.8474472,809,-4,\"A\"\\r\\n\"9A5\",\"Barwick Lafayette Airport\",34.6884792,-85.2903319,777,-4,\"A\"\\r\\n\"A39\",\"Phoenix Regional Airport\",32.99169921875,-111.920997619629,1300,-7,\"A\"\\r\\n\"AAF\",\"Apalachicola Regional Airport\",29.7276066,-85.0274416,20,-6,\"A\"\\r\\n\"ABE\",\"Lehigh Valley Intl\",40.652083,-75.440806,393,-5,\"A\"\\r\\n\"ABI\",\"Abilene Rgnl\",32.411319,-99.681897,1791,-6,\"A\"\\r\\n\"ABL\",\"Ambler Airport\",67.106389,-157.8575,334,-9,\"A\"\\r\\n\"ABQ\",\"Albuquerque International Sunport\",35.0402222,-106.6091944,5355,-7,\"A\"\\r\\n\"ABR\",\"Aberdeen Regional Airport\",45.4491,-98.4218,1302,-6,\"A\"\\r\\n\"ABY\",\"Southwest Georgia Regional Airport\",31.5355,-84.1945,197,-5,\"A\"\\r\\n\"ACK\",\"Nantucket Mem\",41.253053,-70.060181,48,-5,\"A\"\\r\\n\"ACT\",\"Waco Rgnl\",31.611289,-97.230519,516,-6,\"A\"\\r\\n\"ACV\",\"Arcata\",40.978111,-124.108611,221,-8,\"A\"\\r\\n\"ACY\",\"Atlantic City Intl\",39.457583,-74.577167,75,-5,\"A\"\\r\\n\"ADK\",\"Adak Airport\",51.878,-176.646,18,-10,\"A\"\\r\\n\"ADM\",\"Ardmore Muni\",34.300833,-97.008889,762,-6,\"A\"\\r\\n\"ADQ\",\"Kodiak\",57.749967,-152.493856,78,-9,\"A\"\\r\\n\"ADS\",\"Addison\",32.9685594,-96.8364478,644,-5,\"A\"\\r\\n\"ADW\",\"Andrews Afb\",38.810806,-76.867028,280,-5,\"A\"\\r\\n\"AET\",\"Allakaket Airport\",66.5519,-152.6222,441,-8,\"A\"\\r\\n\"AEX\",\"Alexandria Intl\",31.3274,-92.549833,89,-6,\"A\"\\r\\n\"AFE\",\"Kake Airport\",56.961389,-133.910278,172,-9,\"A\"\\r\\n\"AFW\",\"Fort Worth Alliance Airport\",32.987778,-97.318889,722,-6,\"A\"\\r\\n\"AGC\",\"Allegheny County Airport\",40.3544,-79.9302,1252,-5,\"A\"\\r\\n\"AGN\",\"Angoon Seaplane Base\",57.503611,-134.585,0,-9,\"A\"\\r\\n\"AGS\",\"Augusta Rgnl At Bush Fld\",33.369944,-81.9645,144,-5,\"A\"\\r\\n\"AHN\",\"Athens Ben Epps Airport\",33.9486,-83.3263,808,-5,\"A\"\\r\\n\"AIA\",\"Alliance Municipal Airport\",42.053333,-102.803889,3931,-7,\"A\"\\r\\n\"AIK\",\"Municipal Airport\",33.6493889,-81.6850278,529,-5,\"A\"\\r\\n\"AIN\",\"Wainwright Airport\",70.638056,-159.994722,41,-9,\"A\"\\r\\n\"AIZ\",\"Lee C Fine Memorial Airport\",38.096035,-92.5494875,869,-5,\"A\"\\r\\n\"AKB\",\"Atka Airport\",52.220278,-174.206389,56,-9,\"A\"\\r\\n\"AKC\",\"Akron Fulton Intl\",41.0375,-81.466917,1067,-5,\"A\"\\r\\n\"AKI\",\"Akiak Airport\",60.902778,-161.230556,30,-9,\"A\"\\r\\n\"AKK\",\"Akhiok Airport\",56.938611,-154.1825,44,-9,\"A\"\\r\\n\"AKN\",\"King Salmon\",58.676778,-156.649278,68,-9,\"A\"\\r\\n\"AKP\",\"Anaktuvuk Pass Airport\",68.1336,-151.743,2103,-9,\"A\"\\r\\n\"ALB\",\"Albany Intl\",42.748267,-73.801692,285,-5,\"A\"\\r\\n\"ALI\",\"Alice Intl\",27.740889,-98.026944,178,-6,\"A\"\\r\\n\"ALM\",\"Alamogordo White Sands Regional Airport\",32.8399,-105.991,4200,-7,\"A\"\\r\\n\"ALO\",\"Waterloo Regional Airport\",42.5571,-92.4003,873,-6,\"A\"\\r\\n\"ALS\",\"San Luis Valley Regional Airport\",37.435,-105.866667,7539,-7,\"A\"\\r\\n\"ALW\",\"Walla Walla Regional Airport\",46.0949,-118.288,1191,-8,\"A\"\\r\\n\"ALX\",\"Alexandria\",38.806346,-77.0621,1,-5,\"A\"\\r\\n\"ALZ\",\"Alitak Seaplane Base\",56.899444,-154.247778,0,-9,\"A\"\\r\\n\"AMA\",\"Rick Husband Amarillo Intl\",35.219369,-101.705931,3607,-6,\"A\"\\r\\n\"ANB\",\"Anniston Metro\",33.588167,-85.858111,612,-6,\"A\"\\r\\n\"ANC\",\"Ted Stevens Anchorage Intl\",61.174361,-149.996361,152,-9,\"A\"\\r\\n\"AND\",\"Anderson Rgnl\",34.494583,-82.709389,782,-5,\"A\"\\r\\n\"ANI\",\"Aniak Airport\",61.5816,-159.543,88,-9,\"A\"\\r\\n\"ANN\",\"Annette Island\",55.042436,-131.572233,119,-9,\"A\"\\r\\n\"ANP\",\"Lee Airport\",38.942778,-76.568333,34,-5,\"A\"\\r\\n\"ANQ\",\"Tri-State Steuben County Airport\",41.6396983,-85.0834933,995,-5,\"A\"\\r\\n\"ANV\",\"Anvik Airport\",62.6467,-160.191,309,-9,\"A\"\\r\\n\"AOH\",\"Lima Allen County Airport\",40.707478,-84.0270781,975,-5,\"A\"\\r\\n\"AOO\",\"Altoona Blair Co\",40.296372,-78.320022,1504,-5,\"A\"\\r\\n\"AOS\",\"Amook Bay Seaplane Base\",57.471389,-153.815278,0,-9,\"A\"\\r\\n\"APA\",\"Centennial\",39.570129,-104.849294,5883,-7,\"A\"\\r\\n\"APC\",\"Napa County Airport\",38.2131944,-122.2806944,35,-7,\"A\"\\r\\n\"APF\",\"Naples Muni\",26.152619,-81.775294,8,-5,\"A\"\\r\\n\"APG\",\"Phillips Aaf\",39.466219,-76.168808,57,-5,\"A\"\\r\\n\"APN\",\"Alpena County Regional Airport\",45.0781,-83.5603,689,-5,\"A\"\\r\\n\"AQC\",\"Klawock Seaplane Base\",55.554658,-133.101693,0,-9,\"A\"\\r\\n\"ARA\",\"Acadiana Rgnl\",30.037758,-91.883896,24,-6,\"A\"\\r\\n\"ARB\",\"Ann Arbor Municipal Airport\",42.132274,-83.444418,839,-5,\"A\"\\r\\n\"ARC\",\"Arctic Village Airport\",68.1147,-145.579,2092,-9,\"A\"\\r\\n\"ART\",\"Watertown Intl\",43.991922,-76.021739,325,-5,\"A\"\\r\\n\"ARV\",\"Lakeland\",45.927778,-89.730833,1629,-6,\"A\"\\r\\n\"ASE\",\"Aspen Pitkin County Sardy Field\",39.2232,-106.869,7820,-7,\"A\"\\r\\n\"ASH\",\"Boire Field Airport\",42.78175,-71.5147778,199,-4,\"A\"\\r\\n\"AST\",\"Astoria Regional Airport\",46.157972,-123.878694,15,-8,\"A\"\\r\\n\"ATK\",\"Atqasuk Edward Burnell Sr Memorial Airport\",70.4673,-157.436,96,-9,\"A\"\\r\\n\"ATL\",\"Hartsfield Jackson Atlanta Intl\",33.636719,-84.428067,1026,-5,\"A\"\\r\\n\"ATT\",\"Camp Mabry Austin City\",30.31666,-97.7666,0,-6,\"A\"\\r\\n\"ATW\",\"Appleton\",44.257526,-88.507576,680,-6,\"A\"\\r\\n\"ATY\",\"Watertown Regional Airport\",44.914,-97.1547,1748,-6,\"A\"\\r\\n\"AUG\",\"Augusta State\",44.320647,-69.797317,352,-5,\"A\"\\r\\n\"AUK\",\"Alakanuk Airport\",62.68,-164.66,10,-9,\"A\"\\r\\n\"AUS\",\"Austin Bergstrom Intl\",30.194528,-97.669889,542,-6,\"A\"\\r\\n\"AUW\",\"Wausau Downtown Airport\",44.9262845,-89.6270018,1201,-6,\"U\"\\r\\n\"AVL\",\"Asheville Regional Airport\",35.436194,-82.541806,2165,-5,\"A\"\\r\\n\"AVO\",\"Executive\",27.591389,-81.528889,160,-5,\"A\"\\r\\n\"AVP\",\"Wilkes Barre Scranton Intl\",41.338478,-75.723403,962,-5,\"A\"\\r\\n\"AVW\",\"Marana Regional\",32.409556,-111.218388,2031,-7,\"U\"\\r\\n\"AVX\",\"Avalon\",33.405,-118.415833,1602,-8,\"A\"\\r\\n\"AZA\",\"Phoenix-Mesa Gateway\",33.307833,-111.655,1382,-7,\"N\"\\r\\n\"AZO\",\"Kalamazoo\",42.234875,-85.552058,874,-5,\"A\"\\r\\n\"BAB\",\"Beale Afb\",39.136089,-121.436567,113,-8,\"A\"\\r\\n\"BAD\",\"Barksdale Afb\",32.50182,-93.662674,166,-6,\"A\"\\r\\n\"BAF\",\"Barnes Municipal\",42.1579472,-72.715875,270,-4,\"A\"\\r\\n\"BBX\",\"Wings Field\",40.1375,-75.265,302,-5,\"A\"\\r\\n\"BCE\",\"Bryce Canyon\",37.706444,-112.145806,7590,-7,\"A\"\\r\\n\"BCT\",\"Boca Raton\",26.3785,-80.107694,13,-5,\"A\"\\r\\n\"BDE\",\"Baudette Intl\",48.728444,-94.612222,1086,-6,\"A\"\\r\\n\"BDL\",\"Bradley Intl\",41.938889,-72.683222,173,-5,\"A\"\\r\\n\"BDR\",\"Igor I Sikorsky Mem\",41.163472,-73.126167,9,-5,\"A\"\\r\\n\"BEC\",\"Beech Factory Airport\",37.6939167,-97.2149167,1409,-5,\"A\"\\r\\n\"BED\",\"Laurence G Hanscom Fld\",42.469953,-71.289031,133,-5,\"A\"\\r\\n\"BEH\",\"Southwest Michigan Regional Airport\",42.1285833,-86.4285,643,-5,\"A\"\\r\\n\"BET\",\"Bethel\",60.779778,-161.838,121,-9,\"A\"\\r\\n\"BFD\",\"Bradford Regional Airport\",41.8031,-78.6401,2143,-5,\"A\"\\r\\n\"BFF\",\"Western Nebraska Regional Airport\",41.874,-103.596,3967,-7,\"A\"\\r\\n\"BFI\",\"Boeing Fld King Co Intl\",47.53,-122.301947,21,-8,\"A\"\\r\\n\"BFL\",\"Meadows Fld\",35.433598,-119.05677,507,-8,\"A\"\\r\\n\"BFM\",\"Mobile Downtown\",30.626783,-88.068092,26,-6,\"A\"\\r\\n\"BFP\",\"Beaver Falls\",40.7724722,-80.3914444,1253,-4,\"A\"\\r\\n\"BFT\",\"Beaufort\",32.477411,-80.723161,37,-5,\"A\"\\r\\n\"BFT\",\"BFT County Airport\",32.41083,-80.635,500,-5,\"A\"\\r\\n\"BGE\",\"Decatur County Industrial Air Park\",30.9715981,-84.6369278,141,-5,\"A\"\\r\\n\"BGM\",\"Greater Binghamton Edwin A Link Fld\",42.208689,-75.979839,1636,-5,\"A\"\\r\\n\"BGR\",\"Bangor Intl\",44.807444,-68.828139,192,-5,\"A\"\\r\\n\"BHB\",\"Hancock County - Bar Harbor\",44.4497689,-68.3615653,83,-5,\"A\"\\r\\n\"BHM\",\"Birmingham Intl\",33.562942,-86.75355,644,-6,\"A\"\\r\\n\"BID\",\"Block Island State Airport\",41.168056,-71.577778,108,-5,\"A\"\\r\\n\"BIF\",\"Biggs Aaf\",31.849528,-106.380039,3948,-7,\"A\"\\r\\n\"BIG\",\"Allen Aaf\",63.994547,-145.721642,1291,-9,\"A\"\\r\\n\"BIL\",\"Billings Logan International Airport\",45.80921,-108.537654,3652,-7,\"A\"\\r\\n\"BIS\",\"Bismarck Municipal Airport\",46.775842,-100.757931,1661,-6,\"A\"\\r\\n\"BIV\",\"Tulip City Airport\",42.7427778,-86.1078333,698,-5,\"A\"\\r\\n\"BIX\",\"Keesler Afb\",30.410425,-88.924433,33,-6,\"A\"\\r\\n\"BJC\",\"Rocky Mountain Metropolitan Airport\",39.90888888,-105.11722222,5670,-7,\"A\"\\r\\n\"BJI\",\"Bemidji Regional Airport\",47.510722,-94.934722,1391,-6,\"A\"\\r\\n\"BKC\",\"Buckland Airport\",65.981667,-161.149167,31,-9,\"A\"\\r\\n\"BKD\",\"Stephens Co\",32.719047,-98.891,1284,-6,\"A\"\\r\\n\"BKF\",\"Buckley Afb\",39.701668,-104.75166,5662,-7,\"A\"\\r\\n\"BKG\",\"Branson LLC\",36.531994,-93.200556,1302,-6,\"A\"\\r\\n\"BKH\",\"Barking Sands Pmrf\",22.022833,-159.785,23,-10,\"A\"\\r\\n\"BKL\",\"Burke Lakefront Airport\",41.5175,-81.683333,583,-5,\"A\"\\r\\n\"BKW\",\"Raleigh County Memorial Airport\",37.7873,-81.1242,2504,-5,\"A\"\\r\\n\"BKX\",\"Brookings Regional Airport\",44.3048,-96.8169,1648,-6,\"A\"\\r\\n\"BLD\",\"Boulder City Municipal Airport\",35.5651,-114.514,2201,-8,\"U\"\\r\\n\"BLF\",\"Mercer County Airport\",37.2958,-81.2077,2857,-5,\"A\"\\r\\n\"BLH\",\"Blythe Airport\",33.619167,-114.716889,399,-8,\"A\"\\r\\n\"BLI\",\"Bellingham Intl\",48.792694,-122.537528,170,-8,\"A\"\\r\\n\"BLV\",\"Scott Afb Midamerica\",38.545178,-89.835183,459,-6,\"A\"\\r\\n\"BMC\",\"Brigham City\",41.552,-112.062,4229,-7,\"A\"\\r\\n\"BMG\",\"Monroe County Airport\",39.1460208,-86.6166805,846,-5,\"A\"\\r\\n\"BMI\",\"Central Illinois Rgnl\",40.477111,-88.915917,871,-6,\"A\"\\r\\n\"BMX\",\"Big Mountain Afs\",59.361247,-155.258822,663,-9,\"A\"\\r\\n\"BNA\",\"Nashville Intl\",36.124472,-86.678194,599,-6,\"A\"\\r\\n\"BOI\",\"Boise Air Terminal\",43.564361,-116.222861,2871,-7,\"A\"\\r\\n\"BOS\",\"General Edward Lawrence Logan Intl\",42.364347,-71.005181,19,-5,\"A\"\\r\\n\"BOW\",\"Bartow Municipal Airport\",27.9434,-81.7834,125,-6,\"U\"\\r\\n\"BPT\",\"Southeast Texas Rgnl\",29.950833,-94.020694,15,-6,\"A\"\\r\\n\"BQK\",\"Brunswick Golden Isles Airport\",31.2588,-81.4665,26,-5,\"A\"\\r\\n\"BRD\",\"Brainerd Lakes Rgnl\",46.398308,-94.138078,1226,-6,\"U\"\\r\\n\"BRL\",\"Southeast Iowa Regional Airport\",40.7832,-91.1255,698,-6,\"A\"\\r\\n\"BRO\",\"Brownsville South Padre Island Intl\",25.906833,-97.425861,22,-6,\"A\"\\r\\n\"BRW\",\"Wiley Post Will Rogers Mem\",71.285446,-156.766003,44,-9,\"A\"\\r\\n\"BSF\",\"Bradshaw Aaf\",19.760056,-155.553717,6190,-10,\"A\"\\r\\n\"BTI\",\"Barter Island Lrrs\",70.133989,-143.581867,2,-9,\"A\"\\r\\n\"BTM\",\"Bert Mooney Airport\",45.954806,-112.497472,5550,-7,\"A\"\\r\\n\"BTR\",\"Baton Rouge Metro Ryan Fld\",30.533167,-91.149639,70,-6,\"A\"\\r\\n\"BTT\",\"Bettles\",66.913944,-151.529056,644,-9,\"A\"\\r\\n\"BTV\",\"Burlington Intl\",44.471861,-73.153278,335,-5,\"A\"\\r\\n\"BUF\",\"Buffalo Niagara Intl\",42.940525,-78.732167,724,-5,\"A\"\\r\\n\"BUR\",\"Bob Hope\",34.200667,-118.358667,778,-8,\"A\"\\r\\n\"BUU\",\"Municipal Airport\",42.6907171,-88.3046825,780,-6,\"A\"\\r\\n\"BUY\",\"Burlington-Alamance Regional Airport\",36.0485433,-79.4748892,617,-4,\"A\"\\r\\n\"BVY\",\"Beverly Municipal Airport\",42.584141,-70.9161444,107,-5,\"A\"\\r\\n\"BWD\",\"KBWD\",31.7936111,-98.9565,1387,-6,\"A\"\\r\\n\"BWG\",\"Bowling Green-Warren County Regional Airport\",36.9645278,-86.4196667,547,-5,\"A\"\\r\\n\"BWI\",\"Baltimore Washington Intl\",39.175361,-76.668333,146,-5,\"A\"\\r\\n\"BXK\",\"Buckeye Municipal Airport\",33.420417,-112.68618,1033,-7,\"U\"\\r\\n\"BXS\",\"Borrego Valley Airport\",33.2590278,-116.3209722,520,-7,\"A\"\\r\\n\"BYH\",\"Arkansas Intl\",35.964347,-89.943956,254,-6,\"A\"\\r\\n\"BYS\",\"Bicycle Lake Aaf\",35.280531,-116.630031,2350,-8,\"A\"\\r\\n\"BYW\",\"Blakely Island Airport\",48.56025,-122.80243,0,-8,\"A\"\\r\\n\"BZN\",\"Gallatin Field\",45.777643,-111.160151,4500,-7,\"A\"\\r\\n\"C02\",\"Grand Geneva Resort Airport\",42.6149167,-88.3895833,835,-6,\"U\"\\r\\n\"C16\",\"Frasca Field\",40.144979,-88.200197,735,-6,\"A\"\\r\\n\"C47\",\"Portage Municipal Airport\",43.5603136,-89.4828607,825,-6,\"U\"\\r\\n\"C65\",\"Plymouth Municipal Airport\",41.3651307,-86.3002574,800,-5,\"A\"\\r\\n\"C89\",\"Sylvania Airport\",42.70325,-87.9589722,785,-6,\"A\"\\r\\n\"C91\",\"Dowagiac Municipal Airport\",41.9929342,-86.1280125,748,-5,\"U\"\\r\\n\"CAE\",\"Columbia Metropolitan\",33.938833,-81.119528,236,-5,\"A\"\\r\\n\"CAK\",\"Akron Canton Regional Airport\",40.9160833,-81.4421944,1228,-5,\"A\"\\r\\n\"CAR\",\"Caribou Muni\",46.8715,-68.017917,626,-4,\"A\"\\r\\n\"CBE\",\"Greater Cumberland Rgnl.\",39.615278,-78.760556,775,-5,\"A\"\\r\\n\"CBM\",\"Columbus Afb\",33.643833,-88.443833,219,-6,\"A\"\\r\\n\"CCO\",\"Coweta County Airport\",33.3115656,-84.7697554,970,-5,\"A\"\\r\\n\"CCR\",\"Buchanan Field Airport\",37.9896667,-122.0568889,26,-8,\"A\"\\r\\n\"CDB\",\"Cold Bay\",55.206061,-162.725436,96,-9,\"A\"\\r\\n\"CDC\",\"Cedar City Rgnl\",37.700967,-113.098847,5622,-7,\"A\"\\r\\n\"CDI\",\"Cambridge Municipal Airport\",39.9750278,-81.5775833,799,-5,\"U\"\\r\\n\"CDK\",\"CedarKey\",29.1342222,-83.0504722,11,-4,\"A\"\\r\\n\"CDN\",\"Woodward Field\",34.2835833,-80.5648611,302,-5,\"A\"\\r\\n\"CDR\",\"Chadron Municipal Airport\",42.8375,-103.095556,3297,-7,\"A\"\\r\\n\"CDS\",\"Childress Muni\",34.433781,-100.287992,1954,-6,\"A\"\\r\\n\"CDV\",\"Merle K Mudhole Smith\",60.491778,-145.477556,48,-9,\"A\"\\r\\n\"CDW\",\"Caldwell Essex County Airport\",40.8752222,-74.2813611,172,-5,\"A\"\\r\\n\"CEC\",\"Del Norte County Airport\",41.7802,-124.237,57,-8,\"A\"\\r\\n\"CEF\",\"Westover Arb Metropolitan\",42.194014,-72.534783,241,-5,\"A\"\\r\\n\"CEM\",\"Central Airport\",65.573889,-144.780833,937,-9,\"A\"\\r\\n\"CEU\",\"Clemson\",34.6722222,-82.8858889,891,-4,\"A\"\\r\\n\"CEW\",\"Bob Sikes\",30.778833,-86.522111,213,-6,\"A\"\\r\\n\"CEZ\",\"Cortez Muni\",37.303,-108.628056,5918,-7,\"A\"\\r\\n\"CFD\",\"Coulter Fld\",30.715694,-96.331361,367,-6,\"A\"\\r\\n\"CGA\",\"Craig Seaplane Base\",55.478889,-133.147778,0,-9,\"A\"\\r\\n\"CGF\",\"Cuyahoga County\",41.565124,-81.4863555,879,-5,\"A\"\\r\\n\"CGI\",\"Cape Girardeau Regional Airport\",37.2253,-89.5708,342,-6,\"A\"\\r\\n\"CGX\",\"Meigs Field\",41.860278,-87.609722,585,-6,\"A\"\\r\\n\"CGZ\",\"Casa Grande Municipal Airport\",32.954889,-111.766832,1464,-7,\"U\"\\r\\n\"CHA\",\"Lovell Fld\",35.035278,-85.203808,683,-5,\"A\"\\r\\n\"CHI\",\"All Airports\",41.883611,-87.631667,596,-6,\"A\"\\r\\n\"CHO\",\"Charlottesville-Albemarle\",38.138639,-78.452861,639,-5,\"A\"\\r\\n\"CHS\",\"Charleston Afb Intl\",32.898647,-80.040528,45,-5,\"A\"\\r\\n\"CHU\",\"Chuathbaluk Airport\",61.579167,-159.215556,243,-9,\"A\"\\r\\n\"CIC\",\"Chico Muni\",39.795383,-121.858422,238,-8,\"A\"\\r\\n\"CID\",\"Cedar Rapids\",41.884694,-91.710806,869,-6,\"A\"\\r\\n\"CIK\",\"Chalkyitsik Airport\",66.645,-143.74,544,-9,\"A\"\\r\\n\"CIL\",\"Council Airport\",64.897778,-163.703333,85,-9,\"A\"\\r\\n\"CIU\",\"Chippewa County International Airport\",46.2508,-84.4724,800,-5,\"A\"\\r\\n\"CKB\",\"Harrison Marion Regional Airport\",39.2966,-80.2281,1217,-5,\"A\"\\r\\n\"CKD\",\"Crooked Creek Airport\",61.867778,-158.135,178,-9,\"A\"\\r\\n\"CKF\",\"Crisp County Cordele Airport\",31.9888333,-83.7739167,310,-5,\"A\"\\r\\n\"CKV\",\"Clarksville-Montgomery County Regional Airport\",36.621944,-87.415,550,-5,\"A\"\\r\\n\"CLC\",\"Clear Lake Metroport\",29.5569,-95.137497,35,6,\"A\"\\r\\n\"CLD\",\"McClellan-Palomar Airport\",33.0742,-117.1648,328,-8,\"A\"\\r\\n\"CLE\",\"Cleveland Hopkins Intl\",41.411689,-81.849794,791,-5,\"A\"\\r\\n\"CLL\",\"Easterwood Fld\",30.588583,-96.363833,321,-6,\"A\"\\r\\n\"CLM\",\"William R Fairchild International Airport\",48.1202,-123.5,291,-8,\"A\"\\r\\n\"CLT\",\"Charlotte Douglas Intl\",35.214,-80.943139,748,-5,\"A\"\\r\\n\"CLW\",\"Clearwater Air Park\",27.9764722,-82.7586667,70,-5,\"A\"\\r\\n\"CMH\",\"Port Columbus Intl\",39.997972,-82.891889,815,-5,\"A\"\\r\\n\"CMI\",\"Champaign\",40.03925,-88.278056,754,-6,\"A\"\\r\\n\"CMX\",\"Houghton County Memorial Airport\",47.1684,-88.4891,1095,-5,\"A\"\\r\\n\"CNM\",\"Cavern City Air Terminal\",32.337472,-104.263278,3295,-7,\"A\"\\r\\n\"CNW\",\"Tstc Waco\",31.637831,-97.074139,470,-6,\"A\"\\r\\n\"CNY\",\"Canyonlands Field\",38.755,-109.754722,4555,-7,\"A\"\\r\\n\"COD\",\"Yellowstone Rgnl\",44.520194,-109.023806,5102,-7,\"A\"\\r\\n\"COF\",\"Patrick Afb\",28.234922,-80.610125,8,-5,\"A\"\\r\\n\"CON\",\"Concord Municipal\",43.20267,-71.50233,342,-5,\"A\"\\r\\n\"COS\",\"City Of Colorado Springs Muni\",38.805805,-104.700778,6187,-7,\"A\"\\r\\n\"COT\",\"Cotulla Lasalle Co\",28.456694,-99.220294,474,-6,\"A\"\\r\\n\"COU\",\"Columbia Rgnl\",38.818094,-92.219631,889,-6,\"A\"\\r\\n\"CPR\",\"Natrona Co Intl\",42.908,-106.464417,5347,-7,\"A\"\\r\\n\"CPS\",\"St. Louis Downtown Airport\",38.5707244,-90.1562211,413,-6,\"U\"\\r\\n\"CRE\",\"Grand Strand Airport\",33.81175,-78.7239444,31,-4,\"A\"\\r\\n\"CRP\",\"Corpus Christi Intl\",27.770361,-97.501222,44,-6,\"A\"\\r\\n\"CRW\",\"Yeager\",38.373147,-81.593189,981,-5,\"A\"\\r\\n\"CSG\",\"Columbus Metropolitan Airport\",32.5163333,-84.9388611,397,-5,\"A\"\\r\\n\"CTB\",\"Cut Bank Muni\",48.608353,-112.376144,3854,-7,\"A\"\\r\\n\"CTH\",\"Chester County G O Carlson Airport\",39.9789,-75.8654,660,-5,\"A\"\\r\\n\"CTJ\",\"West Georgia Regional Airport - O V Gray Field\",33.6316964,-85.1522641,1165,-4,\"A\"\\r\\n\"CTY\",\"Cross City\",29.6355278,-83.10475,42,-4,\"A\"\\r\\n\"CVG\",\"Cincinnati Northern Kentucky Intl\",39.048836,-84.667822,896,-5,\"A\"\\r\\n\"CVN\",\"Clovis Muni\",34.425139,-103.079278,4216,-6,\"A\"\\r\\n\"CVS\",\"Cannon Afb\",34.382775,-103.322147,4295,-7,\"A\"\\r\\n\"CVX\",\"Charlevoix Municipal Airport\",45.3047778,-85.2753333,669,-5,\"A\"\\r\\n\"CWA\",\"Central Wisconsin\",44.772726,-89.646635,840,-6,\"A\"\\r\\n\"CWI\",\"Clinton Municipal\",41.83075,-90.3289722,708,-6,\"A\"\\r\\n\"CXF\",\"Coldfoot Airport\",67.251389,-150.176111,1014,-9,\"A\"\\r\\n\"CXL\",\"Calexico Intl\",32.669502,-115.51333,4,-8,\"A\"\\r\\n\"CXO\",\"Lone Star Executive\",30.351833,-95.414467,245,-6,\"A\"\\r\\n\"CXY\",\"Capital City Airport\",40.2171389,-76.8513611,347,-5,\"A\"\\r\\n\"CYF\",\"Chefornak Airport\",60.149167,-164.285556,40,-9,\"A\"\\r\\n\"CYM\",\"Chatham Seaplane Base\",57.515,-134.946111,0,-9,\"A\"\\r\\n\"CYS\",\"Cheyenne Rgnl Jerry Olson Fld\",41.155722,-104.811839,6156,-7,\"A\"\\r\\n\"CYT\",\"Yakataga Airport\",60.081901,-142.493611,12,-9,\"A\"\\r\\n\"CZF\",\"Cape Romanzof Lrrs\",61.780297,-166.038747,457,-9,\"A\"\\r\\n\"CZN\",\"Chisana Airport\",62.071111,-142.048333,1011,-9,\"A\"\\r\\n\"DAB\",\"Daytona Beach Intl\",29.179917,-81.058056,34,-5,\"A\"\\r\\n\"DAL\",\"Dallas Love Fld\",32.847111,-96.851778,487,-6,\"A\"\\r\\n\"DAY\",\"James M Cox Dayton Intl\",39.902375,-84.219375,1009,-5,\"A\"\\r\\n\"DBQ\",\"Dubuque Rgnl\",42.402,-90.709472,1076,-6,\"A\"\\r\\n\"DCA\",\"Ronald Reagan Washington Natl\",38.852083,-77.037722,15,-5,\"A\"\\r\\n\"DDC\",\"Dodge City Regional Airport\",37.7634,-99.9656,2594,-6,\"A\"\\r\\n\"DEC\",\"Decatur\",39.834564,-88.865689,682,-6,\"A\"\\r\\n\"DEN\",\"Denver Intl\",39.861656,-104.673178,5431,-7,\"A\"\\r\\n\"DET\",\"Coleman A Young Muni\",42.409195,-83.009861,626,-5,\"A\"\\r\\n\"DFW\",\"Dallas Fort Worth Intl\",32.896828,-97.037997,607,-6,\"A\"\\r\\n\"DGL\",\"Douglas Municipal Airport\",31.3426028,-109.5064544,4173,-7,\"N\"\\r\\n\"DHN\",\"Dothan Rgnl\",31.321339,-85.449628,401,-6,\"A\"\\r\\n\"DHT\",\"Dalhart Muni\",36.022586,-102.547278,3991,-6,\"A\"\\r\\n\"DIK\",\"Dickinson Theodore Roosevelt Regional Airport\",46.7975,-102.801944,2592,-5,\"A\"\\r\\n\"DKB\",\"De Kalb Taylor Municipal Airport\",41.9338342,-88.7056864,914,-6,\"U\"\\r\\n\"DKK\",\"Chautauqua County-Dunkirk Airport\",42.4933353,-79.2720417,693,-5,\"A\"\\r\\n\"DKX\",\"Knoxville Downtown Island Airport\",35.9638333,-83.8736667,833,-4,\"A\"\\r\\n\"DLF\",\"Laughlin Afb\",29.359486,-100.777975,1082,-6,\"A\"\\r\\n\"DLG\",\"Dillingham\",59.044667,-158.5055,74,-9,\"A\"\\r\\n\"DLH\",\"Duluth Intl\",46.842091,-92.193649,1428,-6,\"A\"\\r\\n\"DLL\",\"Baraboo Wisconsin Dells Airport\",43.5217843,-89.7709266,979,-6,\"A\"\\r\\n\"DMA\",\"Davis Monthan Afb\",32.166467,-110.883144,2704,-7,\"A\"\\r\\n\"DNL\",\"Daniel Field Airport\",33.4665028,-82.0393808,423,-5,\"A\"\\r\\n\"DNN\",\"Dalton Municipal Airport\",34.7229444,-84.87025,709,-4,\"A\"\\r\\n\"DOV\",\"Dover Afb\",39.129539,-75.465958,28,-5,\"A\"\\r\\n\"DPA\",\"Dupage\",41.907778,-88.248611,758,-6,\"A\"\\r\\n\"DQH\",\"Douglas Municipal Airport\",31.4767385,-82.8605664,257,-5,\"A\"\\r\\n\"DRG\",\"Deering Airport\",66.0696,-162.766,21,-9,\"A\"\\r\\n\"DRI\",\"Beauregard Rgnl\",30.831722,-93.339917,202,-6,\"A\"\\r\\n\"DRM\",\"Drummond Island Airport\",46.0093114,-83.7439342,668,-5,\"A\"\\r\\n\"DRO\",\"Durango La Plata Co\",37.151516,-107.75377,6685,-7,\"A\"\\r\\n\"DRT\",\"Del Rio Intl\",29.374208,-100.927158,1002,-6,\"A\"\\r\\n\"DSM\",\"Des Moines Intl\",41.533972,-93.663083,958,-6,\"A\"\\r\\n\"DTA\",\"Delta Municipal Airport\",39.3806386,-112.5077147,4759,-6,\"A\"\\r\\n\"DTS\",\"Destin\",30.4000611,-86.4714772,23,-5,\"A\"\\r\\n\"DTW\",\"Detroit Metro Wayne Co\",42.212444,-83.353389,645,-5,\"A\"\\r\\n\"DUC\",\"Halliburton Field Airport\",34.4713056,-97.9598611,1114,-6,\"A\"\\r\\n\"DUG\",\"Bisbee Douglas Intl\",31.469028,-109.603667,4154,-7,\"A\"\\r\\n\"DUJ\",\"DuBois Regional Airport\",41.1783,-78.8987,1817,-5,\"A\"\\r\\n\"DUT\",\"Unalaska\",53.900139,-166.5435,22,-9,\"A\"\\r\\n\"DVL\",\"Devils Lake Regional Airport\",48.114444,-98.908611,1445,-6,\"A\"\\r\\n\"DVT\",\"Deer Valley Municipal Airport\",33.4117,112.457,1478,-7,\"A\"\\r\\n\"DWA\",\"Yolo County Airport\",38.5793889,-121.8569444,100,-7,\"A\"\\r\\n\"DWH\",\"David Wayne Hooks Field\",30.063746,-95.554276,152,-6,\"A\"\\r\\n\"DWS\",\"Orlando\",28.398,-81.57,340,-5,\"A\"\\r\\n\"DXR\",\"Danbury Municipal Airport\",41.3715353,-73.4821906,458,-5,\"A\"\\r\\n\"DYS\",\"Dyess Afb\",32.420756,-99.8546,1789,-6,\"A\"\\r\\n\"E25\",\"Wickenburg Municipal Airport\",33.96889877,-112.7990036,2377,-7,\"A\"\\r\\n\"E51\",\"Bagdad Airport\",34.5958528,-113.170195,4183,-7,\"A\"\\r\\n\"E55\",\"Ocean Ridge Airport\",38.8016111,-123.5306389,940,-8,\"A\"\\r\\n\"E63\",\"Gila Bend Municipal Airport\",32.960169,-112.673636,789,-7,\"U\"\\r\\n\"E91\",\"Chinle Municipal Airport\",36.1108806,-109.5754222,5547,-7,\"N\"\\r\\n\"EAA\",\"Eagle Airport\",64.778056,-141.149722,908,-9,\"A\"\\r\\n\"EAR\",\"Kearney Municipal Airport\",40.727,-99.0068,2131,-6,\"A\"\\r\\n\"EAT\",\"Pangborn Field\",47.398,-120.206,1249,-8,\"A\"\\r\\n\"EAU\",\"Chippewa Valley Regional Airport\",44.8658,-91.4843,913,-6,\"A\"\\r\\n\"ECA\",\"Iosco County\",44.311,-83.422,606,-5,\"A\"\\r\\n\"ECG\",\"Elizabeth City Cgas Rgnl\",36.260581,-76.174572,12,-5,\"A\"\\r\\n\"ECP\",\"Panama City-NW Florida Bea.\",30.3417,-85.7973,69,-6,\"A\"\\r\\n\"EDF\",\"Elmendorf Afb\",61.250986,-149.806503,212,-9,\"A\"\\r\\n\"EDW\",\"Edwards Afb\",34.905417,-117.883739,2302,-8,\"A\"\\r\\n\"EEK\",\"Eek Airport\",60.213611,-162.043889,15,-9,\"A\"\\r\\n\"EEN\",\"Dillant Hopkins Airport\",72.270833,42.898333,149,-5,\"A\"\\r\\n\"EET\",\"Shelby County Airport\",33.1777778,-86.7832222,586,-6,\"A\"\\r\\n\"EFD\",\"Ellington Fld\",29.607333,-95.15875,32,-6,\"A\"\\r\\n\"EGA\",\"Eagle County Airport\",39.6427611,-106.9159347,6548,-7,\"U\"\\r\\n\"EGE\",\"Eagle Co Rgnl\",39.642556,-106.917694,6540,-7,\"A\"\\r\\n\"EGT\",\"Wellington Municipal\",37.39411,-97.423225,1277,-4,\"A\"\\r\\n\"EGV\",\"Eagle River\",45.932333,-89.268283,1642,-6,\"A\"\\r\\n\"EGX\",\"Egegik Airport\",58.185556,-157.375556,92,-9,\"A\"\\r\\n\"EHM\",\"Cape Newenham Lrrs\",58.646428,-162.062778,541,-9,\"A\"\\r\\n\"EIL\",\"Eielson Afb\",64.665667,-147.1015,548,-9,\"A\"\\r\\n\"EKI\",\"Elkhart Municipal\",41.719444,-86.003333,778,-5,\"A\"\\r\\n\"EKN\",\"Elkins Randolph Co Jennings Randolph\",38.889444,-79.857139,1987,-5,\"A\"\\r\\n\"EKO\",\"Elko Regional Airport\",40.8249,-115.792,5140,-8,\"A\"\\r\\n\"ELD\",\"South Arkansas Rgnl At Goodwin Fld\",33.220972,-92.813278,277,-6,\"A\"\\r\\n\"ELI\",\"Elim Airport\",64.615,-162.270556,162,-9,\"A\"\\r\\n\"ELM\",\"Elmira Corning Rgnl\",42.159889,-76.891611,954,-5,\"A\"\\r\\n\"ELP\",\"El Paso Intl\",31.80725,-106.377583,3958,-7,\"A\"\\r\\n\"ELV\",\"Elfin Cove Seaplane Base\",58.195278,-136.3475,0,-9,\"A\"\\r\\n\"ELY\",\"Ely Airport\",39.299722,-114.841944,6259,-8,\"A\"\\r\\n\"EMK\",\"Emmonak Airport\",62.786111,-164.490833,13,-9,\"A\"\\r\\n\"EMP\",\"Emporia Municipal Airport\",38.3321,-96.1912,1208,-6,\"A\"\\r\\n\"ENA\",\"Kenai Muni\",60.573111,-151.245,99,-9,\"A\"\\r\\n\"END\",\"Vance Afb\",36.339167,-97.9165,1307,-6,\"A\"\\r\\n\"ENV\",\"Wendover\",40.718694,-114.030889,4237,-7,\"A\"\\r\\n\"ENW\",\"Kenosha Regional Airport\",42.5956944,-87.9278056,742,-6,\"A\"\\r\\n\"EOK\",\"Keokuk Municipal Airport\",40.4599078,-91.4285011,671,-6,\"A\"\\r\\n\"EPM\",\"Eastport Municipal Airport\",44.9101111,-67.0126944,45,-5,\"A\"\\r\\n\"EQY\",\"Monroe Reqional Airport\",35.01833,-80.62001,679,-5,\"A\"\\r\\n\"ERI\",\"Erie Intl Tom Ridge Fld\",42.082022,-80.176217,733,-5,\"A\"\\r\\n\"ERV\",\"Kerrville Municipal Airport\",29.9766667,-99.0854722,1617,-6,\"A\"\\r\\n\"ERY\",\"Luce County Airport\",46.311199,-85.457298,869,-5,\"A\"\\r\\n\"ESC\",\"Delta County Airport\",45.722778,-87.093611,609,-5,\"A\"\\r\\n\"ESD\",\"Orcas Island Airport\",48.708056,-122.910556,31,-8,\"A\"\\r\\n\"ESF\",\"Esler Rgnl\",31.394903,-92.295772,112,-6,\"A\"\\r\\n\"ESN\",\"Easton-Newnam Field Airport\",38.8041667,-76.069,72,-5,\"A\"\\r\\n\"EUG\",\"Mahlon Sweet Fld\",44.124583,-123.211972,374,-8,\"A\"\\r\\n\"EVV\",\"Evansville Regional\",38.036997,-87.532364,418,-6,\"A\"\\r\\n\"EWB\",\"New Bedford Regional Airport\",41.6761,-70.9569,80,-5,\"A\"\\r\\n\"EWN\",\"Craven Co Rgnl\",35.072972,-77.042944,18,-5,\"A\"\\r\\n\"EWR\",\"Newark Liberty Intl\",40.6925,-74.168667,18,-5,\"A\"\\r\\n\"EXI\",\"Excursion Inlet Seaplane Base\",58.420556,-135.449167,0,-9,\"A\"\\r\\n\"EYW\",\"Key West Intl\",24.556111,-81.759556,3,-5,\"A\"\\r\\n\"F57\",\"Seaplane Base\",28.0575,-81.7628056,140,-7,\"A\"\\r\\n\"FAF\",\"Felker Aaf\",37.1325,-76.608841,12,-5,\"A\"\\r\\n\"FAI\",\"Fairbanks Intl\",64.815114,-147.856267,434,-9,\"A\"\\r\\n\"FAR\",\"Hector International Airport\",46.92065,-96.8157639,902,-6,\"A\"\\r\\n\"FAT\",\"Fresno Yosemite Intl\",36.776194,-119.71814,336,-8,\"A\"\\r\\n\"FAY\",\"Fayetteville Regional Grannis Field\",34.9912,-78.8803,189,-5,\"A\"\\r\\n\"FBG\",\"Fredericksburg Amtrak Station\",38.298416,-77.456875,130,-5,\"A\"\\r\\n\"FBK\",\"Ladd Aaf\",64.8375,-147.614444,454,-9,\"A\"\\r\\n\"FBS\",\"Friday Harbor Seaplane Base\",48.537222,-123.009722,0,-8,\"A\"\\r\\n\"FCA\",\"Glacier Park Intl\",48.310472,-114.256,2977,-7,\"A\"\\r\\n\"FCS\",\"Butts Aaf\",38.678394,-104.756581,5838,-7,\"A\"\\r\\n\"FDY\",\"Findlay Airport\",41.0120278,-83.6686111,819,-5,\"U\"\\r\\n\"FFA\",\"First Flight Airport\",36.02,-75.67,13,-4,\"A\"\\r\\n\"FFC\",\"Atlanta Regional Airport - Falcon Field\",33.35725,-84.5718333,808,-4,\"A\"\\r\\n\"FFO\",\"Wright Patterson Afb\",39.826111,-84.048332,823,-5,\"A\"\\r\\n\"FFT\",\"Capital City Airport\",38.1819722,-84.9061389,812,-4,\"A\"\\r\\n\"FFZ\",\"Mesa Falcon Field\",33.4608001708984,-111.727996826172,1394,-7,\"A\"\\r\\n\"FHU\",\"Sierra Vista Muni Libby Aaf\",31.588472,-110.344389,4719,-7,\"A\"\\r\\n\"FIT\",\"Fitchburg Municipal Airport\",42.5541111,-71.7589722,348,-4,\"A\"\\r\\n\"FKL\",\"Franklin\",41.377874,-79.860362,1540,-5,\"A\"\\r\\n\"FLD\",\"Fond Du Lac County Airport\",43.7711667,-88.4884167,808,-6,\"A\"\\r\\n\"FLG\",\"Flagstaff Pulliam Airport\",35.140318,-111.6692392,7015,-7,\"N\"\\r\\n\"FLL\",\"Fort Lauderdale Hollywood Intl\",26.072583,-80.15275,9,-5,\"A\"\\r\\n\"FLO\",\"Florence Rgnl\",34.185361,-79.723889,146,-5,\"A\"\\r\\n\"FLV\",\"Sherman Aaf\",39.368332,-94.914686,772,-6,\"A\"\\r\\n\"FME\",\"Tipton\",39.085386,-76.759414,150,-5,\"A\"\\r\\n\"FMH\",\"Otis Angb\",41.658439,-70.521417,131,-5,\"A\"\\r\\n\"FMN\",\"Four Corners Rgnl\",36.74125,-108.229944,5506,-7,\"A\"\\r\\n\"FMY\",\"Page Fld\",26.586611,-81.86325,17,-5,\"A\"\\r\\n\"FNL\",\"Fort Collins Loveland Muni\",40.451828,-105.011336,5016,-7,\"A\"\\r\\n\"FNR\",\"Funter Bay Seaplane Base\",58.254444,-134.897778,0,-9,\"A\"\\r\\n\"FNT\",\"Bishop International\",42.965424,-83.743629,782,-5,\"A\"\\r\\n\"FOD\",\"Fort Dodge Rgnl\",42.5512,-94.191842,1157,-6,\"A\"\\r\\n\"FOE\",\"Forbes Fld\",38.950944,-95.663611,1078,-6,\"A\"\\r\\n\"FOK\",\"Francis S Gabreski\",40.843656,-72.631789,67,-5,\"A\"\\r\\n\"FRD\",\"Friday Harbor Airport\",48.521944,-123.024444,113,-8,\"A\"\\r\\n\"FRI\",\"Marshall Aaf\",39.055275,-96.764453,1063,-6,\"A\"\\r\\n\"FRN\",\"Bryant Ahp\",61.266381,-149.653119,378,-9,\"A\"\\r\\n\"FRP\",\"St Lucie County International Airport\",27.497472,-80.372638,23,-4,\"A\"\\r\\n\"FSD\",\"Sioux Falls\",43.582014,-96.741914,1429,-6,\"A\"\\r\\n\"FSI\",\"Henry Post Aaf\",34.649833,-98.402167,1189,-6,\"A\"\\r\\n\"FSM\",\"Fort Smith Rgnl\",35.336583,-94.367444,469,-6,\"A\"\\r\\n\"FST\",\"Fort Stockton Pecos Co\",30.915667,-102.916139,3011,-6,\"A\"\\r\\n\"FTK\",\"Godman Aaf\",37.907058,-85.972106,756,-6,\"A\"\\r\\n\"FTW\",\"Fort Worth Meacham Intl\",32.819778,-97.362444,710,-6,\"A\"\\r\\n\"FTY\",\"Fulton County Airport Brown Field\",33.7791,-84.5214,841,-5,\"A\"\\r\\n\"FUL\",\"Fullerton Municipal Airport\",33.521925,-117.584722,96,-7,\"A\"\\r\\n\"FWA\",\"Fort Wayne\",40.978472,-85.195139,815,-5,\"A\"\\r\\n\"FXE\",\"Fort Lauderdale Executive\",26.197281,-80.170706,13,-5,\"A\"\\r\\n\"FYU\",\"Fort Yukon\",66.571492,-145.250417,433,-9,\"A\"\\r\\n\"FYV\",\"Drake Fld\",36.005094,-94.170059,1251,-6,\"A\"\\r\\n\"FZG\",\"Fitzgerald Municipal Airport\",31.6839046,-83.2709036,365,-5,\"A\"\\r\\n\"GAD\",\"Northeast Alabama Regional Airport\",33.9726489,-86.0890834,569,-5,\"A\"\\r\\n\"GAI\",\"Montgomery County Airpark\",39.1006,-77.09576,0,-5,\"A\"\\r\\n\"GAL\",\"Edward G Pitka Sr\",64.736178,-156.937417,152,-9,\"A\"\\r\\n\"GAM\",\"Gambell Airport\",63.7668,-171.733,27,-9,\"A\"\\r\\n\"GBN\",\"Great Bend Municipal\",38.344167,-98.859167,1887,-5,\"A\"\\r\\n\"GCC\",\"Gillette-Campbell County Airport\",44.3489167,-105.5393611,4365,-7,\"A\"\\r\\n\"GCK\",\"Garden City Rgnl\",37.927528,-100.724417,2891,-6,\"A\"\\r\\n\"GCN\",\"Grand Canyon National Park Airport\",35.9523611,-112.1469722,6609,-7,\"N\"\\r\\n\"GCW\",\"Grand Canyon West Airport\",35.5925,-113.4859,4825,-8,\"U\"\\r\\n\"GDV\",\"Dawson Community Airport\",47.138611,-104.807222,749,-7,\"A\"\\r\\n\"GDW\",\"Gladwin Zettel Memorial Airport\",43.9705893,-84.47502,774,-5,\"A\"\\r\\n\"GED\",\"Sussex Co\",38.689194,-75.358889,50,-5,\"A\"\\r\\n\"GEG\",\"Spokane Intl\",47.619861,-117.533833,2376,-8,\"A\"\\r\\n\"GEU\",\"Glendale Municipal Airport\",33.5269167,-112.2951389,1071,-7,\"N\"\\r\\n\"GFK\",\"Grand Forks Intl\",47.949256,-97.176111,845,-6,\"A\"\\r\\n\"GGE\",\"Georgetown County Airport\",33.3114018,-79.3203139,40,-4,\"A\"\\r\\n\"GGG\",\"East Texas Rgnl\",32.384014,-94.711486,365,-6,\"A\"\\r\\n\"GGW\",\"Wokal Field Glasgow International Airport\",48.2125,-106.615,2296,-7,\"A\"\\r\\n\"GHG\",\"Marshfield Municipal Airport\",42.09825,-70.6721389,9,-4,\"A\"\\r\\n\"GIF\",\"Gilbert Airport\",28.062778,-81.753333,145,-5,\"A\"\\r\\n\"GJT\",\"Grand Junction Regional\",39.122413,-108.526735,4858,-7,\"A\"\\r\\n\"GKN\",\"Gulkana\",62.154888,-145.456639,1580,-9,\"A\"\\r\\n\"GKY\",\"Arlington Municipal\",32.6638611,-97.0942778,628,-5,\"A\"\\r\\n\"GLD\",\"Renner Fld\",39.370621,-101.698992,3656,-6,\"A\"\\r\\n\"GLH\",\"Mid Delta Regional Airport\",33.4829,-90.9856,131,-6,\"A\"\\r\\n\"GLS\",\"Scholes Intl At Galveston\",29.265322,-94.860406,6,-6,\"A\"\\r\\n\"GLV\",\"Golovin Airport\",64.550556,-163.007222,59,-9,\"A\"\\r\\n\"GNT\",\"Grants Milan Muni\",35.167286,-107.901989,6537,-7,\"A\"\\r\\n\"GNU\",\"Goodnews Airport\",59.1175,-161.5775,15,-10,\"A\"\\r\\n\"GNV\",\"Gainesville Rgnl\",29.690056,-82.271778,152,-5,\"A\"\\r\\n\"GON\",\"Groton New London\",41.330056,-72.045139,9,-5,\"A\"\\r\\n\"GPT\",\"Gulfport-Biloxi\",30.407278,-89.070111,28,-6,\"A\"\\r\\n\"GPZ\",\"Grand Rapids Itasca County\",47.211111,-93.509722,413,-6,\"A\"\\r\\n\"GQQ\",\"Galion Municipal Airport\",40.7533889,-82.7238056,1224,-4,\"A\"\\r\\n\"GRB\",\"Austin Straubel Intl\",44.485072,-88.129589,695,-6,\"A\"\\r\\n\"GRF\",\"Gray Aaf\",47.079217,-122.580783,302,-8,\"A\"\\r\\n\"GRI\",\"Central Nebraska Regional Airport\",40.9675,-98.3096,1847,-6,\"A\"\\r\\n\"GRK\",\"Robert Gray Aaf\",31.06725,-97.828917,1015,-6,\"A\"\\r\\n\"GRM\",\"Grand Marais Cook County Airport\",47.8383333,-90.3829444,1799,-6,\"U\"\\r\\n\"GRR\",\"Gerald R Ford Intl\",42.880833,-85.522806,794,-5,\"A\"\\r\\n\"GSB\",\"Seymour Johnson Afb\",35.339383,-77.960589,110,-5,\"A\"\\r\\n\"GSO\",\"Piedmont Triad\",36.09775,-79.937306,925,-5,\"A\"\\r\\n\"GSP\",\"Greenville-Spartanburg International\",34.895556,-82.218889,964,-5,\"A\"\\r\\n\"GST\",\"Gustavus Airport\",58.4253,-135.707,34,-9,\"A\"\\r\\n\"GTB\",\"Wheeler Sack Aaf\",44.055619,-75.719458,690,-5,\"A\"\\r\\n\"GTF\",\"Great Falls Intl\",47.482,-111.370689,3677,-7,\"A\"\\r\\n\"GTR\",\"Golden Triangle Regional Airport\",33.450333,-88.591361,264,-6,\"A\"\\r\\n\"GTU\",\"Georgetown Municipal Airport\",30.678809,-97.6793837,790,-5,\"A\"\\r\\n\"GUC\",\"Gunnison - Crested Butte\",38.533889,-106.933056,7678,-7,\"A\"\\r\\n\"GUP\",\"Gallup Muni\",35.511058,-108.789308,6472,-7,\"A\"\\r\\n\"GUS\",\"Grissom Arb\",40.648094,-86.152119,812,-5,\"A\"\\r\\n\"GVL\",\"Lee Gilmer Memorial Airport\",34.272627,-83.8302233,1276,-4,\"A\"\\r\\n\"GVQ\",\"Genesee County Airport\",43.03175,-78.1696667,914,-5,\"A\"\\r\\n\"GVT\",\"Majors\",33.067839,-96.065333,535,-6,\"A\"\\r\\n\"GWO\",\"Greenwood Leflore\",33.494328,-90.084706,162,-6,\"A\"\\r\\n\"GYY\",\"Gary Chicago International Airport\",41.6163,-87.4128,591,-6,\"A\"\\r\\n\"HBG\",\"Hattiesburg Bobby L. Chain Municipal Airport\",31.2649444,-89.2528889,151,-6,\"A\"\\r\\n\"HBR\",\"Hobart Muni\",34.991308,-99.051353,1564,-6,\"A\"\\r\\n\"HCC\",\"Columbia County\",42.2913,-73.7103,198,-4,\"A\"\\r\\n\"HCR\",\"Holy Cross Airport\",62.1883,-159.775,70,-9,\"A\"\\r\\n\"HDH\",\"Dillingham\",21.579475,-158.197281,14,-10,\"A\"\\r\\n\"HDI\",\"Hardwick Field Airport\",35.2199994,-84.832369,874,-4,\"A\"\\r\\n\"HDN\",\"Yampa Valley\",40.481181,-107.21766,6602,-7,\"A\"\\r\\n\"HDO\",\"Hondo Municipal Airport\",29.3591,-99.1775,930,-5,\"A\"\\r\\n\"HFD\",\"Hartford Brainard\",41.736722,-72.649444,18,-5,\"A\"\\r\\n\"HGR\",\"Hagerstown Regional Richard A Henson Field\",39.7079,-77.7295,704,-5,\"A\"\\r\\n\"HHH\",\"Hilton Head\",32.216,-80.752,10,-5,\"U\"\\r\\n\"HHI\",\"Wheeler Aaf\",21.4835,-158.039667,837,-10,\"A\"\\r\\n\"HHR\",\"Jack Northrop Fld Hawthorne Muni\",33.922839,-118.335186,66,-8,\"A\"\\r\\n\"HIB\",\"Chisholm Hibbing\",47.3866,-92.838994,1353,-6,\"A\"\\r\\n\"HIF\",\"Hill Afb\",41.123939,-111.973039,4789,-7,\"A\"\\r\\n\"HII\",\"Lake Havasu City Airport\",34.5711111,-114.3582778,783,-7,\"N\"\\r\\n\"HIO\",\"Portland Hillsboro\",45.540394,-122.949825,204,-8,\"A\"\\r\\n\"HKB\",\"Healy River Airport\",63.8675,-148.968889,1263,-9,\"A\"\\r\\n\"HKY\",\"Hickory Rgnl\",35.741147,-81.38955,1189,-5,\"A\"\\r\\n\"HLG\",\"Wheeling Ohio County Airport\",40.175,-80.6463,1195,-5,\"A\"\\r\\n\"HLN\",\"Helena Rgnl\",46.606806,-111.98275,3877,-7,\"A\"\\r\\n\"HLR\",\"Hood Aaf\",31.138731,-97.714469,924,-6,\"A\"\\r\\n\"HMN\",\"Holloman Afb\",32.852519,-106.106525,4093,-7,\"A\"\\r\\n\"HNH\",\"Hoonah Airport\",58.096111,-135.409722,19,-9,\"A\"\\r\\n\"HNL\",\"Honolulu Intl\",21.318681,-157.922428,13,-10,\"N\"\\r\\n\"HNM\",\"Hana\",20.795636,-156.014439,78,-10,\"A\"\\r\\n\"HNS\",\"Haines Airport\",59.2438,-135.524,15,-9,\"A\"\\r\\n\"HOB\",\"Lea Co Rgnl\",32.687528,-103.217028,3661,-7,\"A\"\\r\\n\"HOM\",\"Homer\",59.645556,-151.476583,84,-9,\"A\"\\r\\n\"HON\",\"Huron Rgnl\",44.3852,-98.228542,1289,-6,\"A\"\\r\\n\"HOP\",\"Campbell Aaf\",36.668567,-87.496183,573,-6,\"A\"\\r\\n\"HOT\",\"Memorial Field\",34.478,-93.0962,540,-6,\"A\"\\r\\n\"HOU\",\"William P Hobby\",29.645419,-95.278889,46,-6,\"A\"\\r\\n\"HPB\",\"Hooper Bay Airport\",61.5239,-166.147,7,-9,\"A\"\\r\\n\"HPN\",\"Westchester Co\",41.066959,-73.707575,439,-5,\"A\"\\r\\n\"HQM\",\"Bowerman Field\",46.9711944,-123.9365556,18,-8,\"A\"\\r\\n\"HQU\",\"McDuffie County Airport\",33.5297315,-82.5169509,501,-5,\"A\"\\r\\n\"HRL\",\"Valley Intl\",26.2285,-97.654389,36,-6,\"A\"\\r\\n\"HRO\",\"Boone Co\",36.261519,-93.154728,1365,-6,\"A\"\\r\\n\"HRT\",\"Hurlburt Fld\",30.427803,-86.689278,38,-6,\"A\"\\r\\n\"HSH\",\"Henderson Executive Airport\",35.972778,-115.134444,1881,-8,\"A\"\\r\\n\"HSL\",\"Huslia Airport\",65.697778,-156.351389,213,-9,\"A\"\\r\\n\"HST\",\"Homestead Arb\",25.48855,-80.383567,6,-5,\"A\"\\r\\n\"HSV\",\"Huntsville International Airport-Carl T Jones Field\",34.6371944,-86.7750556,629,-6,\"A\"\\r\\n\"HTL\",\"Roscommon Co\",44.359806,-84.671112,1150,-5,\"A\"\\r\\n\"HTS\",\"Tri State Milton J Ferguson Field\",38.3667,-82.558,828,-5,\"A\"\\r\\n\"HUA\",\"Redstone Aaf\",34.678653,-86.684781,685,-6,\"A\"\\r\\n\"HUF\",\"Terre Haute Intl Hulman Fld\",39.451464,-87.307561,589,-5,\"A\"\\r\\n\"HUL\",\"Houlton Intl\",46.123083,-67.792056,489,-4,\"A\"\\r\\n\"HUS\",\"Hughes Airport\",66.039167,-154.264722,299,-9,\"A\"\\r\\n\"HUT\",\"Hutchinson Municipal Airport\",38.0655,-97.8606,1543,-6,\"A\"\\r\\n\"HVN\",\"Tweed-New Haven Airport\",41.26375,-72.886806,14,-5,\"A\"\\r\\n\"HVR\",\"Havre City Co\",48.542983,-109.762342,2590,-7,\"A\"\\r\\n\"HWD\",\"Hayward Executive Airport\",37.6588888888889,-122.121666666667,52,-8,\"A\"\\r\\n\"HWO\",\"North Perry\",26.001222,-80.240722,8,-5,\"A\"\\r\\n\"HXD\",\"Hilton Head Airport\",32.2243611,-80.6974722,19,-4,\"A\"\\r\\n\"HYA\",\"Barnstable Muni Boardman Polando Fld\",41.669336,-70.280356,55,-5,\"A\"\\r\\n\"HYG\",\"Hydaburg Seaplane Base\",55.206389,-132.828333,0,-9,\"A\"\\r\\n\"HYL\",\"Hollis Seaplane Base\",55.481667,-132.646111,0,-9,\"A\"\\r\\n\"HYS\",\"Hays Regional Airport\",38.8422,-99.2732,1998,-5,\"A\"\\r\\n\"HZL\",\"Hazleton Municipal\",40.989167,-76.0025,1603,-5,\"A\"\\r\\n\"IAB\",\"Mc Connell Afb\",37.621853,-97.268192,1371,-6,\"A\"\\r\\n\"IAD\",\"Washington Dulles Intl\",38.944533,-77.455811,313,-5,\"A\"\\r\\n\"IAG\",\"Niagara Falls Intl\",43.107333,-78.946194,589,-5,\"A\"\\r\\n\"IAH\",\"George Bush Intercontinental\",29.984433,-95.341442,97,-6,\"A\"\\r\\n\"IAN\",\"Bob Baker Memorial Airport\",66.975833,-160.436667,166,-9,\"A\"\\r\\n\"ICT\",\"Wichita Mid Continent\",37.649944,-97.433056,1333,-6,\"A\"\\r\\n\"ICY\",\"Icy Bay Airport\",59.968889,-141.661667,50,-9,\"A\"\\r\\n\"IDA\",\"Idaho Falls Rgnl\",43.514556,-112.07075,4744,-7,\"A\"\\r\\n\"IDL\",\"Idlewild Intl\",40.639751,-73.778924,13,-5,\"A\"\\r\\n\"IFP\",\"Laughlin-Bullhead Intl\",35.1574,-114.56,695,-7,\"A\"\\r\\n\"IGG\",\"Igiugig Airport\",59.324,-155.902,90,-9,\"A\"\\r\\n\"IGM\",\"Kingman Airport\",35.2595,-113.938,3449,-7,\"A\"\\r\\n\"IGQ\",\"Lansing Municipal\",41.5349167,-87.5295278,620,-6,\"A\"\\r\\n\"IJD\",\"Windham Airport\",41.7440278,-72.1802222,246,-4,\"A\"\\r\\n\"IKK\",\"Greater Kankakee\",41.071389,-87.846278,630,-6,\"A\"\\r\\n\"IKO\",\"Nikolski Air Station\",52.941667,-168.848889,77,-9,\"A\"\\r\\n\"IKR\",\"Kirtland Air Force Base\",35.040222,-106.609194,5355,-7,\"A\"\\r\\n\"IKV\",\"Ankeny Regl Airport\",41.691389,-93.566389,910,-6,\"A\"\\r\\n\"ILG\",\"New Castle\",39.678722,-75.606528,79,-5,\"A\"\\r\\n\"ILI\",\"Iliamna\",59.754356,-154.910961,186,-9,\"A\"\\r\\n\"ILM\",\"Wilmington Intl\",34.270615,-77.902569,32,-5,\"A\"\\r\\n\"ILN\",\"Wilmington Airborne Airpark\",39.42792,-83.792118,1077,-5,\"U\"\\r\\n\"IMM\",\"Immokalee \",26.433889,-81.401389,37,-5,\"A\"\\r\\n\"IMT\",\"Ford Airport\",45.8183611,-88.1145556,1182,-5,\"A\"\\r\\n\"IND\",\"Indianapolis Intl\",39.717331,-86.294383,797,-5,\"A\"\\r\\n\"INJ\",\"Hillsboro Muni\",32.083486,-97.097228,685,-6,\"A\"\\r\\n\"INK\",\"Winkler Co\",31.779628,-103.201361,2822,-6,\"A\"\\r\\n\"INL\",\"Falls Intl\",48.566186,-93.403067,1185,-6,\"A\"\\r\\n\"INS\",\"Creech Afb\",36.587183,-115.673353,3133,-8,\"A\"\\r\\n\"INT\",\"Smith Reynolds\",36.133722,-80.222,969,-5,\"A\"\\r\\n\"INW\",\"Winslow-Lindbergh Regional Airport\",35.0219167,-110.7225278,4941,-7,\"N\"\\r\\n\"IOW\",\"Iowa City Municipal Airport\",41.639244,-91.546503,668,-6,\"A\"\\r\\n\"IPL\",\"Imperial Co\",32.834219,-115.578744,-54,-8,\"A\"\\r\\n\"IPT\",\"Williamsport Rgnl\",41.241836,-76.921094,529,-5,\"A\"\\r\\n\"IRC\",\"Circle City Airport\",65.827778,-144.076111,613,-9,\"A\"\\r\\n\"IRK\",\"Kirksville Regional Airport\",40.0935,-92.5449,966,-6,\"A\"\\r\\n\"ISM\",\"Kissimmee Gateway Airport\",28.289806,-81.437083,82,-5,\"A\"\\r\\n\"ISN\",\"Sloulin Fld Intl\",48.177939,-103.642347,1982,-7,\"A\"\\r\\n\"ISO\",\"Kinston Regional Jetport\",35.331389,-77.608889,94,7,\"A\"\\r\\n\"ISP\",\"Long Island Mac Arthur\",40.79525,-73.100222,99,-5,\"A\"\\r\\n\"ISW\",\"Alexander Field South Wood County Airport\",44.3606456,-89.8381412,1021,-6,\"A\"\\r\\n\"ITH\",\"Ithaca Tompkins Rgnl\",42.491028,-76.458444,1099,-5,\"A\"\\r\\n\"ITO\",\"Hilo Intl\",19.721375,-155.048469,38,-10,\"N\"\\r\\n\"IWD\",\"Gogebic Iron County Airport\",46.5274747,-90.1313967,1230,-6,\"U\"\\r\\n\"IWS\",\"West Houston\",29.818194,-95.672611,111,-6,\"A\"\\r\\n\"IYK\",\"Inyokern Airport\",35.658889,-117.829444,2455,-8,\"A\"\\r\\n\"JAC\",\"Jackson Hole Airport\",43.607333333,-110.73775,6451,-7,\"A\"\\r\\n\"JAN\",\"Jackson Evers Intl\",32.311167,-90.075889,346,-6,\"A\"\\r\\n\"JAX\",\"Jacksonville Intl\",30.494056,-81.687861,30,-5,\"A\"\\r\\n\"JBR\",\"Jonesboro Muni\",35.831708,-90.646417,262,-6,\"A\"\\r\\n\"JCI\",\"New Century AirCenter Airport\",38.8309167,-94.8903056,1087,-6,\"A\"\\r\\n\"JEF\",\"Jefferson City Memorial Airport\",38.5912,-92.1561,549,-6,\"A\"\\r\\n\"JES\",\"Jesup-Wayne County Airport\",31.553889,-81.8825,107,-5,\"A\"\\r\\n\"JFK\",\"John F Kennedy Intl\",40.639751,-73.778925,13,-5,\"A\"\\r\\n\"JGC\",\"Grand Canyon Heliport\",35.96666666,-112.13333333,2500,-8,\"A\"\\r\\n\"JHM\",\"Kapalua\",20.962936,-156.673031,256,-10,\"N\"\\r\\n\"JHW\",\"Chautauqua County-Jamestown\",42.153333,-79.258056,525,-5,\"A\"\\r\\n\"JKA\",\"Jack Edwards Airport\",30.2896389,-87.6717778,17,-6,\"A\"\\r\\n\"JLN\",\"Joplin Rgnl\",37.151814,-94.498269,981,-6,\"A\"\\r\\n\"JMS\",\"Jamestown Regional Airport\",46.9297,-98.6782,1498,-6,\"A\"\\r\\n\"JNU\",\"Juneau Intl\",58.354972,-134.576278,21,-9,\"A\"\\r\\n\"JOT\",\"Regional Airport\",41.517778,-88.175556,582,-6,\"A\"\\r\\n\"JRA\",\"West 30th St. Heliport\",40.7545,-74.0071,7,-5,\"A\"\\r\\n\"JRB\",\"Wall Street Heliport\",40.701214,-74.009028,7,-5,\"A\"\\r\\n\"JST\",\"John Murtha Johnstown-Cambria County Airport\",40.316111,-78.833889,2284,-5,\"A\"\\r\\n\"JVL\",\"Southern Wisconsin Regional Airport\",42.62025,-89.0415556,808,-6,\"A\"\\r\\n\"JXN\",\"Reynolds Field\",42.260556,-84.460556,1001,-5,\"A\"\\r\\n\"JYL\",\"Plantation Airpark\",32.6452778,-81.5971111,188,-4,\"A\"\\r\\n\"JYO\",\"Leesburg Executive Airport\",39.078,-77.558,389,-5,\"A\"\\r\\n\"JZP\",\"Pickens County Airport\",34.4534722,-84.4572222,1535,-4,\"A\"\\r\\n\"K03\",\"Wainwright As\",70.613378,-159.86035,35,-9,\"A\"\\r\\n\"KAE\",\"Kake Seaplane Base\",56.973056,-133.945556,0,-9,\"A\"\\r\\n\"KAL\",\"Kaltag Airport\",64.3191,-158.741,187,-9,\"A\"\\r\\n\"KBC\",\"Birch Creek Airport\",66.256708,-145.815319,450,-9,\"A\"\\r\\n\"KBW\",\"Chignik Bay Seaplane Base\",56.295556,-158.401398,0,-9,\"A\"\\r\\n\"KCC\",\"Coffman Cove Seaplane Base\",56.014722,-132.833889,0,-9,\"A\"\\r\\n\"KCL\",\"Chignik Lagoon Airport\",56.311111,-158.534167,25,-9,\"A\"\\r\\n\"KCQ\",\"Chignik Lake Airport\",56.255,-158.775278,50,-9,\"A\"\\r\\n\"KEH\",\"Kenmore Air Harbor Inc Seaplane Base\",47.7548,-122.259,14,-8,\"A\"\\r\\n\"KEK\",\"Ekwok Airport\",59.356944,-157.471111,135,-9,\"A\"\\r\\n\"KFP\",\"False Pass Airport\",54.8475,-163.410278,20,-9,\"A\"\\r\\n\"KGK\",\"Koliganek Airport\",59.726667,-157.259444,269,-9,\"A\"\\r\\n\"KGX\",\"Grayling Airport\",62.894444,-160.065,99,-9,\"A\"\\r\\n\"KKA\",\"Koyuk Alfred Adams Airport\",64.939444,-161.154167,154,-9,\"A\"\\r\\n\"KKB\",\"Kitoi Bay Seaplane Base\",58.190833,-152.370556,0,-9,\"A\"\\r\\n\"KKH\",\"Kongiganak Airport\",59.960833,-162.881111,30,-9,\"A\"\\r\\n\"KLG\",\"Kalskag Airport\",61.5363,-160.341,55,-9,\"A\"\\r\\n\"KLL\",\"Levelock Airport\",59.128056,-156.858611,39,-9,\"A\"\\r\\n\"KLN\",\"Larsen Bay Airport\",57.535,-153.976667,87,-9,\"A\"\\r\\n\"KLS\",\"Kelso Longview\",46.118,-122.898389,20,-8,\"A\"\\r\\n\"KLW\",\"Klawock Airport\",55.579167,-133.076111,80,-9,\"A\"\\r\\n\"KMO\",\"Manokotak Airport\",58.990278,-159.05,51,-9,\"A\"\\r\\n\"KMY\",\"Moser Bay Seaplane Base\",57.025556,-154.145833,0,-9,\"A\"\\r\\n\"KNW\",\"New Stuyahok Airport\",59.4499,-157.328,302,-9,\"A\"\\r\\n\"KOA\",\"Kona Intl At Keahole\",19.738767,-156.045631,47,-10,\"N\"\\r\\n\"KOT\",\"Kotlik Airport\",63.030556,-163.532778,15,-9,\"A\"\\r\\n\"KOY\",\"Olga Bay Seaplane Base\",57.161389,-154.229722,0,-9,\"A\"\\r\\n\"KOZ\",\"Ouzinkie Airport\",57.922876,-152.500511,55,-9,\"A\"\\r\\n\"KPB\",\"Point Baker Seaplane Base\",56.351944,-133.6225,0,-9,\"A\"\\r\\n\"KPC\",\"Port Clarence Coast Guard Station\",65.2537,-166.859,10,-9,\"A\"\\r\\n\"KPN\",\"Kipnuk Airport\",59.933056,-164.030556,11,-9,\"A\"\\r\\n\"KPR\",\"Port Williams Seaplane Base\",58.49,-152.582222,0,-9,\"A\"\\r\\n\"KPV\",\"Perryville Airport\",55.906667,-159.160833,29,-9,\"A\"\\r\\n\"KPY\",\"Port Bailey Seaplane Base\",57.93,-153.040556,0,-9,\"A\"\\r\\n\"KQA\",\"Akutan Seaplane Base\",54.1325,-165.785,0,-9,\"A\"\\r\\n\"KSM\",\"St Marys Airport\",62.0605,-163.302,311,-9,\"A\"\\r\\n\"KTB\",\"Thorne Bay Seaplane Base\",55.688056,-132.536667,0,-9,\"A\"\\r\\n\"KTN\",\"Ketchikan Intl\",55.355556,-131.71375,88,-9,\"A\"\\r\\n\"KTS\",\"Brevig Mission Airport\",65.331389,-166.465833,35,-9,\"A\"\\r\\n\"KUK\",\"Kasigluk Airport\",60.873333,-162.524444,40,-9,\"A\"\\r\\n\"KVC\",\"King Cove Airport\",55.1163,-162.266,155,-9,\"A\"\\r\\n\"KVL\",\"Kivalina Airport\",67.7362,-164.563,13,-9,\"A\"\\r\\n\"KWK\",\"Kwigillingok Airport\",59.876389,-163.168611,18,-9,\"A\"\\r\\n\"KWN\",\"Quinhagak Airport\",59.755,-161.845278,42,-9,\"A\"\\r\\n\"KWP\",\"West Point Village Seaplane Base\",57.77,-153.548889,0,-9,\"A\"\\r\\n\"KWT\",\"Kwethluk Airport\",60.790278,-161.443611,30,-9,\"A\"\\r\\n\"KYK\",\"Karuluk Airport\",57.566944,-154.450278,137,-9,\"A\"\\r\\n\"KYU\",\"Koyukuk Airport\",64.875833,-157.730556,149,-9,\"A\"\\r\\n\"KZB\",\"Zachar Bay Seaplane Base\",57.55,-153.75,0,-9,\"A\"\\r\\n\"L06\",\"Furnace Creek\",36.273,-116.515,0,-7,\"A\"\\r\\n\"L35\",\"Big Bear City\",34.2637778,-116.8560278,6725,-7,\"A\"\\r\\n\"LAA\",\"Lamar Muni\",38.069694,-102.6885,3706,-7,\"A\"\\r\\n\"LAF\",\"Purude University Airport\",40.4123056,-86.9368889,606,-5,\"A\"\\r\\n\"LAL\",\"Lakeland Linder Regional Airport\",27.9889167,-82.0185556,142,-5,\"A\"\\r\\n\"LAM\",\"Los Alamos Airport\",35.8798019,-106.2694153,7171,-6,\"A\"\\r\\n\"LAN\",\"Capital City\",42.7787,-84.587357,861,-5,\"A\"\\r\\n\"LAR\",\"Laramie Regional Airport\",41.3121,-105.675,7284,-7,\"A\"\\r\\n\"LAS\",\"Mc Carran Intl\",36.080056,-115.15225,2141,-8,\"A\"\\r\\n\"LAW\",\"Lawton-Fort Sill Regional Airport\",34.5677144,-98.4166367,1110,-6,\"A\"\\r\\n\"LAX\",\"Los Angeles Intl\",33.942536,-118.408075,126,-8,\"A\"\\r\\n\"LBB\",\"Lubbock Preston Smith Intl\",33.663639,-101.822778,3282,-6,\"A\"\\r\\n\"LBE\",\"Arnold Palmer Regional Airport\",40.2759,-79.4048,1185,-5,\"A\"\\r\\n\"LBF\",\"North Platte Regional Airport Lee Bird Field\",41.1262,-100.684,2776,-6,\"A\"\\r\\n\"LBL\",\"Liberal Muni\",37.044222,-100.95986,2885,-6,\"A\"\\r\\n\"LBT\",\"Municipal Airport\",34.6098056,-79.0595556,125,-5,\"A\"\\r\\n\"LCH\",\"Lake Charles Rgnl\",30.126112,-93.223335,15,-6,\"A\"\\r\\n\"LCK\",\"Rickenbacker Intl\",39.813786,-82.927822,744,-5,\"A\"\\r\\n\"LCQ\",\"Lake City Municipal Airport\",30.181944,-82.576944,201,-5,\"A\"\\r\\n\"LDJ\",\"Linden Airport\",40.6174472,-74.2445942,23,-5,\"A\"\\r\\n\"LEB\",\"Lebanon Municipal Airport\",43.6261,-72.3042,603,-5,\"A\"\\r\\n\"LEW\",\"Lewiston Maine\",44.0484728,-70.2835075,288,-5,\"A\"\\r\\n\"LEX\",\"Blue Grass\",38.0365,-84.605889,979,-5,\"A\"\\r\\n\"LFI\",\"Langley Afb\",37.082881,-76.360547,11,-5,\"A\"\\r\\n\"LFK\",\"Angelina Co\",31.234014,-94.75,296,-6,\"A\"\\r\\n\"LFT\",\"Lafayette Rgnl\",30.205278,-91.987611,43,-6,\"A\"\\r\\n\"LGA\",\"La Guardia\",40.777245,-73.872608,22,-5,\"A\"\\r\\n\"LGB\",\"Long Beach\",33.817722,-118.151611,60,-8,\"A\"\\r\\n\"LGC\",\"LaGrange-Callaway Airport\",33.0088611,-85.0726111,694,-5,\"A\"\\r\\n\"LGU\",\"Logan-Cache\",41.791,-111.852,4457,-7,\"A\"\\r\\n\"LHD\",\"Lake Hood Seaplane Base\",61.1866382,-149.9653918,71,8,\"A\"\\r\\n\"LHV\",\"William T. Piper Mem.\",41.1357778,-77.4223056,556,-5,\"A\"\\r\\n\"LHX\",\"La Junta Muni\",38.049719,-103.509431,4238,-7,\"A\"\\r\\n\"LIH\",\"Lihue\",21.975983,-159.338958,153,-10,\"N\"\\r\\n\"LIT\",\"Adams Fld\",34.729444,-92.224306,262,-6,\"A\"\\r\\n\"LIV\",\"Livingood Airport\",65.531111,-148.541111,696,-9,\"A\"\\r\\n\"LKE\",\"Kenmore Air Harbor Seaplane Base\",47.629,-122.339,14,-7,\"A\"\\r\\n\"LKP\",\"Lake Placid Airport\",44.264444,-73.961944,1747,5,\"A\"\\r\\n\"LMT\",\"Klamath Falls Airport\",42.1561,-121.733,4095,-8,\"A\"\\r\\n\"LNA\",\"Palm Beach Co Park\",26.593,-80.085056,14,-5,\"A\"\\r\\n\"LNK\",\"Lincoln\",40.850971,-96.75925,1219,-6,\"A\"\\r\\n\"LNN\",\"Lost Nation Municipal Airport\",41.6840278,-81.38975,626,-5,\"A\"\\r\\n\"LNR\",\"Tri-County Regional Airport\",43.211667,-90.181667,718,-6,\"A\"\\r\\n\"LNS\",\"Lancaster Airport\",40.1217,-76.2961,403,-5,\"A\"\\r\\n\"LNY\",\"Lanai\",20.785611,-156.951419,1308,-10,\"N\"\\r\\n\"LOT\",\"Lewis University Airport\",41.606326,-88.083003,680,-6,\"A\"\\r\\n\"LOU\",\"Bowman Fld\",38.228,-85.663722,546,-5,\"A\"\\r\\n\"LOZ\",\"London-Corbin Airport-MaGee Field\",37.0868889,-84.0773889,1212,-5,\"A\"\\r\\n\"LPC\",\"Lompoc Airport\",34.6656,-120.4675,88,-8,\"A\"\\r\\n\"LPR\",\"Lorain County Regional Airport\",41.3442778,-82.1776389,793,-5,\"A\"\\r\\n\"LPS\",\"Lopez Island Airport\",48.4839,-122.938,209,-8,\"A\"\\r\\n\"LRD\",\"Laredo Intl\",27.54375,-99.461556,508,-6,\"A\"\\r\\n\"LRF\",\"Little Rock Afb\",34.916944,-92.149722,311,-6,\"A\"\\r\\n\"LRU\",\"Las Cruces Intl\",32.289417,-106.921972,4456,-7,\"A\"\\r\\n\"LSE\",\"La Crosse Municipal\",43.878986,-91.256711,654,-6,\"A\"\\r\\n\"LSF\",\"Lawson Aaf\",32.337322,-84.991283,232,-5,\"A\"\\r\\n\"LSV\",\"Nellis Afb\",36.236197,-115.034253,1870,-8,\"A\"\\r\\n\"LTS\",\"Altus Afb\",34.667067,-99.266681,1382,-6,\"A\"\\r\\n\"LUF\",\"Luke Afb\",33.535,-112.38306,1085,-7,\"A\"\\r\\n\"LUK\",\"Cincinnati Muni Lunken Fld\",39.103333,-84.418611,483,-5,\"A\"\\r\\n\"LUP\",\"Kalaupapa Airport\",21.211,-156.974,24,-10,\"A\"\\r\\n\"LUR\",\"Cape Lisburne Lrrs\",68.875133,-166.110022,12,-9,\"A\"\\r\\n\"LVK\",\"Livermore Municipal\",37.41362,-121.49133,400,-8,\"A\"\\r\\n\"LVM\",\"Mission Field Airport\",45.6993889,-110.4483056,4660,-7,\"A\"\\r\\n\"LVS\",\"Las Vegas Muni\",35.654222,-105.142389,6877,-7,\"A\"\\r\\n\"LWA\",\"South Haven Area Regional Airport\",42.3511944,-86.2556389,666,-5,\"A\"\\r\\n\"LWB\",\"Greenbrier Valley Airport\",37.858333,-80.399444,2302,-5,\"U\"\\r\\n\"LWC\",\"Lawrence Municipal\",39.009167,-95.2175,833,-4,\"A\"\\r\\n\"LWM\",\"Lawrence Municipal Airport\",42.7171944,-71.1234167,148,-4,\"A\"\\r\\n\"LWS\",\"Lewiston Nez Perce Co\",46.3745,-117.015389,1442,-8,\"A\"\\r\\n\"LWT\",\"Lewistown Municipal Airport\",47.0493,-109.467,4170,-7,\"A\"\\r\\n\"LXY\",\"Mexia - Limestone County Airport\",31.6411783,-96.5144594,544,-6,\"A\"\\r\\n\"LYH\",\"Lynchburg Regional Preston Glenn Field\",37.3267,-79.2004,938,-5,\"A\"\\r\\n\"LYU\",\"Ely Municipal\",47.824444,-91.830833,1456,-6,\"A\"\\r\\n\"LZU\",\"Gwinnett County Airport-Briscoe Field\",33.9780761,-83.9623772,1061,-4,\"A\"\\r\\n\"MAE\",\"Madera Municipal Airport\",36.9886111,-120.1124444,255,-8,\"A\"\\r\\n\"MAF\",\"Midland Intl\",31.942528,-102.201914,2871,-6,\"A\"\\r\\n\"MBL\",\"Manistee County-Blacker Airport\",44.2725,-86.246944,621,-5,\"A\"\\r\\n\"MBS\",\"Mbs Intl\",43.532913,-84.079647,668,-5,\"A\"\\r\\n\"MCC\",\"Mc Clellan Afld\",38.667639,-121.400611,75,-8,\"A\"\\r\\n\"MCD\",\"Mackinac Island Airport\",45.8649344,-84.637344,740,-5,\"U\"\\r\\n\"MCE\",\"Merced Municipal Airport\",37.284722,-120.513889,156,-8,\"A\"\\r\\n\"MCF\",\"Macdill Afb\",27.849339,-82.521214,14,-5,\"A\"\\r\\n\"MCG\",\"McGrath Airport\",62.9529,-155.606,338,-9,\"A\"\\r\\n\"MCI\",\"Kansas City Intl\",39.297606,-94.713905,1026,-6,\"A\"\\r\\n\"MCK\",\"McCook Regional Airport\",40.206389,-100.592222,2583,-6,\"A\"\\r\\n\"MCL\",\"McKinley National Park Airport\",63.732757,-148.91129,1720,-8,\"A\"\\r\\n\"MCN\",\"Middle Georgia Rgnl\",32.69285,-83.649211,354,-5,\"A\"\\r\\n\"MCO\",\"Orlando Intl\",28.429394,-81.308994,96,-5,\"A\"\\r\\n\"MCW\",\"Mason City Municipal\",43.2247,-93.4067,1243,-5,\"A\"\\r\\n\"MDT\",\"Harrisburg Intl\",40.193494,-76.763403,310,-5,\"A\"\\r\\n\"MDW\",\"Chicago Midway Intl\",41.785972,-87.752417,620,-6,\"A\"\\r\\n\"ME5\",\"Banks Airport\",44.1653889,-68.4281667,100,-5,\"A\"\\r\\n\"MEI\",\"Key Field\",32.332624,-88.751868,297,-6,\"A\"\\r\\n\"MEM\",\"Memphis Intl\",35.042417,-89.976667,341,-6,\"A\"\\r\\n\"MER\",\"Castle\",37.380481,-120.568189,189,-8,\"A\"\\r\\n\"MFD\",\"Mansfield Lahm Regional\",40.8214167,-82.5166389,1297,-5,\"A\"\\r\\n\"MFE\",\"Mc Allen Miller Intl\",26.175833,-98.238611,107,-6,\"A\"\\r\\n\"MFI\",\"Marshfield Municipal Airport\",44.6368797,-90.1893267,1278,-6,\"A\"\\r\\n\"MFR\",\"Rogue Valley Intl Medford\",42.374228,-122.8735,1335,-8,\"A\"\\r\\n\"MGC\",\"Michigan City Municipal Airport\",41.7033,-86.8211,500,-5,\"A\"\\r\\n\"MGE\",\"Dobbins Arb\",33.915382,-84.516319,1068,-5,\"A\"\\r\\n\"MGJ\",\"Orange County Airport\",41.5099884,-74.2646444,364,-4,\"A\"\\r\\n\"MGM\",\"Montgomery Regional Airport \",32.3006389,-86.3939722,221,-6,\"A\"\\r\\n\"MGR\",\"Moultrie Municipal Airport\",31.0849167,-83.80325,294,-4,\"A\"\\r\\n\"MGW\",\"Morgantown Muni Walter L Bill Hart Fld\",39.642908,-79.916314,1248,-5,\"A\"\\r\\n\"MGY\",\"Dayton-Wright Brothers Airport\",39.5889722,-84.2248611,957,-5,\"U\"\\r\\n\"MHK\",\"Manhattan Reigonal\",39.140972,-96.670833,1057,-6,\"A\"\\r\\n\"MHM\",\"Minchumina Airport\",63.886111,-152.301944,678,-9,\"A\"\\r\\n\"MHR\",\"Sacramento Mather\",38.553897,-121.297592,96,-8,\"A\"\\r\\n\"MHT\",\"Manchester Regional Airport\",42.932556,-71.435667,266,-5,\"A\"\\r\\n\"MHV\",\"Mojave\",35.059364,-118.151856,2791,-8,\"A\"\\r\\n\"MIA\",\"Miami Intl\",25.79325,-80.290556,8,-5,\"A\"\\r\\n\"MIB\",\"Minot Afb\",48.415572,-101.357661,1668,-6,\"A\"\\r\\n\"MIE\",\"Delaware County Airport\",40.2424722,-85.39575,937,-5,\"U\"\\r\\n\"MIV\",\"Millville Muni\",39.367806,-75.072222,85,-5,\"A\"\\r\\n\"MKC\",\"Downtown\",39.1275,-94.598889,759,-6,\"A\"\\r\\n\"MKE\",\"General Mitchell Intl\",42.947222,-87.896583,723,-6,\"A\"\\r\\n\"MKG\",\"Muskegon County Airport\",43.1695,-86.2382,628,-5,\"A\"\\r\\n\"MKK\",\"Molokai\",21.152886,-157.096256,454,-10,\"N\"\\r\\n\"MKL\",\"Mc Kellar Sipes Rgnl\",35.599889,-88.915611,434,-6,\"A\"\\r\\n\"MKO\",\"Davis Fld\",35.656489,-95.366656,612,-6,\"A\"\\r\\n\"MLB\",\"Melbourne Intl\",28.102753,-80.645258,33,-5,\"A\"\\r\\n\"MLC\",\"Mc Alester Rgnl\",34.882403,-95.783463,770,-6,\"A\"\\r\\n\"MLD\",\"Malad City\",42.17,-112.289,4503,-7,\"A\"\\r\\n\"MLI\",\"Quad City Intl\",41.448528,-90.507539,590,-6,\"A\"\\r\\n\"MLJ\",\"Baldwin County Airport\",33.154225,-83.2414139,385,-4,\"A\"\\r\\n\"MLL\",\"Marshall Don Hunter Sr. Airport\",61.8646418,-162.026111,103,-9,\"A\"\\r\\n\"MLS\",\"Frank Wiley Field\",46.428,-105.886,2630,-7,\"A\"\\r\\n\"MLT\",\"Millinocket Muni\",45.647836,-68.685561,408,-5,\"A\"\\r\\n\"MLU\",\"Monroe Rgnl\",32.510864,-92.037689,79,-6,\"A\"\\r\\n\"MLY\",\"Manley Hot Springs Airport\",64.9975,-150.644167,270,-9,\"A\"\\r\\n\"MMH\",\"Mammoth Yosemite Airport\",37.624049,-118.837772,7128,-8,\"A\"\\r\\n\"MMI\",\"McMinn Co\",35.39919,-84.56177,874,-5,\"N\"\\r\\n\"MMU\",\"Morristown Municipal Airport\",40.79935,-74.4148747,187,-5,\"A\"\\r\\n\"MMV\",\"Mc Minnville Muni\",45.194444,-123.135944,163,-8,\"A\"\\r\\n\"MNM\",\"Menominee Marinette Twin Co\",45.12665,-87.638443,625,-5,\"A\"\\r\\n\"MNT\",\"Minto Airport\",65.143611,-149.37,460,-9,\"A\"\\r\\n\"MOB\",\"Mobile Rgnl\",30.691231,-88.242814,219,-6,\"A\"\\r\\n\"MOD\",\"Modesto City Co Harry Sham\",37.625817,-120.954422,97,-8,\"A\"\\r\\n\"MOT\",\"Minot Intl\",48.259378,-101.280333,1716,-6,\"A\"\\r\\n\"MOU\",\"Mountain Village Airport\",62.0954,-163.682,337,-9,\"A\"\\r\\n\"MPB\",\"Miami Seaplane Base\",25.7783,-80.1703,0,-5,\"A\"\\r\\n\"MPI\",\"MariposaYosemite\",37.3039,-120.0222,2454,-8,\"A\"\\r\\n\"MPV\",\"Edward F Knapp State\",44.203503,-72.562328,1165,-5,\"A\"\\r\\n\"MQB\",\"Macomb Municipal Airport\",40.5200833,-90.6523889,707,-6,\"U\"\\r\\n\"MQT\",\"Sawyer International Airport\",46.353611,-87.395278,1221,-5,\"A\"\\r\\n\"MRB\",\"Eastern WV Regional Airport\",39.2407,-77.591,554,-5,\"A\"\\r\\n\"MRI\",\"Merrill Fld\",61.213544,-149.844447,137,-9,\"A\"\\r\\n\"MRK\",\"Marco Islands\",25.9950278,-81.6725278,5,-5,\"A\"\\r\\n\"MRN\",\"Foothills Regional Airport\",35.8202336,-81.6115119,1270,-4,\"A\"\\r\\n\"MRY\",\"Monterey Peninsula\",36.587,-121.842944,257,-8,\"A\"\\r\\n\"MSL\",\"Northwest Alabama Regional Airport\",34.7453,-87.6102,550,-6,\"A\"\\r\\n\"MSN\",\"Dane Co Rgnl Truax Fld\",43.139858,-89.337514,887,-6,\"A\"\\r\\n\"MSO\",\"Missoula Intl\",46.916306,-114.090556,3205,-7,\"A\"\\r\\n\"MSP\",\"Minneapolis St Paul Intl\",44.881956,-93.221767,841,-6,\"A\"\\r\\n\"MSS\",\"Massena Intl Richards Fld\",44.935833,-74.845547,215,-5,\"A\"\\r\\n\"MSY\",\"Louis Armstrong New Orleans Intl\",29.993389,-90.258028,4,-6,\"A\"\\r\\n\"MTC\",\"Selfridge Angb\",42.608333,-82.8355,580,-5,\"A\"\\r\\n\"MTH\",\"Florida Keys Marathon Airport\",24.726111,-81.051389,7,-5,\"A\"\\r\\n\"MTJ\",\"Montrose Regional Airport\",38.509794,-107.894242,5759,-7,\"A\"\\r\\n\"MTM\",\"Metlakatla Seaplane Base\",55.131111,-131.578056,0,-9,\"A\"\\r\\n\"MUE\",\"Waimea Kohala\",20.001328,-155.668108,2671,-10,\"A\"\\r\\n\"MUI\",\"Muir Aaf\",40.434811,-76.569411,489,-5,\"A\"\\r\\n\"MUO\",\"Mountain Home Afb\",43.043603,-115.872431,2996,-7,\"A\"\\r\\n\"MVL\",\"Morrisville Stowe State Airport\",44.535,-72.614,732,-5,\"A\"\\r\\n\"MVY\",\"Martha\\\\\\\\\\'s Vineyard\",41.391667,-70.615278,67,-5,\"A\"\\r\\n\"MWA\",\"Williamson Country Regional Airport\",37.7549569,-89.0110936,472,-5,\"A\"\\r\\n\"MWC\",\"Lawrence J Timmerman Airport\",43.1103889,-88.0344167,745,-6,\"A\"\\r\\n\"MWH\",\"Grant Co Intl\",47.207708,-119.32019,1185,-8,\"A\"\\r\\n\"MWL\",\"Mineral Wells\",32.781606,-98.060175,974,-6,\"A\"\\r\\n\"MWM\",\"Windom Municipal Airport\",43.9134017,-95.1094083,1410,-6,\"A\"\\r\\n\"MXF\",\"Maxwell Afb\",32.382944,-86.365778,171,-6,\"A\"\\r\\n\"MXY\",\"McCarthy Airport\",61.4370608,-142.90307372,1531,-8,\"U\"\\r\\n\"MYF\",\"Montgomery Field\",32.4759,117.759,17,-8,\"A\"\\r\\n\"MYL\",\"McCall Municipal Airport\",44.889722,-116.101389,5021,-7,\"A\"\\r\\n\"MYR\",\"Myrtle Beach Intl\",33.67975,-78.928333,25,-5,\"A\"\\r\\n\"MYU\",\"Mekoryuk Airport\",60.3714,-166.271,48,-9,\"A\"\\r\\n\"MYV\",\"Yuba County Airport\",39.0553,-121.3411,62,-8,\"A\"\\r\\n\"MZJ\",\"Pinal Airpark\",32.509722,-111.325278,1893,-7,\"N\"\\r\\n\"N53\",\"Stroudsburg-Pocono Airport\",41.0358717,-75.1606789,480,-5,\"A\"\\r\\n\"N69\",\"Stormville Airport\",41.5769708,-73.7323514,358,-5,\"A\"\\r\\n\"N87\",\"Trenton-Robbinsville Airport\",40.2139444,-74.6017778,118,-5,\"A\"\\r\\n\"NBG\",\"New Orleans Nas Jrb\",29.825333,-90.035,3,-6,\"A\"\\r\\n\"NBU\",\"Naval Air Station\",42.090556,-87.8225,653,-6,\"A\"\\r\\n\"NCN\",\"Chenega Bay Airport\",60.077222,-147.991944,72,-9,\"A\"\\r\\n\"NEL\",\"Lakehurst Naes\",40.033333,-74.353333,103,-5,\"A\"\\r\\n\"NFL\",\"Fallon Nas\",39.416584,-118.70098,3934,-8,\"A\"\\r\\n\"NGF\",\"Kaneohe Bay Mcaf\",21.450453,-157.768,24,-10,\"A\"\\r\\n\"NGP\",\"Corpus Christi NAS\",27.692701,-97.290376,18,-6,\"A\"\\r\\n\"NGU\",\"Norfolk Ns\",36.937644,-76.289289,15,-5,\"A\"\\r\\n\"NGZ\",\"NAS Alameda\",37.7861,-122.3186,10,-9,\"U\"\\r\\n\"NHK\",\"Patuxent River Nas\",38.285981,-76.411781,39,-5,\"A\"\\r\\n\"NIB\",\"Nikolai Airport\",63.010833,-154.383889,427,-9,\"A\"\\r\\n\"NID\",\"China Lake Naws\",35.685422,-117.692039,2283,-8,\"A\"\\r\\n\"NIP\",\"Jacksonville Nas\",30.235834,-81.680556,22,-5,\"A\"\\r\\n\"NJK\",\"El Centro Naf\",32.829222,-115.671667,-42,-8,\"A\"\\r\\n\"NKT\",\"Cherry Point Mcas\",34.900872,-76.880733,29,-5,\"A\"\\r\\n\"NKX\",\"Miramar Mcas\",32.867694,-117.14175,478,-8,\"A\"\\r\\n\"NLC\",\"Lemoore Nas\",36.333012,-119.95208,234,-8,\"A\"\\r\\n\"NLG\",\"Nelson Lagoon\",56.0075,-161.160278,14,-9,\"A\"\\r\\n\"NME\",\"Nightmute Airport\",60.471111,-164.700833,4,-10,\"A\"\\r\\n\"NMM\",\"Meridian Nas\",32.552083,-88.555557,317,-6,\"A\"\\r\\n\"NNL\",\"Nondalton Airport\",59.966944,-154.851667,262,-9,\"A\"\\r\\n\"NOW\",\"Port Angeles Cgas\",48.141481,-123.414075,13,-8,\"A\"\\r\\n\"NPA\",\"Pensacola Nas\",30.352656,-87.318647,28,-6,\"A\"\\r\\n\"NPZ\",\"Porter County Municipal Airport\",41.4539722,-87.0070833,770,-6,\"A\"\\r\\n\"NQA\",\"Millington Rgnl Jetport\",35.356667,-89.870278,320,-6,\"A\"\\r\\n\"NQI\",\"Kingsville Nas\",27.507223,-97.809723,50,-6,\"A\"\\r\\n\"NQX\",\"Key West Nas\",24.575834,-81.688889,6,-5,\"A\"\\r\\n\"NSE\",\"Whiting Fld Nas North\",30.724167,-87.021944,199,-6,\"A\"\\r\\n\"NTD\",\"Point Mugu Nas\",34.120285,-119.12094,13,-8,\"A\"\\r\\n\"NTU\",\"Oceana Nas\",36.820703,-76.033542,22,-5,\"A\"\\r\\n\"NUI\",\"Nuiqsut Airport\",70.21,-151.005556,38,-9,\"A\"\\r\\n\"NUL\",\"Nulato Airport\",64.729444,-158.074167,399,-9,\"A\"\\r\\n\"NUP\",\"Nunapitchuk Airport\",60.905833,-162.439167,12,-9,\"A\"\\r\\n\"NUQ\",\"Moffett Federal Afld\",37.416142,-122.049139,32,-8,\"A\"\\r\\n\"NUW\",\"Whidbey Island Nas\",48.351803,-122.655906,47,-8,\"A\"\\r\\n\"NXP\",\"Twentynine Palms Eaf\",34.296161,-116.162203,2051,-8,\"A\"\\r\\n\"NXX\",\"Willow Grove Nas Jrb\",40.199833,-75.148167,358,-5,\"A\"\\r\\n\"NY9\",\"Long Lake\",43.9750617,-74.42044,1629,5,\"A\"\\r\\n\"NYC\",\"All Airports\",40.714167,-74.005833,31,-5,\"A\"\\r\\n\"NYG\",\"Quantico Mcaf\",38.501683,-77.305333,11,-5,\"A\"\\r\\n\"NZC\",\"Cecil Field\",30.2187,-81.8767,81,-5,\"A\"\\r\\n\"NZJ\",\"El Toro\",33.676132,-117.731164,383,-8,\"A\"\\r\\n\"NZY\",\"North Island Nas\",32.699219,-117.21531,26,-8,\"A\"\\r\\n\"O03\",\"Morgantown Airport\",40.1570414,-75.8704892,600,-5,\"A\"\\r\\n\"O27\",\"Oakdale Airport\",37.7563333,-120.8001944,237,-8,\"A\"\\r\\n\"OAJ\",\"Albert J Ellis\",34.829164,-77.612139,94,-5,\"A\"\\r\\n\"OAK\",\"Metropolitan Oakland Intl\",37.721278,-122.220722,9,-8,\"A\"\\r\\n\"OAR\",\"Marina Muni\",36.681878,-121.762347,134,-8,\"A\"\\r\\n\"OBE\",\"County\",27.265833,-80.851111,34,-5,\"A\"\\r\\n\"OBU\",\"Kobuk Airport\",66.912222,-156.897222,137,-9,\"A\"\\r\\n\"OCA\",\"Key Largo\",25.325393,-80.274775,8,-5,\"A\"\\r\\n\"OCF\",\"International Airport\",29.1725,-82.224167,89,-5,\"A\"\\r\\n\"OEB\",\"Branch County Memorial Airport\",41.9335691,-85.0522935,959,-5,\"A\"\\r\\n\"OFF\",\"Offutt Afb\",41.118332,-95.912511,1052,-6,\"A\"\\r\\n\"OGG\",\"Kahului\",20.89865,-156.430458,54,-10,\"N\"\\r\\n\"OGS\",\"Ogdensburg Intl\",44.681854,-75.4655,297,-5,\"A\"\\r\\n\"OKC\",\"Will Rogers World\",35.393089,-97.600733,1295,-6,\"A\"\\r\\n\"OLF\",\"LM Clayton Airport\",48.094444,-105.575,1986,-7,\"A\"\\r\\n\"OLH\",\"Old Harbor Airport\",57.218056,-153.269722,55,-9,\"A\"\\r\\n\"OLM\",\"Olympia Regional Airpor\",46.9694044,-122.9025447,209,-7,\"A\"\\r\\n\"OLS\",\"Nogales Intl\",31.417722,-110.84789,3955,-7,\"A\"\\r\\n\"OLV\",\"Olive Branch Muni\",34.876944,-89.783333,350,-6,\"A\"\\r\\n\"OMA\",\"Eppley Afld\",41.303167,-95.894069,984,-6,\"A\"\\r\\n\"OME\",\"Nome\",64.512203,-165.445247,37,-9,\"A\"\\r\\n\"OMN\",\"Ormond Beach municipal Airport\",29.1804,-81.06497,28,-5,\"A\"\\r\\n\"ONH\",\"Oneonta Municipal Airport\",42.524722,-75.064444,1763,-5,\"A\"\\r\\n\"ONP\",\"Newport Municipal Airport\",44.580361,-124.057917,160,8,\"A\"\\r\\n\"ONT\",\"Ontario Intl\",34.056,-117.601194,944,-8,\"A\"\\r\\n\"OOK\",\"Toksook Bay Airport\",60.541389,-165.087222,59,-10,\"A\"\\r\\n\"OPF\",\"Opa Locka\",25.907,-80.278389,8,-5,\"A\"\\r\\n\"OQU\",\"Quonset State Airport\",41.5971389,-71.4121389,18,-4,\"A\"\\r\\n\"ORD\",\"Chicago Ohare Intl\",41.978603,-87.904842,668,-6,\"A\"\\r\\n\"ORF\",\"Norfolk Intl\",36.894611,-76.201222,26,-5,\"A\"\\r\\n\"ORH\",\"Worcester Regional Airport\",42.2673,-71.8757,1009,-5,\"A\"\\r\\n\"ORI\",\"Port Lions Airport\",57.885278,-152.846111,52,-9,\"A\"\\r\\n\"ORL\",\"Executive\",28.545464,-81.332936,113,-5,\"A\"\\r\\n\"ORT\",\"Northway\",62.961334,-141.929136,1716,-9,\"A\"\\r\\n\"ORV\",\"Robert Curtis Memorial Airport\",66.8175,-161.022222,55,-9,\"A\"\\r\\n\"OSC\",\"Oscoda Wurtsmith\",44.451558,-83.394053,634,-5,\"A\"\\r\\n\"OSH\",\"Wittman Regional Airport\",44.024983,-88.551336,790,-5,\"A\"\\r\\n\"OSU\",\"Ohio State University Airport\",40.0798,-83.073,905,-5,\"U\"\\r\\n\"OTH\",\"Southwest Oregon Regional Airport\",43.4171,-124.246,17,-8,\"A\"\\r\\n\"OTS\",\"Anacortes Airport\",48.498889,-122.6625,241,-8,\"A\"\\r\\n\"OTZ\",\"Ralph Wien Mem\",66.884678,-162.59855,11,-9,\"A\"\\r\\n\"OWB\",\"Owensboro Daviess County Airport\",37.7401,-87.1668,406,-6,\"A\"\\r\\n\"OWD\",\"Norwood Memorial Airport\",42.1905278,-71.1729444,49,-5,\"A\"\\r\\n\"OXC\",\"Waterbury-Oxford Airport\",41.4785556,-73.13525,726,-4,\"A\"\\r\\n\"OXD\",\"Miami University Airport\",39.5022607,-84.7843814,1040,-5,\"U\"\\r\\n\"OXR\",\"Oxnard - Ventura County\",34.200833,-119.207222,15,-8,\"A\"\\r\\n\"OZA\",\"Ozona Muni\",30.735281,-101.202972,2381,-6,\"A\"\\r\\n\"P08\",\"Coolidge Municipal Airport\",32.9359016418457,-111.427001953125,1574,-7,\"A\"\\r\\n\"P52\",\"Cottonwood Airport\",34.7299995422363,-112.035003662109,3550,-7,\"A\"\\r\\n\"PAE\",\"Snohomish Co\",47.906342,-122.281564,606,-8,\"A\"\\r\\n\"PAH\",\"Barkley Regional Airport\",37.0602875,-88.7729583,410,-6,\"A\"\\r\\n\"PAM\",\"Tyndall Afb\",30.069567,-85.575417,17,-6,\"A\"\\r\\n\"PAO\",\"Palo Alto Airport of Santa Clara County\",37.4611111,-122.1150556,7,-8,\"A\"\\r\\n\"PAQ\",\"Palmer Muni\",61.594914,-149.088711,242,-9,\"A\"\\r\\n\"PBF\",\"Grider Fld\",34.173142,-91.935597,206,-6,\"A\"\\r\\n\"PBG\",\"Plattsburgh Intl\",44.650944,-73.468139,234,-5,\"A\"\\r\\n\"PBI\",\"Palm Beach Intl\",26.683161,-80.095589,19,-5,\"A\"\\r\\n\"PBV\",\"St George\",56.578344,-169.661611,125,-11,\"A\"\\r\\n\"PBX\",\"Pike County Airport - Hatcher Field\",37.5617639,-82.5663889,1473,-4,\"A\"\\r\\n\"PCW\",\"Erie-Ottawa Regional Airport\",41.5162703,-82.8694868,590,-5,\"U\"\\r\\n\"PCZ\",\"Waupaca Municipal Airport\",44.33325,-89.0197778,840,-6,\"A\"\\r\\n\"PDB\",\"Pedro Bay Airport\",59.782222,-154.1325,45,-9,\"A\"\\r\\n\"PDK\",\"Dekalb-Peachtree Airport\",33.8756111,-84.3019722,1003,-4,\"A\"\\r\\n\"PDT\",\"Eastern Oregon Regional Airport\",45.695,-118.841389,1497,-7,\"A\"\\r\\n\"PDX\",\"Portland Intl\",45.588722,-122.5975,30,-8,\"A\"\\r\\n\"PEC\",\"Pelican Seaplane Base\",57.955278,-136.236389,0,-9,\"A\"\\r\\n\"PEQ\",\"Pecos Municipal Airport\",31.3823889,-103.5107222,2613,-6,\"A\"\\r\\n\"PFN\",\"Panama City Bay Co Intl\",30.212083,-85.682806,20,-6,\"A\"\\r\\n\"PGA\",\"Page Municipal Airport\",36.9261,-111.4483,4316,-7,\"A\"\\r\\n\"PGD\",\"Charlotte County-Punta Gorda Airport\",26.919722,-81.990556,26,-5,\"A\"\\r\\n\"PGV\",\"Pitt-Greenville Airport\",35.635278,-77.385278,27,-5,\"A\"\\r\\n\"PHD\",\"Harry Clever Field Airport\",40.4701667,-81.4199444,894,-4,\"A\"\\r\\n\"PHF\",\"Newport News Williamsburg Intl\",37.131894,-76.492989,43,-5,\"A\"\\r\\n\"PHK\",\"Pahokee Airport\",26.789,-80.692,18,-5,\"A\"\\r\\n\"PHL\",\"Philadelphia Intl\",39.871944,-75.241139,36,-5,\"A\"\\r\\n\"PHN\",\"St Clair Co Intl\",42.910957,-82.528862,650,-5,\"A\"\\r\\n\"PHO\",\"Point Hope Airport\",68.3488,-166.799,12,-9,\"A\"\\r\\n\"PHX\",\"Phoenix Sky Harbor Intl\",33.434278,-112.011583,1135,-7,\"N\"\\r\\n\"PIA\",\"Peoria Regional\",40.664203,-89.693258,660,-6,\"A\"\\r\\n\"PIB\",\"Hattiesburg Laurel Regional Airport\",31.4671,-89.3371,298,-6,\"A\"\\r\\n\"PIE\",\"St Petersburg Clearwater Intl\",27.910167,-82.687389,10,-5,\"A\"\\r\\n\"PIH\",\"Pocatello Regional Airport\",42.9098,-112.596,4452,-7,\"A\"\\r\\n\"PIM\",\"Harris County Airport\",32.8406944,-84.8824444,902,-4,\"A\"\\r\\n\"PIP\",\"Pilot Point Airport\",57.585393,-157.571944,57,-9,\"A\"\\r\\n\"PIR\",\"Pierre Regional Airport\",44.3827,-100.286,1742,-6,\"A\"\\r\\n\"PIT\",\"Pittsburgh Intl\",40.491467,-80.232872,1204,-5,\"A\"\\r\\n\"PIZ\",\"Point Lay Lrrs\",69.732875,-163.005342,25,-9,\"A\"\\r\\n\"PKB\",\"Mid-Ohio Valley Regional Airport\",39.3451039,-81.4392031,858,-5,\"A\"\\r\\n\"PLN\",\"Pellston Regional Airport of Emmet County Airport\",45.5709,-84.7967,720,-5,\"A\"\\r\\n\"PMB\",\"Pembina Muni\",48.942501,-97.240833,795,-6,\"A\"\\r\\n\"PMD\",\"Palmdale Rgnl Usaf Plt 42\",34.629391,-118.08456,2543,-8,\"A\"\\r\\n\"PML\",\"Port Moller Airport\",56.006111,-160.560833,20,-9,\"A\"\\r\\n\"PMP\",\"Pompano Beach Airpark\",26.2471389,-80.1110556,19,-5,\"A\"\\r\\n\"PNC\",\"Ponca City Rgnl\",36.731958,-97.099781,1007,-6,\"A\"\\r\\n\"PNE\",\"Northeast Philadelphia\",40.081944,-75.010586,121,-5,\"A\"\\r\\n\"PNM\",\"Princeton Muni\",45.559868,-93.608217,979,-6,\"A\"\\r\\n\"PNS\",\"Pensacola Rgnl\",30.473425,-87.186611,121,-6,\"A\"\\r\\n\"POB\",\"Pope Field\",35.170883,-79.014472,217,-5,\"A\"\\r\\n\"POC\",\"Brackett Field\",34.0916667,-117.7817778,1014,-7,\"A\"\\r\\n\"POE\",\"Polk Aaf\",31.044833,-93.191667,330,-6,\"A\"\\r\\n\"POF\",\"Poplar Bluff Municipal Airport\",36.77394444,-90.3248611,331,-6,\"A\"\\r\\n\"PPC\",\"Prospect Creek Airport\",66.814167,-150.643611,1095,-9,\"A\"\\r\\n\"PPV\",\"Port Protection Seaplane Base\",56.328889,-133.61,0,-9,\"A\"\\r\\n\"PQI\",\"Northern Maine Rgnl At Presque Isle\",46.688958,-68.044797,534,-4,\"A\"\\r\\n\"PQS\",\"Pilot Station Airport\",61.934444,-162.899444,305,-9,\"A\"\\r\\n\"PRC\",\"Ernest A Love Fld\",34.654472,-112.419583,5045,-7,\"A\"\\r\\n\"PSC\",\"Tri Cities Airport\",46.2647,-119.119,410,-8,\"A\"\\r\\n\"PSG\",\"Petersburg James A. Johnson\",56.801667,-132.945278,105,-9,\"A\"\\r\\n\"PSM\",\"Pease International Tradeport\",43.0779,-70.8233,100,-5,\"A\"\\r\\n\"PSP\",\"Palm Springs Intl\",33.829667,-116.506694,477,-8,\"A\"\\r\\n\"PSX\",\"Palacios Muni\",28.727508,-96.250958,14,-6,\"A\"\\r\\n\"PTB\",\"Dinwiddie County Airport\",37.18375,-77.507388,193,-5,\"A\"\\r\\n\"PTH\",\"Port Heiden Airport\",56.9591,-158.633,95,-9,\"A\"\\r\\n\"PTK\",\"Oakland Co. Intl\",42.667,-83.35,980,-4,\"A\"\\r\\n\"PTU\",\"Platinum\",59.011356,-161.819664,15,-9,\"A\"\\r\\n\"PUB\",\"Pueblo Memorial\",38.289085,-104.496572,4726,-7,\"A\"\\r\\n\"PUC\",\"Carbon County Regional-Buck Davis Field\",39.609722,-110.75278,5957,-6,\"A\"\\r\\n\"PUW\",\"Pullman-Moscow Rgnl\",46.743861,-117.109583,2556,-8,\"A\"\\r\\n\"PVC\",\"Provincetown Muni\",42.071945,-70.22139,9,-5,\"A\"\\r\\n\"PVD\",\"Theodore Francis Green State\",41.732581,-71.420383,55,-5,\"A\"\\r\\n\"PVU\",\"Provo Municipal Airport\",40.21805555,-111.72222222,4497,-6,\"A\"\\r\\n\"PWK\",\"Chicago Executive\",42.1142897,-87.9015376,647,-6,\"A\"\\r\\n\"PWM\",\"Portland Intl Jetport\",43.646161,-70.309281,77,-5,\"A\"\\r\\n\"PWT\",\"Bremerton National\",47.490244,-122.764814,444,-8,\"A\"\\r\\n\"PYM\",\"Plymouth Municipal Airport\",41.9090278,-70.7287778,148,-4,\"A\"\\r\\n\"PYP\",\"Centre-Piedmont-Cherokee County Regional Airport\",34.0899167,-85.6100833,595,-4,\"A\"\\r\\n\"R49\",\"Ferry County Airport\",48.7182058,-118.6564714,2522,-8,\"A\"\\r\\n\"RAC\",\"John H. Batten Airport\",42.7605,-87.8152,674,-6,\"A\"\\r\\n\"RAL\",\"Riverside Muni\",33.951875,-117.445103,818,-8,\"A\"\\r\\n\"RAP\",\"Rapid City Regional Airport\",44.045278,-103.057222,3204,-7,\"A\"\\r\\n\"RBD\",\"Dallas Executive Airport\",32.680833,-96.868333,201,-6,\"A\"\\r\\n\"RBK\",\"French Valley Airport\",33.5741791,-117.1284732,1350,-8,\"A\"\\r\\n\"RBM\",\"Robinson Aaf\",34.850089,-92.300153,587,-6,\"A\"\\r\\n\"RBN\",\"Fort Jefferson\",24.61667,-82.86667,0,-5,\"A\"\\r\\n\"RBY\",\"Ruby Airport\",64.7272,-155.47,653,-9,\"A\"\\r\\n\"RCA\",\"Ellsworth Afb\",44.145042,-103.103567,3279,-7,\"A\"\\r\\n\"RCE\",\"Roche Harbor Seaplane Base\",48.608056,-123.159722,0,-8,\"A\"\\r\\n\"RCZ\",\"Richmond County Airport\",34.8913056,-79.7596111,358,-5,\"A\"\\r\\n\"RDD\",\"Redding Muni\",40.509,-122.293389,504,-8,\"A\"\\r\\n\"RDG\",\"Reading Regional Carl A Spaatz Field\",40.3785,-75.9652,344,-5,\"A\"\\r\\n\"RDM\",\"Roberts Fld\",44.254066,-121.149964,3077,-8,\"A\"\\r\\n\"RDR\",\"Grand Forks Afb\",47.961098,-97.401194,913,-6,\"A\"\\r\\n\"RDU\",\"Raleigh Durham Intl\",35.877639,-78.787472,435,-5,\"A\"\\r\\n\"RDV\",\"Red Devil Airport\",61.788056,-157.350278,174,-9,\"A\"\\r\\n\"REI\",\"Redlands Municipal Airport\",34.08525,-117.146388,1574,-8,\"A\"\\r\\n\"RFD\",\"Chicago Rockford International Airport \",42.1953611,-89.0972222,742,-6,\"A\"\\r\\n\"RHI\",\"Rhinelander Oneida County Airport\",45.6312,-89.4675,1624,-6,\"A\"\\r\\n\"RIC\",\"Richmond Intl\",37.505167,-77.319667,167,-5,\"A\"\\r\\n\"RID\",\"Richmond Municipal Airport\",39.7561006,-84.8427175,1140,-5,\"U\"\\r\\n\"RIF\",\"Richfield Minicipal Airport\",38.7364361,-112.0989444,5301,-6,\"A\"\\r\\n\"RIL\",\"Garfield County Regional Airport\",39.5263056,-107.7269444,5548,-6,\"A\"\\r\\n\"RIR\",\"Flabob Airport\",33.988778,-117.409971,764,-8,\"A\"\\r\\n\"RIU\",\"Rancho Murieta\",38.486778,-121.102778,141,-8,\"A\"\\r\\n\"RIV\",\"March Arb\",33.880711,-117.259453,1535,-8,\"A\"\\r\\n\"RIW\",\"Riverton Regional\",43.064167,-108.459722,5525,-7,\"A\"\\r\\n\"RKD\",\"Knox County Regional Airport\",44.0601111,-69.0992303,56,-5,\"A\"\\r\\n\"RKH\",\"Rock Hill York Co Bryant Airport\",34.9878,-81.0572,667,-5,\"A\"\\r\\n\"RKP\",\"Aransas County Airport\",28.0862222,-97.0436944,24,-6,\"A\"\\r\\n\"RKS\",\"Rock Springs Sweetwater County Airport\",41.5942,-109.065,6760,-7,\"A\"\\r\\n\"RME\",\"Griffiss Afld\",43.2338,-75.407033,504,-5,\"A\"\\r\\n\"RMG\",\"Richard B Russell Airport\",34.3507778,-85.1586667,664,-4,\"A\"\\r\\n\"RMP\",\"Rampart Airport\",65.507778,-150.140833,302,-9,\"A\"\\r\\n\"RMY\",\"Brooks Field Airport\",42.2511932,-84.9554443,941,-5,\"A\"\\r\\n\"RND\",\"Randolph Afb\",29.529675,-98.2789,762,-6,\"A\"\\r\\n\"RNM\",\"Ramona Airport\",33.0391667,-116.91525,1395,-8,\"A\"\\r\\n\"RNO\",\"Reno Tahoe Intl\",39.499108,-119.768108,4415,-8,\"A\"\\r\\n\"RNT\",\"Renton\",47.4931389,-122.21575,32,-7,\"A\"\\r\\n\"ROA\",\"Roanoke Regional\",37.325472,-79.975417,1175,-5,\"A\"\\r\\n\"ROC\",\"Greater Rochester Intl\",43.118866,-77.672389,559,-5,\"A\"\\r\\n\"ROW\",\"Roswell Intl Air Center\",33.301556,-104.530556,3671,-7,\"A\"\\r\\n\"RSH\",\"Russian Mission Airport\",61.775,-161.319444,51,-9,\"A\"\\r\\n\"RSJ\",\"Rosario Seaplane Base\",48.645556,-122.868056,0,-8,\"A\"\\r\\n\"RST\",\"Rochester\",43.908283,-92.500014,1317,-6,\"A\"\\r\\n\"RSW\",\"Southwest Florida Intl\",26.536167,-81.755167,30,-5,\"A\"\\r\\n\"RUT\",\"Rutland State Airport\",43.5294,-72.9496,787,-5,\"A\"\\r\\n\"RVS\",\"Richard Lloyd Jones Jr Airport\",36.0396111,-95.9846389,638,-5,\"A\"\\r\\n\"RWI\",\"Rocky Mount Wilson Regional Airport\",35.8563,-77.8919,159,-5,\"A\"\\r\\n\"RWL\",\"Rawlins Municipal Airport-Harvey Field\",41.8055975,-107.19994,6813,-7,\"A\"\\r\\n\"RYY\",\"Cobb County Airport-Mc Collum Field\",34.0131569,-84.5970556,1041,-5,\"A\"\\r\\n\"S46\",\"Port O\\\\\\\\\\'Connor Airfield\",28.429977,-96.442859,10,-6,\"A\"\\r\\n\"SAA\",\"Shively Field Airport\",41.4448594,-106.8235264,7012,-6,\"A\"\\r\\n\"SAC\",\"Sacramento Executive\",38.512524,-121.49347,24,-8,\"A\"\\r\\n\"SAD\",\"Safford Regional Airport\",32.8533333,-109.6350833,3179,-7,\"N\"\\r\\n\"SAF\",\"Santa Fe Muni\",35.617108,-106.089422,6348,-7,\"A\"\\r\\n\"SAN\",\"San Diego Intl\",32.733556,-117.189667,17,-8,\"A\"\\r\\n\"SAT\",\"San Antonio Intl\",29.533694,-98.469778,809,-6,\"A\"\\r\\n\"SAV\",\"Savannah Hilton Head Intl\",32.127583,-81.202139,51,-5,\"A\"\\r\\n\"SBA\",\"Santa Barbara Muni\",34.426211,-119.840372,10,-8,\"A\"\\r\\n\"SBD\",\"San Bernardino International Airport\",34.0953521,-117.2348722,1159,-8,\"A\"\\r\\n\"SBM\",\"Sheboygan County Memorial Airport\",43.7696,-87.851402,755,-6,\"A\"\\r\\n\"SBN\",\"South Bend Rgnl\",41.708661,-86.31725,799,-5,\"A\"\\r\\n\"SBO\",\"Emanuel Co\",32.609139,-82.369944,327,-5,\"A\"\\r\\n\"SBP\",\"San Luis County Regional Airport\",35.2368,-120.642,212,-8,\"A\"\\r\\n\"SBS\",\"Steamboat Springs Airport-Bob Adams Field\",40.51625,-106.8663056,6882,-6,\"A\"\\r\\n\"SBY\",\"Salisbury Ocean City Wicomico Rgnl\",38.340525,-75.510289,52,-5,\"A\"\\r\\n\"SCC\",\"Deadhorse\",70.19475,-148.465167,64,-9,\"A\"\\r\\n\"SCE\",\"University Park Airport\",40.849278,-77.848694,1239,-5,\"A\"\\r\\n\"SCH\",\"Stratton ANGB - Schenectady County Airpor\",42.85245555,-73.928866666,378,-5,\"A\"\\r\\n\"SCK\",\"Stockton Metropolitan\",37.894167,-121.238306,33,-8,\"A\"\\r\\n\"SCM\",\"Scammon Bay Airport\",61.845278,-165.571389,14,-9,\"A\"\\r\\n\"SDC\",\"Williamson-Sodus Airport\",43.2347904,-77.119444,424,-5,\"A\"\\r\\n\"SDF\",\"Louisville International Airport\",38.1740858,-85.7364989,501,-5,\"A\"\\r\\n\"SDM\",\"Brown Field Municipal Airport\",32.5722722,-116.9801611,526,-7,\"A\"\\r\\n\"SDP\",\"Sand Point Airport\",55.315,-160.523,21,-9,\"A\"\\r\\n\"SDX\",\"Sedona\",34.848628,-111.788472,4830,-7,\"A\"\\r\\n\"SDY\",\"Sidney-Richland Municipal Airport\",47.706944,-104.1925,1984,-7,\"A\"\\r\\n\"SEA\",\"Seattle Tacoma Intl\",47.449,-122.309306,433,-8,\"A\"\\r\\n\"SEE\",\"Gillespie\",32.8262222,-116.9724444,388,-8,\"A\"\\r\\n\"SEF\",\"Regional - Hendricks AAF\",27.456389,-81.342222,63,-5,\"A\"\\r\\n\"SEM\",\"Craig Fld\",32.343947,-86.987803,166,-6,\"A\"\\r\\n\"SES\",\"Selfield Airport\",32.4404,-86.9522,131,-6,\"A\"\\r\\n\"SFB\",\"Orlando Sanford Intl\",28.777639,-81.237489,55,-5,\"A\"\\r\\n\"SFF\",\"Felts Fld\",47.682819,-117.322558,1953,-8,\"A\"\\r\\n\"SFM\",\"Sanford Regional\",43.39383,-70.708,244,-5,\"A\"\\r\\n\"SFO\",\"San Francisco Intl\",37.618972,-122.374889,13,-8,\"A\"\\r\\n\"SFZ\",\"North Central State\",41.920764,-71.491381,441,-5,\"A\"\\r\\n\"SGF\",\"Springfield Branson Natl\",37.245667,-93.388639,1268,-6,\"A\"\\r\\n\"SGH\",\"Springfield-Beckly Municipal Airport\",39.8402778,-83.8401667,1051,-5,\"A\"\\r\\n\"SGJ\",\"St. Augustine Airport\",29.95925,-81.3397222,10,-5,\"A\"\\r\\n\"SGR\",\"Sugar Land Regional Airport\",29.62225,-95.6565278,82,-6,\"A\"\\r\\n\"SGU\",\"St George Muni\",37.090583,-113.593056,2941,-7,\"A\"\\r\\n\"SGY\",\"Skagway Airport\",59.4601,-135.316,44,-9,\"A\"\\r\\n\"SHD\",\"Shenandoah Valley Regional Airport\",38.263889,-78.896389,1201,-5,\"A\"\\r\\n\"SHG\",\"Shungnak Airport\",66.888056,-157.1625,197,-9,\"A\"\\r\\n\"SHH\",\"Shishmaref Airport\",66.2496,-166.089,12,-9,\"A\"\\r\\n\"SHR\",\"Sheridan County Airport\",44.7692,-106.98,4021,-7,\"A\"\\r\\n\"SHV\",\"Shreveport Rgnl\",32.446629,-93.8256,258,-6,\"A\"\\r\\n\"SHX\",\"Shageluk Airport\",62.692222,-159.569167,79,-9,\"A\"\\r\\n\"SIK\",\"Sikeston Memorial Municipal\",36.8988889,-89.56175,315,-6,\"A\"\\r\\n\"SIT\",\"Sitka Rocky Gutierrez\",57.047138,-135.361611,21,-9,\"A\"\\r\\n\"SJC\",\"Norman Y Mineta San Jose Intl\",37.3626,-121.929022,62,-8,\"A\"\\r\\n\"SJT\",\"San Angelo Rgnl Mathis Fld\",31.35775,-100.496306,1919,-6,\"A\"\\r\\n\"SKA\",\"Fairchild Afb\",47.615058,-117.655772,2461,-8,\"A\"\\r\\n\"SKF\",\"Lackland Afb Kelly Fld Annex\",29.384228,-98.581108,691,-6,\"A\"\\r\\n\"SKK\",\"Shaktoolik Airport\",64.371111,-161.223889,24,-9,\"A\"\\r\\n\"SKY\",\"Griffing Sandusky\",41.433361,-82.652333,580,-5,\"A\"\\r\\n\"SLC\",\"Salt Lake City Intl\",40.788389,-111.977772,4227,-7,\"A\"\\r\\n\"SLE\",\"McNary Field\",44.9095,-123.003,214,-7,\"A\"\\r\\n\"SLK\",\"Adirondack Regional Airport\",44.3853,-74.2062,1663,-5,\"A\"\\r\\n\"SLN\",\"Salina Municipal Airport\",38.791,-97.6522,1288,-6,\"A\"\\r\\n\"SLQ\",\"Sleetmute Airport\",61.700566,-157.165833,190,-9,\"A\"\\r\\n\"SMD\",\"Smith Fld\",41.143353,-85.152778,834,-5,\"A\"\\r\\n\"SME\",\"Lake Cumberland Regional Airport\",37.053611,-84.615556,927,-5,\"A\"\\r\\n\"SMF\",\"Sacramento Intl\",38.695417,-121.590778,27,-8,\"A\"\\r\\n\"SMK\",\"St. Michael Airport\",63.49,-162.110278,98,-9,\"A\"\\r\\n\"SMN\",\"Lemhi County Airport\",45.123889,-113.881389,4043,-7,\"A\"\\r\\n\"SMO\",\"Santa Monica Municipal Airport\",34.0158333,-118.4513056,177,-7,\"A\"\\r\\n\"SMX\",\"Santa Maria Pub Cpt G Allan Hancock Airport\",34.8989,-120.457,261,-8,\"A\"\\r\\n\"SNA\",\"John Wayne Arpt Orange Co\",33.675667,-117.868222,56,-8,\"A\"\\r\\n\"SNP\",\"St Paul Island\",57.167333,-170.220444,63,-11,\"A\"\\r\\n\"SNY\",\"Sidney Muni Airport\",41.10167,-102.985,4313,-7,\"A\"\\r\\n\"SOP\",\"Moore County Airport\",35.2376111,-79.3887958,455,-5,\"A\"\\r\\n\"SOW\",\"Show Low Regional Airport\",34.265556,-110.005556,6415,-7,\"A\"\\r\\n\"SPB\",\"Scappoose Industrial Airpark\",45.771028,-122.861833,58,-8,\"A\"\\r\\n\"SPF\",\"Black Hills Airport-Clyde Ice Field\",44.4811407,-103.7860053,3931,-7,\"A\"\\r\\n\"SPG\",\"Albert Whitted\",27.765111,-82.626972,7,-5,\"A\"\\r\\n\"SPI\",\"Abraham Lincoln Capital\",39.8441,-89.677889,597,-6,\"A\"\\r\\n\"SPS\",\"Sheppard Afb Wichita Falls Muni\",33.988797,-98.491894,1019,-6,\"A\"\\r\\n\"SPW\",\"Spencer Muni\",43.165527,-95.202805,1339,-6,\"A\"\\r\\n\"SPZ\",\"Silver Springs Airport\",39.4030278,-119.2511944,4269,-8,\"A\"\\r\\n\"SQL\",\"San Carlos Airport\",37.511944,-122.249444,5,-8,\"A\"\\r\\n\"SRQ\",\"Sarasota Bradenton Intl\",27.395444,-82.554389,30,-5,\"A\"\\r\\n\"SRR\",\"Sierra Blanca Regional Airport\",33.46285,-105.534751,6814,-7,\"A\"\\r\\n\"SRV\",\"Stony River 2 Airport\",61.7875,-156.591111,230,-9,\"A\"\\r\\n\"SSC\",\"Shaw Afb\",33.972719,-80.470564,242,-5,\"A\"\\r\\n\"SSI\",\"McKinnon Airport\",31.1519722,-81.3910556,19,-4,\"A\"\\r\\n\"STC\",\"Saint Cloud Regional Airport\",45.546556,-94.059889,1031,-6,\"A\"\\r\\n\"STE\",\"Stevens Point Municipal Airport\",44.5451356,-89.5302844,1110,-6,\"A\"\\r\\n\"STG\",\"St. George Airport\",56.577222,-169.663611,125,-9,\"A\"\\r\\n\"STJ\",\"Rosecrans Mem\",39.771944,-94.909706,826,-6,\"A\"\\r\\n\"STK\",\"Sterling Municipal Airport\",40.6153136,-103.2648454,4040,-7,\"A\"\\r\\n\"STL\",\"Lambert St Louis Intl\",38.748697,-90.370028,618,-6,\"A\"\\r\\n\"STS\",\"Charles M Schulz Sonoma Co\",38.508978,-122.81288,125,-8,\"A\"\\r\\n\"SUA\",\"Witham Field Airport\",27.1816996,-80.221294,16,-4,\"A\"\\r\\n\"SUE\",\"Door County Cherryland Airport\",44.8436667,-87.4215556,725,-6,\"U\"\\r\\n\"SUN\",\"Friedman Mem\",43.504444,-114.296194,5320,-7,\"A\"\\r\\n\"SUS\",\"Spirit Of St Louis\",38.662119,-90.652044,463,-7,\"A\"\\r\\n\"SUU\",\"Travis Afb\",38.262692,-121.927464,62,-8,\"A\"\\r\\n\"SUX\",\"Sioux Gateway Col Bud Day Fld\",42.402603,-96.384367,1098,-6,\"A\"\\r\\n\"SVA\",\"Savoonga Airport\",63.6864,-170.493,53,-9,\"A\"\\r\\n\"SVC\",\"Grant County Airport\",32.6365,-108.156,5446,-7,\"A\"\\r\\n\"SVH\",\"Regional Airport\",35.7649958,-80.9538958,968,-5,\"A\"\\r\\n\"SVN\",\"Hunter Aaf\",32.01,-81.145683,42,-5,\"A\"\\r\\n\"SVW\",\"Sparrevohn Lrrs\",61.097369,-155.574228,1583,-9,\"A\"\\r\\n\"SWD\",\"Seward Airport\",60.1269383,-149.4188122,22,-8,\"U\"\\r\\n\"SWF\",\"Stewart Intl\",41.504094,-74.104839,491,-5,\"A\"\\r\\n\"SXP\",\"Sheldon Point Airport\",62.520556,-164.847778,12,-9,\"A\"\\r\\n\"SXQ\",\"Soldotna Airport\",60.4749583,-151.0382389,113,-8,\"U\"\\r\\n\"SYA\",\"Eareckson As\",52.712275,174.11362,98,-10,\"A\"\\r\\n\"SYB\",\"Seal Bay Seaplane Base\",58.166667,-152.5,0,-9,\"A\"\\r\\n\"SYR\",\"Syracuse Hancock Intl\",43.111187,-76.106311,421,-5,\"A\"\\r\\n\"SZL\",\"Whiteman Afb\",38.730306,-93.547864,870,-6,\"A\"\\r\\n\"TAL\",\"Tanana Airport\",65.179556,-152.075833,207,-9,\"A\"\\r\\n\"TAN\",\"Taunton Municipal Airport - King Field\",41.8744017,-71.0166453,43,-5,\"A\"\\r\\n\"TBN\",\"Waynesville Rgnl Arpt At Forney Fld\",37.741631,-92.140736,1159,-6,\"A\"\\r\\n\"TCC\",\"Tucumcari Muni\",35.182777,-103.603186,4065,-7,\"A\"\\r\\n\"TCL\",\"Tuscaloosa Rgnl\",33.220627,-87.611403,170,-6,\"A\"\\r\\n\"TCM\",\"Mc Chord Afb\",47.137678,-122.476475,322,-8,\"A\"\\r\\n\"TCS\",\"Truth Or Consequences Muni\",33.236944,-107.27175,4853,-7,\"A\"\\r\\n\"TCT\",\"Takotna Airport\",62.971944,-156.082778,825,-9,\"A\"\\r\\n\"TEB\",\"Teterboro\",40.850103,-74.060837,9,-5,\"A\"\\r\\n\"TEK\",\"Tatitlek Airport\",60.8725,-146.691111,62,-9,\"A\"\\r\\n\"TEX\",\"Telluride\",37.953759,-107.90848,9078,-7,\"A\"\\r\\n\"TIK\",\"Tinker Afb\",35.414739,-97.386633,1291,-6,\"A\"\\r\\n\"TIW\",\"Tacoma Narrows Airport\",47.267944,-122.57811,294,-8,\"A\"\\r\\n\"TKA\",\"Talkeetna\",62.3205,-150.093694,358,-9,\"A\"\\r\\n\"TKE\",\"Tenakee Seaplane Base\",57.779722,-135.218333,0,-9,\"A\"\\r\\n\"TKF\",\"Truckee-Tahoe Airport\",39.3200422,-120.1395628,5900,-7,\"A\"\\r\\n\"TKI\",\"Collin County Regional Airport at Mc Kinney\",33.1779444,-96.5905278,585,-6,\"A\"\\r\\n\"TLA\",\"Teller Airport\",65.240278,-166.339444,294,-9,\"A\"\\r\\n\"TLH\",\"Tallahassee Rgnl\",30.396528,-84.350333,81,-5,\"A\"\\r\\n\"TLJ\",\"Tatalina Lrrs\",62.894369,-155.976525,964,-9,\"A\"\\r\\n\"TLT\",\"Tuluksak Airport\",61.096944,-160.969444,30,-9,\"A\"\\r\\n\"TMA\",\"Henry Tift Myers Airport\",31.4289814,-83.488545,355,-5,\"A\"\\r\\n\"TMB\",\"Kendall Tamiami Executive\",25.647889,-80.432777,8,-5,\"A\"\\r\\n\"TNC\",\"Tin City LRRS Airport\",65.563056,-167.921667,269,-9,\"A\"\\r\\n\"TNK\",\"Tununak Airport\",60.575556,-165.271667,14,-10,\"A\"\\r\\n\"TNT\",\"Dade Collier Training And Transition\",25.861806,-80.897,13,-5,\"A\"\\r\\n\"TNX\",\"Tonopah Test Range\",37.798836,-116.78075,5549,-8,\"A\"\\r\\n\"TOA\",\"Zamperini Field Airport\",33.803392,-118.339611,101,-8,\"A\"\\r\\n\"TOC\",\"Toccoa RG Letourneau Field Airport\",34.5928117,-83.2963717,996,-4,\"A\"\\r\\n\"TOG\",\"Togiak Airport\",59.0528,-160.397,21,-9,\"A\"\\r\\n\"TOL\",\"Toledo\",41.586806,-83.807833,684,-5,\"A\"\\r\\n\"TOP\",\"Philip Billard Muni\",39.068657,-95.622482,881,-6,\"A\"\\r\\n\"TPA\",\"Tampa Intl\",27.975472,-82.53325,26,-5,\"A\"\\r\\n\"TPL\",\"Draughon Miller Central Texas Rgnl\",31.1525,-97.407778,682,-6,\"A\"\\r\\n\"TRI\",\"Tri-Cities Regional Airport\",36.4752222,-82.4074167,1519,-5,\"A\"\\r\\n\"TRM\",\"Jacqueline Cochran Regional Airport\",33.626666,-116.1596667,0,-7,\"A\"\\r\\n\"TSS\",\"East 34th Street Heliport\",40.7425,-73.971944,10,-5,\"A\"\\r\\n\"TTD\",\"Portland Troutdale\",45.54937,-122.401253,39,-8,\"A\"\\r\\n\"TTN\",\"Trenton Mercer\",40.276692,-74.813469,213,-5,\"A\"\\r\\n\"TUL\",\"Tulsa Intl\",36.198389,-95.888111,677,-6,\"A\"\\r\\n\"TUP\",\"Tupelo Regional Airport\",34.2681,-88.7699,346,-6,\"A\"\\r\\n\"TUS\",\"Tucson Intl\",32.116083,-110.941028,2643,-7,\"N\"\\r\\n\"TVC\",\"Cherry Capital Airport\",44.741445,-85.582235,624,-5,\"A\"\\r\\n\"TVF\",\"Thief River Falls\",48.065556,-96.185,1116,-6,\"A\"\\r\\n\"TVI\",\"Thomasville Regional Airport\",30.9017921,-83.8811285,264,-5,\"A\"\\r\\n\"TVL\",\"Lake Tahoe Airport\",38.893889,-119.995278,8544,-8,\"A\"\\r\\n\"TWA\",\"Twin Hills Airport\",59.074444,-160.275,82,-9,\"A\"\\r\\n\"TWD\",\"Jefferson County Intl\",48.0314,-122.4838,108,-8,\"A\"\\r\\n\"TWF\",\"Magic Valley Regional Airport\",42.481803,-114.487733,4151,-7,\"A\"\\r\\n\"TXK\",\"Texarkana Rgnl Webb Fld\",33.453722,-93.991028,390,-6,\"A\"\\r\\n\"TYE\",\"Tyonek Airport\",61.076667,-151.138056,110,-8,\"A\"\\r\\n\"TYR\",\"Tyler Pounds Rgnl\",32.354139,-95.402386,544,-6,\"A\"\\r\\n\"TYS\",\"Mc Ghee Tyson\",35.810972,-83.994028,981,-5,\"A\"\\r\\n\"U76\",\"Mountain Home Municipal Airport\",43.1316111,-115.7305671,3167,-7,\"A\"\\r\\n\"UDD\",\"Bermuda Dunes Airport\",33.7484375,-116.2748133,73,-7,\"A\"\\r\\n\"UDG\",\"Darlington County Jetport\",34.4493845,-79.8900608,192,-4,\"A\"\\r\\n\"UES\",\"Waukesha County Airport\",43.0410278,-88.2370556,911,-6,\"A\"\\r\\n\"UGN\",\"Waukegan Rgnl\",42.422161,-87.867908,727,-6,\"A\"\\r\\n\"UIN\",\"Quincy Regional Baldwin Field\",39.9427,-91.1946,769,-6,\"A\"\\r\\n\"UMP\",\"Indianapolis Metropolitan Airport\",39.935278,-86.045,811,-5,\"A\"\\r\\n\"UNK\",\"Unalakleet Airport\",63.888333,-160.798889,21,-9,\"A\"\\r\\n\"UPP\",\"Upolu\",20.265256,-155.859989,96,-10,\"A\"\\r\\n\"UST\",\"St. Augustine Airport\",29.959167,-81.339722,10,-5,\"A\"\\r\\n\"UTM\",\"Tunica Municipal Airport\",34.681,-90.3467,194,-6,\"A\"\\r\\n\"UTO\",\"Indian Mountain Lrrs\",65.992794,-153.704289,1220,-9,\"A\"\\r\\n\"UUK\",\"Ugnu-Kuparuk Airport\",70.330833,-149.5975,67,-9,\"A\"\\r\\n\"UUU\",\"Newport State\",41.533056,-71.282222,172,-5,\"A\"\\r\\n\"UVA\",\"Garner Field\",29.215429,-99.748962,942,-6,\"A\"\\r\\n\"VAD\",\"Moody Afb\",30.967833,-83.193,233,-5,\"A\"\\r\\n\"VAK\",\"Chevak Airport\",61.5338,-165.584,75,-9,\"A\"\\r\\n\"VAY\",\"South Jersey Regional Airport\",39.9428889,-74.84575,53,-5,\"A\"\\r\\n\"VBG\",\"Vandenberg Afb\",34.737333,-120.584306,369,-8,\"A\"\\r\\n\"VCT\",\"Victoria Regional Airport\",28.8526,-96.9185,115,-6,\"A\"\\r\\n\"VCV\",\"Southern California Logistics\",34.597453,-117.382997,2885,-8,\"A\"\\r\\n\"VDF\",\"Tampa Executive Airport\",28.0139772,-82.3452778,22,-5,\"A\"\\r\\n\"VDZ\",\"Valdez Pioneer Fld\",61.133949,-146.248342,118,-9,\"A\"\\r\\n\"VEE\",\"Venetie Airport\",67.008611,-146.366389,574,-9,\"A\"\\r\\n\"VEL\",\"Vernal Regional Airport\",40.440833,-109.51,5278,-7,\"A\"\\r\\n\"VGT\",\"North Las Vegas Airport\",36.2106944,-115.1944444,2205,-7,\"U\"\\r\\n\"VIS\",\"Visalia Municipal Airport\",36.318611,-119.392778,295,-8,\"A\"\\r\\n\"VLD\",\"Valdosta Regional Airport\",30.7825,-83.2767,203,-5,\"A\"\\r\\n\"VNW\",\"Van Wert County Airport\",40.8638295,-84.606358,787,-5,\"A\"\\r\\n\"VNY\",\"Van Nuys\",34.209811,-118.489972,802,-8,\"A\"\\r\\n\"VOK\",\"Volk Fld\",43.938956,-90.253433,912,-6,\"A\"\\r\\n\"VPC\",\"Cartersville Airport\",34.1231475,-84.8487067,759,-4,\"A\"\\r\\n\"VPS\",\"Eglin Afb\",30.48325,-86.5254,87,-6,\"A\"\\r\\n\"VRB\",\"Vero Beach Muni\",27.655556,-80.417944,24,-5,\"A\"\\r\\n\"VSF\",\"Hartness State\",43.343333,-72.517222,577,-5,\"A\"\\r\\n\"VYS\",\"Illinois Valley Regional\",41.351944,-89.153056,654,-6,\"A\"\\r\\n\"W13\",\"Eagle\\'s Nest Airport\",38.076944,-78.944167,1437,-5,\"A\"\\r\\n\"WAA\",\"Wales Airport\",65.6225,-168.095,22,-9,\"A\"\\r\\n\"WAL\",\"Wallops Flight Facility\",37.940194,-75.466389,40,-5,\"A\"\\r\\n\"WAS\",\"All Airports\",38.889444,-77.035278,25,-5,\"A\"\\r\\n\"WBB\",\"Stebbins Airport\",63.515833,-162.278056,14,-9,\"A\"\\r\\n\"WBQ\",\"Beaver Airport\",66.362222,-147.406667,359,-9,\"A\"\\r\\n\"WBU\",\"Boulder Municipal\",40.039444,-105.225833,5288,-7,\"A\"\\r\\n\"WBW\",\"Wilkes-Barre Wyoming Valley Airport\",41.2973074,-75.8522405,543,-5,\"A\"\\r\\n\"WDR\",\"Barrow County Airport\",33.9828611,-83.6674167,943,-4,\"A\"\\r\\n\"WFB\",\"Ketchikan harbor Seaplane Base\",55.344444,-131.663333,0,-9,\"A\"\\r\\n\"WFK\",\"Northern Aroostook Regional Airport\",47.285556,-68.312778,988,-5,\"A\"\\r\\n\"WHD\",\"Hyder Seaplane Base\",55.903333,-130.006667,0,-9,\"A\"\\r\\n\"WHP\",\"Whiteman Airport\",34.2593253,-118.4134331,1003,-8,\"A\"\\r\\n\"WIH\",\"Wishram Amtrak Station\",45.6576,-120.9664,1,-8,\"A\"\\r\\n\"WKK\",\"Aleknagik Airport\",59.2826,-158.618,66,-9,\"A\"\\r\\n\"WKL\",\"Waikoloa Heliport\",19.9136,-155.864,109,-10,\"N\"\\r\\n\"WLK\",\"Selawik Airport\",66.6,-159.985833,17,-9,\"A\"\\r\\n\"WMO\",\"White Mountain Airport\",64.689167,-163.412778,267,-9,\"A\"\\r\\n\"WRB\",\"Robins Afb\",32.640144,-83.59185,294,-5,\"A\"\\r\\n\"WRG\",\"Wrangell Airport\",56.4843,-132.37,44,-9,\"A\"\\r\\n\"WRI\",\"Mc Guire Afb\",40.015556,-74.591667,131,-5,\"A\"\\r\\n\"WRL\",\"Worland Municipal Airport\",43.9657,-107.951,4227,-7,\"A\"\\r\\n\"WSD\",\"Condron Aaf\",32.341484,-106.40277,3934,-7,\"A\"\\r\\n\"WSJ\",\"San Juan - Uganik Seaplane Base\",57.730278,-153.320556,0,-9,\"A\"\\r\\n\"WSN\",\"South Naknek Airport\",58.702222,-157.0025,162,-9,\"A\"\\r\\n\"WST\",\"Westerly State Airport\",41.349722,-71.803333,81,-5,\"A\"\\r\\n\"WSX\",\"Westsound Seaplane Base\",48.617778,-122.952778,0,-8,\"A\"\\r\\n\"WTK\",\"Noatak Airport\",67.5661,-162.975,88,-9,\"A\"\\r\\n\"WTL\",\"Tuntutuliak Airport\",60.335278,-162.666944,16,-9,\"A\"\\r\\n\"WWD\",\"Cape May Co\",39.008507,-74.908275,23,-5,\"A\"\\r\\n\"WWP\",\"North Whale Seaplane Base\",56.116389,-133.121667,0,-9,\"A\"\\r\\n\"WWT\",\"Newtok Airport\",60.939167,-164.641111,25,-10,\"U\"\\r\\n\"WYS\",\"Yellowstone Airport\",44.688333,-111.1175,6644,-7,\"A\"\\r\\n\"X01\",\"Everglades Airpark\",25.8488611,-81.3902778,5,-5,\"U\"\\r\\n\"X07\",\"Lake Wales Municipal Airport\",27.8938056,-81.6203889,127,-5,\"A\"\\r\\n\"X21\",\"Arthur Dunn Airpark\",28.622552,-80.83541,30,-5,\"A\"\\r\\n\"X39\",\"Tampa North Aero Park\",28.221278,-82.374555,68,-5,\"A\"\\r\\n\"X49\",\"South Lakeland Airport\",27.9333581,-82.0439739,110,-5,\"A\"\\r\\n\"XFL\",\"Flagler County Airport\",29.2821,-81.1212,33,-5,\"A\"\\r\\n\"XNA\",\"NW Arkansas Regional\",36.2818694,-94.3068111,1287,-6,\"A\"\\r\\n\"XZK\",\"Amherst Amtrak Station AMM\",42.375,-72.511389,258,-5,\"A\"\\r\\n\"Y51\",\"Municipal Airport\",43.5793603,-90.8964742,1292,-6,\"A\"\\r\\n\"Y72\",\"Bloyer Field\",43.9762222,-90.4806111,966,-6,\"A\"\\r\\n\"YAK\",\"Yakutat\",59.3012,-139.3937,33,-9,\"A\"\\r\\n\"YIP\",\"Willow Run\",42.237928,-83.530408,716,-5,\"A\"\\r\\n\"YKM\",\"Yakima Air Terminal McAllister Field\",46.5682,-120.544,1095,-8,\"A\"\\r\\n\"YKN\",\"Chan Gurney\",42.8711,-97.3969,1200,-6,\"A\"\\r\\n\"YNG\",\"Youngstown Warren Rgnl\",41.260736,-80.679097,1196,-5,\"A\"\\r\\n\"YUM\",\"Yuma Mcas Yuma Intl\",32.656578,-114.60598,216,-7,\"N\"\\r\\n\"Z84\",\"Clear\",64.301203,-149.120144,552,-9,\"A\"\\r\\n\"ZBP\",\"Penn Station\",39.307222,-76.615556,66,-5,\"A\"\\r\\n\"ZFV\",\"Philadelphia 30th St Station\",39.9557,-75.182,0,-5,\"A\"\\r\\n\"ZPH\",\"Municipal Airport\",28.228056,-82.155833,90,-5,\"A\"\\r\\n\"ZRA\",\"Atlantic City Rail Terminal\",39.3665,-74.442,8,-5,\"A\"\\r\\n\"ZRD\",\"Train Station\",37.5343,-77.42945,26,-5,\"A\"\\r\\n\"ZRP\",\"Newark Penn Station\",40.734722,-74.164167,0,-5,\"A\"\\r\\n\"ZRT\",\"Hartford Union Station\",41.76888,-72.6815,0,-5,\"A\"\\r\\n\"ZRZ\",\"New Carrollton Rail Station\",38.948,-76.8719,39,-5,\"A\"\\r\\n\"ZSF\",\"Springfield Amtrak Station\",42.106,-72.593054,65,-5,\"A\"\\r\\n\"ZSY\",\"Scottsdale Airport\",33.6228889,-111.9105278,1519,-7,\"A\"\\r\\n\"ZTF\",\"Stamford Amtrak Station\",41.046937,-73.541493,0,-5,\"A\"\\r\\n\"ZTY\",\"Boston Back Bay Station\",42.3478,-71.075,20,-5,\"A\"\\r\\n\"ZUN\",\"Black Rock\",35.083228,-108.791778,6454,-7,\"A\"\\r\\n\"ZVE\",\"New Haven Rail Station\",41.298669,-72.925992,7,-5,\"A\"\\r\\n\"ZWI\",\"Wilmington Amtrak Station\",39.736667,-75.551667,0,-5,\"A\"\\r\\n\"ZWU\",\"Washington Union Station\",38.89746,-77.00643,76,-5,\"A\"\\r\\n\"ZYP\",\"Penn Station\",40.7505,-73.9935,35,-5,\"A\"\\r\\n'}"
            ]
          },
          "metadata": {
            "tags": []
          },
          "execution_count": 24
        }
      ]
    },
    {
      "cell_type": "markdown",
      "metadata": {
        "id": "zVaboJalz0iZ"
      },
      "source": [
        "Dropping the middle man"
      ]
    },
    {
      "cell_type": "code",
      "metadata": {
        "colab": {
          "base_uri": "https://localhost:8080/"
        },
        "id": "NaJOxrcQzvy6",
        "outputId": "d4a439e7-b206-4109-8b30-f13fd14cda45"
      },
      "source": [
        "file_path = 'airports.csv'\r\n",
        "\r\n",
        "airports = spark.read.csv(file_path, header=True)\r\n",
        "\r\n",
        "airports.show()\r\n",
        "\r\n",
        "type(airports)\r\n",
        "\r\n",
        "spark.catalog.listDatabases()\r\n",
        "\r\n",
        "spark.catalog.listTables()"
      ],
      "execution_count": 27,
      "outputs": [
        {
          "output_type": "stream",
          "text": [
            "+---+--------------------+----------------+-----------------+----+---+---+\n",
            "|faa|                name|             lat|              lon| alt| tz|dst|\n",
            "+---+--------------------+----------------+-----------------+----+---+---+\n",
            "|04G|   Lansdowne Airport|      41.1304722|      -80.6195833|1044| -5|  A|\n",
            "|06A|Moton Field Munic...|      32.4605722|      -85.6800278| 264| -5|  A|\n",
            "|06C| Schaumburg Regional|      41.9893408|      -88.1012428| 801| -6|  A|\n",
            "|06N|     Randall Airport|       41.431912|      -74.3915611| 523| -5|  A|\n",
            "|09J|Jekyll Island Air...|      31.0744722|      -81.4277778|  11| -4|  A|\n",
            "|0A9|Elizabethton Muni...|      36.3712222|      -82.1734167|1593| -4|  A|\n",
            "|0G6|Williams County A...|      41.4673056|      -84.5067778| 730| -5|  A|\n",
            "|0G7|Finger Lakes Regi...|      42.8835647|      -76.7812318| 492| -5|  A|\n",
            "|0P2|Shoestring Aviati...|      39.7948244|      -76.6471914|1000| -5|  U|\n",
            "|0S9|Jefferson County ...|      48.0538086|     -122.8106436| 108| -8|  A|\n",
            "|0W3|Harford County Ai...|      39.5668378|      -76.2024028| 409| -5|  A|\n",
            "|10C|  Galt Field Airport|      42.4028889|      -88.3751111| 875| -6|  U|\n",
            "|17G|Port Bucyrus-Craw...|      40.7815556|      -82.9748056|1003| -5|  A|\n",
            "|19A|Jackson County Ai...|      34.1758638|      -83.5615972| 951| -4|  U|\n",
            "|1A3|Martin Campbell F...|      35.0158056|      -84.3468333|1789| -4|  A|\n",
            "|1B9| Mansfield Municipal|      42.0001331|      -71.1967714| 122| -5|  A|\n",
            "|1C9|Frazier Lake Airpark|54.0133333333333|-124.768333333333| 152| -8|  A|\n",
            "|1CS|Clow Internationa...|      41.6959744|      -88.1292306| 670| -6|  U|\n",
            "|1G3|  Kent State Airport|      41.1513889|      -81.4151111|1134| -4|  A|\n",
            "|1OH|     Fortman Airport|      40.5553253|      -84.3866186| 885| -5|  U|\n",
            "+---+--------------------+----------------+-----------------+----+---+---+\n",
            "only showing top 20 rows\n",
            "\n"
          ],
          "name": "stdout"
        },
        {
          "output_type": "execute_result",
          "data": {
            "text/plain": [
              "[Table(name='flights', database=None, description=None, tableType='TEMPORARY', isTemporary=True),\n",
              " Table(name='temp', database=None, description=None, tableType='TEMPORARY', isTemporary=True)]"
            ]
          },
          "metadata": {
            "tags": []
          },
          "execution_count": 27
        }
      ]
    },
    {
      "cell_type": "markdown",
      "metadata": {
        "id": "0nZADqQw1JDX"
      },
      "source": [
        "Manipulatin data"
      ]
    },
    {
      "cell_type": "markdown",
      "metadata": {
        "id": "qm75xvRs1MiX"
      },
      "source": [
        "Creating columns"
      ]
    },
    {
      "cell_type": "code",
      "metadata": {
        "colab": {
          "base_uri": "https://localhost:8080/"
        },
        "id": "9rx1iZxC1IMI",
        "outputId": "1d443ee1-9230-4fa6-c4ac-bdd6d4367659"
      },
      "source": [
        "flights = spark.read.csv('flights_small.csv', header=True)\r\n",
        "\r\n",
        "flights.show()\r\n",
        "\r\n",
        "flights.name = flights.createOrReplaceTempView('flights')\r\n",
        "\r\n",
        "spark.catalog.listTables()\r\n",
        "\r\n",
        "flights_1 = spark.table('flights')\r\n",
        "\r\n",
        "print(flights_1.show())\r\n",
        "\r\n",
        "flights = flights.withColumn('durations_hrs', flights.air_time / 60)\r\n",
        "\r\n",
        "flights.show()"
      ],
      "execution_count": 28,
      "outputs": [
        {
          "output_type": "stream",
          "text": [
            "+----+-----+---+--------+---------+--------+---------+-------+-------+------+------+----+--------+--------+----+------+\n",
            "|year|month|day|dep_time|dep_delay|arr_time|arr_delay|carrier|tailnum|flight|origin|dest|air_time|distance|hour|minute|\n",
            "+----+-----+---+--------+---------+--------+---------+-------+-------+------+------+----+--------+--------+----+------+\n",
            "|2014|   12|  8|     658|       -7|     935|       -5|     VX| N846VA|  1780|   SEA| LAX|     132|     954|   6|    58|\n",
            "|2014|    1| 22|    1040|        5|    1505|        5|     AS| N559AS|   851|   SEA| HNL|     360|    2677|  10|    40|\n",
            "|2014|    3|  9|    1443|       -2|    1652|        2|     VX| N847VA|   755|   SEA| SFO|     111|     679|  14|    43|\n",
            "|2014|    4|  9|    1705|       45|    1839|       34|     WN| N360SW|   344|   PDX| SJC|      83|     569|  17|     5|\n",
            "|2014|    3|  9|     754|       -1|    1015|        1|     AS| N612AS|   522|   SEA| BUR|     127|     937|   7|    54|\n",
            "|2014|    1| 15|    1037|        7|    1352|        2|     WN| N646SW|    48|   PDX| DEN|     121|     991|  10|    37|\n",
            "|2014|    7|  2|     847|       42|    1041|       51|     WN| N422WN|  1520|   PDX| OAK|      90|     543|   8|    47|\n",
            "|2014|    5| 12|    1655|       -5|    1842|      -18|     VX| N361VA|   755|   SEA| SFO|      98|     679|  16|    55|\n",
            "|2014|    4| 19|    1236|       -4|    1508|       -7|     AS| N309AS|   490|   SEA| SAN|     135|    1050|  12|    36|\n",
            "|2014|   11| 19|    1812|       -3|    2352|       -4|     AS| N564AS|    26|   SEA| ORD|     198|    1721|  18|    12|\n",
            "|2014|   11|  8|    1653|       -2|    1924|       -1|     AS| N323AS|   448|   SEA| LAX|     130|     954|  16|    53|\n",
            "|2014|    8|  3|    1120|        0|    1415|        2|     AS| N305AS|   656|   SEA| PHX|     154|    1107|  11|    20|\n",
            "|2014|   10| 30|     811|       21|    1038|       29|     AS| N433AS|   608|   SEA| LAS|     127|     867|   8|    11|\n",
            "|2014|   11| 12|    2346|       -4|     217|      -28|     AS| N765AS|   121|   SEA| ANC|     183|    1448|  23|    46|\n",
            "|2014|   10| 31|    1314|       89|    1544|      111|     AS| N713AS|   306|   SEA| SFO|     129|     679|  13|    14|\n",
            "|2014|    1| 29|    2009|        3|    2159|        9|     UA| N27205|  1458|   PDX| SFO|      90|     550|  20|     9|\n",
            "|2014|   12| 17|    2015|       50|    2150|       41|     AS| N626AS|   368|   SEA| SMF|      76|     605|  20|    15|\n",
            "|2014|    8| 11|    1017|       -3|    1613|       -7|     WN| N8634A|   827|   SEA| MDW|     216|    1733|  10|    17|\n",
            "|2014|    1| 13|    2156|       -9|     607|      -15|     AS| N597AS|    24|   SEA| BOS|     290|    2496|  21|    56|\n",
            "|2014|    6|  5|    1733|      -12|    1945|      -10|     OO| N215AG|  3488|   PDX| BUR|     111|     817|  17|    33|\n",
            "+----+-----+---+--------+---------+--------+---------+-------+-------+------+------+----+--------+--------+----+------+\n",
            "only showing top 20 rows\n",
            "\n",
            "+----+-----+---+--------+---------+--------+---------+-------+-------+------+------+----+--------+--------+----+------+\n",
            "|year|month|day|dep_time|dep_delay|arr_time|arr_delay|carrier|tailnum|flight|origin|dest|air_time|distance|hour|minute|\n",
            "+----+-----+---+--------+---------+--------+---------+-------+-------+------+------+----+--------+--------+----+------+\n",
            "|2014|   12|  8|     658|       -7|     935|       -5|     VX| N846VA|  1780|   SEA| LAX|     132|     954|   6|    58|\n",
            "|2014|    1| 22|    1040|        5|    1505|        5|     AS| N559AS|   851|   SEA| HNL|     360|    2677|  10|    40|\n",
            "|2014|    3|  9|    1443|       -2|    1652|        2|     VX| N847VA|   755|   SEA| SFO|     111|     679|  14|    43|\n",
            "|2014|    4|  9|    1705|       45|    1839|       34|     WN| N360SW|   344|   PDX| SJC|      83|     569|  17|     5|\n",
            "|2014|    3|  9|     754|       -1|    1015|        1|     AS| N612AS|   522|   SEA| BUR|     127|     937|   7|    54|\n",
            "|2014|    1| 15|    1037|        7|    1352|        2|     WN| N646SW|    48|   PDX| DEN|     121|     991|  10|    37|\n",
            "|2014|    7|  2|     847|       42|    1041|       51|     WN| N422WN|  1520|   PDX| OAK|      90|     543|   8|    47|\n",
            "|2014|    5| 12|    1655|       -5|    1842|      -18|     VX| N361VA|   755|   SEA| SFO|      98|     679|  16|    55|\n",
            "|2014|    4| 19|    1236|       -4|    1508|       -7|     AS| N309AS|   490|   SEA| SAN|     135|    1050|  12|    36|\n",
            "|2014|   11| 19|    1812|       -3|    2352|       -4|     AS| N564AS|    26|   SEA| ORD|     198|    1721|  18|    12|\n",
            "|2014|   11|  8|    1653|       -2|    1924|       -1|     AS| N323AS|   448|   SEA| LAX|     130|     954|  16|    53|\n",
            "|2014|    8|  3|    1120|        0|    1415|        2|     AS| N305AS|   656|   SEA| PHX|     154|    1107|  11|    20|\n",
            "|2014|   10| 30|     811|       21|    1038|       29|     AS| N433AS|   608|   SEA| LAS|     127|     867|   8|    11|\n",
            "|2014|   11| 12|    2346|       -4|     217|      -28|     AS| N765AS|   121|   SEA| ANC|     183|    1448|  23|    46|\n",
            "|2014|   10| 31|    1314|       89|    1544|      111|     AS| N713AS|   306|   SEA| SFO|     129|     679|  13|    14|\n",
            "|2014|    1| 29|    2009|        3|    2159|        9|     UA| N27205|  1458|   PDX| SFO|      90|     550|  20|     9|\n",
            "|2014|   12| 17|    2015|       50|    2150|       41|     AS| N626AS|   368|   SEA| SMF|      76|     605|  20|    15|\n",
            "|2014|    8| 11|    1017|       -3|    1613|       -7|     WN| N8634A|   827|   SEA| MDW|     216|    1733|  10|    17|\n",
            "|2014|    1| 13|    2156|       -9|     607|      -15|     AS| N597AS|    24|   SEA| BOS|     290|    2496|  21|    56|\n",
            "|2014|    6|  5|    1733|      -12|    1945|      -10|     OO| N215AG|  3488|   PDX| BUR|     111|     817|  17|    33|\n",
            "+----+-----+---+--------+---------+--------+---------+-------+-------+------+------+----+--------+--------+----+------+\n",
            "only showing top 20 rows\n",
            "\n",
            "None\n",
            "+----+-----+---+--------+---------+--------+---------+-------+-------+------+------+----+--------+--------+----+------+------------------+\n",
            "|year|month|day|dep_time|dep_delay|arr_time|arr_delay|carrier|tailnum|flight|origin|dest|air_time|distance|hour|minute|     durations_hrs|\n",
            "+----+-----+---+--------+---------+--------+---------+-------+-------+------+------+----+--------+--------+----+------+------------------+\n",
            "|2014|   12|  8|     658|       -7|     935|       -5|     VX| N846VA|  1780|   SEA| LAX|     132|     954|   6|    58|               2.2|\n",
            "|2014|    1| 22|    1040|        5|    1505|        5|     AS| N559AS|   851|   SEA| HNL|     360|    2677|  10|    40|               6.0|\n",
            "|2014|    3|  9|    1443|       -2|    1652|        2|     VX| N847VA|   755|   SEA| SFO|     111|     679|  14|    43|              1.85|\n",
            "|2014|    4|  9|    1705|       45|    1839|       34|     WN| N360SW|   344|   PDX| SJC|      83|     569|  17|     5|1.3833333333333333|\n",
            "|2014|    3|  9|     754|       -1|    1015|        1|     AS| N612AS|   522|   SEA| BUR|     127|     937|   7|    54|2.1166666666666667|\n",
            "|2014|    1| 15|    1037|        7|    1352|        2|     WN| N646SW|    48|   PDX| DEN|     121|     991|  10|    37|2.0166666666666666|\n",
            "|2014|    7|  2|     847|       42|    1041|       51|     WN| N422WN|  1520|   PDX| OAK|      90|     543|   8|    47|               1.5|\n",
            "|2014|    5| 12|    1655|       -5|    1842|      -18|     VX| N361VA|   755|   SEA| SFO|      98|     679|  16|    55|1.6333333333333333|\n",
            "|2014|    4| 19|    1236|       -4|    1508|       -7|     AS| N309AS|   490|   SEA| SAN|     135|    1050|  12|    36|              2.25|\n",
            "|2014|   11| 19|    1812|       -3|    2352|       -4|     AS| N564AS|    26|   SEA| ORD|     198|    1721|  18|    12|               3.3|\n",
            "|2014|   11|  8|    1653|       -2|    1924|       -1|     AS| N323AS|   448|   SEA| LAX|     130|     954|  16|    53|2.1666666666666665|\n",
            "|2014|    8|  3|    1120|        0|    1415|        2|     AS| N305AS|   656|   SEA| PHX|     154|    1107|  11|    20| 2.566666666666667|\n",
            "|2014|   10| 30|     811|       21|    1038|       29|     AS| N433AS|   608|   SEA| LAS|     127|     867|   8|    11|2.1166666666666667|\n",
            "|2014|   11| 12|    2346|       -4|     217|      -28|     AS| N765AS|   121|   SEA| ANC|     183|    1448|  23|    46|              3.05|\n",
            "|2014|   10| 31|    1314|       89|    1544|      111|     AS| N713AS|   306|   SEA| SFO|     129|     679|  13|    14|              2.15|\n",
            "|2014|    1| 29|    2009|        3|    2159|        9|     UA| N27205|  1458|   PDX| SFO|      90|     550|  20|     9|               1.5|\n",
            "|2014|   12| 17|    2015|       50|    2150|       41|     AS| N626AS|   368|   SEA| SMF|      76|     605|  20|    15|1.2666666666666666|\n",
            "|2014|    8| 11|    1017|       -3|    1613|       -7|     WN| N8634A|   827|   SEA| MDW|     216|    1733|  10|    17|               3.6|\n",
            "|2014|    1| 13|    2156|       -9|     607|      -15|     AS| N597AS|    24|   SEA| BOS|     290|    2496|  21|    56| 4.833333333333333|\n",
            "|2014|    6|  5|    1733|      -12|    1945|      -10|     OO| N215AG|  3488|   PDX| BUR|     111|     817|  17|    33|              1.85|\n",
            "+----+-----+---+--------+---------+--------+---------+-------+-------+------+------+----+--------+--------+----+------+------------------+\n",
            "only showing top 20 rows\n",
            "\n"
          ],
          "name": "stdout"
        }
      ]
    },
    {
      "cell_type": "markdown",
      "metadata": {
        "id": "ZMXDsuZg2Tdo"
      },
      "source": [
        "Filtering Data"
      ]
    },
    {
      "cell_type": "code",
      "metadata": {
        "colab": {
          "base_uri": "https://localhost:8080/"
        },
        "id": "_OYqENpN2VXe",
        "outputId": "1fa2fb55-a11a-40e2-bb39-49c69851e1d0"
      },
      "source": [
        "long_flights1 = flights.filter('distance > 1000')\r\n",
        "\r\n",
        "long_flights2 = flights.filter(flights.distance > 1000)\r\n",
        "\r\n",
        "print(long_flights1.show())\r\n",
        "print(long_flights2.show())"
      ],
      "execution_count": 29,
      "outputs": [
        {
          "output_type": "stream",
          "text": [
            "+----+-----+---+--------+---------+--------+---------+-------+-------+------+------+----+--------+--------+----+------+------------------+\n",
            "|year|month|day|dep_time|dep_delay|arr_time|arr_delay|carrier|tailnum|flight|origin|dest|air_time|distance|hour|minute|     durations_hrs|\n",
            "+----+-----+---+--------+---------+--------+---------+-------+-------+------+------+----+--------+--------+----+------+------------------+\n",
            "|2014|    1| 22|    1040|        5|    1505|        5|     AS| N559AS|   851|   SEA| HNL|     360|    2677|  10|    40|               6.0|\n",
            "|2014|    4| 19|    1236|       -4|    1508|       -7|     AS| N309AS|   490|   SEA| SAN|     135|    1050|  12|    36|              2.25|\n",
            "|2014|   11| 19|    1812|       -3|    2352|       -4|     AS| N564AS|    26|   SEA| ORD|     198|    1721|  18|    12|               3.3|\n",
            "|2014|    8|  3|    1120|        0|    1415|        2|     AS| N305AS|   656|   SEA| PHX|     154|    1107|  11|    20| 2.566666666666667|\n",
            "|2014|   11| 12|    2346|       -4|     217|      -28|     AS| N765AS|   121|   SEA| ANC|     183|    1448|  23|    46|              3.05|\n",
            "|2014|    8| 11|    1017|       -3|    1613|       -7|     WN| N8634A|   827|   SEA| MDW|     216|    1733|  10|    17|               3.6|\n",
            "|2014|    1| 13|    2156|       -9|     607|      -15|     AS| N597AS|    24|   SEA| BOS|     290|    2496|  21|    56| 4.833333333333333|\n",
            "|2014|    9| 26|     610|       -5|    1523|       65|     US| N127UW|   616|   SEA| PHL|     293|    2378|   6|    10| 4.883333333333334|\n",
            "|2014|   12|  4|     954|       -6|    1348|      -17|     HA| N395HA|    29|   SEA| OGG|     333|    2640|   9|    54|              5.55|\n",
            "|2014|    6|  4|    1115|        0|    1346|       -3|     AS| N461AS|   488|   SEA| SAN|     133|    1050|  11|    15| 2.216666666666667|\n",
            "|2014|    6| 26|    2054|       -1|    2318|       -6|     B6| N590JB|   907|   SEA| ANC|     179|    1448|  20|    54|2.9833333333333334|\n",
            "|2014|    6|  7|    1823|       -7|    2112|      -28|     AS| N512AS|   815|   SEA| LIH|     335|    2701|  18|    23| 5.583333333333333|\n",
            "|2014|    4| 30|     801|        1|    1757|       90|     AS| N407AS|    18|   SEA| MCO|     342|    2554|   8|     1|               5.7|\n",
            "|2014|   11| 29|     905|      155|    1655|      170|     DL| N824DN|  1598|   SEA| ATL|     229|    2182|   9|     5| 3.816666666666667|\n",
            "|2014|    6|  2|    2222|        7|      55|       15|     AS| N402AS|    99|   SEA| ANC|     190|    1448|  22|    22|3.1666666666666665|\n",
            "|2014|   11| 15|    1034|       -6|    1414|      -26|     AS| N589AS|   794|   SEA| ABQ|     139|    1180|  10|    34| 2.316666666666667|\n",
            "|2014|   10| 20|    1328|       -1|    1949|        4|     UA| N68805|  1212|   SEA| IAH|     228|    1874|  13|    28|               3.8|\n",
            "|2014|   12| 16|    1500|        0|    1906|       19|     US| N662AW|   500|   SEA| PHX|     151|    1107|  15|     0|2.5166666666666666|\n",
            "|2014|   11| 19|    1319|       -6|    1821|      -14|     DL| N309US|  2164|   PDX| MSP|     169|    1426|  13|    19| 2.816666666666667|\n",
            "|2014|    5| 21|     515|        0|     757|        0|     US| N172US|   593|   SEA| PHX|     143|    1107|   5|    15|2.3833333333333333|\n",
            "+----+-----+---+--------+---------+--------+---------+-------+-------+------+------+----+--------+--------+----+------+------------------+\n",
            "only showing top 20 rows\n",
            "\n",
            "None\n",
            "+----+-----+---+--------+---------+--------+---------+-------+-------+------+------+----+--------+--------+----+------+------------------+\n",
            "|year|month|day|dep_time|dep_delay|arr_time|arr_delay|carrier|tailnum|flight|origin|dest|air_time|distance|hour|minute|     durations_hrs|\n",
            "+----+-----+---+--------+---------+--------+---------+-------+-------+------+------+----+--------+--------+----+------+------------------+\n",
            "|2014|    1| 22|    1040|        5|    1505|        5|     AS| N559AS|   851|   SEA| HNL|     360|    2677|  10|    40|               6.0|\n",
            "|2014|    4| 19|    1236|       -4|    1508|       -7|     AS| N309AS|   490|   SEA| SAN|     135|    1050|  12|    36|              2.25|\n",
            "|2014|   11| 19|    1812|       -3|    2352|       -4|     AS| N564AS|    26|   SEA| ORD|     198|    1721|  18|    12|               3.3|\n",
            "|2014|    8|  3|    1120|        0|    1415|        2|     AS| N305AS|   656|   SEA| PHX|     154|    1107|  11|    20| 2.566666666666667|\n",
            "|2014|   11| 12|    2346|       -4|     217|      -28|     AS| N765AS|   121|   SEA| ANC|     183|    1448|  23|    46|              3.05|\n",
            "|2014|    8| 11|    1017|       -3|    1613|       -7|     WN| N8634A|   827|   SEA| MDW|     216|    1733|  10|    17|               3.6|\n",
            "|2014|    1| 13|    2156|       -9|     607|      -15|     AS| N597AS|    24|   SEA| BOS|     290|    2496|  21|    56| 4.833333333333333|\n",
            "|2014|    9| 26|     610|       -5|    1523|       65|     US| N127UW|   616|   SEA| PHL|     293|    2378|   6|    10| 4.883333333333334|\n",
            "|2014|   12|  4|     954|       -6|    1348|      -17|     HA| N395HA|    29|   SEA| OGG|     333|    2640|   9|    54|              5.55|\n",
            "|2014|    6|  4|    1115|        0|    1346|       -3|     AS| N461AS|   488|   SEA| SAN|     133|    1050|  11|    15| 2.216666666666667|\n",
            "|2014|    6| 26|    2054|       -1|    2318|       -6|     B6| N590JB|   907|   SEA| ANC|     179|    1448|  20|    54|2.9833333333333334|\n",
            "|2014|    6|  7|    1823|       -7|    2112|      -28|     AS| N512AS|   815|   SEA| LIH|     335|    2701|  18|    23| 5.583333333333333|\n",
            "|2014|    4| 30|     801|        1|    1757|       90|     AS| N407AS|    18|   SEA| MCO|     342|    2554|   8|     1|               5.7|\n",
            "|2014|   11| 29|     905|      155|    1655|      170|     DL| N824DN|  1598|   SEA| ATL|     229|    2182|   9|     5| 3.816666666666667|\n",
            "|2014|    6|  2|    2222|        7|      55|       15|     AS| N402AS|    99|   SEA| ANC|     190|    1448|  22|    22|3.1666666666666665|\n",
            "|2014|   11| 15|    1034|       -6|    1414|      -26|     AS| N589AS|   794|   SEA| ABQ|     139|    1180|  10|    34| 2.316666666666667|\n",
            "|2014|   10| 20|    1328|       -1|    1949|        4|     UA| N68805|  1212|   SEA| IAH|     228|    1874|  13|    28|               3.8|\n",
            "|2014|   12| 16|    1500|        0|    1906|       19|     US| N662AW|   500|   SEA| PHX|     151|    1107|  15|     0|2.5166666666666666|\n",
            "|2014|   11| 19|    1319|       -6|    1821|      -14|     DL| N309US|  2164|   PDX| MSP|     169|    1426|  13|    19| 2.816666666666667|\n",
            "|2014|    5| 21|     515|        0|     757|        0|     US| N172US|   593|   SEA| PHX|     143|    1107|   5|    15|2.3833333333333333|\n",
            "+----+-----+---+--------+---------+--------+---------+-------+-------+------+------+----+--------+--------+----+------+------------------+\n",
            "only showing top 20 rows\n",
            "\n",
            "None\n"
          ],
          "name": "stdout"
        }
      ]
    },
    {
      "cell_type": "markdown",
      "metadata": {
        "id": "pPkTkG-N2vs-"
      },
      "source": [
        "Selecting"
      ]
    },
    {
      "cell_type": "code",
      "metadata": {
        "colab": {
          "base_uri": "https://localhost:8080/"
        },
        "id": "W8yfqVUA2wz8",
        "outputId": "17fd19e2-0be6-4d56-9d67-caac07e7c8fc"
      },
      "source": [
        "selected1 = flights.select(\"tailnum\", \"origin\", \"dest\")\r\n",
        "\r\n",
        "temp = flights.select(flights.origin, flights.dest, flights.carrier)\r\n",
        "\r\n",
        "filterA = flights.origin == 'SEA'\r\n",
        "\r\n",
        "filterB = flights.dest == 'PDX'\r\n",
        "\r\n",
        "selected2 = temp.filter(filterA).filter(filterB)\r\n",
        "\r\n",
        "selected2.show()"
      ],
      "execution_count": 31,
      "outputs": [
        {
          "output_type": "stream",
          "text": [
            "+------+----+-------+\n",
            "|origin|dest|carrier|\n",
            "+------+----+-------+\n",
            "|   SEA| PDX|     OO|\n",
            "|   SEA| PDX|     OO|\n",
            "|   SEA| PDX|     OO|\n",
            "|   SEA| PDX|     OO|\n",
            "|   SEA| PDX|     OO|\n",
            "|   SEA| PDX|     AS|\n",
            "|   SEA| PDX|     OO|\n",
            "|   SEA| PDX|     OO|\n",
            "|   SEA| PDX|     OO|\n",
            "|   SEA| PDX|     OO|\n",
            "|   SEA| PDX|     OO|\n",
            "|   SEA| PDX|     OO|\n",
            "|   SEA| PDX|     OO|\n",
            "|   SEA| PDX|     OO|\n",
            "|   SEA| PDX|     AS|\n",
            "|   SEA| PDX|     OO|\n",
            "|   SEA| PDX|     OO|\n",
            "|   SEA| PDX|     OO|\n",
            "|   SEA| PDX|     OO|\n",
            "|   SEA| PDX|     OO|\n",
            "+------+----+-------+\n",
            "only showing top 20 rows\n",
            "\n"
          ],
          "name": "stdout"
        }
      ]
    },
    {
      "cell_type": "markdown",
      "metadata": {
        "id": "-A6i3tUv3WsG"
      },
      "source": [
        "Selecting II"
      ]
    },
    {
      "cell_type": "code",
      "metadata": {
        "colab": {
          "base_uri": "https://localhost:8080/"
        },
        "id": "QB33x2qt3YdE",
        "outputId": "1987a461-da33-4742-d687-fb6146b9f390"
      },
      "source": [
        "avg_speed = (flights.distance/(flights.air_time / 60)).alias(\"avg_speed\")\r\n",
        "\r\n",
        "speed1 = flights.select(\"origin\", \"dest\", \"tailnum\", avg_speed)\r\n",
        "\r\n",
        "speed2 = flights.selectExpr(\"origin\", \"dest\", \"tailnum\", \"distance/(air_time/60) AS avg_speed\")\r\n",
        "\r\n",
        "speed1.show()\r\n",
        "speed2.show()"
      ],
      "execution_count": 37,
      "outputs": [
        {
          "output_type": "stream",
          "text": [
            "+------+----+-------+------------------+\n",
            "|origin|dest|tailnum|         avg_speed|\n",
            "+------+----+-------+------------------+\n",
            "|   SEA| LAX| N846VA| 433.6363636363636|\n",
            "|   SEA| HNL| N559AS| 446.1666666666667|\n",
            "|   SEA| SFO| N847VA|367.02702702702703|\n",
            "|   PDX| SJC| N360SW| 411.3253012048193|\n",
            "|   SEA| BUR| N612AS| 442.6771653543307|\n",
            "|   PDX| DEN| N646SW|491.40495867768595|\n",
            "|   PDX| OAK| N422WN|             362.0|\n",
            "|   SEA| SFO| N361VA| 415.7142857142857|\n",
            "|   SEA| SAN| N309AS| 466.6666666666667|\n",
            "|   SEA| ORD| N564AS| 521.5151515151515|\n",
            "|   SEA| LAX| N323AS| 440.3076923076923|\n",
            "|   SEA| PHX| N305AS|431.29870129870125|\n",
            "|   SEA| LAS| N433AS| 409.6062992125984|\n",
            "|   SEA| ANC| N765AS|474.75409836065575|\n",
            "|   SEA| SFO| N713AS| 315.8139534883721|\n",
            "|   PDX| SFO| N27205| 366.6666666666667|\n",
            "|   SEA| SMF| N626AS|477.63157894736844|\n",
            "|   SEA| MDW| N8634A|481.38888888888886|\n",
            "|   SEA| BOS| N597AS| 516.4137931034483|\n",
            "|   PDX| BUR| N215AG| 441.6216216216216|\n",
            "+------+----+-------+------------------+\n",
            "only showing top 20 rows\n",
            "\n",
            "+------+----+-------+------------------+\n",
            "|origin|dest|tailnum|         avg_speed|\n",
            "+------+----+-------+------------------+\n",
            "|   SEA| LAX| N846VA| 433.6363636363636|\n",
            "|   SEA| HNL| N559AS| 446.1666666666667|\n",
            "|   SEA| SFO| N847VA|367.02702702702703|\n",
            "|   PDX| SJC| N360SW| 411.3253012048193|\n",
            "|   SEA| BUR| N612AS| 442.6771653543307|\n",
            "|   PDX| DEN| N646SW|491.40495867768595|\n",
            "|   PDX| OAK| N422WN|             362.0|\n",
            "|   SEA| SFO| N361VA| 415.7142857142857|\n",
            "|   SEA| SAN| N309AS| 466.6666666666667|\n",
            "|   SEA| ORD| N564AS| 521.5151515151515|\n",
            "|   SEA| LAX| N323AS| 440.3076923076923|\n",
            "|   SEA| PHX| N305AS|431.29870129870125|\n",
            "|   SEA| LAS| N433AS| 409.6062992125984|\n",
            "|   SEA| ANC| N765AS|474.75409836065575|\n",
            "|   SEA| SFO| N713AS| 315.8139534883721|\n",
            "|   PDX| SFO| N27205| 366.6666666666667|\n",
            "|   SEA| SMF| N626AS|477.63157894736844|\n",
            "|   SEA| MDW| N8634A|481.38888888888886|\n",
            "|   SEA| BOS| N597AS| 516.4137931034483|\n",
            "|   PDX| BUR| N215AG| 441.6216216216216|\n",
            "+------+----+-------+------------------+\n",
            "only showing top 20 rows\n",
            "\n"
          ],
          "name": "stdout"
        }
      ]
    },
    {
      "cell_type": "markdown",
      "metadata": {
        "id": "8Mcc-pqr5EqD"
      },
      "source": [
        "Aggregating"
      ]
    },
    {
      "cell_type": "code",
      "metadata": {
        "colab": {
          "base_uri": "https://localhost:8080/"
        },
        "id": "06ASzdBK5NPO",
        "outputId": "303b7c3c-0e0e-4ab8-cb95-bb97954bc184"
      },
      "source": [
        "flights.describe()\r\n",
        "\r\n",
        "flights = flights.withColumn(\"distance\", flights.distance.cast(\"float\"))\r\n",
        "\r\n",
        "flights = flights.withColumn(\"air_time\", flights.air_time.cast(\"float\"))\r\n",
        "\r\n",
        "flights.describe('air_time', 'distance').show()\r\n",
        "\r\n",
        "flights.filter(flights.origin == \"PDX\").groupBy().min(\"distance\").show()\r\n",
        "\r\n",
        "flights.filter(flights.origin == \"SEA\").groupby().max(\"air_time\").show()"
      ],
      "execution_count": 38,
      "outputs": [
        {
          "output_type": "stream",
          "text": [
            "+-------+------------------+-----------------+\n",
            "|summary|          air_time|         distance|\n",
            "+-------+------------------+-----------------+\n",
            "|  count|              9925|            10000|\n",
            "|   mean|152.88423173803525|        1208.1516|\n",
            "| stddev|  72.8656286392139|656.8599023464376|\n",
            "|    min|              20.0|             93.0|\n",
            "|    max|             409.0|           2724.0|\n",
            "+-------+------------------+-----------------+\n",
            "\n",
            "+-------------+\n",
            "|min(distance)|\n",
            "+-------------+\n",
            "|        106.0|\n",
            "+-------------+\n",
            "\n",
            "+-------------+\n",
            "|max(air_time)|\n",
            "+-------------+\n",
            "|        409.0|\n",
            "+-------------+\n",
            "\n"
          ],
          "name": "stdout"
        }
      ]
    },
    {
      "cell_type": "markdown",
      "metadata": {
        "id": "kItVIxTV6YHi"
      },
      "source": [
        "Aggregating II"
      ]
    },
    {
      "cell_type": "code",
      "metadata": {
        "colab": {
          "base_uri": "https://localhost:8080/"
        },
        "id": "GWNLU1FS6Z6k",
        "outputId": "602b0e4d-a071-4ebb-f2b5-106a8d28f91c"
      },
      "source": [
        "flights.filter(flights.carrier == \"DL\")\\\r\n",
        "       .filter(flights.origin == \"SEA\")\\\r\n",
        "       .groupBy().avg('air_time')\\\r\n",
        "       .show()\r\n",
        "\r\n",
        "flights.withColumn(\"duration_hrs\", flights.air_time/60).groupBy().sum(\"duration_hrs\").show()"
      ],
      "execution_count": 39,
      "outputs": [
        {
          "output_type": "stream",
          "text": [
            "+------------------+\n",
            "|     avg(air_time)|\n",
            "+------------------+\n",
            "|188.20689655172413|\n",
            "+------------------+\n",
            "\n",
            "+------------------+\n",
            "| sum(duration_hrs)|\n",
            "+------------------+\n",
            "|25289.600000000126|\n",
            "+------------------+\n",
            "\n"
          ],
          "name": "stdout"
        }
      ]
    },
    {
      "cell_type": "markdown",
      "metadata": {
        "id": "EBZrJtD163tl"
      },
      "source": [
        "Grouping and Aggregating I"
      ]
    },
    {
      "cell_type": "code",
      "metadata": {
        "colab": {
          "base_uri": "https://localhost:8080/"
        },
        "id": "jTNfm2DJ6644",
        "outputId": "ef9a1897-6f9a-4b5d-b754-252f0bb937ec"
      },
      "source": [
        "flights.show()\r\n",
        "\r\n",
        "by_plane = flights.groupBy(\"tailnum\")\r\n",
        "\r\n",
        "by_plane.count().show()\r\n",
        "\r\n",
        "by_origin = flights.groupBy(\"origin\")\r\n",
        "\r\n",
        "by_origin.avg(\"air_time\").show()"
      ],
      "execution_count": 40,
      "outputs": [
        {
          "output_type": "stream",
          "text": [
            "+----+-----+---+--------+---------+--------+---------+-------+-------+------+------+----+--------+--------+----+------+------------------+\n",
            "|year|month|day|dep_time|dep_delay|arr_time|arr_delay|carrier|tailnum|flight|origin|dest|air_time|distance|hour|minute|     durations_hrs|\n",
            "+----+-----+---+--------+---------+--------+---------+-------+-------+------+------+----+--------+--------+----+------+------------------+\n",
            "|2014|   12|  8|     658|       -7|     935|       -5|     VX| N846VA|  1780|   SEA| LAX|   132.0|   954.0|   6|    58|               2.2|\n",
            "|2014|    1| 22|    1040|        5|    1505|        5|     AS| N559AS|   851|   SEA| HNL|   360.0|  2677.0|  10|    40|               6.0|\n",
            "|2014|    3|  9|    1443|       -2|    1652|        2|     VX| N847VA|   755|   SEA| SFO|   111.0|   679.0|  14|    43|              1.85|\n",
            "|2014|    4|  9|    1705|       45|    1839|       34|     WN| N360SW|   344|   PDX| SJC|    83.0|   569.0|  17|     5|1.3833333333333333|\n",
            "|2014|    3|  9|     754|       -1|    1015|        1|     AS| N612AS|   522|   SEA| BUR|   127.0|   937.0|   7|    54|2.1166666666666667|\n",
            "|2014|    1| 15|    1037|        7|    1352|        2|     WN| N646SW|    48|   PDX| DEN|   121.0|   991.0|  10|    37|2.0166666666666666|\n",
            "|2014|    7|  2|     847|       42|    1041|       51|     WN| N422WN|  1520|   PDX| OAK|    90.0|   543.0|   8|    47|               1.5|\n",
            "|2014|    5| 12|    1655|       -5|    1842|      -18|     VX| N361VA|   755|   SEA| SFO|    98.0|   679.0|  16|    55|1.6333333333333333|\n",
            "|2014|    4| 19|    1236|       -4|    1508|       -7|     AS| N309AS|   490|   SEA| SAN|   135.0|  1050.0|  12|    36|              2.25|\n",
            "|2014|   11| 19|    1812|       -3|    2352|       -4|     AS| N564AS|    26|   SEA| ORD|   198.0|  1721.0|  18|    12|               3.3|\n",
            "|2014|   11|  8|    1653|       -2|    1924|       -1|     AS| N323AS|   448|   SEA| LAX|   130.0|   954.0|  16|    53|2.1666666666666665|\n",
            "|2014|    8|  3|    1120|        0|    1415|        2|     AS| N305AS|   656|   SEA| PHX|   154.0|  1107.0|  11|    20| 2.566666666666667|\n",
            "|2014|   10| 30|     811|       21|    1038|       29|     AS| N433AS|   608|   SEA| LAS|   127.0|   867.0|   8|    11|2.1166666666666667|\n",
            "|2014|   11| 12|    2346|       -4|     217|      -28|     AS| N765AS|   121|   SEA| ANC|   183.0|  1448.0|  23|    46|              3.05|\n",
            "|2014|   10| 31|    1314|       89|    1544|      111|     AS| N713AS|   306|   SEA| SFO|   129.0|   679.0|  13|    14|              2.15|\n",
            "|2014|    1| 29|    2009|        3|    2159|        9|     UA| N27205|  1458|   PDX| SFO|    90.0|   550.0|  20|     9|               1.5|\n",
            "|2014|   12| 17|    2015|       50|    2150|       41|     AS| N626AS|   368|   SEA| SMF|    76.0|   605.0|  20|    15|1.2666666666666666|\n",
            "|2014|    8| 11|    1017|       -3|    1613|       -7|     WN| N8634A|   827|   SEA| MDW|   216.0|  1733.0|  10|    17|               3.6|\n",
            "|2014|    1| 13|    2156|       -9|     607|      -15|     AS| N597AS|    24|   SEA| BOS|   290.0|  2496.0|  21|    56| 4.833333333333333|\n",
            "|2014|    6|  5|    1733|      -12|    1945|      -10|     OO| N215AG|  3488|   PDX| BUR|   111.0|   817.0|  17|    33|              1.85|\n",
            "+----+-----+---+--------+---------+--------+---------+-------+-------+------+------+----+--------+--------+----+------+------------------+\n",
            "only showing top 20 rows\n",
            "\n",
            "+-------+-----+\n",
            "|tailnum|count|\n",
            "+-------+-----+\n",
            "| N442AS|   38|\n",
            "| N102UW|    2|\n",
            "| N36472|    4|\n",
            "| N38451|    4|\n",
            "| N73283|    4|\n",
            "| N513UA|    2|\n",
            "| N954WN|    5|\n",
            "| N388DA|    3|\n",
            "| N567AA|    1|\n",
            "| N516UA|    2|\n",
            "| N927DN|    1|\n",
            "| N8322X|    1|\n",
            "| N466SW|    1|\n",
            "|  N6700|    1|\n",
            "| N607AS|   45|\n",
            "| N622SW|    4|\n",
            "| N584AS|   31|\n",
            "| N914WN|    4|\n",
            "| N654AW|    2|\n",
            "| N336NW|    1|\n",
            "+-------+-----+\n",
            "only showing top 20 rows\n",
            "\n",
            "+------+------------------+\n",
            "|origin|     avg(air_time)|\n",
            "+------+------------------+\n",
            "|   SEA| 160.4361496051259|\n",
            "|   PDX|137.11543248288737|\n",
            "+------+------------------+\n",
            "\n"
          ],
          "name": "stdout"
        }
      ]
    },
    {
      "cell_type": "markdown",
      "metadata": {
        "id": "2KGg8wh87ORl"
      },
      "source": [
        "Grouping and Aggregating II"
      ]
    },
    {
      "cell_type": "code",
      "metadata": {
        "id": "En9ZfSH87Q2-"
      },
      "source": [
        "flights = flights.withColumn(\"dep_delay\", flights.dep_deplay.cast(\"float\"))\r\n",
        "\r\n",
        "import pyspark.sql.functions as F\r\n",
        "\r\n",
        "by_month_dest = flights.groupBy(\"month\", \"dest\")\r\n",
        "\r\n",
        "by_month_dest.avg(\"dep_deplay\").show()\r\n",
        "\r\n",
        "by_month_dest.agg(F.stddev(\"dep_deplay\")).show()"
      ],
      "execution_count": null,
      "outputs": []
    },
    {
      "cell_type": "markdown",
      "metadata": {
        "id": "v3XFPq-Y75Eo"
      },
      "source": [
        "Joining II"
      ]
    },
    {
      "cell_type": "code",
      "metadata": {
        "colab": {
          "base_uri": "https://localhost:8080/"
        },
        "id": "_97y7mlU78w3",
        "outputId": "adfd1213-e9d5-4134-bbbb-153deb0c9a64"
      },
      "source": [
        "airports.show()\r\n",
        "\r\n",
        "airports = airports.withColumnRenamed(\"faa\", \"dest\")\r\n",
        "\r\n",
        "flights_with_airports = flights.join(airports, on=\"dest\", how=\"leftouter\")\r\n",
        "\r\n",
        "print(flights_with_airports.show())"
      ],
      "execution_count": 41,
      "outputs": [
        {
          "output_type": "stream",
          "text": [
            "+---+--------------------+----------------+-----------------+----+---+---+\n",
            "|faa|                name|             lat|              lon| alt| tz|dst|\n",
            "+---+--------------------+----------------+-----------------+----+---+---+\n",
            "|04G|   Lansdowne Airport|      41.1304722|      -80.6195833|1044| -5|  A|\n",
            "|06A|Moton Field Munic...|      32.4605722|      -85.6800278| 264| -5|  A|\n",
            "|06C| Schaumburg Regional|      41.9893408|      -88.1012428| 801| -6|  A|\n",
            "|06N|     Randall Airport|       41.431912|      -74.3915611| 523| -5|  A|\n",
            "|09J|Jekyll Island Air...|      31.0744722|      -81.4277778|  11| -4|  A|\n",
            "|0A9|Elizabethton Muni...|      36.3712222|      -82.1734167|1593| -4|  A|\n",
            "|0G6|Williams County A...|      41.4673056|      -84.5067778| 730| -5|  A|\n",
            "|0G7|Finger Lakes Regi...|      42.8835647|      -76.7812318| 492| -5|  A|\n",
            "|0P2|Shoestring Aviati...|      39.7948244|      -76.6471914|1000| -5|  U|\n",
            "|0S9|Jefferson County ...|      48.0538086|     -122.8106436| 108| -8|  A|\n",
            "|0W3|Harford County Ai...|      39.5668378|      -76.2024028| 409| -5|  A|\n",
            "|10C|  Galt Field Airport|      42.4028889|      -88.3751111| 875| -6|  U|\n",
            "|17G|Port Bucyrus-Craw...|      40.7815556|      -82.9748056|1003| -5|  A|\n",
            "|19A|Jackson County Ai...|      34.1758638|      -83.5615972| 951| -4|  U|\n",
            "|1A3|Martin Campbell F...|      35.0158056|      -84.3468333|1789| -4|  A|\n",
            "|1B9| Mansfield Municipal|      42.0001331|      -71.1967714| 122| -5|  A|\n",
            "|1C9|Frazier Lake Airpark|54.0133333333333|-124.768333333333| 152| -8|  A|\n",
            "|1CS|Clow Internationa...|      41.6959744|      -88.1292306| 670| -6|  U|\n",
            "|1G3|  Kent State Airport|      41.1513889|      -81.4151111|1134| -4|  A|\n",
            "|1OH|     Fortman Airport|      40.5553253|      -84.3866186| 885| -5|  U|\n",
            "+---+--------------------+----------------+-----------------+----+---+---+\n",
            "only showing top 20 rows\n",
            "\n",
            "+----+----+-----+---+--------+---------+--------+---------+-------+-------+------+------+--------+--------+----+------+------------------+--------------------+---------+-----------+----+---+---+\n",
            "|dest|year|month|day|dep_time|dep_delay|arr_time|arr_delay|carrier|tailnum|flight|origin|air_time|distance|hour|minute|     durations_hrs|                name|      lat|        lon| alt| tz|dst|\n",
            "+----+----+-----+---+--------+---------+--------+---------+-------+-------+------+------+--------+--------+----+------+------------------+--------------------+---------+-----------+----+---+---+\n",
            "| LAX|2014|   12|  8|     658|       -7|     935|       -5|     VX| N846VA|  1780|   SEA|   132.0|   954.0|   6|    58|               2.2|    Los Angeles Intl|33.942536|-118.408075| 126| -8|  A|\n",
            "| HNL|2014|    1| 22|    1040|        5|    1505|        5|     AS| N559AS|   851|   SEA|   360.0|  2677.0|  10|    40|               6.0|       Honolulu Intl|21.318681|-157.922428|  13|-10|  N|\n",
            "| SFO|2014|    3|  9|    1443|       -2|    1652|        2|     VX| N847VA|   755|   SEA|   111.0|   679.0|  14|    43|              1.85|  San Francisco Intl|37.618972|-122.374889|  13| -8|  A|\n",
            "| SJC|2014|    4|  9|    1705|       45|    1839|       34|     WN| N360SW|   344|   PDX|    83.0|   569.0|  17|     5|1.3833333333333333|Norman Y Mineta S...|  37.3626|-121.929022|  62| -8|  A|\n",
            "| BUR|2014|    3|  9|     754|       -1|    1015|        1|     AS| N612AS|   522|   SEA|   127.0|   937.0|   7|    54|2.1166666666666667|            Bob Hope|34.200667|-118.358667| 778| -8|  A|\n",
            "| DEN|2014|    1| 15|    1037|        7|    1352|        2|     WN| N646SW|    48|   PDX|   121.0|   991.0|  10|    37|2.0166666666666666|         Denver Intl|39.861656|-104.673178|5431| -7|  A|\n",
            "| OAK|2014|    7|  2|     847|       42|    1041|       51|     WN| N422WN|  1520|   PDX|    90.0|   543.0|   8|    47|               1.5|Metropolitan Oakl...|37.721278|-122.220722|   9| -8|  A|\n",
            "| SFO|2014|    5| 12|    1655|       -5|    1842|      -18|     VX| N361VA|   755|   SEA|    98.0|   679.0|  16|    55|1.6333333333333333|  San Francisco Intl|37.618972|-122.374889|  13| -8|  A|\n",
            "| SAN|2014|    4| 19|    1236|       -4|    1508|       -7|     AS| N309AS|   490|   SEA|   135.0|  1050.0|  12|    36|              2.25|      San Diego Intl|32.733556|-117.189667|  17| -8|  A|\n",
            "| ORD|2014|   11| 19|    1812|       -3|    2352|       -4|     AS| N564AS|    26|   SEA|   198.0|  1721.0|  18|    12|               3.3|  Chicago Ohare Intl|41.978603| -87.904842| 668| -6|  A|\n",
            "| LAX|2014|   11|  8|    1653|       -2|    1924|       -1|     AS| N323AS|   448|   SEA|   130.0|   954.0|  16|    53|2.1666666666666665|    Los Angeles Intl|33.942536|-118.408075| 126| -8|  A|\n",
            "| PHX|2014|    8|  3|    1120|        0|    1415|        2|     AS| N305AS|   656|   SEA|   154.0|  1107.0|  11|    20| 2.566666666666667|Phoenix Sky Harbo...|33.434278|-112.011583|1135| -7|  N|\n",
            "| LAS|2014|   10| 30|     811|       21|    1038|       29|     AS| N433AS|   608|   SEA|   127.0|   867.0|   8|    11|2.1166666666666667|      Mc Carran Intl|36.080056| -115.15225|2141| -8|  A|\n",
            "| ANC|2014|   11| 12|    2346|       -4|     217|      -28|     AS| N765AS|   121|   SEA|   183.0|  1448.0|  23|    46|              3.05|Ted Stevens Ancho...|61.174361|-149.996361| 152| -9|  A|\n",
            "| SFO|2014|   10| 31|    1314|       89|    1544|      111|     AS| N713AS|   306|   SEA|   129.0|   679.0|  13|    14|              2.15|  San Francisco Intl|37.618972|-122.374889|  13| -8|  A|\n",
            "| SFO|2014|    1| 29|    2009|        3|    2159|        9|     UA| N27205|  1458|   PDX|    90.0|   550.0|  20|     9|               1.5|  San Francisco Intl|37.618972|-122.374889|  13| -8|  A|\n",
            "| SMF|2014|   12| 17|    2015|       50|    2150|       41|     AS| N626AS|   368|   SEA|    76.0|   605.0|  20|    15|1.2666666666666666|     Sacramento Intl|38.695417|-121.590778|  27| -8|  A|\n",
            "| MDW|2014|    8| 11|    1017|       -3|    1613|       -7|     WN| N8634A|   827|   SEA|   216.0|  1733.0|  10|    17|               3.6| Chicago Midway Intl|41.785972| -87.752417| 620| -6|  A|\n",
            "| BOS|2014|    1| 13|    2156|       -9|     607|      -15|     AS| N597AS|    24|   SEA|   290.0|  2496.0|  21|    56| 4.833333333333333|General Edward La...|42.364347| -71.005181|  19| -5|  A|\n",
            "| BUR|2014|    6|  5|    1733|      -12|    1945|      -10|     OO| N215AG|  3488|   PDX|   111.0|   817.0|  17|    33|              1.85|            Bob Hope|34.200667|-118.358667| 778| -8|  A|\n",
            "+----+----+-----+---+--------+---------+--------+---------+-------+-------+------+------+--------+--------+----+------+------------------+--------------------+---------+-----------+----+---+---+\n",
            "only showing top 20 rows\n",
            "\n",
            "None\n"
          ],
          "name": "stdout"
        }
      ]
    },
    {
      "cell_type": "markdown",
      "metadata": {
        "id": "AudOlinM8RXf"
      },
      "source": [
        "Getting started with machine learning pipelines"
      ]
    },
    {
      "cell_type": "markdown",
      "metadata": {
        "id": "OGv0gVpl8VIY"
      },
      "source": [
        "Join the DataFrames"
      ]
    },
    {
      "cell_type": "code",
      "metadata": {
        "colab": {
          "resources": {
            "http://localhost:8080/nbextensions/google.colab/files.js": {
              "data": "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",
              "ok": true,
              "headers": [
                [
                  "content-type",
                  "application/javascript"
                ]
              ],
              "status": 200,
              "status_text": ""
            }
          },
          "base_uri": "https://localhost:8080/",
          "height": 995
        },
        "id": "GbClWrnG8Wzd",
        "outputId": "429b3c80-d3f7-4d96-98a2-d09b509a664e"
      },
      "source": [
        "files.upload()\r\n",
        "planes = spark.read.csv('planes.csv', header=True)\r\n",
        "planes.show()\r\n",
        "\r\n",
        "planes = planes.withColumnRenamed(\"year\", \"plane_year\")\r\n",
        "\r\n",
        "model_data = flights.join(planes, on=\"tailnum\", how=\"leftouter\")\r\n",
        "\r\n",
        "model_data.show()"
      ],
      "execution_count": 43,
      "outputs": [
        {
          "output_type": "display_data",
          "data": {
            "text/html": [
              "\n",
              "     <input type=\"file\" id=\"files-bdc9f280-f3ad-4e0b-97d6-44a6b017aedf\" name=\"files[]\" multiple disabled\n",
              "        style=\"border:none\" />\n",
              "     <output id=\"result-bdc9f280-f3ad-4e0b-97d6-44a6b017aedf\">\n",
              "      Upload widget is only available when the cell has been executed in the\n",
              "      current browser session. Please rerun this cell to enable.\n",
              "      </output>\n",
              "      <script src=\"/nbextensions/google.colab/files.js\"></script> "
            ],
            "text/plain": [
              "<IPython.core.display.HTML object>"
            ]
          },
          "metadata": {
            "tags": []
          }
        },
        {
          "output_type": "stream",
          "text": [
            "Saving planes.csv to planes.csv\n",
            "+-------+----+--------------------+----------------+--------+-------+-----+-----+---------+\n",
            "|tailnum|year|                type|    manufacturer|   model|engines|seats|speed|   engine|\n",
            "+-------+----+--------------------+----------------+--------+-------+-----+-----+---------+\n",
            "| N102UW|1998|Fixed wing multi ...|AIRBUS INDUSTRIE|A320-214|      2|  182|   NA|Turbo-fan|\n",
            "| N103US|1999|Fixed wing multi ...|AIRBUS INDUSTRIE|A320-214|      2|  182|   NA|Turbo-fan|\n",
            "| N104UW|1999|Fixed wing multi ...|AIRBUS INDUSTRIE|A320-214|      2|  182|   NA|Turbo-fan|\n",
            "| N105UW|1999|Fixed wing multi ...|AIRBUS INDUSTRIE|A320-214|      2|  182|   NA|Turbo-fan|\n",
            "| N107US|1999|Fixed wing multi ...|AIRBUS INDUSTRIE|A320-214|      2|  182|   NA|Turbo-fan|\n",
            "| N108UW|1999|Fixed wing multi ...|AIRBUS INDUSTRIE|A320-214|      2|  182|   NA|Turbo-fan|\n",
            "| N109UW|1999|Fixed wing multi ...|AIRBUS INDUSTRIE|A320-214|      2|  182|   NA|Turbo-fan|\n",
            "| N110UW|1999|Fixed wing multi ...|AIRBUS INDUSTRIE|A320-214|      2|  182|   NA|Turbo-fan|\n",
            "| N111US|1999|Fixed wing multi ...|AIRBUS INDUSTRIE|A320-214|      2|  182|   NA|Turbo-fan|\n",
            "| N11206|2000|Fixed wing multi ...|          BOEING| 737-824|      2|  149|   NA|Turbo-fan|\n",
            "| N112US|1999|Fixed wing multi ...|AIRBUS INDUSTRIE|A320-214|      2|  182|   NA|Turbo-fan|\n",
            "| N113UW|1999|Fixed wing multi ...|AIRBUS INDUSTRIE|A320-214|      2|  182|   NA|Turbo-fan|\n",
            "| N114UW|1999|Fixed wing multi ...|AIRBUS INDUSTRIE|A320-214|      2|  182|   NA|Turbo-fan|\n",
            "| N117UW|2000|Fixed wing multi ...|AIRBUS INDUSTRIE|A320-214|      2|  182|   NA|Turbo-fan|\n",
            "| N118US|2000|Fixed wing multi ...|AIRBUS INDUSTRIE|A320-214|      2|  182|   NA|Turbo-fan|\n",
            "| N119US|2000|Fixed wing multi ...|AIRBUS INDUSTRIE|A320-214|      2|  182|   NA|Turbo-fan|\n",
            "| N1200K|1998|Fixed wing multi ...|          BOEING| 767-332|      2|  330|   NA|Turbo-fan|\n",
            "| N1201P|1998|Fixed wing multi ...|          BOEING| 767-332|      2|  330|   NA|Turbo-fan|\n",
            "| N12114|1995|Fixed wing multi ...|          BOEING| 757-224|      2|  178|   NA|Turbo-jet|\n",
            "| N121DE|1987|Fixed wing multi ...|          BOEING| 767-332|      2|  330|   NA|Turbo-fan|\n",
            "+-------+----+--------------------+----------------+--------+-------+-----+-----+---------+\n",
            "only showing top 20 rows\n",
            "\n",
            "+-------+----+-----+---+--------+---------+--------+---------+-------+------+------+----+--------+--------+----+------+------------------+----------+--------------------+--------------+-----------+-------+-----+-----+---------+\n",
            "|tailnum|year|month|day|dep_time|dep_delay|arr_time|arr_delay|carrier|flight|origin|dest|air_time|distance|hour|minute|     durations_hrs|plane_year|                type|  manufacturer|      model|engines|seats|speed|   engine|\n",
            "+-------+----+-----+---+--------+---------+--------+---------+-------+------+------+----+--------+--------+----+------+------------------+----------+--------------------+--------------+-----------+-------+-----+-----+---------+\n",
            "| N846VA|2014|   12|  8|     658|       -7|     935|       -5|     VX|  1780|   SEA| LAX|   132.0|   954.0|   6|    58|               2.2|      2011|Fixed wing multi ...|        AIRBUS|   A320-214|      2|  182|   NA|Turbo-fan|\n",
            "| N559AS|2014|    1| 22|    1040|        5|    1505|        5|     AS|   851|   SEA| HNL|   360.0|  2677.0|  10|    40|               6.0|      2006|Fixed wing multi ...|        BOEING|    737-890|      2|  149|   NA|Turbo-fan|\n",
            "| N847VA|2014|    3|  9|    1443|       -2|    1652|        2|     VX|   755|   SEA| SFO|   111.0|   679.0|  14|    43|              1.85|      2011|Fixed wing multi ...|        AIRBUS|   A320-214|      2|  182|   NA|Turbo-fan|\n",
            "| N360SW|2014|    4|  9|    1705|       45|    1839|       34|     WN|   344|   PDX| SJC|    83.0|   569.0|  17|     5|1.3833333333333333|      1992|Fixed wing multi ...|        BOEING|    737-3H4|      2|  149|   NA|Turbo-fan|\n",
            "| N612AS|2014|    3|  9|     754|       -1|    1015|        1|     AS|   522|   SEA| BUR|   127.0|   937.0|   7|    54|2.1166666666666667|      1999|Fixed wing multi ...|        BOEING|    737-790|      2|  151|   NA|Turbo-jet|\n",
            "| N646SW|2014|    1| 15|    1037|        7|    1352|        2|     WN|    48|   PDX| DEN|   121.0|   991.0|  10|    37|2.0166666666666666|      1997|Fixed wing multi ...|        BOEING|    737-3H4|      2|  149|   NA|Turbo-fan|\n",
            "| N422WN|2014|    7|  2|     847|       42|    1041|       51|     WN|  1520|   PDX| OAK|    90.0|   543.0|   8|    47|               1.5|      2002|Fixed wing multi ...|        BOEING|    737-7H4|      2|  140|   NA|Turbo-fan|\n",
            "| N361VA|2014|    5| 12|    1655|       -5|    1842|      -18|     VX|   755|   SEA| SFO|    98.0|   679.0|  16|    55|1.6333333333333333|      2013|Fixed wing multi ...|        AIRBUS|   A320-214|      2|  182|   NA|Turbo-fan|\n",
            "| N309AS|2014|    4| 19|    1236|       -4|    1508|       -7|     AS|   490|   SEA| SAN|   135.0|  1050.0|  12|    36|              2.25|      2001|Fixed wing multi ...|        BOEING|    737-990|      2|  149|   NA|Turbo-jet|\n",
            "| N564AS|2014|   11| 19|    1812|       -3|    2352|       -4|     AS|    26|   SEA| ORD|   198.0|  1721.0|  18|    12|               3.3|      2006|Fixed wing multi ...|        BOEING|    737-890|      2|  149|   NA|Turbo-fan|\n",
            "| N323AS|2014|   11|  8|    1653|       -2|    1924|       -1|     AS|   448|   SEA| LAX|   130.0|   954.0|  16|    53|2.1666666666666665|      2004|Fixed wing multi ...|        BOEING|    737-990|      2|  149|   NA|Turbo-jet|\n",
            "| N305AS|2014|    8|  3|    1120|        0|    1415|        2|     AS|   656|   SEA| PHX|   154.0|  1107.0|  11|    20| 2.566666666666667|      2001|Fixed wing multi ...|        BOEING|    737-990|      2|  149|   NA|Turbo-jet|\n",
            "| N433AS|2014|   10| 30|     811|       21|    1038|       29|     AS|   608|   SEA| LAS|   127.0|   867.0|   8|    11|2.1166666666666667|      2013|Fixed wing multi ...|        BOEING|  737-990ER|      2|  222|   NA|Turbo-fan|\n",
            "| N765AS|2014|   11| 12|    2346|       -4|     217|      -28|     AS|   121|   SEA| ANC|   183.0|  1448.0|  23|    46|              3.05|      1992|Fixed wing multi ...|        BOEING|    737-4Q8|      2|  149|   NA|Turbo-fan|\n",
            "| N713AS|2014|   10| 31|    1314|       89|    1544|      111|     AS|   306|   SEA| SFO|   129.0|   679.0|  13|    14|              2.15|      1999|Fixed wing multi ...|        BOEING|    737-490|      2|  149|   NA|Turbo-jet|\n",
            "| N27205|2014|    1| 29|    2009|        3|    2159|        9|     UA|  1458|   PDX| SFO|    90.0|   550.0|  20|     9|               1.5|      2000|Fixed wing multi ...|        BOEING|    737-824|      2|  149|   NA|Turbo-fan|\n",
            "| N626AS|2014|   12| 17|    2015|       50|    2150|       41|     AS|   368|   SEA| SMF|    76.0|   605.0|  20|    15|1.2666666666666666|      2001|Fixed wing multi ...|        BOEING|    737-790|      2|  151|   NA|Turbo-jet|\n",
            "| N8634A|2014|    8| 11|    1017|       -3|    1613|       -7|     WN|   827|   SEA| MDW|   216.0|  1733.0|  10|    17|               3.6|      2014|Fixed wing multi ...|        BOEING|    737-8H4|      2|  140|   NA|Turbo-fan|\n",
            "| N597AS|2014|    1| 13|    2156|       -9|     607|      -15|     AS|    24|   SEA| BOS|   290.0|  2496.0|  21|    56| 4.833333333333333|      2008|Fixed wing multi ...|        BOEING|    737-890|      2|  149|   NA|Turbo-fan|\n",
            "| N215AG|2014|    6|  5|    1733|      -12|    1945|      -10|     OO|  3488|   PDX| BUR|   111.0|   817.0|  17|    33|              1.85|      2001|Fixed wing multi ...|BOMBARDIER INC|CL-600-2C10|      2|   80|   NA|Turbo-fan|\n",
            "+-------+----+-----+---+--------+---------+--------+---------+-------+------+------+----+--------+--------+----+------+------------------+----------+--------------------+--------------+-----------+-------+-----+-----+---------+\n",
            "only showing top 20 rows\n",
            "\n"
          ],
          "name": "stdout"
        }
      ]
    },
    {
      "cell_type": "markdown",
      "metadata": {
        "id": "3st7RB_X9ahy"
      },
      "source": [
        "String to integer"
      ]
    },
    {
      "cell_type": "code",
      "metadata": {
        "id": "m0xlgo7R9cuo"
      },
      "source": [
        "model_data = model_data.withColumn(\"arr_delay\", model_data.arr_delay.cast(\"integer\"))\r\n",
        "model_data = model_data.withColumn(\"air_time\", model_data.air_time.cast(\"integer\"))\r\n",
        "model_data = model_data.withColumn(\"month\", model_data.month.cast(\"integer\"))\r\n",
        "model_data = model_data.withColumn(\"plane_year\", model_data.plane_year.cast(\"integer\"))"
      ],
      "execution_count": 45,
      "outputs": []
    },
    {
      "cell_type": "markdown",
      "metadata": {
        "id": "vTcrSxdZ-hVB"
      },
      "source": [
        "Create a new column"
      ]
    },
    {
      "cell_type": "code",
      "metadata": {
        "id": "36EYN6e3-jd6"
      },
      "source": [
        "model_data = model_data.withColumn(\"plane_age\", model_data.year - model_data.plane_year)"
      ],
      "execution_count": 47,
      "outputs": []
    },
    {
      "cell_type": "markdown",
      "metadata": {
        "id": "RwjHWIvz-wUs"
      },
      "source": [
        "Making a boolean"
      ]
    },
    {
      "cell_type": "code",
      "metadata": {
        "id": "NxilVxOp-wfk"
      },
      "source": [
        "model_data = model_data.withColumn(\"is_late\", model_data.arr_delay > 0)\r\n",
        "\r\n",
        "model_data = model_data.withColumn(\"label\", model_data.is_late.cast(\"integer\"))\r\n",
        "\r\n",
        "model_data = model_data.filter(\"arr_delay is not NULL and dep_delay is not NULL and air_time is not NULL and plane_year is not NULL\")"
      ],
      "execution_count": 51,
      "outputs": []
    },
    {
      "cell_type": "markdown",
      "metadata": {
        "id": "qlR6BPr-ALRJ"
      },
      "source": [
        "Carrier"
      ]
    },
    {
      "cell_type": "code",
      "metadata": {
        "id": "sP_7BpZTALt1"
      },
      "source": [
        "from pyspark.ml.feature import StringIndexer, OneHotEncoder"
      ],
      "execution_count": 52,
      "outputs": []
    },
    {
      "cell_type": "code",
      "metadata": {
        "id": "J2FrIQiNAXwz"
      },
      "source": [
        "carr_indexer = StringIndexer(inputCol = \"carrier\", outputCol = \"carrier_index\")\r\n",
        "\r\n",
        "carr_encoder = OneHotEncoder(inputCol = \"carrier_index\", outputCol=\"carrier_fact\")"
      ],
      "execution_count": 53,
      "outputs": []
    },
    {
      "cell_type": "markdown",
      "metadata": {
        "id": "RRrwiaQGAtew"
      },
      "source": [
        "Destination"
      ]
    },
    {
      "cell_type": "code",
      "metadata": {
        "id": "iAOpXgsvAvJn"
      },
      "source": [
        "dest_indexer = StringIndexer(inputCol=\"dest\", outputCol=\"dest_index\")\r\n",
        "\r\n",
        "dest_encoder = OneHotEncoder(inputCol=\"dest_index\", outputCol=\"dest_fact\")"
      ],
      "execution_count": 54,
      "outputs": []
    },
    {
      "cell_type": "markdown",
      "metadata": {
        "id": "1tEXjqbbBDln"
      },
      "source": [
        "Assemble a vector"
      ]
    },
    {
      "cell_type": "code",
      "metadata": {
        "id": "f0l1KtfSBDx_"
      },
      "source": [
        "from pyspark.ml.feature import VectorAssembler\r\n",
        "\r\n",
        "vec_assembler = VectorAssembler(inputCols=[\"month\", \"air_time\", \"carrier_fact\", \"dest_fact\", \"plane_age\"], outputCol=\"features\")"
      ],
      "execution_count": 55,
      "outputs": []
    },
    {
      "cell_type": "markdown",
      "metadata": {
        "id": "MID_GmT9Bhbb"
      },
      "source": [
        "Create the pipeline"
      ]
    },
    {
      "cell_type": "code",
      "metadata": {
        "id": "yU-vu117BmPM"
      },
      "source": [
        "from pyspark.ml import Pipeline\r\n",
        "\r\n",
        "flights_pipe = Pipeline(stages=[dest_indexer, dest_encoder, carr_indexer, carr_encoder, vec_assembler])"
      ],
      "execution_count": 57,
      "outputs": []
    },
    {
      "cell_type": "markdown",
      "metadata": {
        "id": "StY3yYvjCWEy"
      },
      "source": [
        "Transform the Data"
      ]
    },
    {
      "cell_type": "code",
      "metadata": {
        "colab": {
          "base_uri": "https://localhost:8080/"
        },
        "id": "gCJcs6OmCmZ_",
        "outputId": "7bb17afc-5dee-4c9d-c2a1-67db0b827e6d"
      },
      "source": [
        "piped_data = flights_pipe.fit(model_data).transform(model_data)\r\n",
        "\r\n",
        "piped_data.show()"
      ],
      "execution_count": 58,
      "outputs": [
        {
          "output_type": "stream",
          "text": [
            "+-------+----+-----+---+--------+---------+--------+---------+-------+------+------+----+--------+--------+----+------+------------------+----------+--------------------+--------------+-----------+-------+-----+-----+---------+---------+-------+-----+----------+---------------+-------------+--------------+--------------------+\n",
            "|tailnum|year|month|day|dep_time|dep_delay|arr_time|arr_delay|carrier|flight|origin|dest|air_time|distance|hour|minute|     durations_hrs|plane_year|                type|  manufacturer|      model|engines|seats|speed|   engine|plane_age|is_late|label|dest_index|      dest_fact|carrier_index|  carrier_fact|            features|\n",
            "+-------+----+-----+---+--------+---------+--------+---------+-------+------+------+----+--------+--------+----+------+------------------+----------+--------------------+--------------+-----------+-------+-----+-----+---------+---------+-------+-----+----------+---------------+-------------+--------------+--------------------+\n",
            "| N846VA|2014|   12|  8|     658|       -7|     935|       -5|     VX|  1780|   SEA| LAX|     132|   954.0|   6|    58|               2.2|      2011|Fixed wing multi ...|        AIRBUS|   A320-214|      2|  182|   NA|Turbo-fan|      3.0|  false|    0|       1.0| (68,[1],[1.0])|          7.0|(10,[7],[1.0])|(81,[0,1,9,13,80]...|\n",
            "| N559AS|2014|    1| 22|    1040|        5|    1505|        5|     AS|   851|   SEA| HNL|     360|  2677.0|  10|    40|               6.0|      2006|Fixed wing multi ...|        BOEING|    737-890|      2|  149|   NA|Turbo-fan|      8.0|   true|    1|      19.0|(68,[19],[1.0])|          0.0|(10,[0],[1.0])|(81,[0,1,2,31,80]...|\n",
            "| N847VA|2014|    3|  9|    1443|       -2|    1652|        2|     VX|   755|   SEA| SFO|     111|   679.0|  14|    43|              1.85|      2011|Fixed wing multi ...|        AIRBUS|   A320-214|      2|  182|   NA|Turbo-fan|      3.0|   true|    1|       0.0| (68,[0],[1.0])|          7.0|(10,[7],[1.0])|(81,[0,1,9,12,80]...|\n",
            "| N360SW|2014|    4|  9|    1705|       45|    1839|       34|     WN|   344|   PDX| SJC|      83|   569.0|  17|     5|1.3833333333333333|      1992|Fixed wing multi ...|        BOEING|    737-3H4|      2|  149|   NA|Turbo-fan|     22.0|   true|    1|       7.0| (68,[7],[1.0])|          1.0|(10,[1],[1.0])|(81,[0,1,3,19,80]...|\n",
            "| N612AS|2014|    3|  9|     754|       -1|    1015|        1|     AS|   522|   SEA| BUR|     127|   937.0|   7|    54|2.1166666666666667|      1999|Fixed wing multi ...|        BOEING|    737-790|      2|  151|   NA|Turbo-jet|     15.0|   true|    1|      22.0|(68,[22],[1.0])|          0.0|(10,[0],[1.0])|(81,[0,1,2,34,80]...|\n",
            "| N646SW|2014|    1| 15|    1037|        7|    1352|        2|     WN|    48|   PDX| DEN|     121|   991.0|  10|    37|2.0166666666666666|      1997|Fixed wing multi ...|        BOEING|    737-3H4|      2|  149|   NA|Turbo-fan|     17.0|   true|    1|       2.0| (68,[2],[1.0])|          1.0|(10,[1],[1.0])|(81,[0,1,3,14,80]...|\n",
            "| N422WN|2014|    7|  2|     847|       42|    1041|       51|     WN|  1520|   PDX| OAK|      90|   543.0|   8|    47|               1.5|      2002|Fixed wing multi ...|        BOEING|    737-7H4|      2|  140|   NA|Turbo-fan|     12.0|   true|    1|       8.0| (68,[8],[1.0])|          1.0|(10,[1],[1.0])|(81,[0,1,3,20,80]...|\n",
            "| N361VA|2014|    5| 12|    1655|       -5|    1842|      -18|     VX|   755|   SEA| SFO|      98|   679.0|  16|    55|1.6333333333333333|      2013|Fixed wing multi ...|        AIRBUS|   A320-214|      2|  182|   NA|Turbo-fan|      1.0|  false|    0|       0.0| (68,[0],[1.0])|          7.0|(10,[7],[1.0])|(81,[0,1,9,12,80]...|\n",
            "| N309AS|2014|    4| 19|    1236|       -4|    1508|       -7|     AS|   490|   SEA| SAN|     135|  1050.0|  12|    36|              2.25|      2001|Fixed wing multi ...|        BOEING|    737-990|      2|  149|   NA|Turbo-jet|     13.0|  false|    0|      10.0|(68,[10],[1.0])|          0.0|(10,[0],[1.0])|(81,[0,1,2,22,80]...|\n",
            "| N564AS|2014|   11| 19|    1812|       -3|    2352|       -4|     AS|    26|   SEA| ORD|     198|  1721.0|  18|    12|               3.3|      2006|Fixed wing multi ...|        BOEING|    737-890|      2|  149|   NA|Turbo-fan|      8.0|  false|    0|      11.0|(68,[11],[1.0])|          0.0|(10,[0],[1.0])|(81,[0,1,2,23,80]...|\n",
            "| N323AS|2014|   11|  8|    1653|       -2|    1924|       -1|     AS|   448|   SEA| LAX|     130|   954.0|  16|    53|2.1666666666666665|      2004|Fixed wing multi ...|        BOEING|    737-990|      2|  149|   NA|Turbo-jet|     10.0|  false|    0|       1.0| (68,[1],[1.0])|          0.0|(10,[0],[1.0])|(81,[0,1,2,13,80]...|\n",
            "| N305AS|2014|    8|  3|    1120|        0|    1415|        2|     AS|   656|   SEA| PHX|     154|  1107.0|  11|    20| 2.566666666666667|      2001|Fixed wing multi ...|        BOEING|    737-990|      2|  149|   NA|Turbo-jet|     13.0|   true|    1|       4.0| (68,[4],[1.0])|          0.0|(10,[0],[1.0])|(81,[0,1,2,16,80]...|\n",
            "| N433AS|2014|   10| 30|     811|       21|    1038|       29|     AS|   608|   SEA| LAS|     127|   867.0|   8|    11|2.1166666666666667|      2013|Fixed wing multi ...|        BOEING|  737-990ER|      2|  222|   NA|Turbo-fan|      1.0|   true|    1|       3.0| (68,[3],[1.0])|          0.0|(10,[0],[1.0])|(81,[0,1,2,15,80]...|\n",
            "| N765AS|2014|   11| 12|    2346|       -4|     217|      -28|     AS|   121|   SEA| ANC|     183|  1448.0|  23|    46|              3.05|      1992|Fixed wing multi ...|        BOEING|    737-4Q8|      2|  149|   NA|Turbo-fan|     22.0|  false|    0|       5.0| (68,[5],[1.0])|          0.0|(10,[0],[1.0])|(81,[0,1,2,17,80]...|\n",
            "| N713AS|2014|   10| 31|    1314|       89|    1544|      111|     AS|   306|   SEA| SFO|     129|   679.0|  13|    14|              2.15|      1999|Fixed wing multi ...|        BOEING|    737-490|      2|  149|   NA|Turbo-jet|     15.0|   true|    1|       0.0| (68,[0],[1.0])|          0.0|(10,[0],[1.0])|(81,[0,1,2,12,80]...|\n",
            "| N27205|2014|    1| 29|    2009|        3|    2159|        9|     UA|  1458|   PDX| SFO|      90|   550.0|  20|     9|               1.5|      2000|Fixed wing multi ...|        BOEING|    737-824|      2|  149|   NA|Turbo-fan|     14.0|   true|    1|       0.0| (68,[0],[1.0])|          4.0|(10,[4],[1.0])|(81,[0,1,6,12,80]...|\n",
            "| N626AS|2014|   12| 17|    2015|       50|    2150|       41|     AS|   368|   SEA| SMF|      76|   605.0|  20|    15|1.2666666666666666|      2001|Fixed wing multi ...|        BOEING|    737-790|      2|  151|   NA|Turbo-jet|     13.0|   true|    1|       9.0| (68,[9],[1.0])|          0.0|(10,[0],[1.0])|(81,[0,1,2,21,80]...|\n",
            "| N8634A|2014|    8| 11|    1017|       -3|    1613|       -7|     WN|   827|   SEA| MDW|     216|  1733.0|  10|    17|               3.6|      2014|Fixed wing multi ...|        BOEING|    737-8H4|      2|  140|   NA|Turbo-fan|      0.0|  false|    0|      31.0|(68,[31],[1.0])|          1.0|(10,[1],[1.0])|(81,[0,1,3,43],[8...|\n",
            "| N597AS|2014|    1| 13|    2156|       -9|     607|      -15|     AS|    24|   SEA| BOS|     290|  2496.0|  21|    56| 4.833333333333333|      2008|Fixed wing multi ...|        BOEING|    737-890|      2|  149|   NA|Turbo-fan|      6.0|  false|    0|      24.0|(68,[24],[1.0])|          0.0|(10,[0],[1.0])|(81,[0,1,2,36,80]...|\n",
            "| N215AG|2014|    6|  5|    1733|      -12|    1945|      -10|     OO|  3488|   PDX| BUR|     111|   817.0|  17|    33|              1.85|      2001|Fixed wing multi ...|BOMBARDIER INC|CL-600-2C10|      2|   80|   NA|Turbo-fan|     13.0|  false|    0|      22.0|(68,[22],[1.0])|          2.0|(10,[2],[1.0])|(81,[0,1,4,34,80]...|\n",
            "+-------+----+-----+---+--------+---------+--------+---------+-------+------+------+----+--------+--------+----+------+------------------+----------+--------------------+--------------+-----------+-------+-----+-----+---------+---------+-------+-----+----------+---------------+-------------+--------------+--------------------+\n",
            "only showing top 20 rows\n",
            "\n"
          ],
          "name": "stdout"
        }
      ]
    },
    {
      "cell_type": "markdown",
      "metadata": {
        "id": "bc_oUrbVCu_G"
      },
      "source": [
        "Split the data"
      ]
    },
    {
      "cell_type": "code",
      "metadata": {
        "id": "wgjkLAG1CxAQ"
      },
      "source": [
        "training, test = piped_data.randomSplit([.6, .4])"
      ],
      "execution_count": 62,
      "outputs": []
    },
    {
      "cell_type": "markdown",
      "metadata": {
        "id": "_gPD_YP-C5GW"
      },
      "source": [
        "Create the modeler"
      ]
    },
    {
      "cell_type": "code",
      "metadata": {
        "id": "Yakxf5kjC6bS"
      },
      "source": [
        "from pyspark.ml.classification import LogisticRegression\r\n",
        "\r\n",
        "lr = LogisticRegression()"
      ],
      "execution_count": 61,
      "outputs": []
    },
    {
      "cell_type": "markdown",
      "metadata": {
        "id": "81onpJoYDBqz"
      },
      "source": [
        "Create the evaluator"
      ]
    },
    {
      "cell_type": "code",
      "metadata": {
        "id": "BLC2s8ykDC6X"
      },
      "source": [
        "import pyspark.ml.evaluation as evals\r\n",
        "\r\n",
        "evaluator = evals.BinaryClassificationEvaluator(metricName=\"areaUnderROC\")"
      ],
      "execution_count": 64,
      "outputs": []
    },
    {
      "cell_type": "markdown",
      "metadata": {
        "id": "GD4tayUrDTdP"
      },
      "source": [
        "Make a grid"
      ]
    },
    {
      "cell_type": "code",
      "metadata": {
        "id": "uHH1cpc2DUv8"
      },
      "source": [
        "import pyspark.ml.tuning as tune\r\n",
        "\r\n",
        "grid = tune.ParamGridBuilder()\r\n",
        "\r\n",
        "grid = grid.addGrid(lr.regParam, np.arange(0, .1, .01))\r\n",
        "grid = grid.addGrid(lr.elasticNetParam, [0,1])\r\n",
        "\r\n",
        "grid = grid.build()"
      ],
      "execution_count": 65,
      "outputs": []
    },
    {
      "cell_type": "markdown",
      "metadata": {
        "id": "naFQpVd9Drwt"
      },
      "source": [
        "Make the validator"
      ]
    },
    {
      "cell_type": "code",
      "metadata": {
        "id": "uypemSbRDuNz"
      },
      "source": [
        "cv = tune.CrossValidator(estimator=lr, estimatorParamMaps=grid, evaluator=evaluator)"
      ],
      "execution_count": 67,
      "outputs": []
    },
    {
      "cell_type": "markdown",
      "metadata": {
        "id": "XYIyh8S4DyoV"
      },
      "source": [
        "Fit the model(s)"
      ]
    },
    {
      "cell_type": "code",
      "metadata": {
        "colab": {
          "base_uri": "https://localhost:8080/"
        },
        "id": "HsWLeMmyD0ky",
        "outputId": "8b336f47-4504-4d35-bd6a-d06d4f86c5ee"
      },
      "source": [
        "training.show()\r\n",
        "\r\n",
        "best_lr = lr.fit(training)\r\n",
        "\r\n",
        "print(best_lr)\r\n",
        "\r\n",
        "models = cv.fit(training)\r\n",
        "\r\n",
        "best_lr = models.bestModel"
      ],
      "execution_count": 68,
      "outputs": [
        {
          "output_type": "stream",
          "text": [
            "+-------+----+-----+---+--------+---------+--------+---------+-------+------+------+----+--------+--------+----+------+------------------+----------+--------------------+----------------+--------+-------+-----+-----+---------+---------+-------+-----+----------+---------------+-------------+--------------+--------------------+\n",
            "|tailnum|year|month|day|dep_time|dep_delay|arr_time|arr_delay|carrier|flight|origin|dest|air_time|distance|hour|minute|     durations_hrs|plane_year|                type|    manufacturer|   model|engines|seats|speed|   engine|plane_age|is_late|label|dest_index|      dest_fact|carrier_index|  carrier_fact|            features|\n",
            "+-------+----+-----+---+--------+---------+--------+---------+-------+------+------+----+--------+--------+----+------+------------------+----------+--------------------+----------------+--------+-------+-----+-----+---------+---------+-------+-----+----------+---------------+-------------+--------------+--------------------+\n",
            "| N102UW|2014|    5|  7|    1311|        6|    2115|        2|     US|  1971|   SEA| CLT|     274|  2279.0|  13|    11| 4.566666666666666|      1998|Fixed wing multi ...|AIRBUS INDUSTRIE|A320-214|      2|  182|   NA|Turbo-fan|     16.0|   true|    1|      33.0|(68,[33],[1.0])|          5.0|(10,[5],[1.0])|(81,[0,1,7,45,80]...|\n",
            "| N105UW|2014|    3| 13|    1325|        5|    2123|       13|     US|  1805|   SEA| CLT|     261|  2279.0|  13|    25|              4.35|      1999|Fixed wing multi ...|AIRBUS INDUSTRIE|A320-214|      2|  182|   NA|Turbo-fan|     15.0|   true|    1|      33.0|(68,[33],[1.0])|          5.0|(10,[5],[1.0])|(81,[0,1,7,45,80]...|\n",
            "| N107US|2014|    4|  2|    1316|       -4|    2114|        4|     US|  1805|   SEA| CLT|     267|  2279.0|  13|    16|              4.45|      1999|Fixed wing multi ...|AIRBUS INDUSTRIE|A320-214|      2|  182|   NA|Turbo-fan|     15.0|   true|    1|      33.0|(68,[33],[1.0])|          5.0|(10,[5],[1.0])|(81,[0,1,7,45,80]...|\n",
            "| N107US|2014|    5| 15|    1058|       -2|    1845|      -23|     US|  2092|   SEA| CLT|     264|  2279.0|  10|    58|               4.4|      1999|Fixed wing multi ...|AIRBUS INDUSTRIE|A320-214|      2|  182|   NA|Turbo-fan|     15.0|  false|    0|      33.0|(68,[33],[1.0])|          5.0|(10,[5],[1.0])|(81,[0,1,7,45,80]...|\n",
            "| N109UW|2014|    4| 20|    2209|       -6|     548|      -22|     US|  1930|   PDX| CLT|     266|  2282.0|  22|     9| 4.433333333333334|      1999|Fixed wing multi ...|AIRBUS INDUSTRIE|A320-214|      2|  182|   NA|Turbo-fan|     15.0|  false|    0|      33.0|(68,[33],[1.0])|          5.0|(10,[5],[1.0])|(81,[0,1,7,45,80]...|\n",
            "| N110UW|2014|    7| 16|     101|       16|     901|       15|     US|  1917|   SEA| PHL|     288|  2378.0|   1|     1|               4.8|      1999|Fixed wing multi ...|AIRBUS INDUSTRIE|A320-214|      2|  182|   NA|Turbo-fan|     15.0|   true|    1|      32.0|(68,[32],[1.0])|          5.0|(10,[5],[1.0])|(81,[0,1,7,44,80]...|\n",
            "| N112US|2014|    1| 30|     835|        0|    1630|       -9|     US|  1935|   SEA| PHL|     276|  2378.0|   8|    35|               4.6|      1999|Fixed wing multi ...|AIRBUS INDUSTRIE|A320-214|      2|  182|   NA|Turbo-fan|     15.0|  false|    0|      32.0|(68,[32],[1.0])|          5.0|(10,[5],[1.0])|(81,[0,1,7,44,80]...|\n",
            "| N112US|2014|    2|  1|     833|       -2|    1612|      -27|     US|   788|   SEA| PHL|     260|  2378.0|   8|    33| 4.333333333333333|      1999|Fixed wing multi ...|AIRBUS INDUSTRIE|A320-214|      2|  182|   NA|Turbo-fan|     15.0|  false|    0|      32.0|(68,[32],[1.0])|          5.0|(10,[5],[1.0])|(81,[0,1,7,44,80]...|\n",
            "| N112US|2014|    7| 19|      43|       -2|     845|       -1|     US|  2051|   SEA| PHL|     281|  2378.0|   0|    43| 4.683333333333334|      1999|Fixed wing multi ...|AIRBUS INDUSTRIE|A320-214|      2|  182|   NA|Turbo-fan|     15.0|  false|    0|      32.0|(68,[32],[1.0])|          5.0|(10,[5],[1.0])|(81,[0,1,7,44,80]...|\n",
            "| N117UW|2014|    6| 28|    2209|       -6|     605|        4|     US|  1930|   PDX| CLT|     282|  2282.0|  22|     9|               4.7|      2000|Fixed wing multi ...|AIRBUS INDUSTRIE|A320-214|      2|  182|   NA|Turbo-fan|     14.0|   true|    1|      33.0|(68,[33],[1.0])|          5.0|(10,[5],[1.0])|(81,[0,1,7,45,80]...|\n",
            "| N1201P|2014|    9| 23|    1651|      370|      31|      371|     DL|  1702|   PDX| ATL|     249|  2172.0|  16|    51|              4.15|      1998|Fixed wing multi ...|          BOEING| 767-332|      2|  330|   NA|Turbo-fan|     16.0|   true|    1|      12.0|(68,[12],[1.0])|          3.0|(10,[3],[1.0])|(81,[0,1,5,24,80]...|\n",
            "| N121DE|2014|    8| 13|    2311|       -4|     611|      -15|     DL|  1823|   SEA| DTW|     216|  1927.0|  23|    11|               3.6|      1987|Fixed wing multi ...|          BOEING| 767-332|      2|  330|   NA|Turbo-fan|     27.0|  false|    0|      25.0|(68,[25],[1.0])|          3.0|(10,[3],[1.0])|(81,[0,1,5,37,80]...|\n",
            "| N121DE|2014|    9|  1|    2317|        2|     605|      -22|     DL|   910|   SEA| DTW|     205|  1927.0|  23|    17|3.4166666666666665|      1987|Fixed wing multi ...|          BOEING| 767-332|      2|  330|   NA|Turbo-fan|     27.0|  false|    0|      25.0|(68,[25],[1.0])|          3.0|(10,[3],[1.0])|(81,[0,1,5,37,80]...|\n",
            "| N12221|2014|    8| 30|    1142|       -1|    1744|      -17|     UA|  1246|   SEA| IAH|     218|  1874.0|  11|    42|3.6333333333333333|      1998|Fixed wing multi ...|          BOEING| 737-824|      2|  149|   NA|Turbo-fan|     16.0|  false|    0|      14.0|(68,[14],[1.0])|          4.0|(10,[4],[1.0])|(81,[0,1,6,26,80]...|\n",
            "| N12221|2014|   12| 30|    1554|       49|    1807|       54|     UA|  1717|   SEA| SFO|      99|   679.0|  15|    54|              1.65|      1998|Fixed wing multi ...|          BOEING| 737-824|      2|  149|   NA|Turbo-fan|     16.0|   true|    1|       0.0| (68,[0],[1.0])|          4.0|(10,[4],[1.0])|(81,[0,1,6,12,80]...|\n",
            "| N12225|2014|   11| 24|     707|       -3|     916|      -16|     UA|  1732|   SEA| SFO|      89|   679.0|   7|     7|1.4833333333333334|      1998|Fixed wing multi ...|          BOEING| 737-824|      2|  149|   NA|Turbo-fan|     16.0|  false|    0|       0.0| (68,[0],[1.0])|          4.0|(10,[4],[1.0])|(81,[0,1,6,12,80]...|\n",
            "| N12238|2014|    6| 20|     734|       19|    1056|       11|     UA|  1660|   PDX| DEN|     123|   991.0|   7|    34|              2.05|      1999|Fixed wing multi ...|          BOEING| 737-824|      2|  149|   NA|Turbo-fan|     15.0|   true|    1|       2.0| (68,[2],[1.0])|          4.0|(10,[4],[1.0])|(81,[0,1,6,14,80]...|\n",
            "| N12238|2014|    9| 22|    2326|       -4|     505|      -13|     UA|  1538|   PDX| ORD|     203|  1739.0|  23|    26|3.3833333333333333|      1999|Fixed wing multi ...|          BOEING| 737-824|      2|  149|   NA|Turbo-fan|     15.0|  false|    0|      11.0|(68,[11],[1.0])|          4.0|(10,[4],[1.0])|(81,[0,1,6,23,80]...|\n",
            "| N123UW|2014|    2| 27|    1313|       -7|    2049|      -21|     US|  1805|   SEA| CLT|     258|  2279.0|  13|    13|               4.3|      2000|Fixed wing multi ...|AIRBUS INDUSTRIE|A320-214|      2|  182|   NA|Turbo-fan|     14.0|  false|    0|      33.0|(68,[33],[1.0])|          5.0|(10,[5],[1.0])|(81,[0,1,7,45,80]...|\n",
            "| N123UW|2014|    7| 22|      42|       -3|     849|        3|     US|  1917|   SEA| PHL|     282|  2378.0|   0|    42|               4.7|      2000|Fixed wing multi ...|AIRBUS INDUSTRIE|A320-214|      2|  182|   NA|Turbo-fan|     14.0|   true|    1|      32.0|(68,[32],[1.0])|          5.0|(10,[5],[1.0])|(81,[0,1,7,44,80]...|\n",
            "+-------+----+-----+---+--------+---------+--------+---------+-------+------+------+----+--------+--------+----+------+------------------+----------+--------------------+----------------+--------+-------+-----+-----+---------+---------+-------+-----+----------+---------------+-------------+--------------+--------------------+\n",
            "only showing top 20 rows\n",
            "\n",
            "LogisticRegressionModel: uid=LogisticRegression_cbe0e4e94aa5, numClasses=2, numFeatures=81\n"
          ],
          "name": "stdout"
        }
      ]
    },
    {
      "cell_type": "markdown",
      "metadata": {
        "id": "B1NK0RURD4k1"
      },
      "source": [
        "Evaluate the model"
      ]
    },
    {
      "cell_type": "code",
      "metadata": {
        "colab": {
          "base_uri": "https://localhost:8080/"
        },
        "id": "fw7HXmwsD7JV",
        "outputId": "72299ad0-834a-4fa3-fa36-e866a86d7c7e"
      },
      "source": [
        "test_results = best_lr.transform(test)\r\n",
        "\r\n",
        "print(evaluator.evaluate(test_results))"
      ],
      "execution_count": 71,
      "outputs": [
        {
          "output_type": "stream",
          "text": [
            "0.691749130036517\n"
          ],
          "name": "stdout"
        }
      ]
    }
  ]
}